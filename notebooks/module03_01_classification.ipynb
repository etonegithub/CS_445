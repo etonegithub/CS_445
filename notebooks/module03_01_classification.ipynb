{
  "cells": [
    {
      "cell_type": "markdown",
      "metadata": {
        "colab_type": "text",
        "id": "view-in-github"
      },
      "source": [
        "<a href=\"https://colab.research.google.com/github/sarathsreedharan/CSU_CS_445/blob/main/Spring25/Notebooks/module03_01_classification.ipynb\" target=\"_parent\"><img src=\"https://colab.research.google.com/assets/colab-badge.svg\" alt=\"Open In Colab\"/></a>"
      ]
    },
    {
      "cell_type": "markdown",
      "metadata": {
        "id": "Ua8qBUcPpU-J"
      },
      "source": [
        "$$\\renewcommand{\\xv}{\\mathbf{x}}\n",
        "\\renewcommand{\\Xv}{\\mathbf{X}}\n",
        "\\renewcommand{\\yv}{\\mathbf{y}}\n",
        "\\renewcommand{\\Yv}{\\mathbf{Y}}\n",
        "\\renewcommand{\\zv}{\\mathbf{z}}\n",
        "\\renewcommand{\\av}{\\mathbf{a}}\n",
        "\\renewcommand{\\Wv}{\\mathbf{W}}\n",
        "\\renewcommand{\\wv}{\\mathbf{w}}\n",
        "\\renewcommand{\\gv}{\\mathbf{g}}\n",
        "\\renewcommand{\\Hv}{\\mathbf{H}}\n",
        "\\renewcommand{\\dv}{\\mathbf{d}}\n",
        "\\renewcommand{\\Vv}{\\mathbf{V}}\n",
        "\\renewcommand{\\vv}{\\mathbf{v}}\n",
        "\\renewcommand{\\tv}{\\mathbf{t}}\n",
        "\\renewcommand{\\Tv}{\\mathbf{T}}\n",
        "\\renewcommand{\\Sv}{\\mathbf{S}}\n",
        "\\renewcommand{\\Zv}{\\mathbf{Z}}\n",
        "\\renewcommand{\\Norm}{\\mathcal{N}}\n",
        "\\renewcommand{\\muv}{\\boldsymbol{\\mu}}\n",
        "\\renewcommand{\\sigmav}{\\boldsymbol{\\sigma}}\n",
        "\\renewcommand{\\phiv}{\\boldsymbol{\\phi}}\n",
        "\\renewcommand{\\Phiv}{\\boldsymbol{\\Phi}}\n",
        "\\renewcommand{\\Sigmav}{\\boldsymbol{\\Sigma}}\n",
        "\\renewcommand{\\Lambdav}{\\boldsymbol{\\Lambda}}\n",
        "\\renewcommand{\\half}{\\frac{1}{2}}\n",
        "\\renewcommand{\\argmax}[1]{\\underset{#1}{\\operatorname{argmax}}}\n",
        "\\renewcommand{\\argmin}[1]{\\underset{#1}{\\operatorname{argmin}}}\n",
        "\\newcommand{\\dimensionbar}[1]{\\underset{#1}{\\operatorname{|}}}\n",
        "$$"
      ]
    },
    {
      "cell_type": "markdown",
      "metadata": {
        "id": "egD3sx2jpU-K"
      },
      "source": [
        "# Introduction to Classification"
      ]
    },
    {
      "cell_type": "markdown",
      "metadata": {
        "id": "Nrc90b9ipU-K"
      },
      "source": [
        "So far in class we've looked at examples where you take in a number of inputs and use them to predict a continuous variable (output).  We've done with using linear models (linear regression) and nonlinearities (neural nets)."
      ]
    },
    {
      "cell_type": "markdown",
      "metadata": {
        "id": "yRQWoxxQpU-K"
      },
      "source": [
        "Let's try a different type of example:\n",
        "\n",
        "13 students take a test.  In the graph below, $x$ is the number of hours each student studies, while the Y-axis (dependent variable) is their letter grade: C, B, or A.\n",
        "\n",
        "<img src=\"http://www.cs.colostate.edu/~cs445/notebooks/intro_to_classification.png\" width=500>"
      ]
    },
    {
      "cell_type": "markdown",
      "metadata": {
        "id": "uRAqP_aYpU-K"
      },
      "source": [
        "## Classification with Linear Least Squares"
      ]
    },
    {
      "cell_type": "markdown",
      "metadata": {
        "id": "TuZLFzIdpU-K"
      },
      "source": [
        "To classify a sample as being a member of 1 of 3 different classes, we could use integers 1, 2, and 3 as target outputs.\n",
        "\n",
        "<img src=\"http://www.cs.colostate.edu/~cs445/notebooks/intro_to_classification.png\" width=500>\n",
        "\n",
        "Let's fit a linear function of $x$ to the data!\n",
        "\n",
        "<img src=\"http://www.cs.colostate.edu/~cs445/notebooks/intro_to_classification_line.png\" width=500>\n"
      ]
    },
    {
      "cell_type": "markdown",
      "metadata": {
        "id": "8JL5iLtspU-L"
      },
      "source": [
        "Linear function of $x$ seems to match data fairly well. Why is this not a good idea?\n",
        "\n",
        "We must convert the continuous y-axis value to discrete integers 1, 2, or 3.  Without adding more parameters, we are\n",
        "forced to use the general solution of splitting at 1.5 and 2.5.\n",
        "\n",
        "<img src=\"http://www.cs.colostate.edu/~cs445/notebooks/intro_to_classification_line_threshold.png\" width=500>\n",
        "\n",
        "Rats!  Boundaries are not where we want them."
      ]
    },
    {
      "cell_type": "markdown",
      "metadata": {
        "id": "JLm07YCipU-L"
      },
      "source": [
        "## Indicator Variables"
      ]
    },
    {
      "cell_type": "markdown",
      "metadata": {
        "id": "oDm6vMQVpU-L"
      },
      "source": [
        "To allow flexibility, we need to decouple the modeling of the\n",
        "boundaries.  Problem is due to using one value to represent all classes.\n",
        "Instead, let's use three values, one for each class.\n",
        "Binary-valued variables are adequate.  Class 1 = $(1,0,0)$, Class\n",
        "2 = $(0,1,0)$ and Class 3 = $(0,0,1)$.  These are called **indicator\n",
        "variables**.\n",
        "\n",
        "Our linear model has three\n",
        "outputs now.  How do we interpret the output for a new sample?\n",
        "\n",
        "Let the output be $\\yv = (y_1, y_2, y_3)$.  Convert these\n",
        "values to a class by picking the maximum value.\n",
        "\n",
        "$$\n",
        "\\begin{align*}\n",
        "\\text{class} = \\argmax{i}\\;\\; y_i\n",
        "\\end{align*}\n",
        "$$\n",
        "\n",
        "We can plot the three output components on three separate\n",
        "graphs. What linear functions will each one learn?\n",
        "\n",
        "<img src=\"http://www.cs.colostate.edu/~cs445/notebooks/three_indicator_variables.png\" width=1000>\n",
        "\n",
        "Overlay them to see which one is the maximum for each $x$ value.\n",
        "\n",
        "<img src=\"http://www.cs.colostate.edu/~cs445/notebooks/indicator_variables_overlayed_intersections.png\" width=400>\n",
        "\n",
        "See any potential problems?\n",
        "\n",
        "What if the green line is too low?\n",
        "\n",
        "<img src=\"http://www.cs.colostate.edu/~cs445/notebooks/indicator_variables_overlayed_green_line_too_low.png\" width=400>\n",
        "\n",
        "What could cause this?\n"
      ]
    },
    {
      "cell_type": "markdown",
      "metadata": {
        "id": "FkdIaz61pU-L"
      },
      "source": [
        "## Masking Problem"
      ]
    },
    {
      "cell_type": "markdown",
      "metadata": {
        "id": "X736GfrnpU-L"
      },
      "source": [
        "Too few samples from Class 2.\n",
        "\n",
        "<img src=\"http://www.cs.colostate.edu/~cs445/notebooks/three_indicator_variables_masking_problem.png\" width=1000>\n",
        "\n",
        "There may be no values of $x$ for which the second output, $y_2$, of our\n",
        "linear model is larger than the other two.  Class 2 has become\n",
        "**masked** by the other classes.\n",
        "\n",
        "What other shape of function response would work better for this\n",
        "data?  Hold that thought, while we try an example."
      ]
    },
    {
      "cell_type": "markdown",
      "metadata": {
        "id": "dOkVcy6XpU-L"
      },
      "source": [
        "## Example"
      ]
    },
    {
      "cell_type": "markdown",
      "metadata": {
        "id": "-XKNlVqDpU-L"
      },
      "source": [
        "Let's use the [parkinsons data set](https://archive.ics.uci.edu/ml/datasets/Parkinsons) from UCI ML Archive.\n",
        "\n",
        "   * 147 samples from subjects with Parkinsons, 48 samples from healthy subjects\n",
        "   * Each sample composed of 22 numerical features extracted from voice recordings\n",
        "   * Feature named *status* is 0 for healthy subjects, 1 for subjects with Parkinson's Disease\n",
        "   * from collaboration with the University of Oxford and the National Center for Voice and Speech in Denver.\n",
        "\n",
        "Let's download the data file and read it in.  Also print the shapes of\n",
        "X and T and summarize the X and T data."
      ]
    },
    {
      "cell_type": "code",
      "execution_count": 17,
      "metadata": {
        "id": "AIgOiV1KpU-L"
      },
      "outputs": [],
      "source": [
        "import numpy as np\n",
        "import pandas as pd\n",
        "import matplotlib.pyplot as plt"
      ]
    },
    {
      "cell_type": "code",
      "execution_count": 18,
      "metadata": {
        "id": "DAo08GGKpU-L"
      },
      "outputs": [],
      "source": [
        "import pandas as pd\n",
        "data = pd.read_csv('https://raw.githubusercontent.com/sarathsreedharan/CSU_CS_445/refs/heads/main/Spring25/Notebooks/CSV/parkinsons.data')"
      ]
    },
    {
      "cell_type": "code",
      "execution_count": 19,
      "metadata": {
        "colab": {
          "base_uri": "https://localhost:8080/"
        },
        "id": "AitGOFGFpU-M",
        "outputId": "a95fcdbd-b4f7-4048-ba9e-4aa0dbd74df2"
      },
      "outputs": [
        {
          "data": {
            "text/plain": [
              "(195, 24)"
            ]
          },
          "execution_count": 19,
          "metadata": {},
          "output_type": "execute_result"
        }
      ],
      "source": [
        "data.shape"
      ]
    },
    {
      "cell_type": "code",
      "execution_count": 20,
      "metadata": {
        "colab": {
          "base_uri": "https://localhost:8080/"
        },
        "id": "7U5hcS4-pU-M",
        "outputId": "1da7cef2-bef5-4457-dda1-1d38bf2f911d"
      },
      "outputs": [
        {
          "data": {
            "text/plain": [
              "Index(['name', 'MDVP:Fo(Hz)', 'MDVP:Fhi(Hz)', 'MDVP:Flo(Hz)', 'MDVP:Jitter(%)',\n",
              "       'MDVP:Jitter(Abs)', 'MDVP:RAP', 'MDVP:PPQ', 'Jitter:DDP',\n",
              "       'MDVP:Shimmer', 'MDVP:Shimmer(dB)', 'Shimmer:APQ3', 'Shimmer:APQ5',\n",
              "       'MDVP:APQ', 'Shimmer:DDA', 'NHR', 'HNR', 'status', 'RPDE', 'DFA',\n",
              "       'spread1', 'spread2', 'D2', 'PPE'],\n",
              "      dtype='object')"
            ]
          },
          "execution_count": 20,
          "metadata": {},
          "output_type": "execute_result"
        }
      ],
      "source": [
        "data.columns"
      ]
    },
    {
      "cell_type": "code",
      "execution_count": 21,
      "metadata": {
        "colab": {
          "base_uri": "https://localhost:8080/"
        },
        "id": "9yPyGQnupU-M",
        "outputId": "c7a431d7-1668-4487-a907-0290712f0d0e"
      },
      "outputs": [
        {
          "data": {
            "text/plain": [
              "(195, 1)"
            ]
          },
          "execution_count": 21,
          "metadata": {},
          "output_type": "execute_result"
        }
      ],
      "source": [
        "T = data['status'].values\n",
        "T = T.reshape((-1, 1))\n",
        "Tname = 'status'\n",
        "T.shape"
      ]
    },
    {
      "cell_type": "code",
      "execution_count": 22,
      "metadata": {
        "colab": {
          "base_uri": "https://localhost:8080/"
        },
        "id": "c2bRBx3FpU-M",
        "outputId": "0dcec44d-f321-4b6d-8b9f-980d7038a5dd"
      },
      "outputs": [
        {
          "data": {
            "text/plain": [
              "((195, 22),\n",
              " ['MDVP:Fo(Hz)',\n",
              "  'MDVP:Fhi(Hz)',\n",
              "  'MDVP:Flo(Hz)',\n",
              "  'MDVP:Jitter(%)',\n",
              "  'MDVP:Jitter(Abs)',\n",
              "  'MDVP:RAP',\n",
              "  'MDVP:PPQ',\n",
              "  'Jitter:DDP',\n",
              "  'MDVP:Shimmer',\n",
              "  'MDVP:Shimmer(dB)',\n",
              "  'Shimmer:APQ3',\n",
              "  'Shimmer:APQ5',\n",
              "  'MDVP:APQ',\n",
              "  'Shimmer:DDA',\n",
              "  'NHR',\n",
              "  'HNR',\n",
              "  'RPDE',\n",
              "  'DFA',\n",
              "  'spread1',\n",
              "  'spread2',\n",
              "  'D2',\n",
              "  'PPE'])"
            ]
          },
          "execution_count": 22,
          "metadata": {},
          "output_type": "execute_result"
        }
      ],
      "source": [
        "X = data\n",
        "X = X.drop(['status', 'name'], axis=1)\n",
        "Xnames = X.columns.tolist()\n",
        "X = X.values\n",
        "X.shape, Xnames"
      ]
    },
    {
      "cell_type": "code",
      "execution_count": 23,
      "metadata": {
        "colab": {
          "base_uri": "https://localhost:8080/"
        },
        "id": "gHXUNekdpU-M",
        "outputId": "41559b9d-e41a-418a-ce24-9732ac0e1026"
      },
      "outputs": [
        {
          "name": "stdout",
          "output_type": "stream",
          "text": [
            "                     mean      stdev    \n",
            "MDVP:Fo(Hz)                154      41.3\n",
            "MDVP:Fhi(Hz)               197      91.3\n",
            "MDVP:Flo(Hz)               116      43.4\n",
            "MDVP:Jitter(%)         0.00622   0.00484\n",
            "MDVP:Jitter(Abs)       4.4e-05  3.47e-05\n",
            "MDVP:RAP               0.00331   0.00296\n",
            "MDVP:PPQ               0.00345   0.00275\n",
            "Jitter:DDP             0.00992   0.00888\n",
            "MDVP:Shimmer            0.0297    0.0188\n",
            "MDVP:Shimmer(dB)         0.282     0.194\n",
            "Shimmer:APQ3            0.0157    0.0101\n",
            "Shimmer:APQ5            0.0179     0.012\n",
            "MDVP:APQ                0.0241    0.0169\n",
            "Shimmer:DDA              0.047    0.0304\n",
            "NHR                     0.0248    0.0403\n",
            "HNR                       21.9      4.41\n",
            "RPDE                     0.499     0.104\n",
            "DFA                      0.718    0.0552\n",
            "spread1                  -5.68      1.09\n",
            "spread2                  0.227    0.0832\n",
            "D2                        2.38     0.382\n",
            "PPE                      0.207    0.0899\n"
          ]
        }
      ],
      "source": [
        "print(f'{\" \":20s} {\"mean\":9s} {\"stdev\":9s}')\n",
        "for i in range(len(Xnames)):\n",
        "    print(f'{Xnames[i]:20s} {np.mean(X[:, i]):9.3g} {np.std(X[:, i]):9.3g}')\n"
      ]
    },
    {
      "cell_type": "code",
      "execution_count": 24,
      "metadata": {
        "colab": {
          "base_uri": "https://localhost:8080/"
        },
        "id": "HH-1thqOpU-M",
        "outputId": "63dde9b5-7534-4d9b-fb06-e7a2910c4db5"
      },
      "outputs": [
        {
          "name": "stdout",
          "output_type": "stream",
          "text": [
            "   Value  Occurrences\n",
            "      0         48\n",
            "      1        147\n"
          ]
        }
      ],
      "source": [
        "uniq = np.unique(T)\n",
        "print('   Value  Occurrences')\n",
        "for i in uniq:\n",
        "    print(f'{i:7.1g} {np.sum(T==i):10d}')"
      ]
    },
    {
      "cell_type": "markdown",
      "metadata": {
        "id": "bS6LHy25pU-M"
      },
      "source": [
        "Two indicator variables is equivalent to using single variable, so we\n",
        "will stick with *status* as our output variable, with value of 0\n",
        "meaning subject does not have Parkinsons and 1 meaning subject has Parkinsons."
      ]
    },
    {
      "cell_type": "markdown",
      "metadata": {
        "id": "WKyaspYdpU-M"
      },
      "source": [
        "For small sample size or very uneven number of samples from\n",
        "each class, force equal sampling proportions of two classes\n",
        "when building train, test partitions.  Let's use 80% for training and\n",
        "20% for testing."
      ]
    },
    {
      "cell_type": "code",
      "execution_count": 25,
      "metadata": {
        "colab": {
          "base_uri": "https://localhost:8080/"
        },
        "id": "D2l5WkTQpU-M",
        "outputId": "9376324d-eb6c-4e08-e828-5eea4c6cc563"
      },
      "outputs": [
        {
          "name": "stdout",
          "output_type": "stream",
          "text": [
            "Xtrain is 156 by 22. Ttrain is 156 by 1\n",
            "   Value  Occurrences\n",
            "      0         38\n",
            "      1        118\n",
            "Xtest is 39 by 22. Ttest is 39 by 1\n",
            "   Value  Occurrences\n",
            "      0         10\n",
            "      1         29\n"
          ]
        }
      ],
      "source": [
        "trainf = 0.8 # training fraction\n",
        "healthyI,_ = np.where(T == 0) # healthy subjects if T = 0\n",
        "parkI,_ = np.where(T == 1) # otherwise where T = 1\n",
        "healthyI = np.random.permutation(healthyI) # permute each set randoly\n",
        "parkI = np.random.permutation(parkI)\n",
        "\n",
        "nHealthy = round(trainf * len(healthyI)) # take training fraction * size of set\n",
        "nPark = round(trainf * len(parkI))\n",
        "rowsTrain = np.hstack((healthyI[:nHealthy], parkI[:nPark])) # this keeps the size of the training data for each class proportional to the total size of the class\n",
        "Xtrain = X[rowsTrain, :]\n",
        "Ttrain = T[rowsTrain, :]\n",
        "rowsTest = np.hstack((healthyI[nHealthy:], parkI[nPark:])) # same here for testing data\n",
        "Xtest =  X[rowsTest, :]\n",
        "Ttest =  T[rowsTest, :]\n",
        "\n",
        "\n",
        "print('Xtrain is {:d} by {:d}. Ttrain is {:d} by {:d}'.format(*(Xtrain.shape + Ttrain.shape)))\n",
        "uniq = np.unique(Ttrain)\n",
        "print('   Value  Occurrences')\n",
        "for i in uniq:\n",
        "    print(f'{i:7.1g} {np.sum(Ttrain == i):10d}')\n",
        "\n",
        "\n",
        "print('Xtest is {:d} by {:d}. Ttest is {:d} by {:d}'.format(*(Xtest.shape + Ttest.shape)))\n",
        "uniq = np.unique(Ttest)\n",
        "print('   Value  Occurrences')\n",
        "for i in uniq:\n",
        "    print(f'{i:7.1g} {np.sum(Ttest == i):10d}')\n"
      ]
    },
    {
      "cell_type": "markdown",
      "metadata": {
        "id": "QFCMf_G0pU-M"
      },
      "source": [
        "That's about the same ratio of 0's and 1's."
      ]
    },
    {
      "cell_type": "code",
      "execution_count": 26,
      "metadata": {
        "colab": {
          "base_uri": "https://localhost:8080/"
        },
        "id": "L3mGKdY7pU-M",
        "outputId": "6f21e061-0cd9-4b02-edb2-9cac937e6e74"
      },
      "outputs": [
        {
          "data": {
            "text/plain": [
              "(0.3220338983050847, 0.3448275862068966)"
            ]
          },
          "execution_count": 26,
          "metadata": {},
          "output_type": "execute_result"
        }
      ],
      "source": [
        "38/118, 10/29"
      ]
    },
    {
      "cell_type": "markdown",
      "metadata": {
        "id": "ccU9UqLvpU-N"
      },
      "source": [
        "and in the original data set we had"
      ]
    },
    {
      "cell_type": "code",
      "execution_count": 27,
      "metadata": {
        "colab": {
          "base_uri": "https://localhost:8080/"
        },
        "id": "mB9J2j7VpU-N",
        "outputId": "2c71d355-2e63-4a71-dcf4-d53fddde8d7f"
      },
      "outputs": [
        {
          "data": {
            "text/plain": [
              "0.32653061224489793"
            ]
          },
          "execution_count": 27,
          "metadata": {},
          "output_type": "execute_result"
        }
      ],
      "source": [
        "48/147"
      ]
    },
    {
      "cell_type": "markdown",
      "metadata": {
        "id": "2yIhtBDGpU-N"
      },
      "source": [
        "## Least Squares Solution"
      ]
    },
    {
      "cell_type": "markdown",
      "metadata": {
        "id": "R2P00q41pU-N"
      },
      "source": [
        "First let's standardize the inputs.  Don't standardize the outputs.\n",
        "They indicate the class.  Then just calculate the linear least squares\n",
        "solution."
      ]
    },
    {
      "cell_type": "code",
      "execution_count": 28,
      "metadata": {
        "id": "i7sonkmhpU-N"
      },
      "outputs": [],
      "source": [
        "def train(X, T, lamb=0):\n",
        "    means = X.mean(0)\n",
        "    stds = X.std(0)\n",
        "    n,d = X.shape\n",
        "    Xs = (X - means) / stds\n",
        "    Xs1 = np.insert(Xs , 0, 1, axis=1)\n",
        "    lambDiag = np.eye(d + 1) * lamb\n",
        "    lambDiag[0, 0] = 0\n",
        "    w = np.linalg.lstsq( Xs1.T @ Xs1 + lambDiag, Xs1.T @ T, rcond=None)[0]\n",
        "    return {'w': w, 'means':means, 'stds':stds}\n",
        "\n",
        "def use(model, X):\n",
        "    Xs = (X - model['means']) / model['stds']\n",
        "    Xs1 = np.insert(Xs , 0, 1, axis=1)\n",
        "    return Xs1 @ model['w']"
      ]
    },
    {
      "cell_type": "code",
      "execution_count": 29,
      "metadata": {
        "colab": {
          "base_uri": "https://localhost:8080/"
        },
        "id": "hsqXHNOdpU-N",
        "outputId": "63a91b1b-00ee-4e64-e3b5-5c1ec2f72aeb"
      },
      "outputs": [
        {
          "data": {
            "text/plain": [
              "['MDVP:Fo(Hz)',\n",
              " 'MDVP:Fhi(Hz)',\n",
              " 'MDVP:Flo(Hz)',\n",
              " 'MDVP:Jitter(%)',\n",
              " 'MDVP:Jitter(Abs)',\n",
              " 'MDVP:RAP',\n",
              " 'MDVP:PPQ',\n",
              " 'Jitter:DDP',\n",
              " 'MDVP:Shimmer',\n",
              " 'MDVP:Shimmer(dB)',\n",
              " 'Shimmer:APQ3',\n",
              " 'Shimmer:APQ5',\n",
              " 'MDVP:APQ',\n",
              " 'Shimmer:DDA',\n",
              " 'NHR',\n",
              " 'HNR',\n",
              " 'RPDE',\n",
              " 'DFA',\n",
              " 'spread1',\n",
              " 'spread2',\n",
              " 'D2',\n",
              " 'PPE']"
            ]
          },
          "execution_count": 29,
          "metadata": {},
          "output_type": "execute_result"
        }
      ],
      "source": [
        "Xnames"
      ]
    },
    {
      "cell_type": "code",
      "execution_count": 30,
      "metadata": {
        "colab": {
          "base_uri": "https://localhost:8080/"
        },
        "id": "rrGNdcqrpU-N",
        "outputId": "e4d6cd15-2502-4bed-8ea7-229651d066a9"
      },
      "outputs": [
        {
          "name": "stdout",
          "output_type": "stream",
          "text": [
            " 0                 bias      0.756\n",
            " 1          MDVP:Fo(Hz)     -0.106\n",
            " 2         MDVP:Fhi(Hz)    -0.0351\n",
            " 3         MDVP:Flo(Hz)    -0.0607\n",
            " 4       MDVP:Jitter(%)     -0.789\n",
            " 5     MDVP:Jitter(Abs)     -0.173\n",
            " 6             MDVP:RAP       4.27\n",
            " 7             MDVP:PPQ    -0.0467\n",
            " 8           Jitter:DDP       -3.4\n",
            " 9         MDVP:Shimmer      0.653\n",
            "10     MDVP:Shimmer(dB)      0.127\n",
            "11         Shimmer:APQ3      -63.7\n",
            "12         Shimmer:APQ5     -0.312\n",
            "13             MDVP:APQ     -0.143\n",
            "14          Shimmer:DDA       63.4\n",
            "15                  NHR    -0.0517\n",
            "16                  HNR     0.0149\n",
            "17                 RPDE    -0.0605\n",
            "18                  DFA     0.0161\n",
            "19              spread1     0.0926\n",
            "20              spread2     0.0977\n",
            "21                   D2     0.0506\n",
            "22                  PPE      0.142\n"
          ]
        }
      ],
      "source": [
        "model = train(Xtrain, Ttrain)\n",
        "\n",
        "Xnames.insert(0,'bias')\n",
        "for i in range(len(Xnames)):\n",
        "    print('{:2d} {:>20s} {:10.3g}'.format(i, Xnames[i], model['w'][i][0]))\n"
      ]
    },
    {
      "cell_type": "markdown",
      "metadata": {
        "id": "2OkjPbrgpU-N"
      },
      "source": [
        "Which ones appear to be most important?\n",
        "\n",
        "And, of course, let's test our linear model. To compare to the target values of 0 and 1, we must convert the continuous output value to 0 or 1, whichever is closest."
      ]
    },
    {
      "cell_type": "code",
      "execution_count": 31,
      "metadata": {
        "id": "AXT3tF2ApU-N"
      },
      "outputs": [],
      "source": [
        "def convertTo01(Y):\n",
        "    distFromTarget = np.abs(Y - [0,1])\n",
        "    whichTargetClosest = np.argmin(distFromTarget, axis=1).reshape((-1, 1))\n",
        "    return whichTargetClosest  # column index equivalent to 0 and 1 targets"
      ]
    },
    {
      "cell_type": "code",
      "execution_count": 32,
      "metadata": {
        "colab": {
          "base_uri": "https://localhost:8080/"
        },
        "id": "FhLW7mQCpU-N",
        "outputId": "6669190b-ea8c-4c3b-9042-a1b6eeaf6db7"
      },
      "outputs": [
        {
          "data": {
            "text/plain": [
              "array([[0],\n",
              "       [1],\n",
              "       [0],\n",
              "       [1]])"
            ]
          },
          "execution_count": 32,
          "metadata": {},
          "output_type": "execute_result"
        }
      ],
      "source": [
        "convertTo01(np.array([0.1, 1.1, -0.5, 0.56]).reshape((-1,1)))"
      ]
    },
    {
      "cell_type": "code",
      "execution_count": 33,
      "metadata": {
        "colab": {
          "base_uri": "https://localhost:8080/"
        },
        "id": "4BY99xRgpU-N",
        "outputId": "dffbffde-7f82-4a40-e710-802476e7b251"
      },
      "outputs": [
        {
          "name": "stdout",
          "output_type": "stream",
          "text": [
            "Percent Correct: Training   91.0 Testing   94.9\n"
          ]
        }
      ],
      "source": [
        "Ytrain = use(model, Xtrain)\n",
        "\n",
        "predictedTrain = convertTo01(Ytrain)\n",
        "\n",
        "percentCorrectTrain = np.sum(predictedTrain == Ttrain) / Ttrain.shape[0] * 100.0\n",
        "\n",
        "Ytest = use(model, Xtest)\n",
        "\n",
        "predictedTest = convertTo01(Ytest)\n",
        "percentCorrectTest = np.sum(predictedTest == Ttest) / float(Ttest.shape[0]) * 100.0\n",
        "\n",
        "print('Percent Correct: Training {:6.1f} Testing {:6.1f}'.format(percentCorrectTrain, percentCorrectTest))"
      ]
    },
    {
      "cell_type": "markdown",
      "metadata": {
        "id": "YPLXL0I1pU-N"
      },
      "source": [
        "What visualization would you use to check the results?\n",
        "\n",
        "Let's plot the true class with the output of the model for\n",
        "each training sample, then each testing"
      ]
    },
    {
      "cell_type": "code",
      "execution_count": 34,
      "metadata": {
        "colab": {
          "base_uri": "https://localhost:8080/",
          "height": 807
        },
        "id": "1K_WRqIqpU-N",
        "outputId": "32c7d6ec-b9e2-4684-81e6-a73e0f495869"
      },
      "outputs": [
        {
          "data": {
            "image/png": "[encoded data removed]",
            "text/plain": [
              "<Figure size 800x800 with 2 Axes>"
            ]
          },
          "metadata": {},
          "output_type": "display_data"
        }
      ],
      "source": [
        "plt.figure(figsize=(8, 8))\n",
        "plt.subplot(2, 1 ,1)\n",
        "plt.plot(np.hstack((Ttrain, predictedTrain)), 'o-', alpha=0.5)\n",
        "plt.ylim(-0.1, 1.1) # so markers will show\n",
        "plt.xlabel('Sample Index')\n",
        "plt.ylabel('Class')\n",
        "plt.title('Training Data')\n",
        "plt.legend(('Actual', 'Predicted'), loc='center')\n",
        "\n",
        "plt.subplot(2, 1, 2)\n",
        "plt.plot(np.hstack((Ttest, predictedTest)), 'o-', alpha=0.5)\n",
        "plt.ylim(-0.1, 1.1)\n",
        "plt.xlabel('Sample Index')\n",
        "plt.ylabel('Class')\n",
        "plt.title('Testing Data')\n",
        "plt.legend(('Actual', 'Predicted'), loc='center');\n",
        "\n",
        "plt.tight_layout()"
      ]
    },
    {
      "cell_type": "markdown",
      "metadata": {
        "id": "1xFQUjXtpU-S"
      },
      "source": [
        "Might also be revealing to add the continuously-valued output of the\n",
        "network, before being converted to the class."
      ]
    },
    {
      "cell_type": "code",
      "execution_count": 36,
      "metadata": {
        "colab": {
          "base_uri": "https://localhost:8080/",
          "height": 718
        },
        "id": "4R3VCPBXpU-S",
        "outputId": "f1645e15-e4ff-4a9d-b15c-d5030dca28cf"
      },
      "outputs": [
        {
          "data": {
            "image/png": "[encoded data removed]",
            "text/plain": [
              "<Figure size 800x1000 with 2 Axes>"
            ]
          },
          "metadata": {},
          "output_type": "display_data"
        }
      ],
      "source": [
        "plt.figure(figsize=(8, 10))\n",
        "\n",
        "plt.subplot(2, 1, 1)\n",
        "plt.plot(np.hstack((Ttrain, predictedTrain, Ytrain)),'o-', alpha=0.5)\n",
        "plt.ylim(-0.1, 1.1) # so markers will show\n",
        "plt.xlabel('Sample Index')\n",
        "plt.ylabel('Class')\n",
        "plt.title('Training Data')\n",
        "plt.legend(('Actual', 'Predicted', 'Cont. Val.'), loc='center')\n",
        "\n",
        "plt.subplot(2, 1, 2)\n",
        "plt.plot(np.hstack((Ttest, predictedTest, Ytest)), 'o-', alpha=0.5)\n",
        "plt.ylim(-0.1, 1.1)\n",
        "plt.xlabel('Sample Index')\n",
        "plt.ylabel('Class')\n",
        "plt.title('Testing Data')\n",
        "plt.legend(('Actual', 'Predicted', 'Cont. Val.'), loc='center');\n"
      ]
    },
    {
      "cell_type": "markdown",
      "metadata": {
        "id": "ARfFb-J1pU-S"
      },
      "source": [
        "## Shape of Boundary"
      ]
    },
    {
      "cell_type": "markdown",
      "metadata": {
        "id": "KOjCfnqlpU-S"
      },
      "source": [
        "Imagine  we have just two variable attributes, $x_1$ and $x_2$.  With our\n",
        "linear least squared model $\\wv$, we make a prediction for\n",
        "sample $\\xv=(x_1,x_2)$ by\n",
        "\n",
        "$$\n",
        "y(\\xv) = w_0 + w_1 x_1 + w_2 x_2\n",
        "$$\n",
        "\n",
        "For the parkinsons problem, we will predict the class for this sample\n",
        "is 'healthy' if\n",
        "\n",
        "$$\n",
        "y(\\xv) = w_0 + w_1 x_1 + w_2 x_2 < 0.5\n",
        "$$\n",
        "\n",
        "So the boundary between the 'healthy' and the 'parkinsons' class in\n",
        "the two-dimensional $x_1, x_2$ space\n",
        "\n",
        "$$\n",
        "w_0 + w_1 x_1 + w_2 x_2 = 0.5\n",
        "$$\n",
        "\n",
        "is of what shape?\n",
        "\n",
        "Above methods are discriminative in nature, meaning that what is\n",
        "learned is a function that is designed to produce different values for\n",
        "different classes.  \n",
        "\n",
        "An alternative approach\n",
        "is to first create a probabilistic model of samples from each class,\n",
        "forming a model with which samples from a class can be generated,\n",
        "hence a **generative model**. The number of models is the same as the\n",
        "number of classes.\n",
        "\n",
        "Before jumping into the details of simple generative models, we will\n",
        "first review probability theory, joint probabilities, conditional\n",
        "probabilities, Bayes theorem, and the Gaussian distribution."
      ]
    },
    {
      "cell_type": "markdown",
      "metadata": {
        "id": "bTQdXHxDpU-S"
      },
      "source": [
        "# Probability Theory"
      ]
    },
    {
      "cell_type": "markdown",
      "metadata": {
        "id": "MbmlTIKGpU-S"
      },
      "source": [
        "## Boxes of Fruit"
      ]
    },
    {
      "cell_type": "markdown",
      "metadata": {
        "id": "7FAcTgXPpU-S"
      },
      "source": [
        "<img src=\"http://www.cs.colostate.edu/~cs445/notebooks/boxes_of_fruit.png\">\n",
        "\n",
        "Counts of fruit in each jar:\n",
        "\n",
        "|   .  | apples  |  oranges  |  strawberries  | Sums |\n",
        "| --- | --- | --- | --- |---  |\n",
        "|  blue jar |  2  |  6  |  4  | $\\Sigma$ = 12  |\n",
        "|  red jar |  3  |  1  |  2  | $\\Sigma$ = 6  |\n",
        "\n",
        "Probabilities of fruit from a given jar:\n",
        "\n",
        "| . |  apples  |  oranges  |  strawberries  | Sums |\n",
        "| ---: | :---: | :---: |  --- | ---: |\n",
        "|  blue jar |  2/12 = 0.167  |  6/12 = 0.5  |  4/12 = 0.33  | $\\Sigma$ = 1.0  |\n",
        "|  red jar |  3/6 = 0.5  |  1/6 = 0.167  |  2/6 = 0.33  | $\\Sigma$ = 1.0  |\n",
        "\n",
        "Say the probability of choosing the blue jar is 0.6 and for choosing\n",
        "the red jar is 0.4.\n",
        "The probability of choosing the blue jar and drawing an apple out\n",
        "of the blue jar is the product of these two choices, or $0.6 (0.167) = 0.1$.\n",
        "\n",
        "Doing all multiplications results in\n",
        "\n",
        "| . |  apples  |  oranges  |  strawberries  | Sums |\n",
        "| ---: | :---: | :---: | :---: | ---: |\n",
        "|  blue jar (P=0.6) |  0.6(0.167) = 0.1  |  0.6(0.5) = 0.3  |  0.6(0.33) = 0.2  | $\\Sigma$ = 0.5982  |\n",
        "|  red jar (P=0.4) |  0.4(0.5) = 0.2  |  0.4(0.167) = 0.067  |  0.4(0.33) = 0.133  | $\\Sigma$ = 0.3988  |"
      ]
    },
    {
      "cell_type": "markdown",
      "metadata": {
        "id": "3DaZgY8-pU-S"
      },
      "source": [
        "## Joint Probability Table"
      ]
    },
    {
      "cell_type": "markdown",
      "metadata": {
        "id": "LveRzgxOpU-S"
      },
      "source": [
        "Combine in a two-dimensional table to show joint\n",
        "probabilities of two events.\n",
        "\n",
        "|   .    | .  | .  | fruit  | .|  . |\n",
        "| :---: | :---: | :---: | :---: | :---: | ---: |\n",
        "|    .   |  . |  apple  |  orange  |  strawberry  | Sums |\n",
        "|  jar  |  blue  |  0.1  |  0.3  |  0.2  | $\\Sigma$ = 0.5982  |\n",
        "|  .  |  red  |  0.2  |  0.067  |  0.133  | $\\Sigma$ = 0.3988  |\n",
        "|    .   |  Sums  | $\\Sigma$=0.3  |  $\\Sigma$ = 0.367  | $\\Sigma$ = 0.333 | $\\Sigma$=1  |\n",
        "\n",
        "Symbolically, let $J$ be a random variable for jar, and $F$  be a random variable for fruit:\n",
        "\n",
        "|    .   | .  | . | fruit  |. | .|\n",
        "| :---: | :---: | :---: | :---: | :---: | ---: |\n",
        "|   .    | .  |  apple  |  orange  |  strawberry  | Sums |\n",
        "|  jar  |  red  |  P(J=blue,F=apple)  |  P(J=blue,F=orange)  |  P(J=blue,F=strawberry)  |  P(J=blue)  |\n",
        "|  .  |  blue  |  P(J=red,F=apple)  |  P(J=red,F=orange)  |  P(J=red,F=strawberry)  |  P(J=red)  |\n",
        "|    .   |  Sums   |  P(F=apple)  |  P(F=orange)  |  P(F=strawberry)  | 1  |"
      ]
    },
    {
      "cell_type": "markdown",
      "metadata": {
        "id": "IBGkE7P2pU-S"
      },
      "source": [
        "## Bayes Rule"
      ]
    },
    {
      "cell_type": "markdown",
      "metadata": {
        "id": "xtvqd3eEpU-S"
      },
      "source": [
        "Just saw  an example of the **product rule**:\n",
        "\n",
        "$$\n",
        "\\begin{align*}\n",
        " P(F=orange, J=blue) = P(F=orange | J=blue) P(J=blue)\n",
        "\\end{align*}\n",
        "$$\n",
        "\n",
        "Since\n",
        "\n",
        "$$\n",
        "\\begin{align*}\n",
        "P(F=orange, J=blue) = P(J=blue, F=orange)\n",
        "\\end{align*}\n",
        "$$\n",
        "\n",
        "and\n",
        "\n",
        "$$\n",
        "\\begin{align*}\n",
        "P(J=blue,F=orange) = P(J=blue|F=orange)P(F=orange)\n",
        "\\end{align*}\n",
        "$$\n",
        "\n",
        "we know\n",
        "\n",
        "$$\n",
        "\\begin{align*}\n",
        "P(J=blue|F=orange)& P(F=orange) =\\\\\n",
        "& P(F=orange | J=blue) P(J=blue)\n",
        "\\end{align*}\n",
        "$$\n",
        "\n",
        "Dividing both sides by $P(F=orange)$ leads to **Bayes Rule**:\n",
        "\n",
        "$$\n",
        "\\begin{align*}\n",
        "P(J=blue | F=orange) = \\frac{P(F=orange|J=blue)P(J=blue)}{P(F=orange)}\n",
        "\\end{align*}\n",
        "$$\n",
        "\n",
        "The general form is:\n",
        "\n",
        "$$\n",
        "\\begin{align*}\n",
        "P(A | B) = \\frac{P(B|A)P(A)}{P(B)}\n",
        "\\end{align*}\n",
        "$$\n",
        "\n",
        "That is, the **posterior** probability equals the **prior** probability ($P(A)$), or the initial degree of belief in $A$, times the **evidence** ($\\frac{P(B|A)}{P(B)}$), or the support $B$ provides for $A$.\n",
        "\n",
        "On the right hand side of Bayes Rule, all terms are given except\n",
        "$P(F=orange)$\n",
        "\n",
        "$$\n",
        "\\begin{align*}\n",
        "P(J=blue | F=orange) = \\frac{P(F=orange|J=blue)P(J=blue)}{P(F=orange)}\n",
        "\\end{align*}\n",
        "$$\n",
        "\n",
        "We can use the **sum rule** to get this\n",
        "\n",
        "$$\n",
        "\\begin{align*}\n",
        "P(F=orange) & = \\sum_{j\\in\\{blue,red\\}} P(F=orange,J=j) \\\\\n",
        "& = 0.3+0.067\\\\\n",
        "& = 0.367\n",
        "\\end{align*}\n",
        "$$\n",
        "\n",
        "So, Bayes Rule can be rewritten as\n",
        "\n",
        "$$\n",
        "\\begin{align*}\n",
        "P(J=blue|F=orange) =\n",
        "\\frac{P(F=orange|J=blue)P(J=blue)}{\\sum_j P(F=orange,J=j)}\n",
        "\\end{align*}\n",
        "$$\n",
        "\n",
        "or\n",
        "\n",
        "$$\n",
        "\\begin{align*}\n",
        "P(J=blue|F=orange) =\n",
        "\\frac{P(F=orange|J=blue)P(J=blue)}{\\sum_j P(F=orange|J=j)P(J=j)}\n",
        "\\end{align*}\n",
        "$$"
      ]
    },
    {
      "cell_type": "markdown",
      "metadata": {
        "id": "yrKasHVipU-T"
      },
      "source": [
        "Now in Python. We can represent a conditional probability table as a two-dimensional array."
      ]
    },
    {
      "cell_type": "code",
      "execution_count": 23,
      "metadata": {
        "colab": {
          "base_uri": "https://localhost:8080/"
        },
        "id": "MRsBUp_jpU-T",
        "outputId": "57f3c86b-28bd-445a-c726-524008c4dae1"
      },
      "outputs": [
        {
          "data": {
            "text/plain": [
              "array([[2, 6, 4],\n",
              "       [3, 1, 2]])"
            ]
          },
          "execution_count": 23,
          "metadata": {},
          "output_type": "execute_result"
        }
      ],
      "source": [
        "counts = np.array([[2, 6, 4], [3, 1, 2]])\n",
        "counts"
      ]
    },
    {
      "cell_type": "markdown",
      "metadata": {
        "id": "MvmLuEOEpU-T"
      },
      "source": [
        "Let's include the row and column names as lists, and write a function to print the table."
      ]
    },
    {
      "cell_type": "code",
      "execution_count": 24,
      "metadata": {
        "id": "-nd7perrpU-T"
      },
      "outputs": [],
      "source": [
        "jarNames = ['blue', 'red']\n",
        "fruitNames = ['apple', 'orange', 'strawberry']"
      ]
    },
    {
      "cell_type": "code",
      "execution_count": 25,
      "metadata": {
        "colab": {
          "base_uri": "https://localhost:8080/"
        },
        "id": "MCm7-x24pU-T",
        "outputId": "9dc692dc-6b44-4303-e3a9-b3c08afede30"
      },
      "outputs": [
        {
          "name": "stdout",
          "output_type": "stream",
          "text": [
            "counts\n",
            "       apple  orange strawberry\n",
            "blue       2       6       4      12\n",
            "red        3       1       2       6\n",
            "           5       7       6      18\n"
          ]
        }
      ],
      "source": [
        "def printTable(label, data):\n",
        "    print\n",
        "    print(label)\n",
        "    print('   {:>9s} {:>7s} {:>9s}'.format(*fruitNames))\n",
        "    for i in [0, 1]:\n",
        "        d = data[i, :].tolist()\n",
        "        print('{:4s} {:7.3g} {:7.3g} {:7.3g} {:7.3g}'.format(*([jarNames[i]] + d + [sum(d)])))\n",
        "    colTotals = np.sum(data, axis=0).tolist()\n",
        "    print('     {:7.3g} {:7.3g} {:7.3g} {:7.3g}'.format(*(colTotals + [sum(colTotals)])))\n",
        "\n",
        "printTable('counts', counts)"
      ]
    },
    {
      "cell_type": "markdown",
      "metadata": {
        "id": "N52d6ydHpU-T"
      },
      "source": [
        "Calculate the sums of fruits in each jar by"
      ]
    },
    {
      "cell_type": "code",
      "execution_count": 26,
      "metadata": {
        "colab": {
          "base_uri": "https://localhost:8080/"
        },
        "id": "gYIXSjNupU-T",
        "outputId": "189515a4-d0c4-4921-d8d0-777cc417b130"
      },
      "outputs": [
        {
          "data": {
            "text/plain": [
              "array([[12],\n",
              "       [ 6]])"
            ]
          },
          "execution_count": 26,
          "metadata": {},
          "output_type": "execute_result"
        }
      ],
      "source": [
        "jarSums = np.sum(counts, axis=1).reshape((2, 1))\n",
        "jarSums"
      ]
    },
    {
      "cell_type": "markdown",
      "metadata": {
        "id": "OAviSsAvpU-T"
      },
      "source": [
        "Now we can calculate the probability of drawing each type of fruit, given that we have already chosen a jar."
      ]
    },
    {
      "cell_type": "code",
      "execution_count": 27,
      "metadata": {
        "colab": {
          "base_uri": "https://localhost:8080/"
        },
        "id": "TZsyo90UpU-T",
        "outputId": "820ea1b0-15be-432a-c017-adfe730673ca"
      },
      "outputs": [
        {
          "name": "stdout",
          "output_type": "stream",
          "text": [
            "Prob(Fruit|Jar)\n",
            "       apple  orange strawberry\n",
            "blue   0.167     0.5   0.333       1\n",
            "red      0.5   0.167   0.333       1\n",
            "       0.667   0.667   0.667       2\n"
          ]
        }
      ],
      "source": [
        "pFruitGivenJar = counts / jarSums\n",
        "printTable('Prob(Fruit|Jar)', pFruitGivenJar)"
      ]
    },
    {
      "cell_type": "markdown",
      "metadata": {
        "id": "IMQ2ID-epU-T"
      },
      "source": [
        "We can do more if we code the probability of selecting a jar."
      ]
    },
    {
      "cell_type": "code",
      "execution_count": 28,
      "metadata": {
        "colab": {
          "base_uri": "https://localhost:8080/"
        },
        "id": "9svxDA2BpU-T",
        "outputId": "d907826b-0411-4b68-8e3d-8d3812875bca"
      },
      "outputs": [
        {
          "data": {
            "text/plain": [
              "array([[0.6],\n",
              "       [0.4]])"
            ]
          },
          "execution_count": 28,
          "metadata": {},
          "output_type": "execute_result"
        }
      ],
      "source": [
        "pJar = np.array([[0.6], [0.4]])\n",
        "pJar"
      ]
    },
    {
      "cell_type": "markdown",
      "metadata": {
        "id": "CMWPcsFapU-T"
      },
      "source": [
        "Now we can calculate the joint probabilities, or the probabilities of each pair of a jar and a fruit occurring."
      ]
    },
    {
      "cell_type": "code",
      "execution_count": 29,
      "metadata": {
        "colab": {
          "base_uri": "https://localhost:8080/"
        },
        "id": "0hPsNBq3pU-T",
        "outputId": "b8f214d3-ea79-4274-a3e2-4c5a81dfbff4"
      },
      "outputs": [
        {
          "name": "stdout",
          "output_type": "stream",
          "text": [
            "Prob(Fruit,Jar)\n",
            "       apple  orange strawberry\n",
            "blue     0.1     0.3     0.2     0.6\n",
            "red      0.2  0.0667   0.133     0.4\n",
            "         0.3   0.367   0.333       1\n"
          ]
        }
      ],
      "source": [
        "pFruitAndJar = pFruitGivenJar * pJar\n",
        "printTable('Prob(Fruit,Jar)', pFruitAndJar)"
      ]
    },
    {
      "cell_type": "markdown",
      "metadata": {
        "id": "u1jjah0hpU-T"
      },
      "source": [
        "The sum at the lower right had better be 1, because this table is all possible results.\n",
        "\n",
        "How do we get the probability of a fruit from this table?  Just sum over the jars to marginalize out (remove) the jars."
      ]
    },
    {
      "cell_type": "code",
      "execution_count": 32,
      "metadata": {
        "colab": {
          "base_uri": "https://localhost:8080/"
        },
        "id": "MTf10F58pU-U",
        "outputId": "a8c79977-b73d-41f5-f2c3-b396d7150ed1"
      },
      "outputs": [
        {
          "data": {
            "text/plain": [
              "array([0.3       , 0.36666667, 0.33333333])"
            ]
          },
          "execution_count": 32,
          "metadata": {},
          "output_type": "execute_result"
        }
      ],
      "source": [
        "pFruit = np.sum(pFruitAndJar, axis=0)\n",
        "pFruit"
      ]
    },
    {
      "cell_type": "markdown",
      "metadata": {
        "id": "HkRnpYyypU-U"
      },
      "source": [
        "Now the probability of a jar given that you know which fruit was drawn, is"
      ]
    },
    {
      "cell_type": "code",
      "execution_count": null,
      "metadata": {
        "id": "hcFJX1wxpU-U",
        "outputId": "3fe306bc-0d8a-41bd-b659-1413ae0cddc7"
      },
      "outputs": [
        {
          "name": "stdout",
          "output_type": "stream",
          "text": [
            "Prob(Jar|Fruit)\n",
            "       apple  orange strawberry\n",
            "blue   0.333   0.818     0.6    1.75\n",
            "red    0.667   0.182     0.4    1.25\n",
            "           1       1       1       3\n"
          ]
        }
      ],
      "source": [
        "pJarGivenFruit = pFruitAndJar / pFruit\n",
        "printTable('Prob(Jar|Fruit)', pJarGivenFruit)"
      ]
    },
    {
      "cell_type": "markdown",
      "metadata": {
        "id": "2PbYuHoppU-U"
      },
      "source": [
        "# Bayes Rule for Classification"
      ]
    },
    {
      "cell_type": "markdown",
      "metadata": {
        "id": "8kNjxUUjpU-U"
      },
      "source": [
        "Replace jars with digits.\n",
        "Replace fruits with hand-drawn images.\n",
        "\n",
        "<img src=\"http://www.cs.colostate.edu/~cs445/notebooks/boxes_of_mnist.png\">\n",
        "\n",
        "\n",
        "\n",
        "Let $i$ be a particular image. To classify an image $i$ as a\n",
        "particular digit, such as 4, we want to know\n",
        "\n",
        "$$\n",
        "\\begin{align*}\n",
        "P(Digit = 4 \\;|\\; Image = i)\n",
        "\\end{align*}\n",
        "$$\n",
        "\n",
        "but we probably only know\n",
        "\n",
        "$$\n",
        "\\begin{align*}\n",
        "   P(Image = i \\;|\\; Digit = 4)\n",
        "\\end{align*}\n",
        "$$\n",
        "\n",
        "If we assume\n",
        "\n",
        "$$\n",
        "\\begin{align*}\n",
        "P(Image=i) = &\\frac{1}{\\text{number of images}}\\\\\n",
        "P(Digit=4)=&\\frac{1}{10}\n",
        "\\end{align*}\n",
        "$$\n",
        "\n",
        "then we can use Bayes rule:\n",
        "\n",
        "$$\n",
        "\\begin{align*}\n",
        "    P(Digit=4\\;|\\;Image=i) & = \\frac{P(Image=i\\;|\\;Digit=4)  P(Digit=4)}{P(Image=i)}\\\\\n",
        "&\\\\\n",
        "& = \\frac{P(Image=i\\;|\\;Digit=4) 0.1}{(1/\\text{number of images)}}\n",
        "\\end{align*}\n",
        "$$"
      ]
    },
    {
      "cell_type": "markdown",
      "metadata": {
        "id": "v_p_LXHkpU-U"
      },
      "source": [
        "# Classification: Simple Generative Models"
      ]
    },
    {
      "cell_type": "markdown",
      "metadata": {
        "id": "pxruQHL2pU-U"
      },
      "source": [
        "Above we discussed a linear function as a discriminant\n",
        "function.  If we had three classes, we would have three\n",
        "discriminant functions, and their values would be compared to find the\n",
        "maximum value to make the class prediction.\n",
        "\n",
        "A **discriminant function** is the function that describes the curve that *separates* the points in data that describe different classes.  For $N$ classes the number of discriminant functions is either $N-1$ or $p$, where $p$ is the number of predictors, whichever is smaller.\n",
        "\n",
        "A different way to develop a similar comparison is to start with\n",
        "models of the data from each class.  If the models define a\n",
        "probability distribution over possible values, the models are\n",
        "**generative models**.  \n",
        "\n",
        "What shape model would you like?"
      ]
    },
    {
      "cell_type": "markdown",
      "metadata": {
        "id": "4qFQ2PAcpU-U"
      },
      "source": [
        "## First, Why Gaussians?"
      ]
    },
    {
      "cell_type": "markdown",
      "metadata": {
        "id": "JhuxfimwpU-U"
      },
      "source": [
        "How would you like to model the probability distribution of a typical cluster of your data?\n",
        "If, and that's a big if, you believe\n",
        "the data samples from a particular class have attribute values that\n",
        "tend to be close to a particular value, that is, that the samples\n",
        "cluster about a central point in the sample space, then pick a\n",
        "probabilistic model that has a peak over that central point and falls\n",
        "towards zero as you move away from that point.\n",
        "\n",
        "How do we construct such a model?  Well, let's try for two\n",
        "characteristics:\n",
        "  - The model's value will decrease with the distance from the central point, and\n",
        "  - its value will always be greater than 0.\n",
        "If $\\xv$ is a sample and $\\muv$ is the central point, we can achieve this with\n",
        "$$\n",
        "p(\\xv) = \\frac{1}{||\\xv - \\muv||}\n",
        "$$\n",
        "where $||\\xv - \\muv||$ is the distance between $\\xv$ and $\\muv$, that is, the magnitude of the vector between $\\xv$ and $\\muv$.\n",
        "\n",
        "Let's try making a plot of this for $\\mu = 5.5$."
      ]
    },
    {
      "cell_type": "code",
      "execution_count": 36,
      "metadata": {
        "id": "mNEzm7X4pU-U"
      },
      "outputs": [],
      "source": [
        "import numpy as np\n",
        "import matplotlib.pyplot as plt"
      ]
    },
    {
      "cell_type": "code",
      "execution_count": 37,
      "metadata": {
        "colab": {
          "base_uri": "https://localhost:8080/",
          "height": 455
        },
        "id": "x5ZrLskhpU-U",
        "outputId": "86089300-4dbc-4576-c90d-a2c48e5a5342"
      },
      "outputs": [
        {
          "data": {
            "image/png": "[encoded data removed]",
            "text/plain": [
              "<Figure size 640x480 with 1 Axes>"
            ]
          },
          "metadata": {},
          "output_type": "display_data"
        }
      ],
      "source": [
        "xs = np.linspace(-5,10,1000)\n",
        "mu = 5.5\n",
        "plt.plot(xs, 1/np.sqrt((xs-mu)**2))\n",
        "plt.ylim(0,20)\n",
        "plt.plot([mu, mu], [0, 20], 'r--',lw=2)\n",
        "plt.xlabel('$x$')\n",
        "plt.ylabel('$p(x)$');"
      ]
    },
    {
      "cell_type": "markdown",
      "metadata": {
        "id": "o8K5iwv8pU-U"
      },
      "source": [
        "The red dotted line is at $\\mu = 5.5$."
      ]
    },
    {
      "cell_type": "markdown",
      "metadata": {
        "id": "1YNOU0QRpU-U"
      },
      "source": [
        "Hmmm...what's wrong with this? It meets our criteria (clusters around a point), but goes to infinity at the\n",
        "center and we cannot control the width of the central area where samples\n",
        "may appear.\n",
        "\n",
        "We can take care of the first issue by using the distance as an exponent, so\n",
        "that when it is zero, the result is 1.  Let's try a base of 2.\n",
        "$$\n",
        "p(\\xv) = \\frac{1}{2^{||\\xv - \\muv||}}\n",
        "$$\n",
        "\n",
        "Now, let's see...how do we do a calculation with a scalar base and vector exponent?  For example, we want\n",
        "$$\n",
        "2^{[2,3,4]} = [2^2, 2^3, 2^4]\n",
        "$$"
      ]
    },
    {
      "cell_type": "code",
      "execution_count": 38,
      "metadata": {
        "colab": {
          "base_uri": "https://localhost:8080/",
          "height": 141
        },
        "id": "eVPIW_BgpU-U",
        "outputId": "2ad213ad-de0f-4913-8a83-ae0af3428e0f"
      },
      "outputs": [
        {
          "ename": "TypeError",
          "evalue": "unsupported operand type(s) for ** or pow(): 'int' and 'list'",
          "output_type": "error",
          "traceback": [
            "\u001b[0;31m---------------------------------------------------------------------------\u001b[0m",
            "\u001b[0;31mTypeError\u001b[0m                                 Traceback (most recent call last)",
            "\u001b[0;32m<ipython-input-38-f7409be697fa>\u001b[0m in \u001b[0;36m<cell line: 0>\u001b[0;34m()\u001b[0m\n\u001b[0;32m----> 1\u001b[0;31m \u001b[0;36m2\u001b[0m\u001b[0;34m**\u001b[0m\u001b[0;34m[\u001b[0m\u001b[0;36m2\u001b[0m\u001b[0;34m,\u001b[0m\u001b[0;36m3\u001b[0m\u001b[0;34m,\u001b[0m\u001b[0;36m4\u001b[0m\u001b[0;34m]\u001b[0m\u001b[0;34m\u001b[0m\u001b[0;34m\u001b[0m\u001b[0m\n\u001b[0m",
            "\u001b[0;31mTypeError\u001b[0m: unsupported operand type(s) for ** or pow(): 'int' and 'list'"
          ]
        }
      ],
      "source": [
        "2**[2,3,4]"
      ]
    },
    {
      "cell_type": "markdown",
      "metadata": {
        "id": "K2YYzkQ4pU-U"
      },
      "source": [
        "Nope.  Maybe we have to use a numpy array."
      ]
    },
    {
      "cell_type": "code",
      "execution_count": 39,
      "metadata": {
        "colab": {
          "base_uri": "https://localhost:8080/"
        },
        "id": "GZpsv50cpU-U",
        "outputId": "ef8a1e19-7696-436d-f5c6-61c9d773a31a"
      },
      "outputs": [
        {
          "data": {
            "text/plain": [
              "array([ 4,  8, 16])"
            ]
          },
          "execution_count": 39,
          "metadata": {},
          "output_type": "execute_result"
        }
      ],
      "source": [
        "2**np.array([2,3,4])"
      ]
    },
    {
      "cell_type": "markdown",
      "metadata": {
        "id": "9tYdblmvpU-V"
      },
      "source": [
        "Hey!  That's it."
      ]
    },
    {
      "cell_type": "code",
      "execution_count": 40,
      "metadata": {
        "colab": {
          "base_uri": "https://localhost:8080/",
          "height": 449
        },
        "id": "t18JNWZLpU-V",
        "outputId": "45ab396e-c228-4e77-ddc2-78ad985edfe2"
      },
      "outputs": [
        {
          "data": {
            "image/png": "[encoded data removed]",
            "text/plain": [
              "<Figure size 640x480 with 1 Axes>"
            ]
          },
          "metadata": {},
          "output_type": "display_data"
        }
      ],
      "source": [
        "plt.plot(xs, 1/2**np.sqrt((xs-mu)**2))\n",
        "plt.plot([mu, mu], [0, 1], 'r--',lw=3)\n",
        "plt.xlabel('$x$')\n",
        "plt.ylabel('$p(x)$');"
      ]
    },
    {
      "cell_type": "markdown",
      "metadata": {
        "id": "Qy2mwbfSpU-V"
      },
      "source": [
        "Solves the infinity problem, but it still falls off too fast.  We want to\n",
        "change the distance to a function that changes more slowly at first,\n",
        "when you are close to the center.  How about the square function?  \n",
        "$$\n",
        "p(\\xv) = \\frac{1}{2^{||\\xv - \\muv||^2}}\n",
        "$$"
      ]
    },
    {
      "cell_type": "code",
      "execution_count": 41,
      "metadata": {
        "colab": {
          "base_uri": "https://localhost:8080/",
          "height": 449
        },
        "id": "yRPsEEcApU-V",
        "outputId": "d742ae17-bab1-482b-b6b6-5d382e9496d0"
      },
      "outputs": [
        {
          "data": {
            "image/png": "[encoded data removed]",
            "text/plain": [
              "<Figure size 640x480 with 1 Axes>"
            ]
          },
          "metadata": {},
          "output_type": "display_data"
        }
      ],
      "source": [
        "plt.plot(xs, 1/2**(xs-mu)**2)\n",
        "plt.plot([mu, mu], [0, 1], 'r--',lw=3)\n",
        "plt.xlabel('$x$')\n",
        "plt.ylabel('$p(x)$');"
      ]
    },
    {
      "cell_type": "markdown",
      "metadata": {
        "id": "UxbjE5aopU-V"
      },
      "source": [
        "That's a much nicer shape!  Now we can vary the width by scaling the\n",
        "squared distance.  Let's scale it by 0.1 (this means the probability of sample $\\muv$ being in cluster $\\xv$ falls off 10x as fast).\n",
        "$$\n",
        "p(\\xv) = \\frac{1}{2^{0.1\\,||\\xv - \\muv||^2}}\n",
        "$$"
      ]
    },
    {
      "cell_type": "code",
      "execution_count": 49,
      "metadata": {
        "colab": {
          "base_uri": "https://localhost:8080/",
          "height": 449
        },
        "id": "16ZmySV6pU-V",
        "outputId": "980545b8-4eab-401f-b3b4-f31092a64e8d"
      },
      "outputs": [
        {
          "data": {
            "image/png": "[encoded data removed]",
            "text/plain": [
              "<Figure size 640x480 with 1 Axes>"
            ]
          },
          "metadata": {},
          "output_type": "display_data"
        }
      ],
      "source": [
        "plt.plot(xs, 1/2**(0.1 * (xs-mu)**2))\n",
        "plt.plot([mu, mu], [0, 1], 'r--',lw=3)\n",
        "plt.xlabel('$x$')\n",
        "plt.ylabel('$p(x)$');"
      ]
    },
    {
      "cell_type": "markdown",
      "metadata": {
        "id": "ZXyUC6_0pU-V"
      },
      "source": [
        "There. That's good enough.  We could be happy with this.  Just pick\n",
        "the center and scale factor that best matches the sample\n",
        "distributions.  But, let's make one more change that won't affect the\n",
        "shape of our model, but will simplify later calculations.  We will\n",
        "soon see that logarithms come into play when we try to fit our model\n",
        "to a bunch of samples.  What is the logarithm of $2^{0.1\\,|\\xv -\n",
        "\\muv|^2}$, or, more simply, the logarithm of $2^z$?  If we are talking\n",
        "base 10 logs, $\\log 2^z = z \\log 2$.  Since we are free to pick the\n",
        "base, how about using $e$ and natural logarithms?  Then\n",
        "$\\ln e^z = z \\ln e = z$.  So much simpler!  :-)\n",
        "\n",
        "So, our model is now\n",
        "$$\n",
        "p(\\xv) = \\frac{1}{e^{0.1\\,||\\xv - \\muv||^2}}\n",
        "$$\n",
        "which can also be written as\n",
        "$$\n",
        "p(\\xv) = e^{-0.1\\,||\\xv - \\muv||^2}\n",
        "$$"
      ]
    },
    {
      "cell_type": "code",
      "execution_count": 50,
      "metadata": {
        "colab": {
          "base_uri": "https://localhost:8080/",
          "height": 449
        },
        "id": "mtvQwQH0pU-V",
        "outputId": "6e976697-c63b-4bec-b601-7afff5b040d3"
      },
      "outputs": [
        {
          "data": {
            "image/png": "[encoded data removed]",
            "text/plain": [
              "<Figure size 640x480 with 1 Axes>"
            ]
          },
          "metadata": {},
          "output_type": "display_data"
        }
      ],
      "source": [
        "plt.plot(xs, np.exp(-0.1 * (xs-mu)**2))\n",
        "plt.plot([mu, mu], [0, 1], 'r--',lw=3)\n",
        "plt.xlabel('$x$')\n",
        "plt.ylabel('$p(x)$');"
      ]
    },
    {
      "cell_type": "markdown",
      "metadata": {
        "id": "pq0NhjbSpU-V"
      },
      "source": [
        "The scale factor 0.1 is a bit counterintuitive.  The smaller the\n",
        "value, the more spread out our model is.  So, let's divide by the\n",
        "scale factor rather than multiply by it, and let's call it $\\sigma$.\n",
        "Let's also put it inside the square function, so $\\sigma$ is directly\n",
        "scaling the distance, rather than the squared distance.  \n",
        "$$\n",
        "p(\\xv) = e^{-\\left (\\frac{||\\xv - \\muv||}{\\sigma}\\right )^2}\n",
        "$$\n",
        "or\n",
        "$$\n",
        "p(\\xv) = e^{-\\frac{||\\xv - \\muv||^2}{\\sigma^2}}\n",
        "$$\n",
        "\n",
        "Speaking of dividing, and this won't surprise you, since we will be\n",
        "taking derivatives of this function with respect to parameters like\n",
        "$\\mu$, let's multiply by $\\frac{1}{2}$ so that when we bring the\n",
        "exponent 2 down it will cancel with $\\frac{1}{2}$.\n",
        "$$\n",
        "p(\\xv) = e^{-\\frac{1}{2}\\frac{||\\xv - \\muv||^2}{\\sigma^2}}\n",
        "$$\n",
        "\n",
        "One remaining problem we have with our \"probabilistic\" model is that\n",
        "it is not a true probability distribution, which must\n",
        "  - have values between 0 and 1, $0 \\le p(x) \\le 1$, and\n",
        "  - have values that sum to 1 over the range of possible $x$ values, $\\int_{-\\infty}^{+\\infty} p(x) dx = 1$.\n",
        "\n",
        "We have satisfied the first requirement, but not the second.  We can fix\n",
        "this by calculating the value of the integral and dividing by that\n",
        "value, which is called the normalizing constant.  The value of the\n",
        "integral turns out to be $\\sqrt{2\\pi\\sigma^2}$: https://en.wikipedia.org/wiki/Gaussian_integral\n",
        "\n",
        "So, finally, we have the definition\n",
        "$$\n",
        "p(\\xv) = \\frac{1}{\\sqrt{2\\pi\\sigma^2}} e^{-\\frac{1}{2}\\frac{||\\xv - \\muv||^2}{\\sigma^2}}\n",
        "$$\n",
        "and... we have arrived at the Normal, or Gaussian, probability\n",
        "distribution (technically the density function) with mean $\\muv$ and\n",
        "standard deviation $\\sigma$, and thus variance $\\sigma^2$.  Check out\n",
        "[the Wikipedia entry](http://en.wikipedia.org/wiki/Normal_distribution).\n",
        "\n",
        "Now you know a bit about why the Normal distribution is so prevalent.  It has lots of desirable characteristics, like clustering around a point, modeling probabilities that decrease with distance from that point, always being greater than 0, scalable by constants, plays nicely with exponents and logarithms, etc.\n",
        "\n",
        "\n",
        "For additional insight and history, read [Chapter 7: The Central\n",
        "Gaussian, or Normal, Distribution](http://omega.albany.edu:8008/ETJ-PS/cc7m.ps) of *Probability Theory:\n",
        "The Logic of Science* by E.T. Jaynes, 1993.  It starts with this\n",
        "quotation from Augustus de Morgan (of [de Morgan's laws fame](https://en.wikipedia.org/wiki/De_Morgan%27s_laws)) from 1838:\n",
        "\n",
        "> \"My own impression...is that the mathematical results have outrun\n",
        "> their interpretation and that some simple explanation of the force and meaning of the\n",
        "> celebrated integral...will one day be found...which will at once render useless\n",
        "> all the works hitherto written.\"\n",
        "\n",
        "Before wrestling with python, we need to define the multivariate\n",
        "Normal distribution.  Let's go to two dimensions, to make sure we develop code to handle multidimensional data, not just scalars.  Now our hill we\n",
        "have been drawing will be a mound up above a two-dimensional base\n",
        "plane.  We will define $\\xv$ and $\\muv$\n",
        "to be two-dimensional column vectors. What will $\\sigma$ be?  Well, we\n",
        "need scale factors for the two dimensions to stretch or shrink the\n",
        "mound in the directions of the two base-plane axes.  We also need\n",
        "another scale factor to allow the mound to be stretched in directions\n",
        "not parallel to an axis.\n",
        "\n",
        "Remember, the Normal distribution is all about squared distance from\n",
        "the mean.  In two dimensions, the difference vector is $\\dv = \\xv -\n",
        "\\muv = (d_1,d_2)$.  The squared distance is therefore $||\\dv||^2 =\n",
        "d_1^2 + 2 d_1 d_2 + d_2^2$.  Now we see where the three scale factors\n",
        "go: $s_1 d_1^2 + 2 s_2 d_1 d_2 + s_3 d_2^2$.  This can be written in\n",
        "matrix form if we collect the scale factors in the matrix\n",
        "$$\n",
        "\\Sigmav = \\begin{bmatrix}\n",
        "s_1 & s_2\\\\\n",
        "s_2 & s_3\n",
        "\\end{bmatrix}\n",
        "$$\n",
        "so that\n",
        "$$\n",
        "s_1 d_1^2 + 2 s_2 d_1 d_2 + s_3 d_2^2 =\n",
        "\\dv^T \\Sigmav \\dv\n",
        "$$\n",
        "because\n",
        "$$\n",
        "\\begin{align*}\n",
        "\\dv^T \\Sigmav \\dv\n",
        "& =\n",
        "\\begin{bmatrix}\n",
        "d_1 & d_2\n",
        "\\end{bmatrix}\n",
        "\\begin{bmatrix}\n",
        "s_1 & s_2\\\\\n",
        "s_2 & s_3\n",
        "\\end{bmatrix}\n",
        "\\begin{bmatrix}\n",
        "d_1\\\\\n",
        "d_2\n",
        "\\end{bmatrix}\\\\\n",
        "& =\n",
        "\\begin{bmatrix}\n",
        "d_1 s_1 + d_2 s_2 & d_1 s_2 + d_2 s_3\n",
        "\\end{bmatrix}\n",
        "\\begin{bmatrix}\n",
        "d_1\\\\\n",
        "d_2\n",
        "\\end{bmatrix}\\\\\n",
        "&=\n",
        "(d_1 s_1 + d_2 s_2) d_1 + (d_1 s_2 + d_2 s_3) d_2\n",
        "=\n",
        "s_1 d_1^2 + 2 s_2 d_1 d_2 + s_3 d_2^2\n",
        "\\end{align*}\n",
        "$$\n",
        "\n",
        "Again, it is more intuitive to use scale factors that divide the\n",
        "distance components rather than multiply them.  In the\n",
        "multidimensional world, this means that instead of multiplying by\n",
        "$\\Sigmav$ we will multiply by $\\Sigmav^{-1}$.  \n",
        "\n",
        "The normalizing constant is a bit more complicated.  It involves the\n",
        "determinant of $\\Sigmav$, which is the sum of its eigenvalues and can\n",
        "be thought of as a generalized scale factor. ([What's an eigenvalue?](https://en.wikipedia.org/wiki/Eigenvalues_and_eigenvectors)) Skim through\n",
        "[the Wikipedia entry on determinants](http://en.wikipedia.org/wiki/Determinant).  The multivariate $D$-dimensional Normal distribution is\n",
        "$$\n",
        "p(\\xv) = \\frac{1}{(2\\pi)^{d/2} |\\Sigmav |^{1/2}}\n",
        "      e^{-\\frac{1}{2} (\\xv-\\muv)^T \\Sigmav^{-1} (\\xv - \\muv)}\n",
        "$$\n",
        "where mean $\\muv$ is a $D$-dimensional column vector and covariance\n",
        "matrix $\\Sigmav$ is a $D\\times D$ symmetric matrix. ([What's a covariance matrix?](https://en.wikipedia.org/wiki/Covariance_matrix))"
      ]
    },
    {
      "cell_type": "markdown",
      "metadata": {
        "id": "0rhBcgN1pU-V"
      },
      "source": [
        "So, a Normal, or Gaussian, distribution, is a nice choice.  Its integral sums to one, its value is always nonnegative, and the derivative of its natural logarithm is very nice.\n",
        "\n",
        "\n",
        "$$\n",
        "p(\\xv) = \\frac{1}{(2\\pi)^{d/2} |\\Sigmav |^{1/2}}\n",
        "      e^{-\\frac{1}{2} (\\xv-\\muv)^T \\Sigmav^{-1} (\\xv - \\muv)}\n",
        "$$\n",
        "\n",
        "where mean $\\muv$ is a $d$-dimensional column vector and covariance\n",
        "matrix $\\Sigmav$ is a $d\\times d$ symmetric matrix."
      ]
    },
    {
      "cell_type": "markdown",
      "metadata": {
        "id": "X79r1Td0pU-V"
      },
      "source": [
        "In addition to the above reasons for concocting this distribution, it has a number of interesting analytical properties.  One is the [Central Limit Theorem](http://en.wikipedia.org/wiki/Central_limit_theorem), which states that the sum of many choices of $N$ random variables tends to a Normal distribution as $N \\rightarrow \\infty$.\n",
        "\n",
        "Let's play with this theorem in Python using the new [ipython notebook *interact* feature](http://nbviewer.ipython.org/github/ipython/ipython-in-depth/blob/master/examples/Interactive%20Widgets/Using%20Interact.ipynb) to explore the distribution of sums as the number of samples varies.   "
      ]
    },
    {
      "cell_type": "code",
      "execution_count": 51,
      "metadata": {
        "colab": {
          "base_uri": "https://localhost:8080/",
          "height": 462,
          "referenced_widgets": [
            "ce6620279bce47b5bfc55517bbe6e967",
            "7a018d9c5d774be6ab4ac41877f0a43b",
            "15d7fde9b9dc4fc88fd38cd5374633f2",
            "c536550beb9343b1966defd8b230c230",
            "79569fce95644dcab3df68bb4f7da0d0",
            "60eb90b6aa6a492d85920a6339c0fc1c",
            "21a47e285aa44cfd8ce1031b67e1828e"
          ]
        },
        "id": "9GQiH12tpU-V",
        "outputId": "fd7a85fe-4809-4a2d-8b0e-fb455db3ad7b"
      },
      "outputs": [
        {
          "data": {
            "application/vnd.jupyter.widget-view+json": {
              "model_id": "ce6620279bce47b5bfc55517bbe6e967",
              "version_major": 2,
              "version_minor": 0
            },
            "text/plain": [
              "interactive(children=(IntSlider(value=1, description='nSamples', min=1), Output()), _dom_classes=('widget-inte…"
            ]
          },
          "metadata": {},
          "output_type": "display_data"
        }
      ],
      "source": [
        "from ipywidgets import interact\n",
        "maxSamples = 100\n",
        "nSets = 10000\n",
        "values = np.random.uniform(0,1,(maxSamples,nSets))\n",
        "\n",
        "@interact(nSamples=(1,maxSamples))\n",
        "def sumOfN(nSamples=1):\n",
        "    sums = np.sum(values[:nSamples,:],axis=0)\n",
        "    plt.hist(sums, 20, facecolor='green')"
      ]
    },
    {
      "cell_type": "markdown",
      "metadata": {
        "id": "qC5pJrw4pU-V"
      },
      "source": [
        "Now how would you check our definition of $p(x)$  in python?  First, we need a function to calculate $p(x)$ given $\\mu$ and $\\Sigma$, or $p(x|\\mu, \\Sigma)$."
      ]
    },
    {
      "cell_type": "code",
      "execution_count": 52,
      "metadata": {
        "id": "X3cCmubnpU-V"
      },
      "outputs": [],
      "source": [
        "def normald(X, mu, sigma):\n",
        "    \"\"\" normald:\n",
        "       X contains samples, one per row, N x D.\n",
        "       mu is mean vector, D x 1.\n",
        "       sigma is covariance matrix, D x D.  \"\"\"\n",
        "    D = X.shape[1]\n",
        "    detSigma = sigma if D == 1 else np.linalg.det(sigma)\n",
        "    if detSigma == 0:\n",
        "        raise np.linalg.LinAlgError('normald(): Singular covariance matrix')\n",
        "    sigmaI = 1.0/sigma if D == 1 else np.linalg.inv(sigma)\n",
        "    normConstant = 1.0 / np.sqrt((2*np.pi)**D * detSigma)\n",
        "    diffv = X - mu.T # change column vector mu to be row vector\n",
        "    return normConstant * np.exp(-0.5 * np.sum(np.dot(diffv, sigmaI) * diffv, axis=1))[:,np.newaxis]"
      ]
    },
    {
      "cell_type": "code",
      "execution_count": null,
      "metadata": {
        "id": "V_WtiGyUpU-V"
      },
      "outputs": [],
      "source": [
        "normald?"
      ]
    },
    {
      "cell_type": "markdown",
      "metadata": {
        "id": "uBwoR9AGpU-V"
      },
      "source": [
        "Let's check the shapes of matrices in that last calculation.\n",
        "\n",
        "    diffv = X   -  mu.T\n",
        "        |  NxD    Dx1 |\n",
        "        |             |\n",
        "        |            1xD\n",
        "        |\n",
        "       NxD\n",
        "\n",
        "    normConstant * np.exp(-0.5 * np.sum(np.dot(diffv, sigmaI) * diffv, axis=1))[:,newaxis]\n",
        "       1x1                                      NxD    DxD  |    NxD |       |           |\n",
        "                                                            |        |       |           |\n",
        "                                                           NxD      NxD      |           |\n",
        "                                                                             |           |\n",
        "                                                                             N           |\n",
        "                                                                                        Nx1\n",
        "\n",
        "So we get $N$ answers, one for each sample.\n"
      ]
    },
    {
      "cell_type": "code",
      "execution_count": 53,
      "metadata": {
        "colab": {
          "base_uri": "https://localhost:8080/"
        },
        "id": "6Exsd-8xpU-W",
        "outputId": "61fd9639-5778-4c93-c94b-fb584fb34dbf"
      },
      "outputs": [
        {
          "data": {
            "text/plain": [
              "(1, 3)"
            ]
          },
          "execution_count": 53,
          "metadata": {},
          "output_type": "execute_result"
        }
      ],
      "source": [
        "np.array([[1,2,3]]).shape"
      ]
    },
    {
      "cell_type": "code",
      "execution_count": 54,
      "metadata": {
        "colab": {
          "base_uri": "https://localhost:8080/"
        },
        "id": "w6LBOAz1pU-W",
        "outputId": "212987a4-fac2-412e-9e59-8ffeff85c25b"
      },
      "outputs": [
        {
          "name": "stdout",
          "output_type": "stream",
          "text": [
            "[[1.  2. ]\n",
            " [3.  5. ]\n",
            " [2.1 1.9]]\n",
            "[[2]\n",
            " [2]]\n",
            "[[1 0]\n",
            " [0 1]]\n"
          ]
        },
        {
          "data": {
            "text/plain": [
              "array([[0.09653235],\n",
              "       [0.00107238],\n",
              "       [0.15757132]])"
            ]
          },
          "execution_count": 54,
          "metadata": {},
          "output_type": "execute_result"
        }
      ],
      "source": [
        "X = np.array([[1,2],[3,5],[2.1,1.9]])\n",
        "mu = np.array([[2],[2]])\n",
        "Sigma = np.array([[1,0],[0,1]])\n",
        "print(X)\n",
        "print(mu)\n",
        "print(Sigma)\n",
        "normald(X, mu, Sigma)\n"
      ]
    },
    {
      "cell_type": "markdown",
      "metadata": {
        "id": "p2TdZlLKpU-W"
      },
      "source": [
        "Okay, but to really see if it is working, let's do some plotting!  For two-dimensional samples, we need to make a surface plot in three dimensions to show the value of *normald*.  Find examples of 3D plots in [this set of example notebooks](http://nbviewer.ipython.org/github/rasbt/matplotlib-gallery/tree/master/ipynb/)."
      ]
    },
    {
      "cell_type": "code",
      "execution_count": 55,
      "metadata": {
        "colab": {
          "base_uri": "https://localhost:8080/"
        },
        "id": "BFs3nybWpU-W",
        "outputId": "452864ff-a480-4570-f13c-453ededab04b"
      },
      "outputs": [
        {
          "data": {
            "text/plain": [
              "((50, 50), (50, 50))"
            ]
          },
          "execution_count": 55,
          "metadata": {},
          "output_type": "execute_result"
        }
      ],
      "source": [
        "x = np.linspace(-5, 5, 50)\n",
        "y = x.copy()\n",
        "xmesh, ymesh = np.meshgrid(x, y)\n",
        "xmesh.shape, ymesh.shape"
      ]
    },
    {
      "cell_type": "code",
      "execution_count": 56,
      "metadata": {
        "colab": {
          "base_uri": "https://localhost:8080/"
        },
        "id": "AfX82ew2pU-W",
        "outputId": "ec2d55bb-9926-4aa0-d59a-f46d0cf1ed64"
      },
      "outputs": [
        {
          "data": {
            "text/plain": [
              "(2500, 2)"
            ]
          },
          "execution_count": 56,
          "metadata": {},
          "output_type": "execute_result"
        }
      ],
      "source": [
        "X = np.vstack((xmesh.flat, ymesh.flat)).T\n",
        "X.shape"
      ]
    },
    {
      "cell_type": "code",
      "execution_count": 58,
      "metadata": {
        "colab": {
          "base_uri": "https://localhost:8080/",
          "height": 793
        },
        "id": "huNjKHZXpU-W",
        "outputId": "ed9c614a-1fc2-43e9-d2c6-6cdfd4a55a15"
      },
      "outputs": [
        {
          "data": {
            "image/png": "[encoded data removed]",
            "text/plain": [
              "<Figure size 1500x1000 with 2 Axes>"
            ]
          },
          "metadata": {},
          "output_type": "display_data"
        }
      ],
      "source": [
        "from mpl_toolkits.mplot3d import Axes3D\n",
        "from matplotlib import cm\n",
        "\n",
        "fig = plt.figure(figsize=(15, 10))\n",
        "#ax = fig.gca(projection='3d')\n",
        "ax = fig.add_subplot(projection = '3d')\n",
        "\n",
        "# ax.set_aspect(\"equal\")\n",
        "\n",
        "mu = np.array([[2,-2]]).T\n",
        "Sigma = np.array([[1,0],[0,1]])\n",
        "\n",
        "Z = normald(X, mu, Sigma)\n",
        "Zmesh = Z.reshape(xmesh.shape)\n",
        "surface = ax.plot_surface(xmesh, ymesh, Zmesh, rstride=1, cstride=1, cmap=cm.coolwarm, linewidth=0, antialiased=False);\n",
        "\n",
        "plt.colorbar(surface, shrink=0.3);"
      ]
    },
    {
      "cell_type": "markdown",
      "metadata": {
        "id": "OL4KXXz8pU-W"
      },
      "source": [
        "Back to that Masking Problem.. What function shape were you thinking of that might fix the masking problem?\n",
        "\n",
        "[Radial basis function](https://en.wikipedia.org/wiki/Radial_basis_function)?  Good choice!  But, remember what a\n",
        "radial basis function resembles?\n",
        "\n",
        "Right again!  A Normal distribution.\n",
        "\n",
        "So, let's say we come up with the generative distribution,\n",
        "such as a Normal distribution, for\n",
        "Class $k$, called $p(\\xv|Class=k)$, or $p(\\xv|C=k)$. How do we use\n",
        "it to classify?\n",
        "\n",
        "Can just take the distribution with the highest value,\n",
        "$\\argmax{k}\\; p(\\xv|C=k)$.  But we can do better than this...think\n",
        "Bayes' Rule.\n",
        "\n",
        "Ultimately we would like to know $p(C=k|\\xv)$.  How do we\n",
        "get this from $p(\\xv|C=k)$?\n",
        "\n",
        "Remember that\n",
        "\n",
        "$$\n",
        "    \\begin{align*}\n",
        "      p(C=k,\\xv) = p(C=k|\\xv)p(\\xv) = p(\\xv|C=k)p(C=k)\n",
        "   \\end{align*}\n",
        "$$\n",
        "\n",
        "so\n",
        "\n",
        "$$\n",
        "   \\begin{align*}\n",
        "      p(C=k|\\xv) &= \\frac{p(\\xv|C=k)p(C=k)}{p(\\xv)}\\\\ \\\\\n",
        " &= \\frac{p(\\xv|C=k)p(C=k)}{\\sum_{k=1}^K p(\\xv,C=k)}\\\\ \\\\\n",
        "&= \\frac{p(\\xv|C=k)p(C=k)}{\\sum_{k=1}^K p(\\xv|C=k)p(C=k)}\n",
        "      \\end{align*}\n",
        "$$\n",
        "\n",
        "For two classes, $k\\in \\{1,2\\}$.  We will classify a sample\n",
        "$\\xv$ as Class 2 if $p(C=2|\\xv) > p(C=1|\\xv)$.  Now expand and simplify...\n",
        "\n",
        "$$\n",
        "    \\begin{align*}\n",
        "      p(C=2|\\xv) &> p(C=1|\\xv)\\\\ \\\\\n",
        "      \\frac{p(\\xv|C=2)p(C=2)}{p(\\xv)}  &>\n",
        "      \\frac{p(\\xv|C=1)p(C=1)}{p(\\xv)} \\\\ \\\\\n",
        "      p(\\xv|C=2)p(C=2)  &>   p(\\xv|C=1)p(C=1)\n",
        "    \\end{align*}\n",
        "$$\n",
        "\n",
        "Using our assumption that the generative distribution for each\n",
        "class is a Normal distribution,\n",
        "\n",
        "$$\n",
        "    \\begin{align*}\n",
        "      p(\\xv|C=2) p(C=2)  &>   p(\\xv|C=1)p(C=1) \\\\  \\\\\n",
        "      \\frac{1}{(2\\pi)^{\\frac{d}{2}} |\\Sigma_2|^{\\frac{1}{2}}}\n",
        "       e^{-\\frac{1}{2}(\\xv-\\muv_2)^T \\Sigma_2^{-1} (\\xv-\\muv_2)} p(C=2)      \n",
        "& > \\frac{1}{(2\\pi)^{\\frac{d}{2}} |\\Sigma_1|^{\\frac{1}{2}}}\n",
        "      e^{-\\frac{1}{2}(\\xv-\\muv_1)^T \\Sigma_1^{-1} (\\xv-\\muv_1)} p(C=1)\n",
        "      \\\\ \\\\\n",
        "      |\\Sigma_2|^{-\\frac{1}{2}}\n",
        "       e^{-\\frac{1}{2}(\\xv-\\muv_2)^T \\Sigma_2^{-1} (\\xv-\\muv_2)} p(C=2)\n",
        "      & > |\\Sigma_1|^{-\\frac{1}{2}}\n",
        "      e^{-\\frac{1}{2}(\\xv-\\muv_1)^T \\Sigma_1^{-1} (\\xv-\\muv_1)} p(C=1) \\\\\n",
        "    \\end{align*}\n",
        "$$\n",
        "\n",
        "Hey, there are multiplications and exponentials here.  Let's\n",
        "use logarithms!\n",
        "\n",
        "$$\n",
        "    \\begin{align*}\n",
        "      |\\Sigma_2|^{-\\frac{1}{2}}\n",
        "       e^{-\\frac{1}{2}(\\xv-\\muv_2)^T \\Sigma_2^{-1} (\\xv-\\muv_2)} p(C=2)\n",
        "& > |\\Sigma_1|^{-\\frac{1}{2}}\n",
        "      e^{-\\frac{1}{2}(\\xv-\\muv_1)^T \\Sigma_1^{-1} (\\xv-\\muv_1)} p(C=1)\n",
        "      \\\\ \\\\\n",
        "      -\\frac{1}{2}  \\ln |\\Sigma_2| +\n",
        "       -\\frac{1}{2}(\\xv-\\muv_2)^T \\Sigma_2^{-1} (\\xv-\\muv_2) + \\ln p(C=2)\n",
        "      & > -\\frac{1}{2} \\ln |\\Sigma_1| +\n",
        "      -\\frac{1}{2}(\\xv-\\muv_1)^T \\Sigma_1^{-1} (\\xv-\\muv_1) + \\ln p(C=1)\n",
        "    \\end{align*}\n",
        "$$\n",
        "\n",
        "If we define each side of this last inequality as a discriminant function, $\\delta_k(\\xv)$ for\n",
        "Class $k$, then\n",
        "\n",
        "$$\n",
        "      \\begin{align*}\n",
        "        \\delta_k(\\xv) = -\\frac{1}{2} \\ln |\\Sigma_k| -\\frac{1}{2}(\\xv-\\muv_k)^T\n",
        "\\Sigma_k^{-1} (\\xv-\\muv_k) + \\ln P(C=k)\n",
        "      \\end{align*}\n",
        "$$\n",
        "\n",
        "and the class of a new sample $\\xv$ is $\\argmax{k}\\; \\delta_k(\\xv)$.\n",
        "\n",
        "The boundary between Class 1 and Class 2 is the set of points $\\xv$\n",
        "for which $\\delta_2(\\xv) = \\delta_1(\\xv)$. This equation\n",
        "is quadratic in $\\xv$, meaning that the boundary between Class 1 and 2\n",
        "is quadratic.  We have just defined **Quadratic Discriminant Analysis,\n",
        "or QDA**.  \n"
      ]
    },
    {
      "cell_type": "markdown",
      "metadata": {
        "id": "Az7FfaL5pU-W"
      },
      "source": [
        "## QDA: Quadratic Discriminant Analysis"
      ]
    },
    {
      "cell_type": "markdown",
      "metadata": {
        "id": "7Rp_xFBPpU-W"
      },
      "source": [
        "Now, some Python fun with QDA.  First, let's make some data.  Let it be $D$ dimensional so we can vary\n",
        "the dimensionality of the data."
      ]
    },
    {
      "cell_type": "code",
      "execution_count": null,
      "metadata": {
        "id": "2cL2uo8zpU-W",
        "outputId": "5def40ab-f2cf-4ecf-8b81-bfc487ef733d"
      },
      "outputs": [
        {
          "data": {
            "text/plain": [
              "(20, 2)"
            ]
          },
          "execution_count": 197,
          "metadata": {},
          "output_type": "execute_result"
        }
      ],
      "source": [
        "D = 1  # number of components in each sample\n",
        "N = 10  # number of samples in each class\n",
        "X1 = np.random.normal(0.0, 1.0, (N, D))\n",
        "T1 = np.array([1]*N).reshape((N, 1))\n",
        "X2 = np.random.normal(4.0, 1.5, (N, D))  # wider variance\n",
        "T2 = np.array([2]*N).reshape((N, 1))\n",
        "\n",
        "data = np.hstack(( np.vstack((X1, X2)), np.vstack((T1, T2))))\n",
        "data.shape"
      ]
    },
    {
      "cell_type": "markdown",
      "metadata": {
        "id": "3dJG2QUKpU-W"
      },
      "source": [
        "Now imagine we only have *data* and don't know how it was\n",
        "generated.  We don't know the mean and covariance of the two classes.\n",
        "Data looks like"
      ]
    },
    {
      "cell_type": "code",
      "execution_count": null,
      "metadata": {
        "id": "3z-q6HP2pU-W",
        "outputId": "182699fd-3066-4d09-cf14-a328885becae"
      },
      "outputs": [
        {
          "data": {
            "text/plain": [
              "array([[-1.67317778,  1.        ],\n",
              "       [ 0.12120812,  1.        ],\n",
              "       [-0.64994499,  1.        ],\n",
              "       [ 0.56031002,  1.        ],\n",
              "       [-0.81665702,  1.        ],\n",
              "       [ 0.30727342,  1.        ],\n",
              "       [ 0.34315342,  1.        ],\n",
              "       [-1.06415672,  1.        ],\n",
              "       [-2.65331395,  1.        ],\n",
              "       [ 0.46764242,  1.        ],\n",
              "       [ 6.47320543,  2.        ],\n",
              "       [ 4.53513415,  2.        ],\n",
              "       [ 3.37240527,  2.        ],\n",
              "       [ 5.25154499,  2.        ],\n",
              "       [ 2.25000394,  2.        ],\n",
              "       [ 3.08055308,  2.        ],\n",
              "       [ 4.12968746,  2.        ],\n",
              "       [ 3.81638441,  2.        ],\n",
              "       [ 4.91319029,  2.        ],\n",
              "       [ 4.47177209,  2.        ]])"
            ]
          },
          "execution_count": 198,
          "metadata": {},
          "output_type": "execute_result"
        }
      ],
      "source": [
        "data"
      ]
    },
    {
      "cell_type": "markdown",
      "metadata": {
        "id": "Rd2hBOZjpU-W"
      },
      "source": [
        "Start as before.  Separate into input columns and target column.  The\n",
        "target is now an integer representing the class.  And let's\n",
        "standardize the inputs."
      ]
    },
    {
      "cell_type": "code",
      "execution_count": null,
      "metadata": {
        "id": "8ScMJEWepU-W"
      },
      "outputs": [],
      "source": [
        "X = data[:, 0:D]\n",
        "T = data[:, -1:]\n",
        "means = np.mean(X, 0)\n",
        "stds = np.std(X, 0)\n",
        "Xs = (X - means) / stds"
      ]
    },
    {
      "cell_type": "code",
      "execution_count": null,
      "metadata": {
        "id": "_UsU-G10pU-W",
        "outputId": "9193517f-affa-4428-edba-3016e1653a31"
      },
      "outputs": [
        {
          "data": {
            "text/plain": [
              "(array([-1.11022302e-16]), array([1.]))"
            ]
          },
          "execution_count": 200,
          "metadata": {},
          "output_type": "execute_result"
        }
      ],
      "source": [
        "Xs.mean(0), Xs.std(0)"
      ]
    },
    {
      "cell_type": "markdown",
      "metadata": {
        "id": "fF0_uDlPpU-W"
      },
      "source": [
        "Now we need a QDA discriminant function.  Here is the math again.\n",
        "\n",
        "$$\n",
        "      \\begin{align*}\n",
        "        \\delta_k(\\xv) = -\\frac{1}{2} \\ln |\\Sigma_k| -\\frac{1}{2}(\\xv-\\muv_k)^T\n",
        "\\Sigma_k^{-1} (\\xv-\\muv_k) + \\ln P(C=k)\n",
        "      \\end{align*}\n",
        "$$\n",
        "\n",
        "Let's consider ways to calculate that $\\Sigma_k^{-1}$."
      ]
    },
    {
      "cell_type": "code",
      "execution_count": null,
      "metadata": {
        "id": "FGS39lB5pU-X",
        "outputId": "3d506f1c-8703-4b2f-9b37-b47ab17e4daa"
      },
      "outputs": [
        {
          "data": {
            "text/plain": [
              "array([[1., 0.],\n",
              "       [0., 1.]])"
            ]
          },
          "execution_count": 201,
          "metadata": {},
          "output_type": "execute_result"
        }
      ],
      "source": [
        "Sigma = np.array([[1, 2], [2, 1]])\n",
        "Sigma @ np.linalg.inv(Sigma)"
      ]
    },
    {
      "cell_type": "code",
      "execution_count": null,
      "metadata": {
        "id": "x7KIkXZ0pU-X",
        "outputId": "23c9459f-38fd-4d6b-8f19-9cbbbd7a4088"
      },
      "outputs": [
        {
          "data": {
            "text/plain": [
              "array([[ 1.0000000e+00, -4.4408921e-16],\n",
              "       [ 0.0000000e+00,  1.0000000e+00]])"
            ]
          },
          "execution_count": 202,
          "metadata": {},
          "output_type": "execute_result"
        }
      ],
      "source": [
        "Sigma @ np.linalg.pinv(Sigma)"
      ]
    },
    {
      "cell_type": "code",
      "execution_count": null,
      "metadata": {
        "id": "5iTvbffapU-X",
        "outputId": "6a3629a4-a1cb-4c0d-9c40-a782c88facb9"
      },
      "outputs": [
        {
          "data": {
            "text/plain": [
              "array([[1, 2],\n",
              "       [1, 2]])"
            ]
          },
          "execution_count": 203,
          "metadata": {},
          "output_type": "execute_result"
        }
      ],
      "source": [
        "Sigma = np.array([[1, 2], [1, 2]])\n",
        "Sigma"
      ]
    },
    {
      "cell_type": "code",
      "execution_count": null,
      "metadata": {
        "id": "yzhrTrQbpU-X",
        "outputId": "aae10027-6864-4a9c-cdd5-accce00eb62e"
      },
      "outputs": [
        {
          "ename": "LinAlgError",
          "evalue": "Singular matrix",
          "output_type": "error",
          "traceback": [
            "\u001b[1;31m---------------------------------------------------------------------------\u001b[0m",
            "\u001b[1;31mLinAlgError\u001b[0m                               Traceback (most recent call last)",
            "\u001b[1;32m<ipython-input-204-67b6bced86d8>\u001b[0m in \u001b[0;36m<module>\u001b[1;34m\u001b[0m\n\u001b[1;32m----> 1\u001b[1;33m \u001b[0mnp\u001b[0m\u001b[1;33m.\u001b[0m\u001b[0mlinalg\u001b[0m\u001b[1;33m.\u001b[0m\u001b[0minv\u001b[0m\u001b[1;33m(\u001b[0m\u001b[0mSigma\u001b[0m\u001b[1;33m)\u001b[0m\u001b[1;33m\u001b[0m\u001b[1;33m\u001b[0m\u001b[0m\n\u001b[0m",
            "\u001b[1;32m<__array_function__ internals>\u001b[0m in \u001b[0;36minv\u001b[1;34m(*args, **kwargs)\u001b[0m\n",
            "\u001b[1;32m~\\miniconda3\\lib\\site-packages\\numpy\\linalg\\linalg.py\u001b[0m in \u001b[0;36minv\u001b[1;34m(a)\u001b[0m\n\u001b[0;32m    544\u001b[0m     \u001b[0msignature\u001b[0m \u001b[1;33m=\u001b[0m \u001b[1;34m'D->D'\u001b[0m \u001b[1;32mif\u001b[0m \u001b[0misComplexType\u001b[0m\u001b[1;33m(\u001b[0m\u001b[0mt\u001b[0m\u001b[1;33m)\u001b[0m \u001b[1;32melse\u001b[0m \u001b[1;34m'd->d'\u001b[0m\u001b[1;33m\u001b[0m\u001b[1;33m\u001b[0m\u001b[0m\n\u001b[0;32m    545\u001b[0m     \u001b[0mextobj\u001b[0m \u001b[1;33m=\u001b[0m \u001b[0mget_linalg_error_extobj\u001b[0m\u001b[1;33m(\u001b[0m\u001b[0m_raise_linalgerror_singular\u001b[0m\u001b[1;33m)\u001b[0m\u001b[1;33m\u001b[0m\u001b[1;33m\u001b[0m\u001b[0m\n\u001b[1;32m--> 546\u001b[1;33m     \u001b[0mainv\u001b[0m \u001b[1;33m=\u001b[0m \u001b[0m_umath_linalg\u001b[0m\u001b[1;33m.\u001b[0m\u001b[0minv\u001b[0m\u001b[1;33m(\u001b[0m\u001b[0ma\u001b[0m\u001b[1;33m,\u001b[0m \u001b[0msignature\u001b[0m\u001b[1;33m=\u001b[0m\u001b[0msignature\u001b[0m\u001b[1;33m,\u001b[0m \u001b[0mextobj\u001b[0m\u001b[1;33m=\u001b[0m\u001b[0mextobj\u001b[0m\u001b[1;33m)\u001b[0m\u001b[1;33m\u001b[0m\u001b[1;33m\u001b[0m\u001b[0m\n\u001b[0m\u001b[0;32m    547\u001b[0m     \u001b[1;32mreturn\u001b[0m \u001b[0mwrap\u001b[0m\u001b[1;33m(\u001b[0m\u001b[0mainv\u001b[0m\u001b[1;33m.\u001b[0m\u001b[0mastype\u001b[0m\u001b[1;33m(\u001b[0m\u001b[0mresult_t\u001b[0m\u001b[1;33m,\u001b[0m \u001b[0mcopy\u001b[0m\u001b[1;33m=\u001b[0m\u001b[1;32mFalse\u001b[0m\u001b[1;33m)\u001b[0m\u001b[1;33m)\u001b[0m\u001b[1;33m\u001b[0m\u001b[1;33m\u001b[0m\u001b[0m\n\u001b[0;32m    548\u001b[0m \u001b[1;33m\u001b[0m\u001b[0m\n",
            "\u001b[1;32m~\\miniconda3\\lib\\site-packages\\numpy\\linalg\\linalg.py\u001b[0m in \u001b[0;36m_raise_linalgerror_singular\u001b[1;34m(err, flag)\u001b[0m\n\u001b[0;32m     86\u001b[0m \u001b[1;33m\u001b[0m\u001b[0m\n\u001b[0;32m     87\u001b[0m \u001b[1;32mdef\u001b[0m \u001b[0m_raise_linalgerror_singular\u001b[0m\u001b[1;33m(\u001b[0m\u001b[0merr\u001b[0m\u001b[1;33m,\u001b[0m \u001b[0mflag\u001b[0m\u001b[1;33m)\u001b[0m\u001b[1;33m:\u001b[0m\u001b[1;33m\u001b[0m\u001b[1;33m\u001b[0m\u001b[0m\n\u001b[1;32m---> 88\u001b[1;33m     \u001b[1;32mraise\u001b[0m \u001b[0mLinAlgError\u001b[0m\u001b[1;33m(\u001b[0m\u001b[1;34m\"Singular matrix\"\u001b[0m\u001b[1;33m)\u001b[0m\u001b[1;33m\u001b[0m\u001b[1;33m\u001b[0m\u001b[0m\n\u001b[0m\u001b[0;32m     89\u001b[0m \u001b[1;33m\u001b[0m\u001b[0m\n\u001b[0;32m     90\u001b[0m \u001b[1;32mdef\u001b[0m \u001b[0m_raise_linalgerror_nonposdef\u001b[0m\u001b[1;33m(\u001b[0m\u001b[0merr\u001b[0m\u001b[1;33m,\u001b[0m \u001b[0mflag\u001b[0m\u001b[1;33m)\u001b[0m\u001b[1;33m:\u001b[0m\u001b[1;33m\u001b[0m\u001b[1;33m\u001b[0m\u001b[0m\n",
            "\u001b[1;31mLinAlgError\u001b[0m: Singular matrix"
          ]
        }
      ],
      "source": [
        "np.linalg.inv(Sigma)"
      ]
    },
    {
      "cell_type": "code",
      "execution_count": null,
      "metadata": {
        "id": "-NiKXlJSpU-X"
      },
      "outputs": [],
      "source": [
        "np.linalg.pinv?"
      ]
    },
    {
      "cell_type": "code",
      "execution_count": null,
      "metadata": {
        "id": "5bGgV4AMpU-X",
        "outputId": "0ebd924c-7039-423f-dac7-ebc5f492691d"
      },
      "outputs": [
        {
          "data": {
            "text/plain": [
              "array([[0.5, 0.5],\n",
              "       [0.5, 0.5]])"
            ]
          },
          "execution_count": 206,
          "metadata": {},
          "output_type": "execute_result"
        }
      ],
      "source": [
        "Sigma @ np.linalg.pinv(Sigma)"
      ]
    },
    {
      "cell_type": "code",
      "execution_count": null,
      "metadata": {
        "id": "wfuZEWDzpU-X"
      },
      "outputs": [],
      "source": [
        "def discQDA(X, means, stds, mu, Sigma, prior):\n",
        "    Xc = (X - means) / stds - mu\n",
        "    if Sigma.size == 1:\n",
        "        Sigma = np.asarray(Sigma).reshape((1,1))\n",
        "    det = np.linalg.det(Sigma)\n",
        "    # if det == 0:\n",
        "    #   raise np.linalg.LinAlgError('discQDA(): Singular covariance matrix')\n",
        "    SigmaInv = np.linalg.pinv(Sigma)     # pinv in case Sigma is singular\n",
        "    return -0.5 * np.log(det) \\\n",
        "           - 0.5 * np.sum(np.dot(Xc, SigmaInv) * Xc, axis=1).reshape((-1,1)) \\\n",
        "           + np.log(prior)"
      ]
    },
    {
      "cell_type": "markdown",
      "metadata": {
        "id": "fcqD7sm9pU-X"
      },
      "source": [
        "To use this, we must calculate the mean, covariance, and prior\n",
        "probabililty for each class.\n",
        "What about $p(C=k)$, which is the prior probability\n",
        "distribution of Class $k$?  If we have no prior belief that one\n",
        "class is more likely than any other,\n",
        "\n",
        "$$\n",
        "\\begin{align*}\n",
        "p(C=k) &= \\frac{N_k}{N}\n",
        "\\end{align*}\n",
        "$$\n",
        "\n",
        "where $N$ is the total number of samples from all classes.\n",
        "\n",
        "We are still pretending we do not know how the data was generated."
      ]
    },
    {
      "cell_type": "code",
      "execution_count": null,
      "metadata": {
        "id": "V_xXfrljpU-X",
        "outputId": "bb26b2fa-43ff-45c8-d45b-bdf97214742b"
      },
      "outputs": [
        {
          "data": {
            "text/plain": [
              "array([ True,  True,  True,  True,  True,  True,  True,  True,  True,\n",
              "        True, False, False, False, False, False, False, False, False,\n",
              "       False, False])"
            ]
          },
          "execution_count": 210,
          "metadata": {},
          "output_type": "execute_result"
        }
      ],
      "source": [
        "(T==1).reshape((-1))"
      ]
    },
    {
      "cell_type": "code",
      "execution_count": null,
      "metadata": {
        "id": "DnyFkE4EpU-X",
        "outputId": "77e14ff2-ef28-4b1f-85c0-e98bbab2d5d3"
      },
      "outputs": [
        {
          "data": {
            "text/plain": [
              "(10, 10, 20, 0.5, 0.5)"
            ]
          },
          "execution_count": 211,
          "metadata": {},
          "output_type": "execute_result"
        }
      ],
      "source": [
        "class1rows = (T==1).reshape((-1))\n",
        "class2rows = (T==2).reshape((-1))\n",
        "\n",
        "mu1 = np.mean(Xs[class1rows, :], axis=0)\n",
        "mu2 = np.mean(Xs[class2rows, :], axis=0)\n",
        "\n",
        "Sigma1 = np.cov(Xs[class1rows, :].T)\n",
        "Sigma2 = np.cov(Xs[class2rows, :].T)\n",
        "\n",
        "N1 = np.sum(class1rows)\n",
        "N2 = np.sum(class2rows)\n",
        "N = len(T)\n",
        "prior1 = N1 / float(N)\n",
        "prior2 = N2 / float(N)\n",
        "N1, N2, N, prior1, prior2"
      ]
    },
    {
      "cell_type": "code",
      "execution_count": null,
      "metadata": {
        "id": "S4w-5tHdpU-X",
        "outputId": "4387849e-2ade-4bc4-8489-170f530c6934"
      },
      "outputs": [
        {
          "data": {
            "text/plain": [
              "array(0.16865738)"
            ]
          },
          "execution_count": 212,
          "metadata": {},
          "output_type": "execute_result"
        }
      ],
      "source": [
        "Sigma1"
      ]
    },
    {
      "cell_type": "markdown",
      "metadata": {
        "id": "ZDUMkqOKpU-X"
      },
      "source": [
        "Now let's apply our discriminant function to some new data."
      ]
    },
    {
      "cell_type": "code",
      "execution_count": null,
      "metadata": {
        "id": "beyKJQjZpU-X"
      },
      "outputs": [],
      "source": [
        "nNew = 100\n",
        "newData = np.linspace(-5.0, 10.0, nNew).repeat(D).reshape((nNew, D))\n",
        "\n",
        "d1 = discQDA(newData, means, stds, mu1, Sigma1, prior1)\n",
        "d2 = discQDA(newData, means, stds, mu2, Sigma2, prior2)"
      ]
    },
    {
      "cell_type": "code",
      "execution_count": null,
      "metadata": {
        "id": "EfBf9WLOpU-X",
        "outputId": "2b17b7cd-0a6b-427a-add9-0f8fe8824b67"
      },
      "outputs": [
        {
          "data": {
            "text/plain": [
              "((100, 1), (100, 1))"
            ]
          },
          "execution_count": 214,
          "metadata": {},
          "output_type": "execute_result"
        }
      ],
      "source": [
        "d1.shape, d2.shape"
      ]
    },
    {
      "cell_type": "markdown",
      "metadata": {
        "id": "8W-rj0empU-X"
      },
      "source": [
        "and look at it.  If data is more than one dimensional, let's just plot\n",
        "with respect to the first component.\n",
        "\n",
        "To obtain the value of the Normal distribution value for a given data sample, we have two choices:\n",
        "\n",
        "   1. Start with the discriminant function value and transform it to the full Normal distribution value,\n",
        "   2. Use our implementation of the Normal distibution directly."
      ]
    },
    {
      "cell_type": "code",
      "execution_count": null,
      "metadata": {
        "id": "0Ap34fEepU-Y",
        "outputId": "b3dbeb50-ad14-4b79-b1e2-bfd978870f97"
      },
      "outputs": [
        {
          "data": {
            "text/plain": [
              "(array([-0.9105279]), array([0.9105279]), array(0.16865738), array(0.21120694))"
            ]
          },
          "execution_count": 215,
          "metadata": {},
          "output_type": "execute_result"
        }
      ],
      "source": [
        "mu1, mu2, Sigma1, Sigma2"
      ]
    },
    {
      "cell_type": "code",
      "execution_count": null,
      "metadata": {
        "id": "xmDlv0lApU-Y"
      },
      "outputs": [],
      "source": [
        "def normald(X, mu, sigma):\n",
        "    \"\"\" normald:\n",
        "       X contains samples, one per row, N x D.\n",
        "       mu is mean vector, D x 1.\n",
        "       sigma is covariance matrix, D x D.  \"\"\"\n",
        "    D = X.shape[1]\n",
        "    detSigma = sigma if D == 1 else np.linalg.det(sigma)\n",
        "    if detSigma == 0:\n",
        "        raise np.linalg.LinAlgError('normald(): Singular covariance matrix')\n",
        "    sigmaI = 1.0/sigma if D == 1 else np.linalg.inv(sigma)\n",
        "    normConstant = 1.0 / np.sqrt((2*np.pi)**D * detSigma)\n",
        "    diffv = X - mu.T # change column vector mu to be row vector\n",
        "    return normConstant * np.exp(-0.5 * np.sum(np.dot(diffv, sigmaI) * diffv, axis=1))[:,np.newaxis]"
      ]
    },
    {
      "cell_type": "code",
      "execution_count": null,
      "metadata": {
        "id": "mWOPl6k2pU-Y",
        "outputId": "7c65acb7-dde3-4008-fd8b-b129fb26b75f"
      },
      "outputs": [
        {
          "data": {
            "text/plain": [
              "(array([-0.9105279]), array([0.9105279]))"
            ]
          },
          "execution_count": 217,
          "metadata": {},
          "output_type": "execute_result"
        }
      ],
      "source": [
        "mu1, mu2"
      ]
    },
    {
      "cell_type": "code",
      "execution_count": null,
      "metadata": {
        "id": "Vdaata-ppU-Y",
        "outputId": "27e4512f-61f0-4eb0-a208-299a49ac91f7"
      },
      "outputs": [
        {
          "data": {
            "image/png": "[encoded data removed]",
            "text/plain": [
              "<Figure size 720x720 with 3 Axes>"
            ]
          },
          "metadata": {
            "needs_background": "light"
          },
          "output_type": "display_data"
        }
      ],
      "source": [
        "plt.figure(figsize=(10, 10))\n",
        "plt.subplot(3, 1, 1)\n",
        "plt.plot(newData[:, 0],np.hstack((d1, d2)))\n",
        "plt.ylabel(\"QDA Discriminant Functions\")\n",
        "\n",
        "# Plot generative distributions  p(x | Class=k)  starting with discriminant functions\n",
        "plt.subplot(3, 1, 2)\n",
        "\n",
        "probs = np.exp( np.hstack((d1, d2)) - 0.5  *D * np.log(2 * np.pi)  - np.log(np.array([[prior1, prior2]])))\n",
        "\n",
        "plt.plot(newData[:,0], probs)\n",
        "plt.ylabel(\"QDA P(x|Class=k)\\n from disc funcs\", multialignment=\"center\")\n",
        "\n",
        "# Plot generative distributions  p(x | Class=k)  using normald    ERROR HERE\n",
        "plt.subplot(3, 1 ,3)\n",
        "newDataS = (newData - means) / stds\n",
        "\n",
        "probs = np.hstack((normald(newDataS, mu1, Sigma1),\n",
        "                   normald(newDataS, mu2, Sigma2)))\n",
        "plt.plot(newData, probs)\n",
        "plt.ylabel(\"QDA P(x|Class=k)\\n using normald\", multialignment=\"center\");\n"
      ]
    },
    {
      "cell_type": "markdown",
      "metadata": {
        "id": "3HSoc3XmpU-Y"
      },
      "source": [
        "Since there are only 10 training samples per class, results will\n",
        "change a bit from run to run."
      ]
    },
    {
      "cell_type": "markdown",
      "metadata": {
        "id": "_9Qd1ENspU-Y"
      },
      "source": [
        "But, what if we have more dimensions than samples?  Setting $D=20$,\n",
        "with $N=10$, results in"
      ]
    },
    {
      "cell_type": "code",
      "execution_count": null,
      "metadata": {
        "id": "PwsRNibGpU-Y",
        "outputId": "206849e8-18d4-477f-e691-f67297f242d0"
      },
      "outputs": [
        {
          "name": "stderr",
          "output_type": "stream",
          "text": [
            "C:\\Users\\signal\\miniconda3\\lib\\site-packages\\ipykernel_launcher.py:11: RuntimeWarning: invalid value encountered in log\n",
            "  # This is added back by InteractiveShellApp.init_path()\n",
            "C:\\Users\\signal\\miniconda3\\lib\\site-packages\\ipykernel_launcher.py:11: RuntimeWarning: invalid value encountered in sqrt\n",
            "  # This is added back by InteractiveShellApp.init_path()\n",
            "C:\\Users\\signal\\miniconda3\\lib\\site-packages\\ipykernel_launcher.py:13: RuntimeWarning: overflow encountered in exp\n",
            "  del sys.path[0]\n"
          ]
        },
        {
          "data": {
            "image/png": "[encoded data removed]",
            "text/plain": [
              "<Figure size 720x720 with 3 Axes>"
            ]
          },
          "metadata": {
            "needs_background": "light"
          },
          "output_type": "display_data"
        }
      ],
      "source": [
        "D = 20  # number of components in each sample\n",
        "N = 10  # number of samples in each class\n",
        "X1 = np.random.normal(0.0, 1.2, (N, D))\n",
        "T1 = np.array([1]*N).reshape((N, 1))\n",
        "X2 = np.random.normal(4.0, 1.8, (N, D))  # wider variance\n",
        "T2 = np.array([2]*N).reshape((N, 1))\n",
        "\n",
        "data = np.hstack(( np.vstack((X1, X2)), np.vstack((T1, T2))))\n",
        "X = data[:, 0:D]\n",
        "T = data[:, -1]\n",
        "means, stds = np.mean(X,0), np.std(X,0)\n",
        "Xs = (X-means)/stds\n",
        "\n",
        "class1rows = T==1\n",
        "class2rows = T==2\n",
        "\n",
        "mu1 = np.mean(Xs[class1rows,:],axis=0)\n",
        "mu2 = np.mean(Xs[class2rows,:],axis=0)\n",
        "\n",
        "Sigma1 = np.cov(Xs[class1rows,:].T)\n",
        "Sigma2 = np.cov(Xs[class2rows,:].T)\n",
        "\n",
        "N1 = np.sum(class1rows)\n",
        "N2 = np.sum(class2rows)\n",
        "N = len(T)\n",
        "prior1 = N1 / float(N)\n",
        "prior2 = N2 / float(N)\n",
        "\n",
        "nNew = 100\n",
        "newData = np.linspace(-5.0,10.0,nNew).repeat(D).reshape((nNew,D))\n",
        "\n",
        "d1 = discQDA(newData,means,stds,mu1,Sigma1,prior1)\n",
        "d2 = discQDA(newData,means,stds,mu2,Sigma2,prior2)\n",
        "\n",
        "plt.figure(figsize=(10,10))\n",
        "plt.subplot(3,1,1)\n",
        "plt.plot(newData[:,0],np.hstack((d1,d2)))\n",
        "plt.ylabel(\"QDA Discriminant Functions\")\n",
        "# Plot generative distributions  p(x | Class=k)  starting with discriminant functions\n",
        "plt.subplot(3,1,2)\n",
        "probs = np.exp( np.hstack((d1,d2)) - 0.5*D*np.log(2*np.pi) - np.log(np.array([[prior1,prior2]])))\n",
        "plt.plot(newData[:,0],probs)\n",
        "plt.ylabel(\"QDA P(x|Class=k)\\n from disc funcs\", multialignment=\"center\")\n",
        "\n",
        "# Plot generative distributions  p(x | Class=k)  using normald\n",
        "plt.subplot(3,1,3)\n",
        "newDataS = (newData-means)/stds\n",
        "probs = np.hstack((normald(newDataS,mu1,Sigma1),\n",
        "                   normald(newDataS,mu2,Sigma2)))\n",
        "plt.plot(newData[:,0],probs)\n",
        "plt.ylabel(\"QDA P(x|Class=k)\\n using normald\", multialignment=\"center\");"
      ]
    },
    {
      "cell_type": "markdown",
      "metadata": {
        "id": "PGvOviMxpU-Y"
      },
      "source": [
        "What happened?  $\\Sigma$ is very close to singular, meaning columns of $\\Xv$ are\n",
        "close to collinear.  The determinant of a singular matrix is zero and its\n",
        "inverse doesn't exist.  We will discuss ways of handling this in the\n",
        "future."
      ]
    },
    {
      "cell_type": "markdown",
      "metadata": {
        "id": "rSSmyZmVpU-Y"
      },
      "source": [
        "Assuming a single Normal distribution as the model of data from each class does\n",
        "not seem to lead to an exceedingly complex model.  But, how many\n",
        "parameters are there in the mean and covariance matrix, if data is $d$-dimensional?\n",
        "\n",
        "   - Mean has $d$ components.\n",
        "   - Covariance matrix has $d^2$ components.  If $d = 100$, the covariance matrix has 10,000 parameters.  Whoa!\n",
        "\n",
        "Actually the covariance matrix is symmetric, so it only has $\\frac{d^2}{2} + \\frac{d}{2} =  \\frac{d(d+1)}{2}$ unique values.  Still a lot.  And we have one for each class, so total number of parameters, including mean, is $K(d + \\frac{d(d+1)}{2})$.\n",
        "\n",
        "What if the data distribution is under-sampled?\n",
        "\n",
        "The class boundary will now lead to many errors.\n",
        "\n",
        "How can we reduce the chance of overfitting?\n",
        "Need to remove flexibility from the Normal distribution model.  How?\n",
        "\n",
        "Could restrict all covariance matrices to be diagonal.  The\n",
        "ellipses would be parallel to the axes.  Wouldn't work well if\n",
        "features are correlated.\n",
        "\n",
        "Could force all classes to have the same covariance matrix by\n",
        "averaging the covariance matrices from every class.\n",
        "\n",
        "Seems like a  bad idea, but at least we are using all of the\n",
        "data samples to come up with a covariance matrix.\n",
        "\n",
        "If we use the average of the\n",
        "covariance matrix for each class, weighted by the fraction of\n",
        "samples from that class, we would see a better result than using unique covariance matrices."
      ]
    },
    {
      "cell_type": "markdown",
      "metadata": {
        "id": "iez7i6lfpU-Y"
      },
      "source": [
        "Remember our discriminant function.\n",
        "\n",
        "$$\n",
        "      \\begin{align*}\n",
        "        \\delta_k(\\xv) = -\\frac{1}{2} \\ln |\\Sigma_k| -\\frac{1}{2}(\\xv-\\muv_k)^T\n",
        "        \\Sigma_k^{-1} (\\xv-\\muv_k) + \\ln P(C=k)\n",
        "      \\end{align*}\n",
        "$$\n",
        "\n",
        "When we compare discriminant functions, $\\delta_2(\\xv) > \\delta_1(\\xv)$, and use the same\n",
        "covariance matrix $\\Sigmav$ for every class, we get\n",
        "\n",
        "$$\n",
        "      \\begin{align*}\n",
        "        -\\frac{1}{2} & \\ln |\\Sigma| +\n",
        "        -\\frac{1}{2}(\\xv-\\muv_2)^T \\Sigma^{-1} (\\xv-\\muv_2) + \\ln p(C=2)\n",
        "        \\\\ & > -\\frac{1}{2} \\ln |\\Sigma| +\n",
        "        -\\frac{1}{2}(\\xv-\\muv_1)^T \\Sigma^{-1} (\\xv-\\muv_1) + \\ln p(C=1)\n",
        "      \\end{align*}\n",
        "$$\n",
        "\n",
        "which can be simplified to\n",
        "\n",
        "$$\n",
        "      \\begin{align*}\n",
        "        -\\frac{1}{2}(\\xv-\\muv_2)^T \\Sigma^{-1} (\\xv-\\muv_2) + \\ln p(C=2)\n",
        "        & > -\\frac{1}{2}(\\xv-\\muv_1)^T \\Sigma^{-1} (\\xv-\\muv_1) + \\ln p(C=1) \\\\\n",
        "        \\xv^T \\Sigmav^{-1} \\muv_1 - \\frac{1}{2}\\muv_1^T \\Sigmav^{-1} \\muv_1 + \\log\n",
        "        P(C=1)\n",
        "        &> \\xv^T \\Sigmav^{-1} \\muv_2 - \\frac{1}{2}\\muv_2^T \\Sigmav^{-1} \\muv_2\n",
        "        + \\log P(C=2)\n",
        "      \\end{align*}\n",
        "$$\n",
        "\n",
        "\n",
        "So, our discriminant function has become\n",
        "\n",
        "$$\n",
        "      \\begin{align*}\n",
        "        \\delta_k(\\xv) = \\xv^T \\Sigmav^{-1} \\muv_k - \\frac{1}{2}\\muv_k^T \\Sigmav^{-1} \\muv_k + \\log\n",
        "        P(C=k)\n",
        "      \\end{align*}\n",
        "$$\n",
        "\n",
        "This is linear in $\\xv$, hence and can be written as\n",
        "\n",
        "$$\n",
        "      \\begin{align*}\n",
        "        \\delta_k(\\xv) = \\xv^T \\wv_k + \\text{constant}_k\n",
        "      \\end{align*}\n",
        "$$\n",
        "\n",
        "\n",
        "So, using Normal distributions as generative models and\n",
        "restricting the covariance matrices to all be the weighted average\n",
        "of class covariance matrices\n",
        "\n",
        "$$\n",
        "\\begin{align*}\n",
        "\\Sigmav = \\sum_{k=1}^K \\frac{N_k}{N} \\Sigmav_k\n",
        "\\end{align*}\n",
        "$$\n",
        "\n",
        "results in a linear boundary.  This\n",
        "approach is called Linear Discriminant Analysis (LDA).\n",
        "\n",
        "Both QDA and LDA are based on Normal distributions for\n",
        "modeling the data samples in each class.\n",
        "\n",
        "QDA is more flexible, but LDA often works better in\n",
        "practice.  When?\n",
        "\n",
        "   - Undersampled data\n",
        "     - Small number of samples\n",
        "     - High dimensional data\n"
      ]
    },
    {
      "cell_type": "markdown",
      "metadata": {
        "id": "vl2QFPSEpU-Y"
      },
      "source": [
        "## Example"
      ]
    },
    {
      "cell_type": "markdown",
      "metadata": {
        "id": "qnU5Ujm3pU-Y"
      },
      "source": [
        "Let's play with the parkinsons data and classify it using QDA.\n",
        "\n",
        "Calculate means and covariance matrices"
      ]
    },
    {
      "cell_type": "code",
      "execution_count": null,
      "metadata": {
        "id": "QVUl5gQipU-Y",
        "outputId": "e210237b-852a-4e69-8d41-25d0592d8115"
      },
      "outputs": [
        {
          "data": {
            "text/plain": [
              "((156, 22), (156, 1), (39, 22), (39, 1))"
            ]
          },
          "execution_count": 221,
          "metadata": {},
          "output_type": "execute_result"
        }
      ],
      "source": [
        "Xtrain.shape, Ttrain.shape, Xtest.shape, Ttest.shape"
      ]
    },
    {
      "cell_type": "code",
      "execution_count": null,
      "metadata": {
        "id": "AypyjHgHpU-Y"
      },
      "outputs": [],
      "source": [
        "# Fit generative models (Normal distributions) to each class\n",
        "means,stds = np.mean(Xtrain, 0), np.std(Xtrain, 0)\n",
        "Xtrains = (Xtrain - means) / stds\n",
        "\n",
        "Ttr = (Ttrain==0).reshape((-1))\n",
        "mu1 = np.mean(Xtrains[Ttr, :], axis=0)\n",
        "cov1 = np.cov(Xtrains[Ttr, :].T)\n",
        "Ttr = (Ttrain.ravel()==1).reshape((-1))\n",
        "mu2 = np.mean(Xtrains[Ttr, :],axis=0)\n",
        "cov2 = np.cov(Xtrains[Ttr, :].T)"
      ]
    },
    {
      "cell_type": "code",
      "execution_count": null,
      "metadata": {
        "id": "j-1YJObypU-Y",
        "outputId": "184167ac-1693-43cb-e7ef-1cccbe1dfc81"
      },
      "outputs": [
        {
          "name": "stdout",
          "output_type": "stream",
          "text": [
            "Percent correct: Train 98.07692307692307 Test 87.17948717948718\n"
          ]
        }
      ],
      "source": [
        "d1 = discQDA(Xtrain, means, stds, mu1, cov1, float(nHealthy)/(nHealthy+nPark))\n",
        "d2 = discQDA(Xtrain, means, stds, mu2, cov2, float(nPark)/(nHealthy+nPark))\n",
        "predictedTrain = np.argmax(np.hstack((d1, d2)), axis=1)\n",
        "\n",
        "d1t = discQDA(Xtest, means, stds, mu1, cov1, float(nHealthy)/(nHealthy+nPark))\n",
        "d2t = discQDA(Xtest, means, stds, mu2, cov2, float(nPark)/(nHealthy+nPark))\n",
        "predictedTest = np.argmax(np.hstack((d1t, d2t)), axis=1)\n",
        "\n",
        "def percentCorrect(p, t):\n",
        "    return np.sum(p.ravel()==t.ravel()) / float(len(t)) * 100\n",
        "\n",
        "print('Percent correct: Train', percentCorrect(predictedTrain,Ttrain), 'Test', percentCorrect(predictedTest,Ttest))"
      ]
    },
    {
      "cell_type": "markdown",
      "metadata": {
        "id": "KE9AzA6OpU-Z"
      },
      "source": [
        "Let's write a function to do this and run it multiple times (for different divisions into training and testing sets)."
      ]
    },
    {
      "cell_type": "code",
      "execution_count": null,
      "metadata": {
        "id": "CKspqDqupU-Z"
      },
      "outputs": [],
      "source": [
        "def runPark(filename, trainFraction):\n",
        "    f = open(filename,\"r\")\n",
        "    header = f.readline()\n",
        "    names = header.strip().split(',')[1:]\n",
        "\n",
        "    data = np.loadtxt(f ,delimiter=',', usecols=1+np.arange(23))\n",
        "\n",
        "    targetColumn = names.index(\"status\")\n",
        "    XColumns = np.arange(23)\n",
        "    XColumns = np.delete(XColumns, targetColumn)\n",
        "    X = data[:, XColumns]\n",
        "    T = data[:, targetColumn].reshape((-1,1)) # to keep 2-d matrix form\n",
        "    names.remove(\"status\")\n",
        "\n",
        "    healthyI,_ = np.where(T == 0)\n",
        "    parkI,_ = np.where(T == 1)\n",
        "    healthyI = np.random.permutation(healthyI)\n",
        "    parkI = np.random.permutation(parkI)\n",
        "\n",
        "    nHealthy = round(trainFraction*len(healthyI))\n",
        "    nPark = round(trainf*len(parkI))\n",
        "    rowsTrain = np.hstack((healthyI[:nHealthy], parkI[:nPark]))\n",
        "    Xtrain = X[rowsTrain, :]\n",
        "    Ttrain = T[rowsTrain, :]\n",
        "    rowsTest = np.hstack((healthyI[nHealthy:], parkI[nPark:]))\n",
        "    Xtest =  X[rowsTest, :]\n",
        "    Ttest =  T[rowsTest, :]\n",
        "\n",
        "    means, stds = np.mean(Xtrain, 0), np.std(Xtrain, 0)\n",
        "    Xtrains = (Xtrain-means)/stds\n",
        "\n",
        "    Ttr = (Ttrain==0).reshape((-1))\n",
        "    mu1 = np.mean(Xtrains[Ttr, :], axis=0)\n",
        "    cov1 = np.cov(Xtrains[Ttr, :].T)\n",
        "    Ttr = (Ttrain.ravel()==1).reshape((-1))\n",
        "    mu2 = np.mean(Xtrains[Ttr, :],axis=0)\n",
        "    cov2 = np.cov(Xtrains[Ttr, :].T)\n",
        "\n",
        "    d1 = discQDA(Xtrain, means, stds, mu1, cov1, float(nHealthy)/(nHealthy+nPark))\n",
        "    d2 = discQDA(Xtrain, means, stds, mu2, cov2, float(nPark)/(nHealthy+nPark))\n",
        "    predictedTrain = np.argmax(np.hstack((d1, d2)), axis=1)\n",
        "\n",
        "    d1t = discQDA(Xtest, means, stds, mu1, cov1, float(nHealthy)/(nHealthy+nPark))\n",
        "    d2t = discQDA(Xtest, means, stds, mu2, cov2, float(nPark)/(nHealthy+nPark))\n",
        "    predictedTest = np.argmax(np.hstack((d1t, d2t)), axis=1)\n",
        "\n",
        "    print('Percent correct: Train', percentCorrect(predictedTrain, Ttrain), 'Test', percentCorrect(predictedTest,Ttest))\n",
        "\n",
        "def percentCorrect(p, t):\n",
        "    return np.sum(p.ravel()==t.ravel()) / float(len(t)) * 100"
      ]
    },
    {
      "cell_type": "code",
      "execution_count": null,
      "metadata": {
        "id": "DXxfX7zvpU-Z",
        "outputId": "ea0a06e4-60ee-46bb-adaf-9106348e46cf"
      },
      "outputs": [
        {
          "name": "stdout",
          "output_type": "stream",
          "text": [
            "Percent correct: Train 98.07692307692307 Test 87.17948717948718\n"
          ]
        }
      ],
      "source": [
        "runPark('parkinsons.data', 0.8)"
      ]
    },
    {
      "cell_type": "code",
      "execution_count": null,
      "metadata": {
        "id": "ePcvaCV7pU-Z",
        "outputId": "479063fb-62b6-42a4-da01-562fe0a799cc"
      },
      "outputs": [
        {
          "name": "stdout",
          "output_type": "stream",
          "text": [
            "Percent correct: Train 98.07692307692307 Test 89.74358974358975\n"
          ]
        }
      ],
      "source": [
        "runPark('parkinsons.data',0.8)"
      ]
    },
    {
      "cell_type": "code",
      "execution_count": null,
      "metadata": {
        "id": "OsdEM5PhpU-Z",
        "outputId": "e34db468-12bf-4172-bba7-8d1c754fae2c"
      },
      "outputs": [
        {
          "name": "stdout",
          "output_type": "stream",
          "text": [
            "Percent correct: Train 100.0 Test 82.05128205128204\n"
          ]
        }
      ],
      "source": [
        "runPark('parkinsons.data',0.8)"
      ]
    },
    {
      "cell_type": "code",
      "execution_count": null,
      "metadata": {
        "id": "Ouj60tampU-Z",
        "outputId": "20e33fb6-41ef-41b8-fcf9-efc7c37c4bcb"
      },
      "outputs": [
        {
          "name": "stdout",
          "output_type": "stream",
          "text": [
            "Percent correct: Train 98.71794871794873 Test 84.61538461538461\n"
          ]
        }
      ],
      "source": [
        "runPark('parkinsons.data',0.8)"
      ]
    },
    {
      "cell_type": "markdown",
      "metadata": {
        "id": "_6AydrlcpU-Z"
      },
      "source": [
        "Review.  How would you get the values of\n",
        "\n",
        "  * $p(\\xv|C=k)$\n",
        "  * $p(\\xv)$\n",
        "  * $p(C=k|\\xv)$\n",
        "  * predicted $C$ for a given $\\xv$\n",
        "\n",
        "Now, what would you change to do all of this for LDA?\n"
      ]
    },
    {
      "cell_type": "markdown",
      "metadata": {
        "id": "yjFRCbSvpU-Z"
      },
      "source": [
        "## LDA: Linear Discriminant Analysis"
      ]
    },
    {
      "cell_type": "markdown",
      "metadata": {
        "id": "6AJXJ5v1pU-Z"
      },
      "source": [
        "So far we have only been applying QDA.  Let's write a discLDA function and see if this classifier, which assumes all classes have the same covariance matrix, does better than QDA on our Parkinson's data."
      ]
    },
    {
      "cell_type": "markdown",
      "metadata": {
        "id": "My9r-92npU-Z"
      },
      "source": [
        "Above we showed that if we assume the same covariance matrix, $\\Sigmav$, for each class, where\n",
        "$$\n",
        "\\begin{align*}\n",
        "\\Sigmav = \\sum_{k=1}^K \\frac{N_k}{N} \\Sigmav_k,\n",
        "\\end{align*}\n",
        "$$\n",
        "our discriminant function becomes\n",
        "$$\n",
        "      \\begin{align*}\n",
        "        \\delta_k(\\xv) = \\xv^T \\Sigmav^{-1} \\muv_k - \\frac{1}{2}\\muv_k^T \\Sigmav^{-1} \\muv_k + \\log\n",
        "        P(C=k)\n",
        "      \\end{align*}\n",
        "$$"
      ]
    },
    {
      "cell_type": "code",
      "execution_count": null,
      "metadata": {
        "id": "6WMmtf_GpU-Z"
      },
      "outputs": [],
      "source": [
        "import pdb"
      ]
    },
    {
      "cell_type": "code",
      "execution_count": null,
      "metadata": {
        "id": "FQbzmUprpU-Z"
      },
      "outputs": [],
      "source": [
        "def discLDA(X, means,stds, mu, Sigma, prior):\n",
        "    X = (X-means)/stds\n",
        "    if Sigma.size == 1:\n",
        "        Sigma = np.asarray(Sigma).reshape((1,1))\n",
        "    det = np.linalg.det(Sigma)\n",
        "    # if det == 0:\n",
        "    #    raise np.linalg.LinAlgError('discQDA(): Singular covariance matrix')\n",
        "    SigmaInv = np.linalg.pinv(Sigma)     # pinv in case Sigma is singular\n",
        "    mu = mu.reshape((-1,1)) # make mu a column vector\n",
        "    # pdb.set_trace()\n",
        "    return np.dot(np.dot(X,SigmaInv), mu) - 0.5 * np.dot(np.dot(mu.T,SigmaInv), mu) + np.log(prior)"
      ]
    },
    {
      "cell_type": "code",
      "execution_count": null,
      "metadata": {
        "id": "QxoQtD4WpU-Z"
      },
      "outputs": [],
      "source": [
        "def runPark(filename, trainFraction):\n",
        "    f = open(filename,\"r\")\n",
        "    header = f.readline()\n",
        "    names = header.strip().split(',')[1:]\n",
        "\n",
        "    data = np.loadtxt(f ,delimiter=',', usecols=1+np.arange(23))\n",
        "\n",
        "    targetColumn = names.index(\"status\")\n",
        "    XColumns = np.arange(23)\n",
        "    XColumns = np.delete(XColumns, targetColumn)\n",
        "    X = data[:, XColumns]\n",
        "    T = data[:, targetColumn].reshape((-1,1)) # to keep 2-d matrix form\n",
        "    names.remove(\"status\")\n",
        "\n",
        "    healthyI,_ = np.where(T == 0)\n",
        "    parkI,_ = np.where(T == 1)\n",
        "    healthyI = np.random.permutation(healthyI)\n",
        "    parkI = np.random.permutation(parkI)\n",
        "\n",
        "    nHealthy = round(trainFraction*len(healthyI))\n",
        "    nPark = round(trainf*len(parkI))\n",
        "    rowsTrain = np.hstack((healthyI[:nHealthy], parkI[:nPark]))\n",
        "    Xtrain = X[rowsTrain, :]\n",
        "    Ttrain = T[rowsTrain, :]\n",
        "    rowsTest = np.hstack((healthyI[nHealthy:], parkI[nPark:]))\n",
        "    Xtest =  X[rowsTest, :]\n",
        "    Ttest =  T[rowsTest, :]\n",
        "\n",
        "    means,stds = np.mean(Xtrain,0), np.std(Xtrain,0)\n",
        "    Xtrains = (Xtrain-means)/stds\n",
        "\n",
        "    Ttr = (Ttrain==0).reshape((-1))\n",
        "    mu1 = np.mean(Xtrains[Ttr, :],axis=0)\n",
        "    cov1 = np.cov(Xtrains[Ttr, :].T)\n",
        "    Ttr = (Ttrain.ravel()==1).reshape((-1))\n",
        "    mu2 = np.mean(Xtrains[Ttr, :],axis=0)\n",
        "    cov2 = np.cov(Xtrains[Ttr, :].T)\n",
        "\n",
        "    d1 = discQDA(Xtrain, means, stds, mu1, cov1, float(nHealthy)/(nHealthy+nPark))\n",
        "    d2 = discQDA(Xtrain, means, stds, mu2, cov2, float(nPark)/(nHealthy+nPark))\n",
        "    predictedTrain = np.argmax(np.hstack((d1, d2)),axis=1)\n",
        "\n",
        "    d1t = discQDA(Xtest, means, stds, mu1, cov1, float(nHealthy)/(nHealthy+nPark))\n",
        "    d2t = discQDA(Xtest, means, stds, mu2, cov2, float(nPark)/(nHealthy+nPark))\n",
        "    predictedTest = np.argmax(np.hstack((d1t, d2t)), axis=1)\n",
        "\n",
        "    print('QDA Percent correct: Train', percentCorrect(predictedTrain, Ttrain), 'Test', percentCorrect(predictedTest,Ttest))\n",
        "\n",
        "    covMean = (cov1 * nHealthy + cov2 * nPark) / (nHealthy+nPark)\n",
        "    d1 = discLDA(Xtrain, means, stds, mu1, covMean, float(nHealthy)/(nHealthy+nPark))\n",
        "    d2 = discLDA(Xtrain, means, stds, mu2, covMean, float(nPark)/(nHealthy+nPark))\n",
        "    predictedTrain = np.argmax(np.hstack((d1, d2)), axis=1)\n",
        "\n",
        "    d1t = discLDA(Xtest, means, stds, mu1, covMean, float(nHealthy)/(nHealthy+nPark))\n",
        "    d2t = discLDA(Xtest, means, stds, mu2, covMean, float(nPark)/(nHealthy+nPark))\n",
        "    predictedTest = np.argmax(np.hstack((d1t, d2t)), axis=1)\n",
        "    print('LDA Percent correct: Train', percentCorrect(predictedTrain, Ttrain), 'Test', percentCorrect(predictedTest,Ttest))\n",
        "\n",
        "def percentCorrect(p, t):\n",
        "    return np.sum(p.ravel()==t.ravel()) / float(len(t)) * 100"
      ]
    },
    {
      "cell_type": "code",
      "execution_count": null,
      "metadata": {
        "id": "m1xW1YPbpU-Z",
        "outputId": "6b0a200f-e1be-4588-a972-1dfe20666d95"
      },
      "outputs": [
        {
          "name": "stdout",
          "output_type": "stream",
          "text": [
            "QDA Percent correct: Train 98.71794871794873 Test 82.05128205128204\n",
            "LDA Percent correct: Train 92.3076923076923 Test 82.05128205128204\n"
          ]
        }
      ],
      "source": [
        "runPark('parkinsons.data', 0.8)"
      ]
    },
    {
      "cell_type": "code",
      "execution_count": null,
      "metadata": {
        "id": "mR5UPj5CpU-a",
        "outputId": "b65e3d57-34c2-4659-e3fe-faee4083d1a6"
      },
      "outputs": [
        {
          "name": "stdout",
          "output_type": "stream",
          "text": [
            "QDA Percent correct: Train 98.71794871794873 Test 82.05128205128204\n",
            "LDA Percent correct: Train 89.1025641025641 Test 89.74358974358975\n",
            "\n",
            "QDA Percent correct: Train 96.7948717948718 Test 84.61538461538461\n",
            "LDA Percent correct: Train 91.66666666666666 Test 79.48717948717949\n",
            "\n",
            "QDA Percent correct: Train 98.71794871794873 Test 84.61538461538461\n",
            "LDA Percent correct: Train 92.3076923076923 Test 87.17948717948718\n",
            "\n",
            "QDA Percent correct: Train 98.71794871794873 Test 84.61538461538461\n",
            "LDA Percent correct: Train 91.02564102564102 Test 87.17948717948718\n",
            "\n",
            "QDA Percent correct: Train 99.35897435897436 Test 89.74358974358975\n",
            "LDA Percent correct: Train 92.3076923076923 Test 87.17948717948718\n",
            "\n"
          ]
        }
      ],
      "source": [
        "for i in range(5):\n",
        "    runPark('parkinsons.data', 0.8)\n",
        "    print()"
      ]
    },
    {
      "cell_type": "code",
      "execution_count": null,
      "metadata": {
        "id": "pNEYylywpU-a",
        "outputId": "675a2936-c251-4304-e95f-2822c4a590c4"
      },
      "outputs": [
        {
          "data": {
            "text/plain": [
              "(2.220446049250313e-16, -36.04365338911715)"
            ]
          },
          "execution_count": 234,
          "metadata": {},
          "output_type": "execute_result"
        }
      ],
      "source": [
        "import sys\n",
        "sys.float_info.epsilon, np.log(sys.float_info.epsilon)"
      ]
    },
    {
      "cell_type": "code",
      "execution_count": null,
      "metadata": {
        "id": "sVz99XtapU-a",
        "outputId": "1e32d92f-a229-4a28-ddb2-4171383670a4"
      },
      "outputs": [
        {
          "name": "stdout",
          "output_type": "stream",
          "text": [
            "Overwriting qdalda.py\n"
          ]
        }
      ],
      "source": [
        "%%writefile qdalda.py\n",
        "\n",
        "import numpy as np\n",
        "import sys # for sys.float_info.epsilon\n",
        "\n",
        "######################################################################\n",
        "### class QDA\n",
        "######################################################################\n",
        "\n",
        "class QDA(object):\n",
        "\n",
        "    def __init__(self):\n",
        "        # Define all instance variables here. Not necessary\n",
        "        self.means = None\n",
        "        self.stds = None\n",
        "        self.mu = None\n",
        "        self.sigma = None\n",
        "        self.sigmaInv = None\n",
        "        self.prior = None\n",
        "        self.determinant = None\n",
        "        self.discriminantConstant = None\n",
        "\n",
        "    def train(self, X, T):\n",
        "        self.classes = np.unique(T)\n",
        "        self.means, self.stds = np.mean(X,0), np.std(X,0)\n",
        "        Xs = (X - self.means) / self.stds\n",
        "        self.mu = []\n",
        "        self.sigma = []\n",
        "        self.sigmaInv = []\n",
        "        self.determinant = []\n",
        "        self.prior = []\n",
        "        nSamples = X.shape[0]\n",
        "        for k in self.classes:\n",
        "            rowsThisClass = (T == k).reshape((-1))\n",
        "            self.mu.append( np.mean(Xs[rowsThisClass, :], 0).reshape((-1,1)) )\n",
        "            self.sigma.append( np.cov(Xs[rowsThisClass, :], rowvar=0) )\n",
        "            if self.sigma[-1].size == 1:\n",
        "                self.sigma[-1] = self.sigma[-1].reshape((1,1))\n",
        "            det = np.linalg.det(self.sigma[-1])\n",
        "            if det == 0:\n",
        "                det = sys.float_info.epsilon\n",
        "            self.determinant.append( det )\n",
        "            self.sigmaInv.append( np.linalg.pinv(self.sigma[-1]) )    # pinv in case Sigma is singular\n",
        "            self.prior.append( np.sum(rowsThisClass) / float(nSamples) )\n",
        "        self._finishTrain()\n",
        "\n",
        "    def _finishTrain(self):\n",
        "        self.discriminantConstant = []\n",
        "        for ki in range(len(self.classes)):\n",
        "            self.discriminantConstant.append( np.log(self.prior[ki]) - 0.5*np.log(self.determinant[ki]) )\n",
        "\n",
        "    def use(self, X, allOutputs=False):\n",
        "        nSamples = X.shape[0]\n",
        "        Xs = (X - self.means) / self.stds\n",
        "        discriminants,probabilities = self._discriminantFunction(Xs)\n",
        "        predictedClass = self.classes[np.argmax( discriminants, axis=1 )]\n",
        "        predictedClass = predictedClass.reshape((-1, 1))\n",
        "        return (predictedClass, probabilities, discriminants) if allOutputs else predictedClass\n",
        "\n",
        "    def _discriminantFunction(self, Xs):\n",
        "        nSamples = Xs.shape[0]\n",
        "        discriminants = np.zeros((nSamples, len(self.classes)))\n",
        "        for ki in range(len(self.classes)):\n",
        "            Xc = Xs - self.mu[ki].T\n",
        "            discriminants[:,ki:ki+1] = self.discriminantConstant[ki] - 0.5 * \\\n",
        "                                       np.sum(np.dot(Xc, self.sigmaInv[ki]) * Xc, axis=1).reshape((-1,1))\n",
        "        D = Xs.shape[1]\n",
        "        probabilities = np.exp( discriminants - 0.5*D*np.log(2*np.pi) )\n",
        "        return discriminants, probabilities\n",
        "\n",
        "    def __repr__(self):\n",
        "        if self.mu is None:\n",
        "            return 'QDA not trained.'\n",
        "        else:\n",
        "            return 'QDA trained for classes {}'.format(self.classes)\n",
        "\n",
        "######################################################################\n",
        "### class LDA\n",
        "######################################################################\n",
        "\n",
        "class LDA(QDA):\n",
        "\n",
        "    def _finishTrain(self):\n",
        "        self.sigmaMean = np.sum(np.stack(self.sigma) * np.array(self.prior)[:,np.newaxis,np.newaxis], axis=0)\n",
        "        self.sigmaMeanInv = np.linalg.pinv(self.sigmaMean)\n",
        "        # print(self.sigma)\n",
        "        # print(self.sigmaMean)\n",
        "        self.discriminantConstant = []\n",
        "        self.discriminantCoefficient = []\n",
        "        for ki in range(len(self.classes)):\n",
        "            sigmaMu = np.dot(self.sigmaMeanInv, self.mu[ki])\n",
        "            self.discriminantConstant.append( -0.5 * np.dot(self.mu[ki].T, sigmaMu) )\n",
        "            self.discriminantCoefficient.append( sigmaMu )\n",
        "\n",
        "    def _discriminantFunction(self,Xs):\n",
        "        nSamples = Xs.shape[0]\n",
        "        discriminants = np.zeros((nSamples, len(self.classes)))\n",
        "        for ki in range(len(self.classes)):\n",
        "            discriminants[:,ki:ki+1] = self.discriminantConstant[ki] + \\\n",
        "                                       np.dot(Xs, self.discriminantCoefficient[ki])\n",
        "        D = Xs.shape[1]\n",
        "        probabilities = np.exp( discriminants - 0.5*D*np.log(2*np.pi) - 0.5*np.log(self.determinant[ki]) \\\n",
        "                               - 0.5*np.sum(np.dot(Xs,self.sigmaMeanInv) * Xs, axis=1).reshape((-1,1)))\n",
        "        return discriminants, probabilities\n",
        "\n",
        "######################################################################\n",
        "### Example use\n",
        "######################################################################\n",
        "\n",
        "if __name__ == '__main__':\n",
        "\n",
        "    D = 1  # number of components in each sample\n",
        "    N = 10  # number of samples in each class\n",
        "    X = np.vstack((np.random.normal(0.0, 1.0, (N, D)),\n",
        "                   np.random.normal(4.0, 1.5, (N, D))))\n",
        "    T = np.vstack((np.array([1]*N).reshape((N, 1)),\n",
        "                   np.array([2]*N).reshape((N, 1))))\n",
        "\n",
        "    qda = QDA()\n",
        "    qda.train(X,T)\n",
        "    c,prob,_ = qda.use(X, allOutputs=True)\n",
        "    print('QDA', np.sum(c==T)/X.shape[0] * 100, '% correct')\n",
        "    print('{:>3s} {:>4s} {:>14s}'.format('T','Pred','prob(C=k|x)'))\n",
        "    for row in np.hstack((T,c,prob)):\n",
        "        print('{:3.0f} {:3.0f} {:8.4f} {:8.4f}'.format(*row))\n",
        "\n",
        "    lda = LDA()\n",
        "    lda.train(X,T)\n",
        "    c,prob,d = lda.use(X, allOutputs=True)\n",
        "    print('LDA', np.sum(c==T)/X.shape[0] * 100, '% correct')\n",
        "    print('{:>3s} {:>4s} {:>14s}'.format('T','Pred','prob(C=k|x)'))\n",
        "    for row in np.hstack((T,c,prob)):\n",
        "        print('{:3.0f} {:3.0f} {:8.4f} {:8.4f}'.format(*row))"
      ]
    },
    {
      "cell_type": "code",
      "execution_count": null,
      "metadata": {
        "id": "Uyrx4xwspU-a",
        "outputId": "100b72a1-8d4b-4411-e248-7dbcff0f87a1"
      },
      "outputs": [
        {
          "name": "stdout",
          "output_type": "stream",
          "text": [
            "QDA 85.0 % correct\n",
            "  T Pred    prob(C=k|x)\n",
            "  1   1   0.3317   0.0062\n",
            "  1   1   0.4958   0.0244\n",
            "  1   1   0.4851   0.0157\n",
            "  1   2   0.0599   0.1427\n",
            "  1   1   0.2379   0.0038\n",
            "  1   1   0.4064   0.0091\n",
            "  1   1   0.2950   0.0642\n",
            "  1   1   0.4202   0.0416\n",
            "  1   1   0.4989   0.0208\n",
            "  1   1   0.3721   0.0076\n",
            "  2   1   0.1372   0.1046\n",
            "  2   2   0.0025   0.2416\n",
            "  2   1   0.1563   0.0982\n",
            "  2   2   0.0000   0.2657\n",
            "  2   2   0.0000   0.2514\n",
            "  2   2   0.0000   0.2578\n",
            "  2   2   0.0000   0.0471\n",
            "  2   2   0.0049   0.2268\n",
            "  2   2   0.0000   0.2515\n",
            "  2   2   0.0000   0.2136\n",
            "LDA 90.0 % correct\n",
            "  T Pred    prob(C=k|x)\n",
            "  1   1   0.4510   0.0016\n",
            "  1   1   0.5422   0.0132\n",
            "  1   1   0.5368   0.0067\n",
            "  1   1   0.2059   0.2013\n",
            "  1   1   0.3874   0.0008\n",
            "  1   1   0.4950   0.0029\n",
            "  1   1   0.4274   0.0587\n",
            "  1   1   0.5026   0.0300\n",
            "  1   1   0.5437   0.0103\n",
            "  1   1   0.4754   0.0022\n",
            "  2   1   0.3010   0.1247\n",
            "  2   2   0.0484   0.4531\n",
            "  2   1   0.3196   0.1130\n",
            "  2   2   0.0049   0.5250\n",
            "  2   2   0.0024   0.4820\n",
            "  2   2   0.0032   0.5009\n",
            "  2   2   0.0000   0.0364\n",
            "  2   2   0.0658   0.4111\n",
            "  2   2   0.0024   0.4822\n",
            "  2   2   0.0007   0.3747\n"
          ]
        }
      ],
      "source": [
        "%run qdalda.py"
      ]
    },
    {
      "cell_type": "code",
      "execution_count": null,
      "metadata": {
        "id": "u81NAvARpU-a"
      },
      "outputs": [],
      "source": []
    }
  ],
  "metadata": {
    "colab": {
      "include_colab_link": true,
      "provenance": []
    },
    "kernelspec": {
      "display_name": "Python 3",
      "language": "python",
      "name": "python3"
    },
    "language_info": {
      "codemirror_mode": {
        "name": "ipython",
        "version": 3
      },
      "file_extension": ".py",
      "mimetype": "text/x-python",
      "name": "python",
      "nbconvert_exporter": "python",
      "pygments_lexer": "ipython3",
      "version": "3.13.0"
    },
    "toc": {
      "base_numbering": 1,
      "nav_menu": {},
      "number_sections": true,
      "sideBar": true,
      "skip_h1_title": false,
      "title_cell": "Table of Contents",
      "title_sidebar": "Contents",
      "toc_cell": false,
      "toc_position": {},
      "toc_section_display": true,
      "toc_window_display": true
    },
    "widgets": {
      "application/vnd.jupyter.widget-state+json": {
        "15d7fde9b9dc4fc88fd38cd5374633f2": {
          "model_module": "@jupyter-widgets/output",
          "model_module_version": "1.0.0",
          "model_name": "OutputModel",
          "state": {
            "_dom_classes": [],
            "_model_module": "@jupyter-widgets/output",
            "_model_module_version": "1.0.0",
            "_model_name": "OutputModel",
            "_view_count": null,
            "_view_module": "@jupyter-widgets/output",
            "_view_module_version": "1.0.0",
            "_view_name": "OutputView",
            "layout": "IPY_MODEL_21a47e285aa44cfd8ce1031b67e1828e",
            "msg_id": "",
            "outputs": [
              {
                "data": {
                  "image/png": "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\n",
                  "text/plain": "<Figure size 640x480 with 1 Axes>"
                },
                "metadata": {},
                "output_type": "display_data"
              }
            ]
          }
        },
        "21a47e285aa44cfd8ce1031b67e1828e": {
          "model_module": "@jupyter-widgets/base",
          "model_module_version": "1.2.0",
          "model_name": "LayoutModel",
          "state": {
            "_model_module": "@jupyter-widgets/base",
            "_model_module_version": "1.2.0",
            "_model_name": "LayoutModel",
            "_view_count": null,
            "_view_module": "@jupyter-widgets/base",
            "_view_module_version": "1.2.0",
            "_view_name": "LayoutView",
            "align_content": null,
            "align_items": null,
            "align_self": null,
            "border": null,
            "bottom": null,
            "display": null,
            "flex": null,
            "flex_flow": null,
            "grid_area": null,
            "grid_auto_columns": null,
            "grid_auto_flow": null,
            "grid_auto_rows": null,
            "grid_column": null,
            "grid_gap": null,
            "grid_row": null,
            "grid_template_areas": null,
            "grid_template_columns": null,
            "grid_template_rows": null,
            "height": null,
            "justify_content": null,
            "justify_items": null,
            "left": null,
            "margin": null,
            "max_height": null,
            "max_width": null,
            "min_height": null,
            "min_width": null,
            "object_fit": null,
            "object_position": null,
            "order": null,
            "overflow": null,
            "overflow_x": null,
            "overflow_y": null,
            "padding": null,
            "right": null,
            "top": null,
            "visibility": null,
            "width": null
          }
        },
        "60eb90b6aa6a492d85920a6339c0fc1c": {
          "model_module": "@jupyter-widgets/controls",
          "model_module_version": "1.5.0",
          "model_name": "SliderStyleModel",
          "state": {
            "_model_module": "@jupyter-widgets/controls",
            "_model_module_version": "1.5.0",
            "_model_name": "SliderStyleModel",
            "_view_count": null,
            "_view_module": "@jupyter-widgets/base",
            "_view_module_version": "1.2.0",
            "_view_name": "StyleView",
            "description_width": "",
            "handle_color": null
          }
        },
        "79569fce95644dcab3df68bb4f7da0d0": {
          "model_module": "@jupyter-widgets/base",
          "model_module_version": "1.2.0",
          "model_name": "LayoutModel",
          "state": {
            "_model_module": "@jupyter-widgets/base",
            "_model_module_version": "1.2.0",
            "_model_name": "LayoutModel",
            "_view_count": null,
            "_view_module": "@jupyter-widgets/base",
            "_view_module_version": "1.2.0",
            "_view_name": "LayoutView",
            "align_content": null,
            "align_items": null,
            "align_self": null,
            "border": null,
            "bottom": null,
            "display": null,
            "flex": null,
            "flex_flow": null,
            "grid_area": null,
            "grid_auto_columns": null,
            "grid_auto_flow": null,
            "grid_auto_rows": null,
            "grid_column": null,
            "grid_gap": null,
            "grid_row": null,
            "grid_template_areas": null,
            "grid_template_columns": null,
            "grid_template_rows": null,
            "height": null,
            "justify_content": null,
            "justify_items": null,
            "left": null,
            "margin": null,
            "max_height": null,
            "max_width": null,
            "min_height": null,
            "min_width": null,
            "object_fit": null,
            "object_position": null,
            "order": null,
            "overflow": null,
            "overflow_x": null,
            "overflow_y": null,
            "padding": null,
            "right": null,
            "top": null,
            "visibility": null,
            "width": null
          }
        },
        "7a018d9c5d774be6ab4ac41877f0a43b": {
          "model_module": "@jupyter-widgets/controls",
          "model_module_version": "1.5.0",
          "model_name": "IntSliderModel",
          "state": {
            "_dom_classes": [],
            "_model_module": "@jupyter-widgets/controls",
            "_model_module_version": "1.5.0",
            "_model_name": "IntSliderModel",
            "_view_count": null,
            "_view_module": "@jupyter-widgets/controls",
            "_view_module_version": "1.5.0",
            "_view_name": "IntSliderView",
            "continuous_update": true,
            "description": "nSamples",
            "description_tooltip": null,
            "disabled": false,
            "layout": "IPY_MODEL_79569fce95644dcab3df68bb4f7da0d0",
            "max": 100,
            "min": 1,
            "orientation": "horizontal",
            "readout": true,
            "readout_format": "d",
            "step": 1,
            "style": "IPY_MODEL_60eb90b6aa6a492d85920a6339c0fc1c",
            "value": 1
          }
        },
        "c536550beb9343b1966defd8b230c230": {
          "model_module": "@jupyter-widgets/base",
          "model_module_version": "1.2.0",
          "model_name": "LayoutModel",
          "state": {
            "_model_module": "@jupyter-widgets/base",
            "_model_module_version": "1.2.0",
            "_model_name": "LayoutModel",
            "_view_count": null,
            "_view_module": "@jupyter-widgets/base",
            "_view_module_version": "1.2.0",
            "_view_name": "LayoutView",
            "align_content": null,
            "align_items": null,
            "align_self": null,
            "border": null,
            "bottom": null,
            "display": null,
            "flex": null,
            "flex_flow": null,
            "grid_area": null,
            "grid_auto_columns": null,
            "grid_auto_flow": null,
            "grid_auto_rows": null,
            "grid_column": null,
            "grid_gap": null,
            "grid_row": null,
            "grid_template_areas": null,
            "grid_template_columns": null,
            "grid_template_rows": null,
            "height": null,
            "justify_content": null,
            "justify_items": null,
            "left": null,
            "margin": null,
            "max_height": null,
            "max_width": null,
            "min_height": null,
            "min_width": null,
            "object_fit": null,
            "object_position": null,
            "order": null,
            "overflow": null,
            "overflow_x": null,
            "overflow_y": null,
            "padding": null,
            "right": null,
            "top": null,
            "visibility": null,
            "width": null
          }
        },
        "ce6620279bce47b5bfc55517bbe6e967": {
          "model_module": "@jupyter-widgets/controls",
          "model_module_version": "1.5.0",
          "model_name": "VBoxModel",
          "state": {
            "_dom_classes": [
              "widget-interact"
            ],
            "_model_module": "@jupyter-widgets/controls",
            "_model_module_version": "1.5.0",
            "_model_name": "VBoxModel",
            "_view_count": null,
            "_view_module": "@jupyter-widgets/controls",
            "_view_module_version": "1.5.0",
            "_view_name": "VBoxView",
            "box_style": "",
            "children": [
              "IPY_MODEL_7a018d9c5d774be6ab4ac41877f0a43b",
              "IPY_MODEL_15d7fde9b9dc4fc88fd38cd5374633f2"
            ],
            "layout": "IPY_MODEL_c536550beb9343b1966defd8b230c230"
          }
        }
      }
    }
  },
  "nbformat": 4,
  "nbformat_minor": 0
}
