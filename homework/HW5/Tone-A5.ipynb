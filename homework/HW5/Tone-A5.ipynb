{
 "cells": [
  {
   "cell_type": "markdown",
   "metadata": {},
   "source": [
    "# A5 1-D and 2-D Convolutional Neural Networks in Pytorch\n",
    "\n",
    "In this assignment, you will experiment with the given convolutional neural network for 2-dimensional input samples (images), in class `CNN2D`, by applying it to the MNIST data.  You will also define a new class for handling 1-dimensional input samples, called `CNN1D`, that extends `CNN2D`."
   ]
  },
  {
   "cell_type": "code",
   "execution_count": 1,
   "metadata": {},
   "outputs": [],
   "source": [
    "import numpy as np\n",
    "import torch\n",
    "import pandas\n",
    "\n",
    "import matplotlib.pyplot as plt"
   ]
  },
  {
   "cell_type": "markdown",
   "metadata": {},
   "source": [
    "## `CNN2D` class"
   ]
  },
  {
   "cell_type": "markdown",
   "metadata": {},
   "source": [
    "Here is a definition of `CNN2D`."
   ]
  },
  {
   "cell_type": "code",
   "execution_count": 2,
   "metadata": {},
   "outputs": [],
   "source": [
    "import numpy as np\n",
    "import torch\n",
    "\n",
    "\n",
    "class CNN2D(torch.nn.Module):\n",
    "\n",
    "    def __init__(self, n_inputs, n_hiddens_per_conv_layer, n_hiddens_per_fc_layer, n_outputs,\n",
    "                 patch_size_per_conv_layer, stride_per_conv_layer, activation_function='tanh', device='cpu'):\n",
    "\n",
    "        super().__init__()\n",
    "\n",
    "        self.device = device\n",
    "\n",
    "        n_conv_layers = len(n_hiddens_per_conv_layer)\n",
    "        if (len(patch_size_per_conv_layer) != n_conv_layers\n",
    "            or len(stride_per_conv_layer) != n_conv_layers):\n",
    "            raise Exception('The lengths of n_hiddens_per_conv_layer, patch_size_per_conv_layer, and stride_per_conv_layer must be equal.')\n",
    "\n",
    "        self.activation_function = torch.tanh if activation_function == 'tanh' else torch.relu\n",
    "\n",
    "        self.make_conv_and_fc_layers(n_inputs, n_hiddens_per_conv_layer, n_hiddens_per_fc_layer, n_outputs,\n",
    "                                     patch_size_per_conv_layer, stride_per_conv_layer)\n",
    "        \n",
    "        self.Xmeans = None\n",
    "        self.to(self.device)\n",
    "\n",
    "    def make_conv_and_fc_layers(self, n_inputs, n_hiddens_per_conv_layer, n_hiddens_per_fc_layer, n_outputs,\n",
    "                                patch_size_per_conv_layer, stride_per_conv_layer):\n",
    "                # Create all convolutional layers\n",
    "        # First argument to first Conv2d is number of channels for each pixel.\n",
    "        # Just 1 for our grayscale images.\n",
    "        n_in = 1\n",
    "        input_hw = int(np.sqrt(n_inputs))  # original input image height (=width because image assumed square)\n",
    "        self.conv_layers = torch.nn.ModuleList()\n",
    "        layeri = 0\n",
    "        for nh, patch_size, stride in zip(n_hiddens_per_conv_layer,\n",
    "                                          patch_size_per_conv_layer,\n",
    "                                          stride_per_conv_layer):\n",
    "            self.conv_layers.append(torch.nn.Conv2d(n_in, nh, kernel_size=patch_size, stride=stride))\n",
    "            conv_layer_output_hw = (input_hw - patch_size) // stride + 1\n",
    "            if conv_layer_output_hw <= 0:\n",
    "                raise Exception(f'''For conv layer {layeri}, input_hw of {input_hw} is less than patch_size {patch_size}.\n",
    "Try reducing the patch_size for this layer or for the previous layer.''')\n",
    "            input_hw = conv_layer_output_hw  # for next trip through this loop\n",
    "            n_in = nh\n",
    "            layeri += 1\n",
    "           \n",
    "        # Create all fully connected layers.  First must determine number of inputs to first\n",
    "        # fully-connected layer that results from flattening the images coming out of the last\n",
    "        # convolutional layer.\n",
    "        n_in = input_hw ** 2 * n_in\n",
    "        self.fc_layers = torch.nn.ModuleList()\n",
    "        for nh in n_hiddens_per_fc_layer:\n",
    "            self.fc_layers.append(torch.nn.Linear(n_in, nh))\n",
    "            n_in = nh\n",
    "        self.fc_layers.append(torch.nn.Linear(n_in, n_outputs))\n",
    "\n",
    "    def forward_all_outputs(self, X):\n",
    "        n_samples = X.shape[0]\n",
    "        Ys = [X]\n",
    "        for conv_layer in self.conv_layers:\n",
    "            Ys.append(self.activation_function(conv_layer(Ys[-1])))\n",
    "\n",
    "        flattened_input = Ys[-1].reshape(n_samples, -1)\n",
    "\n",
    "        for layeri, fc_layer in enumerate(self.fc_layers[:-1]):\n",
    "            if layeri == 0:\n",
    "                Ys.append(self.activation_function(fc_layer(flattened_input)))\n",
    "            else:\n",
    "                Ys.append(self.activation_function(fc_layer(Ys[-1])))\n",
    "\n",
    "        if len(self.fc_layers) == 1:\n",
    "            # only the output layer\n",
    "            Ys.append(self.fc_layers[-1](flattened_input))\n",
    "        else:\n",
    "            Ys.append(self.fc_layers[-1](Ys[-1]))\n",
    "\n",
    "        return Ys\n",
    "\n",
    "    def forward(self, X):\n",
    "        Ys = self.forward_all_outputs(X)\n",
    "        return Ys[-1]\n",
    "\n",
    "    def train(self, X, T, batch_size, n_epochs, learning_rate, method='sgd', verbose=True):\n",
    "        '''X and T must be numpy arrays'''\n",
    "\n",
    "        self.classes = np.unique(T)\n",
    "        T = np.arange(len(self.classes))[np.where(T.reshape(-1, 1) == self.classes)[1]]\n",
    "\n",
    "        # Set data matrices to torch.tensors\n",
    "        X = torch.from_numpy(X).float().to(self.device)\n",
    "        T = torch.from_numpy(T).long().to(self.device)  # required for classification in pytorch\n",
    "\n",
    "        # Setup standardization parameters\n",
    "        if self.Xmeans is None:\n",
    "            self.Xmeans = X.mean(axis=0)\n",
    "            self.Xstds = X.std(axis=0)\n",
    "            self.Xstds[self.Xstds == 0] = 1  # So we don't divide by zero when standardizing\n",
    "\n",
    "        # Standardize X\n",
    "        X = (X - self.Xmeans) / self.Xstds\n",
    "\n",
    "        X.requires_grad_(True)\n",
    "\n",
    "        if method == 'sgd':\n",
    "            optimizer = torch.optim.SGD(self.parameters(), lr=learning_rate, momentum=0.9)\n",
    "        else:\n",
    "            optimizer = torch.optim.Adam(self.parameters(), lr=learning_rate)\n",
    "\n",
    "        CELoss = torch.nn.CrossEntropyLoss(reduction='mean')\n",
    "        self.error_trace = []\n",
    "\n",
    "        for epoch in range(n_epochs):\n",
    "\n",
    "            num_batches = X.shape[0] // batch_size\n",
    "            loss_sum = 0\n",
    "\n",
    "            for k in range(num_batches):\n",
    "                start = k * batch_size\n",
    "                end = (k + 1) * batch_size\n",
    "                X_batch = X[start:end, ...]\n",
    "                T_batch = T[start:end, ...]\n",
    "\n",
    "                Y = self.forward(X_batch)\n",
    "\n",
    "                loss = CELoss(Y, T_batch)\n",
    "                loss.backward()\n",
    "\n",
    "                # Update parameters\n",
    "                optimizer.step()\n",
    "                optimizer.zero_grad()\n",
    "\n",
    "                loss_sum += loss\n",
    "\n",
    "            self.error_trace.append(float(loss_sum / num_batches))\n",
    "\n",
    "            if verbose and (epoch + 1) % (max(1, n_epochs // 10)) == 0:\n",
    "                print(f'{method}: Epoch {epoch + 1} Loss {self.error_trace[-1]:.3f}')\n",
    "\n",
    "        return self\n",
    "\n",
    "    def softmax(self, Y):\n",
    "        '''Apply to final layer weighted sum outputs'''\n",
    "        # Trick to avoid overflow\n",
    "        maxY = torch.max(Y, axis=1)[0].reshape((-1, 1))\n",
    "        expY = torch.exp(Y - maxY)\n",
    "        denom = torch.sum(expY, axis=1).reshape((-1, 1))\n",
    "        Y = expY / denom\n",
    "        return Y\n",
    "\n",
    "    def use(self, X):\n",
    "        # Set input matrix to torch.tensors\n",
    "        X = torch.from_numpy(X).float().to(self.device)\n",
    "        # Standardize X\n",
    "        X = (X - self.Xmeans) / self.Xstds\n",
    "        # Calculate output of net for all samples in X\n",
    "        Y = self.forward(X)\n",
    "        # Convert output to class probabilities\n",
    "        probs = self.softmax(Y)\n",
    "        # For each sample pick highest probability and translate that to class labels\n",
    "        classes = self.classes[torch.argmax(probs, axis=1).cpu().numpy()].reshape(-1, 1)\n",
    "        return classes, probs.detach().cpu().numpy()"
   ]
  },
  {
   "cell_type": "markdown",
   "metadata": {},
   "source": [
    "### CNN2D on MNIST Digits\n",
    "\n",
    "We will use a bunch (50,000) images of hand drawn digits from [this deeplearning.net site](http://deeplearning.net/tutorial/gettingstarted.html).  Download `mnist.pkl.gz` if you don't already have it from A4. \n",
    "\n",
    "This pickle file includes data already partitioned into training, validation, and test sets.  To read it into python, use the following steps"
   ]
  },
  {
   "cell_type": "code",
   "execution_count": 3,
   "metadata": {},
   "outputs": [
    {
     "name": "stdout",
     "output_type": "stream",
     "text": [
      "(50000, 1, 28, 28) (50000, 1) (10000, 784) (10000, 1) (10000, 1, 28, 28) (10000, 1)\n"
     ]
    }
   ],
   "source": [
    "import pickle\n",
    "import gzip\n",
    "\n",
    "with gzip.open('mnist.pkl.gz', 'rb') as f:\n",
    "    train_set, valid_set, test_set = pickle.load(f, encoding='latin1')\n",
    "\n",
    "Xtrain = train_set[0]\n",
    "Ttrain = train_set[1].reshape(-1, 1)\n",
    "\n",
    "Xval = valid_set[0]\n",
    "Tval = valid_set[1].reshape(-1, 1)\n",
    "\n",
    "Xtest = test_set[0]\n",
    "Ttest = test_set[1].reshape(-1, 1)\n",
    "\n",
    "Xtrain = Xtrain.reshape(-1, 1, 28, 28)\n",
    "Xtest = Xtest.reshape(-1, 1, 28, 28)\n",
    "\n",
    "print(Xtrain.shape, Ttrain.shape,  Xval.shape, Tval.shape,  Xtest.shape, Ttest.shape)"
   ]
  },
  {
   "cell_type": "code",
   "execution_count": 4,
   "metadata": {},
   "outputs": [
    {
     "name": "stdout",
     "output_type": "stream",
     "text": [
      "Running on cuda:0\n"
     ]
    }
   ],
   "source": [
    "device = 'cpu'\n",
    "if torch.cuda.is_available():\n",
    "    y_or_n = input('Would you like to run on the GPU? (y or n): ')\n",
    "    if y_or_n == 'y' or y_or_n == 'yes':\n",
    "        device = torch.device('cuda:0' if torch.cuda.is_available() else 'cpu')\n",
    "print('Running on', device)"
   ]
  },
  {
   "cell_type": "code",
   "execution_count": 5,
   "metadata": {},
   "outputs": [
    {
     "data": {
      "text/plain": [
       "10"
      ]
     },
     "execution_count": 5,
     "metadata": {},
     "output_type": "execute_result"
    }
   ],
   "source": [
    "len(np.unique(Ttrain))"
   ]
  },
  {
   "cell_type": "code",
   "execution_count": 6,
   "metadata": {},
   "outputs": [
    {
     "name": "stdout",
     "output_type": "stream",
     "text": [
      "adam: Epoch 2 Loss 0.507\n",
      "adam: Epoch 4 Loss 0.288\n",
      "adam: Epoch 6 Loss 0.238\n",
      "adam: Epoch 8 Loss 0.215\n",
      "adam: Epoch 10 Loss 0.198\n",
      "adam: Epoch 12 Loss 0.181\n",
      "adam: Epoch 14 Loss 0.177\n",
      "adam: Epoch 16 Loss 0.170\n",
      "adam: Epoch 18 Loss 0.163\n",
      "adam: Epoch 20 Loss 0.158\n"
     ]
    },
    {
     "data": {
      "text/plain": [
       "Text(0.5, 1.0, 'MNIST')"
      ]
     },
     "execution_count": 6,
     "metadata": {},
     "output_type": "execute_result"
    },
    {
     "data": {
      "image/png": "[encoded data removed]",
      "text/plain": [
       "<Figure size 640x480 with 1 Axes>"
      ]
     },
     "metadata": {},
     "output_type": "display_data"
    }
   ],
   "source": [
    "n_hiddens_per_conv_layer = [10, 10]\n",
    "patch_size_per_conv_layer = [10, 5]\n",
    "stride_per_conv_layer=[4, 2]\n",
    "n_hiddens_per_fc_layer = [5]\n",
    "\n",
    "cnnet = CNN2D(28 * 28, n_hiddens_per_conv_layer, n_hiddens_per_fc_layer, len(np.unique(Ttrain)), \n",
    "              patch_size_per_conv_layer, stride_per_conv_layer, device=device)\n",
    "\n",
    "n_epochs = 20\n",
    "batch_size = 500\n",
    "learning_rate = 0.01\n",
    "\n",
    "cnnet.train(Xtrain, Ttrain, batch_size, n_epochs, learning_rate, method='adam')\n",
    "\n",
    "plt.plot(cnnet.error_trace, label='Pytorch')\n",
    "plt.title('MNIST')"
   ]
  },
  {
   "cell_type": "code",
   "execution_count": 7,
   "metadata": {},
   "outputs": [],
   "source": [
    "def confusion_matrix(Y_classes, T):\n",
    "    class_names = np.unique(T)\n",
    "    table = []\n",
    "    for true_class in class_names:\n",
    "        row = []\n",
    "        for Y_class in class_names:\n",
    "            row.append(100 * np.mean(Y_classes[T == true_class] == Y_class))\n",
    "        table.append(row)\n",
    "    conf_matrix = pandas.DataFrame(table, index=class_names, columns=class_names)\n",
    "    return conf_matrix"
   ]
  },
  {
   "cell_type": "code",
   "execution_count": 8,
   "metadata": {},
   "outputs": [
    {
     "name": "stdout",
     "output_type": "stream",
     "text": [
      "Test accuracy in percent correct: 94.51\n"
     ]
    },
    {
     "data": {
      "text/html": [
       "<div>\n",
       "<style scoped>\n",
       "    .dataframe tbody tr th:only-of-type {\n",
       "        vertical-align: middle;\n",
       "    }\n",
       "\n",
       "    .dataframe tbody tr th {\n",
       "        vertical-align: top;\n",
       "    }\n",
       "\n",
       "    .dataframe thead th {\n",
       "        text-align: right;\n",
       "    }\n",
       "</style>\n",
       "<table border=\"1\" class=\"dataframe\">\n",
       "  <thead>\n",
       "    <tr style=\"text-align: right;\">\n",
       "      <th></th>\n",
       "      <th>0</th>\n",
       "      <th>1</th>\n",
       "      <th>2</th>\n",
       "      <th>3</th>\n",
       "      <th>4</th>\n",
       "      <th>5</th>\n",
       "      <th>6</th>\n",
       "      <th>7</th>\n",
       "      <th>8</th>\n",
       "      <th>9</th>\n",
       "    </tr>\n",
       "  </thead>\n",
       "  <tbody>\n",
       "    <tr>\n",
       "      <th>0</th>\n",
       "      <td>95.816327</td>\n",
       "      <td>0.510204</td>\n",
       "      <td>1.020408</td>\n",
       "      <td>0.306122</td>\n",
       "      <td>0.000000</td>\n",
       "      <td>0.408163</td>\n",
       "      <td>1.530612</td>\n",
       "      <td>0.102041</td>\n",
       "      <td>0.306122</td>\n",
       "      <td>0.000000</td>\n",
       "    </tr>\n",
       "    <tr>\n",
       "      <th>1</th>\n",
       "      <td>0.264317</td>\n",
       "      <td>97.709251</td>\n",
       "      <td>0.264317</td>\n",
       "      <td>0.352423</td>\n",
       "      <td>0.088106</td>\n",
       "      <td>0.000000</td>\n",
       "      <td>0.352423</td>\n",
       "      <td>0.352423</td>\n",
       "      <td>0.616740</td>\n",
       "      <td>0.000000</td>\n",
       "    </tr>\n",
       "    <tr>\n",
       "      <th>2</th>\n",
       "      <td>1.550388</td>\n",
       "      <td>0.096899</td>\n",
       "      <td>93.701550</td>\n",
       "      <td>2.034884</td>\n",
       "      <td>0.484496</td>\n",
       "      <td>0.096899</td>\n",
       "      <td>0.096899</td>\n",
       "      <td>0.678295</td>\n",
       "      <td>1.162791</td>\n",
       "      <td>0.096899</td>\n",
       "    </tr>\n",
       "    <tr>\n",
       "      <th>3</th>\n",
       "      <td>0.198020</td>\n",
       "      <td>0.198020</td>\n",
       "      <td>1.188119</td>\n",
       "      <td>94.554455</td>\n",
       "      <td>0.000000</td>\n",
       "      <td>1.089109</td>\n",
       "      <td>0.000000</td>\n",
       "      <td>1.485149</td>\n",
       "      <td>0.891089</td>\n",
       "      <td>0.396040</td>\n",
       "    </tr>\n",
       "    <tr>\n",
       "      <th>4</th>\n",
       "      <td>0.101833</td>\n",
       "      <td>0.000000</td>\n",
       "      <td>0.305499</td>\n",
       "      <td>0.000000</td>\n",
       "      <td>96.130346</td>\n",
       "      <td>0.000000</td>\n",
       "      <td>0.814664</td>\n",
       "      <td>0.814664</td>\n",
       "      <td>0.203666</td>\n",
       "      <td>1.629328</td>\n",
       "    </tr>\n",
       "    <tr>\n",
       "      <th>5</th>\n",
       "      <td>0.336323</td>\n",
       "      <td>0.224215</td>\n",
       "      <td>0.336323</td>\n",
       "      <td>2.690583</td>\n",
       "      <td>0.224215</td>\n",
       "      <td>91.367713</td>\n",
       "      <td>1.345291</td>\n",
       "      <td>0.448430</td>\n",
       "      <td>2.690583</td>\n",
       "      <td>0.336323</td>\n",
       "    </tr>\n",
       "    <tr>\n",
       "      <th>6</th>\n",
       "      <td>1.565762</td>\n",
       "      <td>0.208768</td>\n",
       "      <td>0.208768</td>\n",
       "      <td>0.104384</td>\n",
       "      <td>0.521921</td>\n",
       "      <td>0.730689</td>\n",
       "      <td>96.137787</td>\n",
       "      <td>0.000000</td>\n",
       "      <td>0.521921</td>\n",
       "      <td>0.000000</td>\n",
       "    </tr>\n",
       "    <tr>\n",
       "      <th>7</th>\n",
       "      <td>0.194553</td>\n",
       "      <td>0.680934</td>\n",
       "      <td>1.167315</td>\n",
       "      <td>0.972763</td>\n",
       "      <td>0.778210</td>\n",
       "      <td>0.097276</td>\n",
       "      <td>0.097276</td>\n",
       "      <td>94.260700</td>\n",
       "      <td>0.097276</td>\n",
       "      <td>1.653696</td>\n",
       "    </tr>\n",
       "    <tr>\n",
       "      <th>8</th>\n",
       "      <td>0.410678</td>\n",
       "      <td>0.308008</td>\n",
       "      <td>0.924025</td>\n",
       "      <td>2.772074</td>\n",
       "      <td>0.410678</td>\n",
       "      <td>1.232033</td>\n",
       "      <td>0.924025</td>\n",
       "      <td>0.205339</td>\n",
       "      <td>91.889117</td>\n",
       "      <td>0.924025</td>\n",
       "    </tr>\n",
       "    <tr>\n",
       "      <th>9</th>\n",
       "      <td>0.396432</td>\n",
       "      <td>0.693756</td>\n",
       "      <td>0.495540</td>\n",
       "      <td>1.090188</td>\n",
       "      <td>2.180377</td>\n",
       "      <td>0.297324</td>\n",
       "      <td>0.396432</td>\n",
       "      <td>1.288404</td>\n",
       "      <td>0.297324</td>\n",
       "      <td>92.864222</td>\n",
       "    </tr>\n",
       "  </tbody>\n",
       "</table>\n",
       "</div>"
      ],
      "text/plain": [
       "           0          1          2          3          4          5  \\\n",
       "0  95.816327   0.510204   1.020408   0.306122   0.000000   0.408163   \n",
       "1   0.264317  97.709251   0.264317   0.352423   0.088106   0.000000   \n",
       "2   1.550388   0.096899  93.701550   2.034884   0.484496   0.096899   \n",
       "3   0.198020   0.198020   1.188119  94.554455   0.000000   1.089109   \n",
       "4   0.101833   0.000000   0.305499   0.000000  96.130346   0.000000   \n",
       "5   0.336323   0.224215   0.336323   2.690583   0.224215  91.367713   \n",
       "6   1.565762   0.208768   0.208768   0.104384   0.521921   0.730689   \n",
       "7   0.194553   0.680934   1.167315   0.972763   0.778210   0.097276   \n",
       "8   0.410678   0.308008   0.924025   2.772074   0.410678   1.232033   \n",
       "9   0.396432   0.693756   0.495540   1.090188   2.180377   0.297324   \n",
       "\n",
       "           6          7          8          9  \n",
       "0   1.530612   0.102041   0.306122   0.000000  \n",
       "1   0.352423   0.352423   0.616740   0.000000  \n",
       "2   0.096899   0.678295   1.162791   0.096899  \n",
       "3   0.000000   1.485149   0.891089   0.396040  \n",
       "4   0.814664   0.814664   0.203666   1.629328  \n",
       "5   1.345291   0.448430   2.690583   0.336323  \n",
       "6  96.137787   0.000000   0.521921   0.000000  \n",
       "7   0.097276  94.260700   0.097276   1.653696  \n",
       "8   0.924025   0.205339  91.889117   0.924025  \n",
       "9   0.396432   1.288404   0.297324  92.864222  "
      ]
     },
     "execution_count": 8,
     "metadata": {},
     "output_type": "execute_result"
    }
   ],
   "source": [
    "Classes, _ = cnnet.use(Xtest)\n",
    "perc_correct = 100 * np.mean(Classes == Ttest)\n",
    "print(f'Test accuracy in percent correct: {perc_correct:.2f}')\n",
    "confusion_matrix(Classes, Ttest)"
   ]
  },
  {
   "cell_type": "markdown",
   "metadata": {},
   "source": [
    "### Experiments\n",
    "\n",
    "To explore the effects of different CNN structures, show results for the following steps.  For each architecture, use the same number of epochs, batch size, and learning rate as used above.\n",
    "\n",
    "1. Compare test accuracy of CNN2D nets with one, two and three convolutional layers, each with 10 units and patch sizes of 5 and strides of 1.\n",
    "2. Using the best number of convolutional layers found in Step 1, compare the test accuracies of CNN2d nets with zero, one, and two fully-connected layers each with 10 hidden units.\n",
    "\n",
    "Combine the results of each of your runs and display them in a `pandas.Dataframe` that includes the network structure and percent correct on train and test sets. Discuss your results, and describe the network structure and training parameters that produced the best test results."
   ]
  },
  {
   "cell_type": "code",
   "execution_count": 9,
   "metadata": {},
   "outputs": [],
   "source": [
    "results1 = []"
   ]
  },
  {
   "cell_type": "markdown",
   "metadata": {},
   "source": [
    "### 1. CNN2D Nets with 1, 2, or 3 convolutional layers, each with 10 units and patch sizes of 1 and strides of 1"
   ]
  },
  {
   "cell_type": "code",
   "execution_count": 10,
   "metadata": {},
   "outputs": [
    {
     "name": "stdout",
     "output_type": "stream",
     "text": [
      "adam: Epoch 2 Loss 0.722\n",
      "adam: Epoch 4 Loss 0.626\n",
      "adam: Epoch 6 Loss 0.531\n",
      "adam: Epoch 8 Loss 0.490\n",
      "adam: Epoch 10 Loss 0.443\n",
      "adam: Epoch 12 Loss 0.420\n",
      "adam: Epoch 14 Loss 0.397\n",
      "adam: Epoch 16 Loss 0.388\n",
      "adam: Epoch 18 Loss 0.367\n",
      "adam: Epoch 20 Loss 0.380\n"
     ]
    }
   ],
   "source": [
    "# Train CNN2D with 1 convolutional layer\n",
    "cnnet1 = CNN2D(28 * 28, [10], [5], len(np.unique(Ttrain)), [5], [1], device=device)\n",
    "cnnet1.train(Xtrain, Ttrain, batch_size, n_epochs, learning_rate, method='adam');"
   ]
  },
  {
   "cell_type": "code",
   "execution_count": 11,
   "metadata": {},
   "outputs": [
    {
     "name": "stdout",
     "output_type": "stream",
     "text": [
      "Train accuracy in percent correct for CNN 1: 90.58\n",
      "Test accuracy in percent correct for CNN 1: 90.82\n"
     ]
    }
   ],
   "source": [
    "# Calculate accuracies from above CNN2D and store\n",
    "train_classes, _ = cnnet1.use(Xtrain)\n",
    "train_perc_correct = 100 * np.mean(train_classes == Ttrain)\n",
    "print(f'Train accuracy in percent correct for CNN 1: {train_perc_correct:.2f}')\n",
    "\n",
    "Classes, _ = cnnet1.use(Xtest)\n",
    "perc_correct = 100 * np.mean(Classes == Ttest)\n",
    "print(f'Test accuracy in percent correct for CNN 1: {perc_correct:.2f}')\n",
    "results1.append({\"Conv Arch\": \"[10]\", \"FC Arch\": \"[5]\", \"Parch Arch\": \"[5]\", \"Stride Arch\": \"[1]\", \"Train Acc\": f'{train_perc_correct:.2f}', \"Test Acc\": f'{perc_correct:.2f}'})"
   ]
  },
  {
   "cell_type": "code",
   "execution_count": 12,
   "metadata": {},
   "outputs": [
    {
     "name": "stdout",
     "output_type": "stream",
     "text": [
      "adam: Epoch 2 Loss 0.609\n",
      "adam: Epoch 4 Loss 0.422\n",
      "adam: Epoch 6 Loss 0.359\n",
      "adam: Epoch 8 Loss 0.355\n",
      "adam: Epoch 10 Loss 0.319\n",
      "adam: Epoch 12 Loss 0.334\n",
      "adam: Epoch 14 Loss 0.311\n",
      "adam: Epoch 16 Loss 0.316\n",
      "adam: Epoch 18 Loss 0.306\n",
      "adam: Epoch 20 Loss 0.303\n"
     ]
    }
   ],
   "source": [
    "# Train CNN2D with 2 convolutional layers\n",
    "cnnet2 = CNN2D(28 * 28, [10, 10], [5], len(np.unique(Ttrain)), [5, 5], [1, 1], device=device)\n",
    "cnnet2.train(Xtrain, Ttrain, batch_size, n_epochs, learning_rate, method='adam');"
   ]
  },
  {
   "cell_type": "code",
   "execution_count": 13,
   "metadata": {},
   "outputs": [
    {
     "name": "stdout",
     "output_type": "stream",
     "text": [
      "Train accuracy in percent correct for CNN 2: 92.95\n",
      "Test accuracy in percent correct for CNN 2: 93.19\n"
     ]
    }
   ],
   "source": [
    "# Calculate accuracies from above CNN2D and store\n",
    "train_classes, _ = cnnet2.use(Xtrain)\n",
    "train_perc_correct = 100 * np.mean(train_classes == Ttrain)\n",
    "print(f'Train accuracy in percent correct for CNN 2: {train_perc_correct:.2f}')\n",
    "\n",
    "Classes, _ = cnnet2.use(Xtest)\n",
    "perc_correct = 100 * np.mean(Classes == Ttest)\n",
    "print(f'Test accuracy in percent correct for CNN 2: {perc_correct:.2f}')\n",
    "results1.append({\"Conv Arch\": \"[10, 10]\", \"FC Arch\": \"[5]\", \"Parch Arch\": \"[5, 5]\", \"Stride Arch\": \"[1, 1]\", \"Train Acc\": f'{train_perc_correct:.2f}', \"Test Acc\": f'{perc_correct:.2f}'})"
   ]
  },
  {
   "cell_type": "code",
   "execution_count": 14,
   "metadata": {},
   "outputs": [
    {
     "name": "stdout",
     "output_type": "stream",
     "text": [
      "adam: Epoch 2 Loss 0.647\n",
      "adam: Epoch 4 Loss 0.398\n",
      "adam: Epoch 6 Loss 0.338\n",
      "adam: Epoch 8 Loss 0.299\n",
      "adam: Epoch 10 Loss 0.286\n",
      "adam: Epoch 12 Loss 0.271\n",
      "adam: Epoch 14 Loss 0.265\n",
      "adam: Epoch 16 Loss 0.246\n",
      "adam: Epoch 18 Loss 0.241\n",
      "adam: Epoch 20 Loss 0.221\n"
     ]
    }
   ],
   "source": [
    "# Train CNN2D with 3 convolutional layers\n",
    "cnnet3 = CNN2D(28 * 28, [10, 10, 10], [5], len(np.unique(Ttrain)), [5, 5, 5], [1, 1, 1], device=device)\n",
    "cnnet3.train(Xtrain, Ttrain, batch_size, n_epochs, learning_rate, method='adam');"
   ]
  },
  {
   "cell_type": "code",
   "execution_count": 15,
   "metadata": {},
   "outputs": [
    {
     "name": "stdout",
     "output_type": "stream",
     "text": [
      "Train accuracy in percent correct for CNN 3: 92.87\n",
      "Test accuracy in percent correct for CNN 3: 93.18\n"
     ]
    }
   ],
   "source": [
    "# Calculate accuracies from above CNN2D and store\n",
    "train_classes, _ = cnnet3.use(Xtrain)\n",
    "train_perc_correct = 100 * np.mean(train_classes == Ttrain)\n",
    "print(f'Train accuracy in percent correct for CNN 3: {train_perc_correct:.2f}')\n",
    "\n",
    "Classes, _ = cnnet3.use(Xtest)\n",
    "perc_correct = 100 * np.mean(Classes == Ttest)\n",
    "print(f'Test accuracy in percent correct for CNN 3: {perc_correct:.2f}')\n",
    "results1.append({\"Conv Arch\": \"[10, 10, 10]\", \"FC Arch\": \"[5]\", \"Parch Arch\": \"[5, 5, 5]\", \"Stride Arch\": \"[1, 1, 1]\", \"Train Acc\": f'{train_perc_correct:.2f}', \"Test Acc\": f'{perc_correct:.2f}'})"
   ]
  },
  {
   "cell_type": "markdown",
   "metadata": {},
   "source": [
    "### 2. Using the best number of convolutional layers found in Step 1, compare the test accuracies of CNN2d nets with zero, one, and two fully-connected layers each with 10 hidden units.\n",
    "The best performing model from those above was the one with 3 convolutional layers, so using that going forward"
   ]
  },
  {
   "cell_type": "code",
   "execution_count": null,
   "metadata": {},
   "outputs": [
    {
     "name": "stdout",
     "output_type": "stream",
     "text": [
      "adam: Epoch 2 Loss 0.167\n",
      "adam: Epoch 4 Loss 0.178\n",
      "adam: Epoch 6 Loss 0.175\n",
      "adam: Epoch 8 Loss 0.168\n",
      "adam: Epoch 10 Loss 0.136\n",
      "adam: Epoch 12 Loss 0.145\n",
      "adam: Epoch 14 Loss 0.088\n",
      "adam: Epoch 16 Loss 0.082\n",
      "adam: Epoch 18 Loss 0.082\n",
      "adam: Epoch 20 Loss 0.088\n"
     ]
    },
    {
     "data": {
      "text/plain": [
       "CNN2D(\n",
       "  (conv_layers): ModuleList(\n",
       "    (0): Conv2d(1, 10, kernel_size=(5, 5), stride=(1, 1))\n",
       "    (1-2): 2 x Conv2d(10, 10, kernel_size=(5, 5), stride=(1, 1))\n",
       "  )\n",
       "  (fc_layers): ModuleList(\n",
       "    (0): Linear(in_features=2560, out_features=10, bias=True)\n",
       "  )\n",
       ")"
      ]
     },
     "execution_count": 16,
     "metadata": {},
     "output_type": "execute_result"
    }
   ],
   "source": [
    "# Train CNN2D with 0 FC Layers\n",
    "cnnet4 = CNN2D(28 * 28, [10, 10, 10], [], len(np.unique(Ttrain)), [5, 5, 5], [1, 1, 1], device=device)\n",
    "cnnet4.train(Xtrain, Ttrain, batch_size, n_epochs, learning_rate, method='adam');"
   ]
  },
  {
   "cell_type": "code",
   "execution_count": 17,
   "metadata": {},
   "outputs": [
    {
     "name": "stdout",
     "output_type": "stream",
     "text": [
      "Train accuracy in percent correct for CNN 4: 98.82\n",
      "Test accuracy in percent correct for CNN 4: 97.66\n"
     ]
    }
   ],
   "source": [
    "# Calculate accuracies from above model and store\n",
    "train_classes, _ = cnnet4.use(Xtrain)\n",
    "train_perc_correct = 100 * np.mean(train_classes == Ttrain)\n",
    "print(f'Train accuracy in percent correct for CNN 4: {train_perc_correct:.2f}')\n",
    "\n",
    "Classes, _ = cnnet4.use(Xtest)\n",
    "perc_correct = 100 * np.mean(Classes == Ttest)\n",
    "print(f'Test accuracy in percent correct for CNN 4: {perc_correct:.2f}')\n",
    "results1.append({\"Conv Arch\": \"[10, 10, 10]\", \"FC Arch\": \"[]\", \"Parch Arch\": \"[5, 5, 5]\", \"Stride Arch\": \"[1, 1, 1]\", \"Train Acc\": f'{train_perc_correct:.2f}', \"Test Acc\": f'{perc_correct:.2f}'})"
   ]
  },
  {
   "cell_type": "code",
   "execution_count": 18,
   "metadata": {},
   "outputs": [
    {
     "name": "stdout",
     "output_type": "stream",
     "text": [
      "adam: Epoch 2 Loss 0.323\n",
      "adam: Epoch 4 Loss 0.246\n",
      "adam: Epoch 6 Loss 0.215\n",
      "adam: Epoch 8 Loss 0.203\n",
      "adam: Epoch 10 Loss 0.167\n",
      "adam: Epoch 12 Loss 0.189\n",
      "adam: Epoch 14 Loss 0.176\n",
      "adam: Epoch 16 Loss 0.181\n",
      "adam: Epoch 18 Loss 0.168\n",
      "adam: Epoch 20 Loss 0.169\n"
     ]
    }
   ],
   "source": [
    "# Train CNN2D with 1 FC Layer\n",
    "cnnet5 = CNN2D(28 * 28, [10, 10, 10], [10], len(np.unique(Ttrain)), [5, 5, 5], [1, 1, 1], device=device)\n",
    "cnnet5.train(Xtrain, Ttrain, batch_size, n_epochs, learning_rate, method='adam');"
   ]
  },
  {
   "cell_type": "code",
   "execution_count": 19,
   "metadata": {},
   "outputs": [
    {
     "name": "stdout",
     "output_type": "stream",
     "text": [
      "Train accuracy in percent correct for CNN 5: 94.86\n",
      "Test accuracy in percent correct for CNN 5: 95.17\n"
     ]
    }
   ],
   "source": [
    "# Calculate accuracies from above model and store\n",
    "train_classes, _ = cnnet5.use(Xtrain)\n",
    "train_perc_correct = 100 * np.mean(train_classes == Ttrain)\n",
    "print(f'Train accuracy in percent correct for CNN 5: {train_perc_correct:.2f}')\n",
    "\n",
    "Classes, _ = cnnet5.use(Xtest)\n",
    "perc_correct = 100 * np.mean(Classes == Ttest)\n",
    "print(f'Test accuracy in percent correct for CNN 5: {perc_correct:.2f}')\n",
    "results1.append({\"Conv Arch\": \"[10, 10, 10]\", \"FC Arch\": \"[10]\", \"Parch Arch\": \"[5, 5, 5]\", \"Stride Arch\": \"[1, 1, 1]\", \"Train Acc\": f'{train_perc_correct:.2f}', \"Test Acc\": f'{perc_correct:.2f}'})"
   ]
  },
  {
   "cell_type": "code",
   "execution_count": 20,
   "metadata": {},
   "outputs": [
    {
     "name": "stdout",
     "output_type": "stream",
     "text": [
      "adam: Epoch 2 Loss 0.380\n",
      "adam: Epoch 4 Loss 0.283\n",
      "adam: Epoch 6 Loss 0.249\n",
      "adam: Epoch 8 Loss 0.235\n",
      "adam: Epoch 10 Loss 0.227\n",
      "adam: Epoch 12 Loss 0.225\n",
      "adam: Epoch 14 Loss 0.197\n",
      "adam: Epoch 16 Loss 0.202\n",
      "adam: Epoch 18 Loss 0.224\n",
      "adam: Epoch 20 Loss 0.194\n"
     ]
    }
   ],
   "source": [
    "# Train CNN2D with 3 FC Layers\n",
    "cnnet6 = CNN2D(28 * 28, [10, 10, 10], [10, 10], len(np.unique(Ttrain)), [5, 5, 5], [1, 1, 1], device=device)\n",
    "cnnet6.train(Xtrain, Ttrain, batch_size, n_epochs, learning_rate, method='adam');"
   ]
  },
  {
   "cell_type": "code",
   "execution_count": 21,
   "metadata": {},
   "outputs": [
    {
     "name": "stdout",
     "output_type": "stream",
     "text": [
      "Train accuracy in percent correct for CNN 6: 94.57\n",
      "Test accuracy in percent correct for CNN 6: 94.75\n"
     ]
    }
   ],
   "source": [
    "# Calculate accuracies for above model and store\n",
    "train_classes, _ = cnnet6.use(Xtrain)\n",
    "train_perc_correct = 100 * np.mean(train_classes == Ttrain)\n",
    "print(f'Train accuracy in percent correct for CNN 6: {train_perc_correct:.2f}')\n",
    "\n",
    "Classes, _ = cnnet6.use(Xtest)\n",
    "perc_correct = 100 * np.mean(Classes == Ttest)\n",
    "print(f'Test accuracy in percent correct for CNN 6: {perc_correct:.2f}')\n",
    "results1.append({\"Conv Arch\": \"[10, 10, 10]\", \"FC Arch\": \"[10, 10, 10]\", \"Parch Arch\": \"[5, 5, 5]\", \"Stride Arch\": \"[1, 1, 1]\", \"Train Acc\": f'{train_perc_correct:.2f}', \"Test Acc\": f'{perc_correct:.2f}'})"
   ]
  },
  {
   "cell_type": "code",
   "execution_count": 22,
   "metadata": {},
   "outputs": [
    {
     "data": {
      "text/html": [
       "<div>\n",
       "<style scoped>\n",
       "    .dataframe tbody tr th:only-of-type {\n",
       "        vertical-align: middle;\n",
       "    }\n",
       "\n",
       "    .dataframe tbody tr th {\n",
       "        vertical-align: top;\n",
       "    }\n",
       "\n",
       "    .dataframe thead th {\n",
       "        text-align: right;\n",
       "    }\n",
       "</style>\n",
       "<table border=\"1\" class=\"dataframe\">\n",
       "  <thead>\n",
       "    <tr style=\"text-align: right;\">\n",
       "      <th></th>\n",
       "      <th>Conv Arch</th>\n",
       "      <th>FC Arch</th>\n",
       "      <th>Parch Arch</th>\n",
       "      <th>Stride Arch</th>\n",
       "      <th>Train Acc</th>\n",
       "      <th>Test Acc</th>\n",
       "    </tr>\n",
       "  </thead>\n",
       "  <tbody>\n",
       "    <tr>\n",
       "      <th>0</th>\n",
       "      <td>[10]</td>\n",
       "      <td>[5]</td>\n",
       "      <td>[5]</td>\n",
       "      <td>[1]</td>\n",
       "      <td>90.58</td>\n",
       "      <td>90.82</td>\n",
       "    </tr>\n",
       "    <tr>\n",
       "      <th>1</th>\n",
       "      <td>[10, 10]</td>\n",
       "      <td>[5]</td>\n",
       "      <td>[5, 5]</td>\n",
       "      <td>[1, 1]</td>\n",
       "      <td>92.95</td>\n",
       "      <td>93.19</td>\n",
       "    </tr>\n",
       "    <tr>\n",
       "      <th>2</th>\n",
       "      <td>[10, 10, 10]</td>\n",
       "      <td>[5]</td>\n",
       "      <td>[5, 5, 5]</td>\n",
       "      <td>[1, 1, 1]</td>\n",
       "      <td>92.87</td>\n",
       "      <td>93.18</td>\n",
       "    </tr>\n",
       "    <tr>\n",
       "      <th>3</th>\n",
       "      <td>[10, 10, 10]</td>\n",
       "      <td>[]</td>\n",
       "      <td>[5, 5, 5]</td>\n",
       "      <td>[1, 1, 1]</td>\n",
       "      <td>98.82</td>\n",
       "      <td>97.66</td>\n",
       "    </tr>\n",
       "    <tr>\n",
       "      <th>4</th>\n",
       "      <td>[10, 10, 10]</td>\n",
       "      <td>[10]</td>\n",
       "      <td>[5, 5, 5]</td>\n",
       "      <td>[1, 1, 1]</td>\n",
       "      <td>94.86</td>\n",
       "      <td>95.17</td>\n",
       "    </tr>\n",
       "    <tr>\n",
       "      <th>5</th>\n",
       "      <td>[10, 10, 10]</td>\n",
       "      <td>[10, 10, 10]</td>\n",
       "      <td>[5, 5, 5]</td>\n",
       "      <td>[1, 1, 1]</td>\n",
       "      <td>94.57</td>\n",
       "      <td>94.75</td>\n",
       "    </tr>\n",
       "  </tbody>\n",
       "</table>\n",
       "</div>"
      ],
      "text/plain": [
       "      Conv Arch       FC Arch Parch Arch Stride Arch Train Acc Test Acc\n",
       "0          [10]           [5]        [5]         [1]     90.58    90.82\n",
       "1      [10, 10]           [5]     [5, 5]      [1, 1]     92.95    93.19\n",
       "2  [10, 10, 10]           [5]  [5, 5, 5]   [1, 1, 1]     92.87    93.18\n",
       "3  [10, 10, 10]            []  [5, 5, 5]   [1, 1, 1]     98.82    97.66\n",
       "4  [10, 10, 10]          [10]  [5, 5, 5]   [1, 1, 1]     94.86    95.17\n",
       "5  [10, 10, 10]  [10, 10, 10]  [5, 5, 5]   [1, 1, 1]     94.57    94.75"
      ]
     },
     "execution_count": 22,
     "metadata": {},
     "output_type": "execute_result"
    }
   ],
   "source": [
    "# Convert results into dataframe and display\n",
    "df1 = pandas.DataFrame(results1, columns=[\"Conv Arch\", \"FC Arch\", \"Parch Arch\", \"Stride Arch\", \"Train Acc\", \"Test Acc\"])\n",
    "df1"
   ]
  },
  {
   "cell_type": "markdown",
   "metadata": {},
   "source": [
    "The CNN with 3 Convolutional Layers performed the best out of the first 3 models. It seems that 1 or 2 convolutional layers weren't enough to completely resolve features from the input data, so 3 convolutional layers performed better.\n",
    "\n",
    "Interestingly, the CNN with 3 Conv Layers and no Fully Connected Layers performed the best out of every model on both the Train and Test sets. The Train and Test Accuracies for this model were very close, indicating that something about its structure interacting with this data resulted in a very well fit model that can generalize without overfitting to the Train data. It's possible that the introduction of an increasing number of FC Layers in the other models may be causing a loss of information or relationships within the data. It's also possible that the FC Layers introduce a vanishing/exploding gradient into the model that is harming the accuracy. However, all of the last 3 models performed better than any of the first 3 on both the Train and Test sets, indicating that the FC Layer architecture of a single layer of 5 units in the first 3 models may be particularly bad for this dataset."
   ]
  },
  {
   "cell_type": "markdown",
   "metadata": {},
   "source": [
    "## CNN1D\n",
    "\n",
    "Complete the following code cell to define `CNN1D`.  The only change from `CNN2D` that is required is in the constructor.  Complete these steps.\n",
    "\n",
    "1. Copy the `make_conv_and_fc_layers` function from `CNN2D`.\n",
    "2. For each convolutional layer, create a `torch.nn.Conv1d` object instead of a `torch.nn.Conv2d` object.\n",
    "3. Modify the statement `input_hw = int(np.sqrt(n_inputs))` appropriately. `input_hw` refers to \"input height width\".  What would beed to change to make this make sense for a single dimensional sample?\n",
    "4. Modify the statement `n_in = input_hw ** 2 * n_in` appropriately."
   ]
  },
  {
   "cell_type": "code",
   "execution_count": 23,
   "metadata": {},
   "outputs": [],
   "source": [
    "class CNN1D(CNN2D):\n",
    "\n",
    "    def make_conv_and_fc_layers(self, n_inputs, n_hiddens_per_conv_layer, n_hiddens_per_fc_layer, n_outputs,\n",
    "                                patch_size_per_conv_layer, stride_per_conv_layer):\n",
    "        # Create all convolutional layers\n",
    "        # First argument to first Conv2d is number of channels for each pixel.\n",
    "        # Just 1 for our grayscale images.\n",
    "        n_in = 1\n",
    "        input_hw = n_inputs  # original input image height (=width because image assumed square)\n",
    "        self.conv_layers = torch.nn.ModuleList()\n",
    "        layeri = 0\n",
    "        for nh, patch_size, stride in zip(n_hiddens_per_conv_layer,\n",
    "                                          patch_size_per_conv_layer,\n",
    "                                          stride_per_conv_layer):\n",
    "            self.conv_layers.append(torch.nn.Conv1d(n_in, nh, kernel_size=patch_size, stride=stride))\n",
    "            conv_layer_output_hw = (input_hw - patch_size) // stride + 1\n",
    "            if conv_layer_output_hw <= 0:\n",
    "                raise Exception(f'''For conv layer {layeri}, input_hw of {input_hw} is less than patch_size {patch_size}.\n",
    "Try reducing the patch_size for this layer or for the previous layer.''')\n",
    "            input_hw = conv_layer_output_hw  # for next trip through this loop\n",
    "            n_in = nh\n",
    "            layeri += 1\n",
    "           \n",
    "        # Create all fully connected layers.  First must determine number of inputs to first\n",
    "        # fully-connected layer that results from flattening the images coming out of the last\n",
    "        # convolutional layer.\n",
    "        n_in = input_hw * n_in\n",
    "        self.fc_layers = torch.nn.ModuleList()\n",
    "        for nh in n_hiddens_per_fc_layer:\n",
    "            self.fc_layers.append(torch.nn.Linear(n_in, nh))\n",
    "            n_in = nh\n",
    "        self.fc_layers.append(torch.nn.Linear(n_in, n_outputs))"
   ]
  },
  {
   "cell_type": "markdown",
   "metadata": {},
   "source": [
    "### Toy Data to Test `CNN1D`\n",
    "\n",
    "Here is some toy data to test your `CNN1D` definition.  Each sample is now 1-dimensional.  Let's make vectors of two kinds, ones with square pulses and ones with triangular pulses, at random locations and random durations. Both kinds will be 100 values long, with zeros between the waves."
   ]
  },
  {
   "cell_type": "code",
   "execution_count": 24,
   "metadata": {},
   "outputs": [],
   "source": [
    "def make_square_pulse():\n",
    "    sample = np.zeros(100)\n",
    "    for i in range(np.random.randint(1, 5)):  # making from 1 to 4 pulses\n",
    "        start = np.random.randint(0, 80)\n",
    "        width = np.random.randint(5, 20)\n",
    "        sample[start:start + width] = 1\n",
    "    return sample"
   ]
  },
  {
   "cell_type": "code",
   "execution_count": 25,
   "metadata": {},
   "outputs": [
    {
     "data": {
      "text/plain": [
       "array([0., 0., 0., 0., 0., 0., 0., 0., 0., 0., 0., 0., 0., 0., 0., 0., 0.,\n",
       "       0., 0., 0., 1., 1., 1., 1., 1., 1., 1., 1., 1., 1., 1., 1., 1., 1.,\n",
       "       1., 0., 0., 0., 0., 0., 0., 0., 1., 1., 1., 1., 1., 1., 1., 1., 1.,\n",
       "       1., 1., 1., 1., 1., 1., 0., 0., 0., 0., 0., 0., 0., 0., 0., 0., 0.,\n",
       "       0., 0., 0., 0., 0., 0., 0., 0., 0., 0., 1., 1., 1., 1., 1., 1., 1.,\n",
       "       1., 1., 0., 0., 0., 0., 0., 0., 0., 0., 0., 0., 0., 0., 0.])"
      ]
     },
     "execution_count": 25,
     "metadata": {},
     "output_type": "execute_result"
    }
   ],
   "source": [
    "square_pulse = make_square_pulse()\n",
    "square_pulse"
   ]
  },
  {
   "cell_type": "code",
   "execution_count": 26,
   "metadata": {
    "scrolled": true
   },
   "outputs": [
    {
     "data": {
      "text/plain": [
       "[<matplotlib.lines.Line2D at 0x277953d7b30>]"
      ]
     },
     "execution_count": 26,
     "metadata": {},
     "output_type": "execute_result"
    },
    {
     "data": {
      "image/png": "[encoded data removed]",
      "text/plain": [
       "<Figure size 640x480 with 1 Axes>"
      ]
     },
     "metadata": {},
     "output_type": "display_data"
    }
   ],
   "source": [
    "plt.plot(square_pulse)"
   ]
  },
  {
   "cell_type": "code",
   "execution_count": 27,
   "metadata": {},
   "outputs": [],
   "source": [
    "def make_triangular_pulse():\n",
    "    sample = np.zeros(100)\n",
    "    for i in range(np.random.randint(1, 5)):  # making from 1 to 4 pulses\n",
    "        start = np.random.randint(0, 80)\n",
    "        width = np.random.randint(5, 20)\n",
    "        if width % 2 == 1:\n",
    "            width += 1  # if odd, make it even\n",
    "        sample[start:start + width // 2] = np.linspace(0, 1, width // 2)\n",
    "        sample[start + width // 2:start + width] = np.linspace(1, 0, width // 2)\n",
    "    return sample"
   ]
  },
  {
   "cell_type": "code",
   "execution_count": 28,
   "metadata": {},
   "outputs": [
    {
     "data": {
      "text/plain": [
       "array([0.        , 0.5       , 1.        , 1.        , 0.5       ,\n",
       "       0.        , 0.        , 0.        , 0.        , 0.        ,\n",
       "       0.        , 0.        , 0.        , 0.        , 0.        ,\n",
       "       0.        , 0.        , 0.        , 0.        , 0.        ,\n",
       "       0.16666667, 0.33333333, 0.5       , 0.66666667, 0.83333333,\n",
       "       1.        , 1.        , 0.83333333, 0.66666667, 0.5       ,\n",
       "       0.33333333, 0.16666667, 0.        , 0.        , 0.        ,\n",
       "       0.        , 0.        , 0.        , 0.        , 0.        ,\n",
       "       0.        , 0.        , 0.        , 0.        , 0.        ,\n",
       "       0.        , 0.        , 0.        , 0.        , 0.        ,\n",
       "       0.        , 0.        , 0.        , 0.        , 0.        ,\n",
       "       0.        , 0.        , 0.        , 0.        , 0.        ,\n",
       "       0.        , 0.        , 0.        , 0.        , 0.        ,\n",
       "       0.        , 0.        , 0.        , 0.        , 0.        ,\n",
       "       0.        , 0.11111111, 0.22222222, 0.33333333, 0.44444444,\n",
       "       0.55555556, 0.66666667, 0.77777778, 0.88888889, 1.        ,\n",
       "       1.        , 0.88888889, 0.77777778, 0.66666667, 0.55555556,\n",
       "       0.44444444, 0.33333333, 0.22222222, 0.11111111, 0.        ,\n",
       "       0.        , 0.        , 0.        , 0.        , 0.        ,\n",
       "       0.        , 0.        , 0.        , 0.        , 0.        ])"
      ]
     },
     "execution_count": 28,
     "metadata": {},
     "output_type": "execute_result"
    }
   ],
   "source": [
    "triangular_pulse = make_triangular_pulse()\n",
    "triangular_pulse"
   ]
  },
  {
   "cell_type": "code",
   "execution_count": 29,
   "metadata": {
    "scrolled": true
   },
   "outputs": [
    {
     "data": {
      "text/plain": [
       "[<matplotlib.lines.Line2D at 0x27795447950>]"
      ]
     },
     "execution_count": 29,
     "metadata": {},
     "output_type": "execute_result"
    },
    {
     "data": {
      "image/png": "[encoded data removed]",
      "text/plain": [
       "<Figure size 640x480 with 1 Axes>"
      ]
     },
     "metadata": {},
     "output_type": "display_data"
    }
   ],
   "source": [
    "plt.plot(triangular_pulse)"
   ]
  },
  {
   "cell_type": "code",
   "execution_count": 30,
   "metadata": {},
   "outputs": [
    {
     "data": {
      "text/plain": [
       "((1000, 100), (1000, 1), (1000, 100), (1000, 1))"
      ]
     },
     "execution_count": 30,
     "metadata": {},
     "output_type": "execute_result"
    }
   ],
   "source": [
    "n_each = 500\n",
    "Xtrain = np.array([make_square_pulse() for i in range(n_each)] +\n",
    "                   [make_triangular_pulse() for i in range(n_each)])\n",
    "Ttrain = np.array(['square'] * n_each + ['triangular'] * n_each).reshape(-1, 1)\n",
    "n_each = 500\n",
    "Xtest = np.array([make_square_pulse() for i in range(n_each)] +\n",
    "                   [make_triangular_pulse() for i in range(n_each)])\n",
    "Ttest = np.array(['square'] * n_each + ['triangular'] * n_each).reshape(-1, 1)\n",
    "Xtrain.shape, Ttrain.shape, Xtest.shape, Ttest.shape"
   ]
  },
  {
   "cell_type": "code",
   "execution_count": 31,
   "metadata": {},
   "outputs": [
    {
     "data": {
      "text/plain": [
       "True"
      ]
     },
     "execution_count": 31,
     "metadata": {},
     "output_type": "execute_result"
    }
   ],
   "source": [
    "np.newaxis == None"
   ]
  },
  {
   "cell_type": "code",
   "execution_count": 32,
   "metadata": {},
   "outputs": [
    {
     "data": {
      "text/plain": [
       "(1000, 1, 100)"
      ]
     },
     "execution_count": 32,
     "metadata": {},
     "output_type": "execute_result"
    }
   ],
   "source": [
    "Xtrain = Xtrain[:, None, :]\n",
    "Xtrain.shape"
   ]
  },
  {
   "cell_type": "code",
   "execution_count": 33,
   "metadata": {},
   "outputs": [
    {
     "data": {
      "text/plain": [
       "((1000, 1, 100), (1000, 1, 100))"
      ]
     },
     "execution_count": 33,
     "metadata": {},
     "output_type": "execute_result"
    }
   ],
   "source": [
    "Xtrain = Xtrain.reshape(Xtrain.shape[0], 1, -1)\n",
    "Xtest = Xtest.reshape(Xtest.shape[0], 1, -1)\n",
    "Xtrain.shape, Xtest.shape"
   ]
  },
  {
   "cell_type": "code",
   "execution_count": 34,
   "metadata": {},
   "outputs": [
    {
     "name": "stdout",
     "output_type": "stream",
     "text": [
      "adam: Epoch 10 Loss 0.639\n",
      "adam: Epoch 20 Loss 0.600\n",
      "adam: Epoch 30 Loss 0.252\n",
      "adam: Epoch 40 Loss 0.045\n",
      "adam: Epoch 50 Loss 0.008\n",
      "adam: Epoch 60 Loss 0.003\n",
      "adam: Epoch 70 Loss 0.001\n",
      "adam: Epoch 80 Loss 0.001\n",
      "adam: Epoch 90 Loss 0.000\n",
      "adam: Epoch 100 Loss 0.000\n"
     ]
    },
    {
     "data": {
      "text/plain": [
       "Text(0.5, 1.0, 'Pulses')"
      ]
     },
     "execution_count": 34,
     "metadata": {},
     "output_type": "execute_result"
    },
    {
     "data": {
      "image/png": "[encoded data removed]",
      "text/plain": [
       "<Figure size 640x480 with 1 Axes>"
      ]
     },
     "metadata": {},
     "output_type": "display_data"
    }
   ],
   "source": [
    "cnnet1 = CNN1D(100, [10, 5], [5, 5], 2, [10, 4], [1, 2], device=device)\n",
    "\n",
    "n_epochs = 100\n",
    "batch_size = 10\n",
    "learning_rate = 0.001\n",
    "\n",
    "cnnet1.train(Xtrain, Ttrain, batch_size, n_epochs, learning_rate, method='adam')\n",
    "\n",
    "plt.plot(cnnet1.error_trace, label='Pytorch')\n",
    "plt.title('Pulses')"
   ]
  },
  {
   "cell_type": "code",
   "execution_count": 35,
   "metadata": {},
   "outputs": [
    {
     "name": "stdout",
     "output_type": "stream",
     "text": [
      "Test accuracy in percent correct: 99.10\n"
     ]
    },
    {
     "data": {
      "text/html": [
       "<div>\n",
       "<style scoped>\n",
       "    .dataframe tbody tr th:only-of-type {\n",
       "        vertical-align: middle;\n",
       "    }\n",
       "\n",
       "    .dataframe tbody tr th {\n",
       "        vertical-align: top;\n",
       "    }\n",
       "\n",
       "    .dataframe thead th {\n",
       "        text-align: right;\n",
       "    }\n",
       "</style>\n",
       "<table border=\"1\" class=\"dataframe\">\n",
       "  <thead>\n",
       "    <tr style=\"text-align: right;\">\n",
       "      <th></th>\n",
       "      <th>square</th>\n",
       "      <th>triangular</th>\n",
       "    </tr>\n",
       "  </thead>\n",
       "  <tbody>\n",
       "    <tr>\n",
       "      <th>square</th>\n",
       "      <td>98.2</td>\n",
       "      <td>1.8</td>\n",
       "    </tr>\n",
       "    <tr>\n",
       "      <th>triangular</th>\n",
       "      <td>0.0</td>\n",
       "      <td>100.0</td>\n",
       "    </tr>\n",
       "  </tbody>\n",
       "</table>\n",
       "</div>"
      ],
      "text/plain": [
       "            square  triangular\n",
       "square        98.2         1.8\n",
       "triangular     0.0       100.0"
      ]
     },
     "execution_count": 35,
     "metadata": {},
     "output_type": "execute_result"
    }
   ],
   "source": [
    "Classes, _ = cnnet1.use(Xtest)\n",
    "perc_correct = 100 * np.mean(Classes == Ttest)\n",
    "print(f'Test accuracy in percent correct: {perc_correct:.2f}')\n",
    "confusion_matrix(Classes, Ttest)"
   ]
  },
  {
   "cell_type": "code",
   "execution_count": 36,
   "metadata": {},
   "outputs": [
    {
     "data": {
      "text/plain": [
       "torch.Size([10, 10])"
      ]
     },
     "execution_count": 36,
     "metadata": {},
     "output_type": "execute_result"
    },
    {
     "data": {
      "image/png": "[encoded data removed]",
      "text/plain": [
       "<Figure size 640x480 with 1 Axes>"
      ]
     },
     "metadata": {},
     "output_type": "display_data"
    }
   ],
   "source": [
    "W = list(cnnet1.children())[0][0].weight.data.cpu()  # in case running on GPU\n",
    "plt.plot(W[:, 0, :].T);\n",
    "W[:, 0, :].T.shape"
   ]
  },
  {
   "cell_type": "markdown",
   "metadata": {},
   "source": [
    "### Experiments on ECG Data"
   ]
  },
  {
   "cell_type": "markdown",
   "metadata": {},
   "source": [
    "An [electrocardiogram](), or ECG, is a record in time of a voltage generated by the heart.  It can be used to diagnose abnormalities in the heart.\n",
    "\n",
    "Public datasets containing ECG traces are available, such as the [Non-Invasive Fetal ECG Arrhythmia Database](https://physionet.org/content/nifeadb/1.0.0/) site. The data files there are in a standard waveform-database (WFDB) format.  As is often the case for most standard data formats you run in to, a python package exists for reading this data, called [wfdb](https://github.com/MIT-LCP/wfdb-python) that you can install using [conda](https://anaconda.org/conda-forge/wfdb).\n",
    "\n",
    "This data set includes ECG from normal patients and from ones with arrythmias, with data file names like `ARR_01.dat` and `NR_01.dat`, respectively.  We have already downloaded these files, read them in using the `wfdb` package and collected them into segments of 2000 voltages.  The sample rate for this data is 1000 Hz, so 2000 voltages spans 2 seconds. Download this data set from [ecg.npy](https://www.cs.colostate.edu/~cs445/notebooks/ecg.npy) \n",
    "\n",
    "Now, our job for our `CNN1D` is to classify each 2000 sample segment into the classes `normal` or `arrythmia`."
   ]
  },
  {
   "cell_type": "markdown",
   "metadata": {},
   "source": [
    "After you have downloaded `ecg.npy`, you can load it and plot a few samples."
   ]
  },
  {
   "cell_type": "code",
   "execution_count": 37,
   "metadata": {},
   "outputs": [
    {
     "data": {
      "text/plain": [
       "((2429, 2000), (3634, 2000))"
      ]
     },
     "execution_count": 37,
     "metadata": {},
     "output_type": "execute_result"
    }
   ],
   "source": [
    "ecg = np.load('ecg.npy')\n",
    "arr = ecg['arrythmia']\n",
    "norm = ecg['normal']\n",
    "arr.shape, norm.shape"
   ]
  },
  {
   "cell_type": "code",
   "execution_count": 38,
   "metadata": {},
   "outputs": [
    {
     "data": {
      "image/png": "[encoded data removed]",
      "text/plain": [
       "<Figure size 1500x1500 with 4 Axes>"
      ]
     },
     "metadata": {},
     "output_type": "display_data"
    }
   ],
   "source": [
    "plt.figure(figsize=(15, 15))\n",
    "\n",
    "plt.subplot(2, 2, 1)\n",
    "plt.plot(arr[0])\n",
    "plt.legend(('Arrythmia',))\n",
    "plt.subplot(2, 2, 2)\n",
    "plt.plot(arr[100])\n",
    "plt.legend(('Arrythmia',))\n",
    "\n",
    "plt.subplot(2, 2, 3)\n",
    "plt.plot(norm[0])\n",
    "plt.legend(('Normal',))\n",
    "plt.subplot(2, 2, 4)\n",
    "plt.plot(norm[100])\n",
    "plt.legend(('Normal',));"
   ]
  },
  {
   "cell_type": "markdown",
   "metadata": {},
   "source": [
    "Now, let's stack the `arr` and `norm` samples together, create class labels for each sample, randomly rearrange them, and divide into train and test sets."
   ]
  },
  {
   "cell_type": "code",
   "execution_count": 39,
   "metadata": {},
   "outputs": [
    {
     "data": {
      "text/plain": [
       "((4850, 1, 2000), (4850, 1), (1213, 1, 2000), (1213, 1))"
      ]
     },
     "execution_count": 39,
     "metadata": {},
     "output_type": "execute_result"
    }
   ],
   "source": [
    "X = np.vstack((arr, norm))\n",
    "X = X.reshape(X.shape[0], 1, -1)\n",
    "T = np.hstack((['arr'] * arr.shape[0], ['nr'] * norm.shape[0])).reshape(-1, 1)\n",
    "n_samples = X.shape[0]\n",
    "rows = np.arange(n_samples)\n",
    "np.random.shuffle(rows)\n",
    "n_train = int(n_samples * 0.8)\n",
    "Xtrain = X[rows[:n_train], ...]\n",
    "Ttrain = T[rows[:n_train], ...]\n",
    "Xtest = X[rows[n_train:], ...]\n",
    "Ttest = T[rows[n_train:], ...]\n",
    "\n",
    "Xtrain.shape, Ttrain.shape, Xtest.shape, Ttest.shape"
   ]
  },
  {
   "cell_type": "code",
   "execution_count": 40,
   "metadata": {},
   "outputs": [
    {
     "data": {
      "text/plain": [
       "array([['nr'],\n",
       "       ['nr'],\n",
       "       ['nr'],\n",
       "       ...,\n",
       "       ['arr'],\n",
       "       ['nr'],\n",
       "       ['nr']], dtype='<U3')"
      ]
     },
     "execution_count": 40,
     "metadata": {},
     "output_type": "execute_result"
    }
   ],
   "source": [
    "Ttrain"
   ]
  },
  {
   "cell_type": "markdown",
   "metadata": {},
   "source": [
    "Okay, ready to train.  Create a `CNN1D` network with a statements like this."
   ]
  },
  {
   "cell_type": "markdown",
   "metadata": {},
   "source": [
    "Now, experiment with at least ten different network structures, patch sizes and strides and compare them with the percent accuracy on test data.  Combine the results of each of your runs and display them in a `pandas.Dataframe` that includes the network structure and percent correct on train and test sets. Discuss your results, and describe the network structure and training parameters that produced the best test results."
   ]
  },
  {
   "cell_type": "code",
   "execution_count": 41,
   "metadata": {},
   "outputs": [],
   "source": [
    "result = []"
   ]
  },
  {
   "cell_type": "code",
   "execution_count": 42,
   "metadata": {},
   "outputs": [
    {
     "name": "stdout",
     "output_type": "stream",
     "text": [
      "adam: Epoch 10 Loss 0.349\n",
      "adam: Epoch 20 Loss 0.183\n",
      "adam: Epoch 30 Loss 0.091\n",
      "adam: Epoch 40 Loss 0.069\n",
      "adam: Epoch 50 Loss 0.059\n",
      "adam: Epoch 60 Loss 0.038\n",
      "adam: Epoch 70 Loss 0.048\n",
      "adam: Epoch 80 Loss 0.005\n",
      "adam: Epoch 90 Loss 0.001\n",
      "adam: Epoch 100 Loss 0.000\n"
     ]
    }
   ],
   "source": [
    "# Train CNN 1\n",
    "n_hiddens_per_conv_layer = [5, 10]\n",
    "n_hiddens_per_fc_layer = [10, 10]\n",
    "patch_size_per_conv_layer = [100, 20]\n",
    "stride_per_conv_layer = [20, 5]\n",
    "\n",
    "cnn1d1 = CNN1D(Xtrain.shape[-1], n_hiddens_per_conv_layer, n_hiddens_per_fc_layer, 2, patch_size_per_conv_layer, stride_per_conv_layer, device=device)\n",
    "cnn1d1.train(Xtrain, Ttrain, batch_size=10, n_epochs=100, learning_rate=0.001, method='adam');"
   ]
  },
  {
   "cell_type": "code",
   "execution_count": 43,
   "metadata": {},
   "outputs": [],
   "source": [
    "# Calculate accuracies for above model and store\n",
    "Classes, _ = cnn1d1.use(Xtrain)\n",
    "train_perc_correct1 = 100 * np.mean(Classes == Ttrain)\n",
    "\n",
    "Classes, _ = cnn1d1.use(Xtest)\n",
    "test_perc_correct1 = 100 * np.mean(Classes == Ttest)\n",
    "result.append({\"Hiddens / Layer\": n_hiddens_per_conv_layer, \"Hiddens / FC Layer\": n_hiddens_per_fc_layer, \n",
    "               \"Patch Size / Conv Layer\": patch_size_per_conv_layer, \"Stride / Conv Layer\": stride_per_conv_layer, \n",
    "               \"Train Accuracy\": f'{train_perc_correct1:.2f}', \"Test Accuracy\": f'{test_perc_correct1:.2f}'})"
   ]
  },
  {
   "cell_type": "code",
   "execution_count": 44,
   "metadata": {},
   "outputs": [
    {
     "name": "stdout",
     "output_type": "stream",
     "text": [
      "adam: Epoch 10 Loss 0.555\n",
      "adam: Epoch 20 Loss 0.465\n",
      "adam: Epoch 30 Loss 0.358\n",
      "adam: Epoch 40 Loss 0.272\n",
      "adam: Epoch 50 Loss 0.216\n",
      "adam: Epoch 60 Loss 0.170\n",
      "adam: Epoch 70 Loss 0.151\n",
      "adam: Epoch 80 Loss 0.140\n",
      "adam: Epoch 90 Loss 0.114\n",
      "adam: Epoch 100 Loss 0.106\n"
     ]
    }
   ],
   "source": [
    "# Train CNN 2\n",
    "n_hiddens_per_conv_layer = [5, 10]\n",
    "n_hiddens_per_fc_layer = [10, 10]\n",
    "patch_size_per_conv_layer = [50, 10]\n",
    "stride_per_conv_layer = [20, 5]\n",
    "\n",
    "cnn1d2 = CNN1D(Xtrain.shape[-1], n_hiddens_per_conv_layer, n_hiddens_per_fc_layer, 2, patch_size_per_conv_layer, stride_per_conv_layer, device=device)\n",
    "cnn1d2.train(Xtrain, Ttrain, batch_size=10, n_epochs=100, learning_rate=0.001, method='adam');"
   ]
  },
  {
   "cell_type": "code",
   "execution_count": 45,
   "metadata": {},
   "outputs": [],
   "source": [
    "# Calculate accuracies for above model and store\n",
    "Classes, _ = cnn1d2.use(Xtrain)\n",
    "train_perc_correct2 = 100 * np.mean(Classes == Ttrain)\n",
    "\n",
    "Classes, _ = cnn1d2.use(Xtest)\n",
    "test_perc_correct2 = 100 * np.mean(Classes == Ttest)\n",
    "result.append({\"Hiddens / Layer\": n_hiddens_per_conv_layer, \"Hiddens / FC Layer\": n_hiddens_per_fc_layer, \n",
    "               \"Patch Size / Conv Layer\": patch_size_per_conv_layer, \"Stride / Conv Layer\": stride_per_conv_layer, \n",
    "               \"Train Accuracy\": f'{train_perc_correct2:.2f}', \"Test Accuracy\": f'{test_perc_correct2:.2f}'})"
   ]
  },
  {
   "cell_type": "code",
   "execution_count": 46,
   "metadata": {},
   "outputs": [
    {
     "name": "stdout",
     "output_type": "stream",
     "text": [
      "adam: Epoch 10 Loss 0.331\n",
      "adam: Epoch 20 Loss 0.238\n",
      "adam: Epoch 30 Loss 0.166\n",
      "adam: Epoch 40 Loss 0.147\n",
      "adam: Epoch 50 Loss 0.114\n",
      "adam: Epoch 60 Loss 0.095\n",
      "adam: Epoch 70 Loss 0.077\n",
      "adam: Epoch 80 Loss 0.119\n",
      "adam: Epoch 90 Loss 0.066\n",
      "adam: Epoch 100 Loss 0.081\n"
     ]
    }
   ],
   "source": [
    "# Train CNN 3\n",
    "n_hiddens_per_conv_layer = [5, 10]\n",
    "n_hiddens_per_fc_layer = [10, 10]\n",
    "patch_size_per_conv_layer = [100, 20]\n",
    "stride_per_conv_layer = [5, 2]\n",
    "\n",
    "cnn1d3 = CNN1D(Xtrain.shape[-1], n_hiddens_per_conv_layer, n_hiddens_per_fc_layer, 2, patch_size_per_conv_layer, stride_per_conv_layer, device=device)\n",
    "cnn1d3.train(Xtrain, Ttrain, batch_size=10, n_epochs=100, learning_rate=0.001, method='adam');"
   ]
  },
  {
   "cell_type": "code",
   "execution_count": 47,
   "metadata": {},
   "outputs": [],
   "source": [
    "# Calculate accuracies for above model and store\n",
    "Classes, _ = cnn1d3.use(Xtrain)\n",
    "train_perc_correct3 = 100 * np.mean(Classes == Ttrain)\n",
    "\n",
    "Classes, _ = cnn1d3.use(Xtest)\n",
    "test_perc_correct3 = 100 * np.mean(Classes == Ttest)\n",
    "result.append({\"Hiddens / Layer\": n_hiddens_per_conv_layer, \"Hiddens / FC Layer\": n_hiddens_per_fc_layer, \n",
    "               \"Patch Size / Conv Layer\": patch_size_per_conv_layer, \"Stride / Conv Layer\": stride_per_conv_layer, \n",
    "               \"Train Accuracy\": f'{train_perc_correct3:.2f}', \"Test Accuracy\": f'{test_perc_correct3:.2f}'})"
   ]
  },
  {
   "cell_type": "code",
   "execution_count": 48,
   "metadata": {},
   "outputs": [
    {
     "name": "stdout",
     "output_type": "stream",
     "text": [
      "adam: Epoch 10 Loss 0.443\n",
      "adam: Epoch 20 Loss 0.356\n",
      "adam: Epoch 30 Loss 0.124\n",
      "adam: Epoch 40 Loss 0.090\n",
      "adam: Epoch 50 Loss 0.070\n",
      "adam: Epoch 60 Loss 0.057\n",
      "adam: Epoch 70 Loss 0.037\n",
      "adam: Epoch 80 Loss 0.048\n",
      "adam: Epoch 90 Loss 0.034\n",
      "adam: Epoch 100 Loss 0.037\n"
     ]
    }
   ],
   "source": [
    "# Train CNN 4\n",
    "n_hiddens_per_conv_layer = [5, 10]\n",
    "n_hiddens_per_fc_layer = [2, 2]\n",
    "patch_size_per_conv_layer = [100, 20]\n",
    "stride_per_conv_layer = [20, 5]\n",
    "\n",
    "cnn1d4 = CNN1D(Xtrain.shape[-1], n_hiddens_per_conv_layer, n_hiddens_per_fc_layer, 2, patch_size_per_conv_layer, stride_per_conv_layer, device=device)\n",
    "cnn1d4.train(Xtrain, Ttrain, batch_size=10, n_epochs=100, learning_rate=0.001, method='adam');"
   ]
  },
  {
   "cell_type": "code",
   "execution_count": 49,
   "metadata": {},
   "outputs": [],
   "source": [
    "# Calculate accuracies for above model and store\n",
    "Classes, _ = cnn1d4.use(Xtrain)\n",
    "train_perc_correct4 = 100 * np.mean(Classes == Ttrain)\n",
    "\n",
    "Classes, _ = cnn1d4.use(Xtest)\n",
    "test_perc_correct4 = 100 * np.mean(Classes == Ttest)\n",
    "result.append({\"Hiddens / Layer\": n_hiddens_per_conv_layer, \"Hiddens / FC Layer\": n_hiddens_per_fc_layer, \n",
    "               \"Patch Size / Conv Layer\": patch_size_per_conv_layer, \"Stride / Conv Layer\": stride_per_conv_layer, \n",
    "               \"Train Accuracy\": f'{train_perc_correct4:.2f}', \"Test Accuracy\": f'{test_perc_correct4:.2f}'})"
   ]
  },
  {
   "cell_type": "code",
   "execution_count": 50,
   "metadata": {},
   "outputs": [
    {
     "name": "stdout",
     "output_type": "stream",
     "text": [
      "adam: Epoch 10 Loss 0.527\n",
      "adam: Epoch 20 Loss 0.494\n",
      "adam: Epoch 30 Loss 0.471\n",
      "adam: Epoch 40 Loss 0.448\n",
      "adam: Epoch 50 Loss 0.427\n",
      "adam: Epoch 60 Loss 0.414\n",
      "adam: Epoch 70 Loss 0.407\n",
      "adam: Epoch 80 Loss 0.400\n",
      "adam: Epoch 90 Loss 0.381\n",
      "adam: Epoch 100 Loss 0.373\n"
     ]
    }
   ],
   "source": [
    "# Train CNN 5\n",
    "n_hiddens_per_conv_layer = [5, 10]\n",
    "n_hiddens_per_fc_layer = [2, 2]\n",
    "patch_size_per_conv_layer = [50, 10]\n",
    "stride_per_conv_layer = [5, 2]\n",
    "\n",
    "cnn1d5 = CNN1D(Xtrain.shape[-1], n_hiddens_per_conv_layer, n_hiddens_per_fc_layer, 2, patch_size_per_conv_layer, stride_per_conv_layer, device=device)\n",
    "cnn1d5.train(Xtrain, Ttrain, batch_size=10, n_epochs=100, learning_rate=0.001, method='adam');"
   ]
  },
  {
   "cell_type": "code",
   "execution_count": 51,
   "metadata": {},
   "outputs": [],
   "source": [
    "# Calculate accuracies for above model and store\n",
    "Classes, _ = cnn1d5.use(Xtrain)\n",
    "train_perc_correct5 = 100 * np.mean(Classes == Ttrain)\n",
    "\n",
    "Classes, _ = cnn1d5.use(Xtest)\n",
    "test_perc_correct5 = 100 * np.mean(Classes == Ttest)\n",
    "result.append({\"Hiddens / Layer\": n_hiddens_per_conv_layer, \"Hiddens / FC Layer\": n_hiddens_per_fc_layer, \n",
    "               \"Patch Size / Conv Layer\": patch_size_per_conv_layer, \"Stride / Conv Layer\": stride_per_conv_layer, \n",
    "               \"Train Accuracy\": f'{train_perc_correct5:.2f}', \"Test Accuracy\": f'{test_perc_correct5:.2f}'})"
   ]
  },
  {
   "cell_type": "code",
   "execution_count": 52,
   "metadata": {},
   "outputs": [
    {
     "name": "stdout",
     "output_type": "stream",
     "text": [
      "adam: Epoch 10 Loss 0.478\n",
      "adam: Epoch 20 Loss 0.333\n",
      "adam: Epoch 30 Loss 0.248\n",
      "adam: Epoch 40 Loss 0.200\n",
      "adam: Epoch 50 Loss 0.174\n",
      "adam: Epoch 60 Loss 0.157\n",
      "adam: Epoch 70 Loss 0.142\n",
      "adam: Epoch 80 Loss 0.162\n",
      "adam: Epoch 90 Loss 0.138\n",
      "adam: Epoch 100 Loss 0.124\n"
     ]
    }
   ],
   "source": [
    "# CNN 6\n",
    "n_hiddens_per_conv_layer = [2, 5]\n",
    "n_hiddens_per_fc_layer = [10, 10]\n",
    "patch_size_per_conv_layer = [100, 20]\n",
    "stride_per_conv_layer = [20, 5]\n",
    "\n",
    "cnn1d6 = CNN1D(Xtrain.shape[-1], n_hiddens_per_conv_layer, n_hiddens_per_fc_layer, 2, patch_size_per_conv_layer, stride_per_conv_layer, device=device)\n",
    "cnn1d6.train(Xtrain, Ttrain, batch_size=10, n_epochs=100, learning_rate=0.001, method='adam');"
   ]
  },
  {
   "cell_type": "code",
   "execution_count": 53,
   "metadata": {},
   "outputs": [],
   "source": [
    "# Calculate accuracies for above model and store\n",
    "Classes, _ = cnn1d6.use(Xtrain)\n",
    "train_perc_correct6 = 100 * np.mean(Classes == Ttrain)\n",
    "\n",
    "Classes, _ = cnn1d6.use(Xtest)\n",
    "test_perc_correct6 = 100 * np.mean(Classes == Ttest)\n",
    "result.append({\"Hiddens / Layer\": n_hiddens_per_conv_layer, \"Hiddens / FC Layer\": n_hiddens_per_fc_layer, \n",
    "               \"Patch Size / Conv Layer\": patch_size_per_conv_layer, \"Stride / Conv Layer\": stride_per_conv_layer, \n",
    "               \"Train Accuracy\": f'{train_perc_correct6:.2f}', \"Test Accuracy\": f'{test_perc_correct6:.2f}'})"
   ]
  },
  {
   "cell_type": "code",
   "execution_count": 54,
   "metadata": {},
   "outputs": [
    {
     "name": "stdout",
     "output_type": "stream",
     "text": [
      "adam: Epoch 10 Loss 0.541\n",
      "adam: Epoch 20 Loss 0.439\n",
      "adam: Epoch 30 Loss 0.346\n",
      "adam: Epoch 40 Loss 0.300\n",
      "adam: Epoch 50 Loss 0.265\n",
      "adam: Epoch 60 Loss 0.240\n",
      "adam: Epoch 70 Loss 0.222\n",
      "adam: Epoch 80 Loss 0.216\n",
      "adam: Epoch 90 Loss 0.193\n",
      "adam: Epoch 100 Loss 0.176\n"
     ]
    }
   ],
   "source": [
    "# Train CNN 7\n",
    "n_hiddens_per_conv_layer = [2, 5]\n",
    "n_hiddens_per_fc_layer = [10, 10]\n",
    "patch_size_per_conv_layer = [50, 10]\n",
    "stride_per_conv_layer = [20, 5]\n",
    "\n",
    "cnn1d7 = CNN1D(Xtrain.shape[-1], n_hiddens_per_conv_layer, n_hiddens_per_fc_layer, 2, patch_size_per_conv_layer, stride_per_conv_layer, device=device)\n",
    "cnn1d7.train(Xtrain, Ttrain, batch_size=10, n_epochs=100, learning_rate=0.001, method='adam');"
   ]
  },
  {
   "cell_type": "code",
   "execution_count": 55,
   "metadata": {},
   "outputs": [],
   "source": [
    "# Calculate accuracies for above model and store\n",
    "Classes, _ = cnn1d7.use(Xtrain)\n",
    "train_perc_correct7 = 100 * np.mean(Classes == Ttrain)\n",
    "\n",
    "Classes, _ = cnn1d7.use(Xtest)\n",
    "test_perc_correct7 = 100 * np.mean(Classes == Ttest)\n",
    "result.append({\"Hiddens / Layer\": n_hiddens_per_conv_layer, \"Hiddens / FC Layer\": n_hiddens_per_fc_layer, \n",
    "               \"Patch Size / Conv Layer\": patch_size_per_conv_layer, \"Stride / Conv Layer\": stride_per_conv_layer, \n",
    "               \"Train Accuracy\": f'{train_perc_correct7:.2f}', \"Test Accuracy\": f'{test_perc_correct7:.2f}'})"
   ]
  },
  {
   "cell_type": "code",
   "execution_count": 56,
   "metadata": {},
   "outputs": [
    {
     "name": "stdout",
     "output_type": "stream",
     "text": [
      "adam: Epoch 10 Loss 0.375\n",
      "adam: Epoch 20 Loss 0.258\n",
      "adam: Epoch 30 Loss 0.202\n",
      "adam: Epoch 40 Loss 0.167\n",
      "adam: Epoch 50 Loss 0.146\n",
      "adam: Epoch 60 Loss 0.126\n",
      "adam: Epoch 70 Loss 0.102\n",
      "adam: Epoch 80 Loss 0.085\n",
      "adam: Epoch 90 Loss 0.091\n",
      "adam: Epoch 100 Loss 0.085\n"
     ]
    }
   ],
   "source": [
    "# CNN 8\n",
    "n_hiddens_per_conv_layer = [2, 5]\n",
    "n_hiddens_per_fc_layer = [10, 10]\n",
    "patch_size_per_conv_layer = [100, 20]\n",
    "stride_per_conv_layer = [5, 2]\n",
    "\n",
    "cnn1d8 = CNN1D(Xtrain.shape[-1], n_hiddens_per_conv_layer, n_hiddens_per_fc_layer, 2, patch_size_per_conv_layer, stride_per_conv_layer, device=device)\n",
    "cnn1d8.train(Xtrain, Ttrain, batch_size=10, n_epochs=100, learning_rate=0.001, method='adam');"
   ]
  },
  {
   "cell_type": "code",
   "execution_count": 57,
   "metadata": {},
   "outputs": [],
   "source": [
    "# Calculate accuracies for above model and store\n",
    "Classes, _ = cnn1d8.use(Xtrain)\n",
    "train_perc_correct8 = 100 * np.mean(Classes == Ttrain)\n",
    "\n",
    "Classes, _ = cnn1d8.use(Xtest)\n",
    "test_perc_correct8 = 100 * np.mean(Classes == Ttest)\n",
    "result.append({\"Hiddens / Layer\": n_hiddens_per_conv_layer, \"Hiddens / FC Layer\": n_hiddens_per_fc_layer, \n",
    "               \"Patch Size / Conv Layer\": patch_size_per_conv_layer, \"Stride / Conv Layer\": stride_per_conv_layer, \n",
    "               \"Train Accuracy\": f'{train_perc_correct8:.2f}', \"Test Accuracy\": f'{test_perc_correct8:.2f}'})"
   ]
  },
  {
   "cell_type": "code",
   "execution_count": 58,
   "metadata": {},
   "outputs": [
    {
     "name": "stdout",
     "output_type": "stream",
     "text": [
      "adam: Epoch 10 Loss 0.170\n",
      "adam: Epoch 20 Loss 0.055\n",
      "adam: Epoch 30 Loss 0.059\n",
      "adam: Epoch 40 Loss 0.043\n",
      "adam: Epoch 50 Loss 0.077\n",
      "adam: Epoch 60 Loss 0.033\n",
      "adam: Epoch 70 Loss 0.028\n",
      "adam: Epoch 80 Loss 0.019\n",
      "adam: Epoch 90 Loss 0.010\n",
      "adam: Epoch 100 Loss 0.148\n"
     ]
    }
   ],
   "source": [
    "# Train CNN 9\n",
    "n_hiddens_per_conv_layer = [10, 20]\n",
    "n_hiddens_per_fc_layer = [10, 10]\n",
    "patch_size_per_conv_layer = [100, 20]\n",
    "stride_per_conv_layer = [20, 5]\n",
    "\n",
    "cnn1d9 = CNN1D(Xtrain.shape[-1], n_hiddens_per_conv_layer, n_hiddens_per_fc_layer, 2, patch_size_per_conv_layer, stride_per_conv_layer, device=device)\n",
    "cnn1d9.train(Xtrain, Ttrain, batch_size=10, n_epochs=100, learning_rate=0.001, method='adam');"
   ]
  },
  {
   "cell_type": "code",
   "execution_count": 59,
   "metadata": {},
   "outputs": [],
   "source": [
    "# Calculate accuracies for above model and store\n",
    "Classes, _ = cnn1d9.use(Xtrain)\n",
    "train_perc_correct9 = 100 * np.mean(Classes == Ttrain)\n",
    "\n",
    "Classes, _ = cnn1d9.use(Xtest)\n",
    "test_perc_correct9 = 100 * np.mean(Classes == Ttest)\n",
    "result.append({\"Hiddens / Layer\": n_hiddens_per_conv_layer, \"Hiddens / FC Layer\": n_hiddens_per_fc_layer, \n",
    "               \"Patch Size / Conv Layer\": patch_size_per_conv_layer, \"Stride / Conv Layer\": stride_per_conv_layer, \n",
    "               \"Train Accuracy\": f'{train_perc_correct9:.2f}', \"Test Accuracy\": f'{test_perc_correct9:.2f}'})"
   ]
  },
  {
   "cell_type": "code",
   "execution_count": 60,
   "metadata": {},
   "outputs": [
    {
     "name": "stdout",
     "output_type": "stream",
     "text": [
      "adam: Epoch 10 Loss 0.275\n",
      "adam: Epoch 20 Loss 0.174\n",
      "adam: Epoch 30 Loss 0.125\n",
      "adam: Epoch 40 Loss 0.122\n",
      "adam: Epoch 50 Loss 0.074\n",
      "adam: Epoch 60 Loss 0.080\n",
      "adam: Epoch 70 Loss 0.088\n",
      "adam: Epoch 80 Loss 0.088\n",
      "adam: Epoch 90 Loss 0.027\n",
      "adam: Epoch 100 Loss 0.061\n"
     ]
    }
   ],
   "source": [
    "# CNN 10\n",
    "n_hiddens_per_conv_layer = [5, 10]\n",
    "n_hiddens_per_fc_layer = [20, 20]\n",
    "patch_size_per_conv_layer = [100, 20]\n",
    "stride_per_conv_layer = [5, 2]\n",
    "\n",
    "cnn1d0 = CNN1D(Xtrain.shape[-1], n_hiddens_per_conv_layer, n_hiddens_per_fc_layer, 2, patch_size_per_conv_layer, stride_per_conv_layer, device=device)\n",
    "cnn1d0.train(Xtrain, Ttrain, batch_size=10, n_epochs=100, learning_rate=0.001, method='adam');"
   ]
  },
  {
   "cell_type": "code",
   "execution_count": 61,
   "metadata": {},
   "outputs": [],
   "source": [
    "# Calculate accuracies for above model and store\n",
    "Classes, _ = cnn1d0.use(Xtrain)\n",
    "train_perc_correct0 = 100 * np.mean(Classes == Ttrain)\n",
    "\n",
    "Classes, _ = cnn1d0.use(Xtest)\n",
    "test_perc_correct0 = 100 * np.mean(Classes == Ttest)\n",
    "result.append({\"Hiddens / Layer\": n_hiddens_per_conv_layer, \"Hiddens / FC Layer\": n_hiddens_per_fc_layer, \n",
    "               \"Patch Size / Conv Layer\": patch_size_per_conv_layer, \"Stride / Conv Layer\": stride_per_conv_layer, \n",
    "               \"Train Accuracy\": f'{train_perc_correct0:.2f}', \"Test Accuracy\": f'{test_perc_correct0:.2f}'})"
   ]
  },
  {
   "cell_type": "code",
   "execution_count": 64,
   "metadata": {},
   "outputs": [
    {
     "data": {
      "text/html": [
       "<div>\n",
       "<style scoped>\n",
       "    .dataframe tbody tr th:only-of-type {\n",
       "        vertical-align: middle;\n",
       "    }\n",
       "\n",
       "    .dataframe tbody tr th {\n",
       "        vertical-align: top;\n",
       "    }\n",
       "\n",
       "    .dataframe thead th {\n",
       "        text-align: right;\n",
       "    }\n",
       "</style>\n",
       "<table border=\"1\" class=\"dataframe\">\n",
       "  <thead>\n",
       "    <tr style=\"text-align: right;\">\n",
       "      <th></th>\n",
       "      <th>Hiddens / Layer</th>\n",
       "      <th>Hiddens / FC Layer</th>\n",
       "      <th>Patch Size / Conv Layer</th>\n",
       "      <th>Stride / Conv Layer</th>\n",
       "      <th>Train Accuracy</th>\n",
       "      <th>Test Accuracy</th>\n",
       "    </tr>\n",
       "  </thead>\n",
       "  <tbody>\n",
       "    <tr>\n",
       "      <th>0</th>\n",
       "      <td>[5, 10]</td>\n",
       "      <td>[10, 10]</td>\n",
       "      <td>[100, 20]</td>\n",
       "      <td>[20, 5]</td>\n",
       "      <td>99.96</td>\n",
       "      <td>89.69</td>\n",
       "    </tr>\n",
       "    <tr>\n",
       "      <th>1</th>\n",
       "      <td>[5, 10]</td>\n",
       "      <td>[10, 10]</td>\n",
       "      <td>[50, 10]</td>\n",
       "      <td>[20, 5]</td>\n",
       "      <td>93.57</td>\n",
       "      <td>77.00</td>\n",
       "    </tr>\n",
       "    <tr>\n",
       "      <th>2</th>\n",
       "      <td>[5, 10]</td>\n",
       "      <td>[10, 10]</td>\n",
       "      <td>[100, 20]</td>\n",
       "      <td>[5, 2]</td>\n",
       "      <td>97.67</td>\n",
       "      <td>84.58</td>\n",
       "    </tr>\n",
       "    <tr>\n",
       "      <th>3</th>\n",
       "      <td>[5, 10]</td>\n",
       "      <td>[2, 2]</td>\n",
       "      <td>[100, 20]</td>\n",
       "      <td>[20, 5]</td>\n",
       "      <td>97.03</td>\n",
       "      <td>93.24</td>\n",
       "    </tr>\n",
       "    <tr>\n",
       "      <th>4</th>\n",
       "      <td>[5, 10]</td>\n",
       "      <td>[2, 2]</td>\n",
       "      <td>[50, 10]</td>\n",
       "      <td>[5, 2]</td>\n",
       "      <td>85.44</td>\n",
       "      <td>74.11</td>\n",
       "    </tr>\n",
       "    <tr>\n",
       "      <th>5</th>\n",
       "      <td>[2, 5]</td>\n",
       "      <td>[10, 10]</td>\n",
       "      <td>[100, 20]</td>\n",
       "      <td>[20, 5]</td>\n",
       "      <td>93.90</td>\n",
       "      <td>82.77</td>\n",
       "    </tr>\n",
       "    <tr>\n",
       "      <th>6</th>\n",
       "      <td>[2, 5]</td>\n",
       "      <td>[10, 10]</td>\n",
       "      <td>[50, 10]</td>\n",
       "      <td>[20, 5]</td>\n",
       "      <td>92.06</td>\n",
       "      <td>80.96</td>\n",
       "    </tr>\n",
       "    <tr>\n",
       "      <th>7</th>\n",
       "      <td>[2, 5]</td>\n",
       "      <td>[10, 10]</td>\n",
       "      <td>[100, 20]</td>\n",
       "      <td>[5, 2]</td>\n",
       "      <td>94.87</td>\n",
       "      <td>74.77</td>\n",
       "    </tr>\n",
       "    <tr>\n",
       "      <th>8</th>\n",
       "      <td>[10, 20]</td>\n",
       "      <td>[10, 10]</td>\n",
       "      <td>[100, 20]</td>\n",
       "      <td>[20, 5]</td>\n",
       "      <td>97.38</td>\n",
       "      <td>90.85</td>\n",
       "    </tr>\n",
       "    <tr>\n",
       "      <th>9</th>\n",
       "      <td>[5, 10]</td>\n",
       "      <td>[20, 20]</td>\n",
       "      <td>[100, 20]</td>\n",
       "      <td>[5, 2]</td>\n",
       "      <td>98.12</td>\n",
       "      <td>84.67</td>\n",
       "    </tr>\n",
       "  </tbody>\n",
       "</table>\n",
       "</div>"
      ],
      "text/plain": [
       "  Hiddens / Layer Hiddens / FC Layer Patch Size / Conv Layer  \\\n",
       "0         [5, 10]           [10, 10]               [100, 20]   \n",
       "1         [5, 10]           [10, 10]                [50, 10]   \n",
       "2         [5, 10]           [10, 10]               [100, 20]   \n",
       "3         [5, 10]             [2, 2]               [100, 20]   \n",
       "4         [5, 10]             [2, 2]                [50, 10]   \n",
       "5          [2, 5]           [10, 10]               [100, 20]   \n",
       "6          [2, 5]           [10, 10]                [50, 10]   \n",
       "7          [2, 5]           [10, 10]               [100, 20]   \n",
       "8        [10, 20]           [10, 10]               [100, 20]   \n",
       "9         [5, 10]           [20, 20]               [100, 20]   \n",
       "\n",
       "  Stride / Conv Layer Train Accuracy Test Accuracy  \n",
       "0             [20, 5]          99.96         89.69  \n",
       "1             [20, 5]          93.57         77.00  \n",
       "2              [5, 2]          97.67         84.58  \n",
       "3             [20, 5]          97.03         93.24  \n",
       "4              [5, 2]          85.44         74.11  \n",
       "5             [20, 5]          93.90         82.77  \n",
       "6             [20, 5]          92.06         80.96  \n",
       "7              [5, 2]          94.87         74.77  \n",
       "8             [20, 5]          97.38         90.85  \n",
       "9              [5, 2]          98.12         84.67  "
      ]
     },
     "execution_count": 64,
     "metadata": {},
     "output_type": "execute_result"
    }
   ],
   "source": [
    "df = pandas.DataFrame(result, columns=['Hiddens / Layer', \"Hiddens / FC Layer\", \"Patch Size / Conv Layer\", \"Stride / Conv Layer\", 'Train Accuracy', 'Test Accuracy'])\n",
    "df"
   ]
  },
  {
   "cell_type": "markdown",
   "metadata": {},
   "source": [
    "The network structure and training parameters that produced the best test results was the network with Hiddens / Layer: [5, 10], Hiddens / FC Layer: [2, 2], Patch Size: [100, 20], Stride: [20, 5] with a test accuracy of 93.24%. The larger number of Hiddens / Layer allows for a better capacity to learn patterns, and the Hiddens / FC Layer is small, which creates a data bottleneck and forces the features to be more generalized, which causes the model to transfer between datasets more effectively. This is supported by the fact that this model did NOT have the highest Train Accuracy despite its high Test Accuracy.\n",
    "\n",
    "A close second was the network the same as above but with Hiddens / FC Layer: [2, 2], with 89.04%. This may be due to the low number of fully connected neurons and the large patch sizes/strides acted as a bottleneck in the network, forcing very generalized representations of the data. This may have resulted in a better transitions between training data and test data, and therefore higher test accuracy. The higher number of Hiddens / Layer resulted in a slight increase in the accuracy, but nothing significant.\n",
    "\n",
    "Perhaps the greatest victim of overfitting in this set was CNN ID 7, with 94.87% Train Accuracy, but only 74.77% Test Accuracy. This implies that the low number of units in the Convolutional Layers compared to those in the FC Layers caused some issues in generalizing the data. When you look at all 3 models with that Conv Layer / FC Layer architecture, they all showcase similar drops in Test Accuracy, which supports this conclusion.\n",
    "\n",
    "Overall, a larger patch size resulted in higher accuracy. This is likely because a smaller patch size can't capture features as effectively as larger patch sizes. Strides seems to have a much lower impact on the overall accuracy, with a lower stride resulting in slightly lower accuracy. This could be due to such a low stride resulting in overfitting to the train data."
   ]
  },
  {
   "cell_type": "markdown",
   "metadata": {},
   "source": [
    "## Grading and Check-In\n",
    "Download [A5grader.zip](https://www.cs.colostate.edu/~cs445/notebooks/A5grader.zip) and extract A5grader.py from it. Run the code in the following cell to demonstrate an example grading session. Remember to test your code with additional tests of your own design. Your notebook must be named as Lastname-A5.ipynb.  \n",
    "\n",
    "When ready, submit your notebook via the A5 link in our class Canvas web page."
   ]
  },
  {
   "cell_type": "code",
   "execution_count": 65,
   "metadata": {},
   "outputs": [
    {
     "name": "stdout",
     "output_type": "stream",
     "text": [
      "\n",
      "======================= Code Execution =======================\n",
      "\n",
      "Extracting python code from notebook named 'Tone-A5.ipynb' and storing in notebookcode.py\n",
      "Removing all statements that are not function or class defs or import statements.\n",
      "\n",
      "Testing\n",
      "\n",
      "    xs = np.arange(100)\n",
      "    n_each = 500\n",
      "    n_samples = n_each * 2\n",
      "    X = np.array([np.sin(xs / 2) + np.random.normal(0, 1, size=100) for i in range(n_each)] +\n",
      "                 [np.sin(xs / 3) + np.random.normal(0, 1, size=100) for i in range(n_each)])\n",
      "    X = X[:, np.newaxis, :]\n",
      "    T = np.array([2] * n_each + [3] * n_each).reshape(-1, 1)\n",
      "    rows = np.arange(n_samples)\n",
      "    np.random.shuffle(rows)\n",
      "    X = X[rows, ...]\n",
      "    T = T[rows, ...]\n",
      "    n_train = int(n_samples * 0.8)\n",
      "    Xtrain = X[:n_train, ...]\n",
      "    Ttrain = T[:n_train, :]\n",
      "    Xtest = X[n_train:, ...]\n",
      "    Ttest = T[n_train:, :]\n",
      "\n",
      "    cnn1d = CNN1D(100, [5, 5], [3], 2, [10, 5], [1, 2])\n",
      "    cnn1d.train(Xtrain, Ttrain, 10, 20, 0.01, method='adam')\n",
      "\n",
      "    perc_train = 100 * np.mean(cnn1d.use(Xtrain)[0] == Ttrain)\n",
      "    perc_test = 100 * np.mean(cnn1d.use(Xtest)[0] == Ttest)\n",
      "\n",
      "adam: Epoch 2 Loss 0.008\n",
      "adam: Epoch 4 Loss 0.003\n",
      "adam: Epoch 6 Loss 0.001\n",
      "adam: Epoch 8 Loss 0.001\n",
      "adam: Epoch 10 Loss 0.001\n",
      "adam: Epoch 12 Loss 0.000\n",
      "adam: Epoch 14 Loss 0.000\n",
      "adam: Epoch 16 Loss 0.000\n",
      "adam: Epoch 18 Loss 0.000\n",
      "adam: Epoch 20 Loss 0.000\n",
      "\n",
      "--- 25/25 points.  perc_train is correctly 100%.\n",
      "\n",
      "--- 25/25 points.  perc_test is correctly 100%.\n",
      "\n",
      "======================================================================\n",
      "c:\\Users\\Evan\\School\\CSU\\25_Q1_SPRING\\CS_445\\homework\\HW5 Execution Grade is 50 / 50\n",
      "======================================================================\n",
      "\n",
      " __ / 25 Based on results of experiments with MNIST data.\n",
      "\n",
      " __ / 25 Based on results of experiments with ECG data.\n",
      "\n",
      "======================================================================\n",
      "c:\\Users\\Evan\\School\\CSU\\25_Q1_SPRING\\CS_445\\homework\\HW5 FINAL GRADE is  _  / 100\n",
      "======================================================================\n",
      "\n",
      "Extra Credit:\n",
      "\n",
      "Earn up to 3 extra credit points on this assignment by doing any or all of the following experiments.\n",
      "\n",
      "1. Compare your results on the MNIST data by using relu versus tanh activation functions. Show and \n",
      "   discuss the results.\n",
      "\n",
      "2. Compare your results on the MNIST data using adam versus sgd. Show and discuss the results.\n",
      "\n",
      "3. Download another image data set, apply your CNN2D class to this data and discuss the results.\n",
      "\n",
      "c:\\Users\\Evan\\School\\CSU\\25_Q1_SPRING\\CS_445\\homework\\HW5 EXTRA CREDIT is 0 / 3\n"
     ]
    }
   ],
   "source": [
    "%run -i A5grader.py"
   ]
  },
  {
   "cell_type": "markdown",
   "metadata": {},
   "source": [
    "## Extra Credit\n",
    "Earn up to 3 extra credit points on this assignment by doing any or all of the following experiments. \n",
    "\n",
    "1. Compare your results on the MNIST data by using `relu` versus `tanh` activation functions. Show and discuss the results.\n",
    "2. Compare your results on the MNIST data using `adam` versus `sgd`. Show and discuss the results.\n",
    "3. Download another image data set, apply your `CNN2D` class to this data and discuss the results."
   ]
  },
  {
   "cell_type": "markdown",
   "metadata": {},
   "source": [
    "1. Compare your results on the MNIST data by using `relu` versus `tanh` activation functions. Show and discuss the results."
   ]
  },
  {
   "cell_type": "code",
   "execution_count": 66,
   "metadata": {},
   "outputs": [
    {
     "name": "stdout",
     "output_type": "stream",
     "text": [
      "(50000, 1, 28, 28) (50000, 1) (10000, 784) (10000, 1) (10000, 1, 28, 28) (10000, 1)\n"
     ]
    }
   ],
   "source": [
    "with gzip.open('mnist.pkl.gz', 'rb') as f:\n",
    "    train_set, valid_set, test_set = pickle.load(f, encoding='latin1')\n",
    "\n",
    "Xtrain = train_set[0]\n",
    "Ttrain = train_set[1].reshape(-1, 1)\n",
    "\n",
    "Xval = valid_set[0]\n",
    "Tval = valid_set[1].reshape(-1, 1)\n",
    "\n",
    "Xtest = test_set[0]\n",
    "Ttest = test_set[1].reshape(-1, 1)\n",
    "\n",
    "Xtrain = Xtrain.reshape(-1, 1, 28, 28)\n",
    "Xtest = Xtest.reshape(-1, 1, 28, 28)\n",
    "\n",
    "print(Xtrain.shape, Ttrain.shape,  Xval.shape, Tval.shape,  Xtest.shape, Ttest.shape)"
   ]
  },
  {
   "cell_type": "code",
   "execution_count": 77,
   "metadata": {},
   "outputs": [
    {
     "name": "stdout",
     "output_type": "stream",
     "text": [
      "adam: Epoch 2 Loss 0.419\n",
      "adam: Epoch 4 Loss 0.277\n",
      "adam: Epoch 6 Loss 0.233\n",
      "adam: Epoch 8 Loss 0.211\n",
      "adam: Epoch 10 Loss 0.195\n",
      "adam: Epoch 12 Loss 0.182\n",
      "adam: Epoch 14 Loss 0.175\n",
      "adam: Epoch 16 Loss 0.169\n",
      "adam: Epoch 18 Loss 0.160\n",
      "adam: Epoch 20 Loss 0.161\n",
      "adam: Epoch 2 Loss 0.359\n",
      "adam: Epoch 4 Loss 0.194\n",
      "adam: Epoch 6 Loss 0.147\n",
      "adam: Epoch 8 Loss 0.127\n",
      "adam: Epoch 10 Loss 0.114\n",
      "adam: Epoch 12 Loss 0.103\n",
      "adam: Epoch 14 Loss 0.098\n",
      "adam: Epoch 16 Loss 0.093\n",
      "adam: Epoch 18 Loss 0.086\n",
      "adam: Epoch 20 Loss 0.085\n"
     ]
    }
   ],
   "source": [
    "n_hiddens_per_conv_layer = [10, 10]\n",
    "patch_size_per_conv_layer = [10, 5]\n",
    "stride_per_conv_layer=[4, 2]\n",
    "n_hiddens_per_fc_layer = [5]\n",
    "\n",
    "cnnet_tanh = CNN2D(28 * 28, n_hiddens_per_conv_layer, n_hiddens_per_fc_layer, len(np.unique(Ttrain)), \n",
    "              patch_size_per_conv_layer, stride_per_conv_layer, activation_function=\"tanh\", device=device)\n",
    "\n",
    "cnnet_relu = CNN2D(28 * 28, n_hiddens_per_conv_layer, n_hiddens_per_fc_layer, len(np.unique(Ttrain)), \n",
    "              patch_size_per_conv_layer, stride_per_conv_layer, activation_function=\"relu\", device=device)\n",
    "\n",
    "n_epochs = 20\n",
    "batch_size = 500\n",
    "learning_rate = 0.01\n",
    "\n",
    "cnnet_tanh.train(Xtrain, Ttrain, batch_size, n_epochs, learning_rate, method='adam');\n",
    "cnnet_relu.train(Xtrain, Ttrain, batch_size, n_epochs, learning_rate, method='adam');"
   ]
  },
  {
   "cell_type": "code",
   "execution_count": 80,
   "metadata": {},
   "outputs": [
    {
     "name": "stdout",
     "output_type": "stream",
     "text": [
      "(Tanh) Test accuracy in percent correct: 94.05\n"
     ]
    },
    {
     "data": {
      "text/html": [
       "<div>\n",
       "<style scoped>\n",
       "    .dataframe tbody tr th:only-of-type {\n",
       "        vertical-align: middle;\n",
       "    }\n",
       "\n",
       "    .dataframe tbody tr th {\n",
       "        vertical-align: top;\n",
       "    }\n",
       "\n",
       "    .dataframe thead th {\n",
       "        text-align: right;\n",
       "    }\n",
       "</style>\n",
       "<table border=\"1\" class=\"dataframe\">\n",
       "  <thead>\n",
       "    <tr style=\"text-align: right;\">\n",
       "      <th></th>\n",
       "      <th>0</th>\n",
       "      <th>1</th>\n",
       "      <th>2</th>\n",
       "      <th>3</th>\n",
       "      <th>4</th>\n",
       "      <th>5</th>\n",
       "      <th>6</th>\n",
       "      <th>7</th>\n",
       "      <th>8</th>\n",
       "      <th>9</th>\n",
       "    </tr>\n",
       "  </thead>\n",
       "  <tbody>\n",
       "    <tr>\n",
       "      <th>0</th>\n",
       "      <td>97.346939</td>\n",
       "      <td>0.000000</td>\n",
       "      <td>0.306122</td>\n",
       "      <td>0.102041</td>\n",
       "      <td>0.204082</td>\n",
       "      <td>0.204082</td>\n",
       "      <td>0.918367</td>\n",
       "      <td>0.000000</td>\n",
       "      <td>0.918367</td>\n",
       "      <td>0.000000</td>\n",
       "    </tr>\n",
       "    <tr>\n",
       "      <th>1</th>\n",
       "      <td>0.000000</td>\n",
       "      <td>98.678414</td>\n",
       "      <td>0.088106</td>\n",
       "      <td>0.264317</td>\n",
       "      <td>0.088106</td>\n",
       "      <td>0.088106</td>\n",
       "      <td>0.264317</td>\n",
       "      <td>0.088106</td>\n",
       "      <td>0.352423</td>\n",
       "      <td>0.088106</td>\n",
       "    </tr>\n",
       "    <tr>\n",
       "      <th>2</th>\n",
       "      <td>0.968992</td>\n",
       "      <td>0.387597</td>\n",
       "      <td>91.279070</td>\n",
       "      <td>2.810078</td>\n",
       "      <td>0.484496</td>\n",
       "      <td>0.000000</td>\n",
       "      <td>0.775194</td>\n",
       "      <td>1.065891</td>\n",
       "      <td>2.131783</td>\n",
       "      <td>0.096899</td>\n",
       "    </tr>\n",
       "    <tr>\n",
       "      <th>3</th>\n",
       "      <td>0.099010</td>\n",
       "      <td>0.198020</td>\n",
       "      <td>0.990099</td>\n",
       "      <td>94.653465</td>\n",
       "      <td>0.000000</td>\n",
       "      <td>1.089109</td>\n",
       "      <td>0.000000</td>\n",
       "      <td>1.287129</td>\n",
       "      <td>1.089109</td>\n",
       "      <td>0.594059</td>\n",
       "    </tr>\n",
       "    <tr>\n",
       "      <th>4</th>\n",
       "      <td>0.101833</td>\n",
       "      <td>0.509165</td>\n",
       "      <td>0.203666</td>\n",
       "      <td>0.101833</td>\n",
       "      <td>95.315682</td>\n",
       "      <td>0.000000</td>\n",
       "      <td>1.018330</td>\n",
       "      <td>0.509165</td>\n",
       "      <td>0.101833</td>\n",
       "      <td>2.138493</td>\n",
       "    </tr>\n",
       "    <tr>\n",
       "      <th>5</th>\n",
       "      <td>0.784753</td>\n",
       "      <td>0.112108</td>\n",
       "      <td>0.000000</td>\n",
       "      <td>1.569507</td>\n",
       "      <td>0.112108</td>\n",
       "      <td>92.376682</td>\n",
       "      <td>1.345291</td>\n",
       "      <td>0.000000</td>\n",
       "      <td>2.690583</td>\n",
       "      <td>1.008969</td>\n",
       "    </tr>\n",
       "    <tr>\n",
       "      <th>6</th>\n",
       "      <td>0.835073</td>\n",
       "      <td>0.626305</td>\n",
       "      <td>0.104384</td>\n",
       "      <td>0.000000</td>\n",
       "      <td>1.252610</td>\n",
       "      <td>0.939457</td>\n",
       "      <td>95.824635</td>\n",
       "      <td>0.000000</td>\n",
       "      <td>0.313152</td>\n",
       "      <td>0.104384</td>\n",
       "    </tr>\n",
       "    <tr>\n",
       "      <th>7</th>\n",
       "      <td>0.291829</td>\n",
       "      <td>0.680934</td>\n",
       "      <td>1.459144</td>\n",
       "      <td>0.680934</td>\n",
       "      <td>0.583658</td>\n",
       "      <td>0.291829</td>\n",
       "      <td>0.000000</td>\n",
       "      <td>93.871595</td>\n",
       "      <td>0.389105</td>\n",
       "      <td>1.750973</td>\n",
       "    </tr>\n",
       "    <tr>\n",
       "      <th>8</th>\n",
       "      <td>0.718686</td>\n",
       "      <td>1.129363</td>\n",
       "      <td>0.821355</td>\n",
       "      <td>1.642710</td>\n",
       "      <td>0.102669</td>\n",
       "      <td>2.977413</td>\n",
       "      <td>1.129363</td>\n",
       "      <td>0.924025</td>\n",
       "      <td>90.041068</td>\n",
       "      <td>0.513347</td>\n",
       "    </tr>\n",
       "    <tr>\n",
       "      <th>9</th>\n",
       "      <td>0.594648</td>\n",
       "      <td>0.991080</td>\n",
       "      <td>0.099108</td>\n",
       "      <td>0.297324</td>\n",
       "      <td>3.468781</td>\n",
       "      <td>1.783944</td>\n",
       "      <td>0.000000</td>\n",
       "      <td>2.279485</td>\n",
       "      <td>0.000000</td>\n",
       "      <td>90.485629</td>\n",
       "    </tr>\n",
       "  </tbody>\n",
       "</table>\n",
       "</div>"
      ],
      "text/plain": [
       "           0          1          2          3          4          5  \\\n",
       "0  97.346939   0.000000   0.306122   0.102041   0.204082   0.204082   \n",
       "1   0.000000  98.678414   0.088106   0.264317   0.088106   0.088106   \n",
       "2   0.968992   0.387597  91.279070   2.810078   0.484496   0.000000   \n",
       "3   0.099010   0.198020   0.990099  94.653465   0.000000   1.089109   \n",
       "4   0.101833   0.509165   0.203666   0.101833  95.315682   0.000000   \n",
       "5   0.784753   0.112108   0.000000   1.569507   0.112108  92.376682   \n",
       "6   0.835073   0.626305   0.104384   0.000000   1.252610   0.939457   \n",
       "7   0.291829   0.680934   1.459144   0.680934   0.583658   0.291829   \n",
       "8   0.718686   1.129363   0.821355   1.642710   0.102669   2.977413   \n",
       "9   0.594648   0.991080   0.099108   0.297324   3.468781   1.783944   \n",
       "\n",
       "           6          7          8          9  \n",
       "0   0.918367   0.000000   0.918367   0.000000  \n",
       "1   0.264317   0.088106   0.352423   0.088106  \n",
       "2   0.775194   1.065891   2.131783   0.096899  \n",
       "3   0.000000   1.287129   1.089109   0.594059  \n",
       "4   1.018330   0.509165   0.101833   2.138493  \n",
       "5   1.345291   0.000000   2.690583   1.008969  \n",
       "6  95.824635   0.000000   0.313152   0.104384  \n",
       "7   0.000000  93.871595   0.389105   1.750973  \n",
       "8   1.129363   0.924025  90.041068   0.513347  \n",
       "9   0.000000   2.279485   0.000000  90.485629  "
      ]
     },
     "execution_count": 80,
     "metadata": {},
     "output_type": "execute_result"
    }
   ],
   "source": [
    "Classes_tanh, _ = cnnet_tanh.use(Xtest)\n",
    "tanh_perc_correct = 100 * np.mean(Classes_tanh == Ttest)\n",
    "print(f'(Tanh) Test accuracy in percent correct: {tanh_perc_correct:.2f}')\n",
    "confusion_matrix(Classes_tanh, Ttest)"
   ]
  },
  {
   "cell_type": "code",
   "execution_count": 81,
   "metadata": {},
   "outputs": [
    {
     "name": "stdout",
     "output_type": "stream",
     "text": [
      "(RELU) Test accuracy in percent correct: 96.31\n"
     ]
    },
    {
     "data": {
      "text/html": [
       "<div>\n",
       "<style scoped>\n",
       "    .dataframe tbody tr th:only-of-type {\n",
       "        vertical-align: middle;\n",
       "    }\n",
       "\n",
       "    .dataframe tbody tr th {\n",
       "        vertical-align: top;\n",
       "    }\n",
       "\n",
       "    .dataframe thead th {\n",
       "        text-align: right;\n",
       "    }\n",
       "</style>\n",
       "<table border=\"1\" class=\"dataframe\">\n",
       "  <thead>\n",
       "    <tr style=\"text-align: right;\">\n",
       "      <th></th>\n",
       "      <th>0</th>\n",
       "      <th>1</th>\n",
       "      <th>2</th>\n",
       "      <th>3</th>\n",
       "      <th>4</th>\n",
       "      <th>5</th>\n",
       "      <th>6</th>\n",
       "      <th>7</th>\n",
       "      <th>8</th>\n",
       "      <th>9</th>\n",
       "    </tr>\n",
       "  </thead>\n",
       "  <tbody>\n",
       "    <tr>\n",
       "      <th>0</th>\n",
       "      <td>97.857143</td>\n",
       "      <td>0.000000</td>\n",
       "      <td>0.102041</td>\n",
       "      <td>0.000000</td>\n",
       "      <td>0.000000</td>\n",
       "      <td>0.204082</td>\n",
       "      <td>0.918367</td>\n",
       "      <td>0.714286</td>\n",
       "      <td>0.204082</td>\n",
       "      <td>0.000000</td>\n",
       "    </tr>\n",
       "    <tr>\n",
       "      <th>1</th>\n",
       "      <td>0.088106</td>\n",
       "      <td>98.942731</td>\n",
       "      <td>0.440529</td>\n",
       "      <td>0.264317</td>\n",
       "      <td>0.000000</td>\n",
       "      <td>0.000000</td>\n",
       "      <td>0.000000</td>\n",
       "      <td>0.088106</td>\n",
       "      <td>0.176211</td>\n",
       "      <td>0.000000</td>\n",
       "    </tr>\n",
       "    <tr>\n",
       "      <th>2</th>\n",
       "      <td>0.872093</td>\n",
       "      <td>0.193798</td>\n",
       "      <td>93.507752</td>\n",
       "      <td>2.325581</td>\n",
       "      <td>0.000000</td>\n",
       "      <td>0.290698</td>\n",
       "      <td>0.000000</td>\n",
       "      <td>0.968992</td>\n",
       "      <td>1.841085</td>\n",
       "      <td>0.000000</td>\n",
       "    </tr>\n",
       "    <tr>\n",
       "      <th>3</th>\n",
       "      <td>0.000000</td>\n",
       "      <td>0.099010</td>\n",
       "      <td>0.297030</td>\n",
       "      <td>97.722772</td>\n",
       "      <td>0.000000</td>\n",
       "      <td>0.495050</td>\n",
       "      <td>0.000000</td>\n",
       "      <td>0.693069</td>\n",
       "      <td>0.396040</td>\n",
       "      <td>0.297030</td>\n",
       "    </tr>\n",
       "    <tr>\n",
       "      <th>4</th>\n",
       "      <td>0.000000</td>\n",
       "      <td>0.101833</td>\n",
       "      <td>0.101833</td>\n",
       "      <td>0.000000</td>\n",
       "      <td>98.065173</td>\n",
       "      <td>0.000000</td>\n",
       "      <td>0.203666</td>\n",
       "      <td>0.610998</td>\n",
       "      <td>0.509165</td>\n",
       "      <td>0.407332</td>\n",
       "    </tr>\n",
       "    <tr>\n",
       "      <th>5</th>\n",
       "      <td>0.448430</td>\n",
       "      <td>0.000000</td>\n",
       "      <td>0.112108</td>\n",
       "      <td>1.681614</td>\n",
       "      <td>0.000000</td>\n",
       "      <td>94.618834</td>\n",
       "      <td>1.008969</td>\n",
       "      <td>0.224215</td>\n",
       "      <td>1.681614</td>\n",
       "      <td>0.224215</td>\n",
       "    </tr>\n",
       "    <tr>\n",
       "      <th>6</th>\n",
       "      <td>0.835073</td>\n",
       "      <td>0.208768</td>\n",
       "      <td>0.000000</td>\n",
       "      <td>0.000000</td>\n",
       "      <td>0.626305</td>\n",
       "      <td>0.104384</td>\n",
       "      <td>97.599165</td>\n",
       "      <td>0.000000</td>\n",
       "      <td>0.626305</td>\n",
       "      <td>0.000000</td>\n",
       "    </tr>\n",
       "    <tr>\n",
       "      <th>7</th>\n",
       "      <td>0.291829</td>\n",
       "      <td>0.194553</td>\n",
       "      <td>0.583658</td>\n",
       "      <td>0.486381</td>\n",
       "      <td>0.291829</td>\n",
       "      <td>0.000000</td>\n",
       "      <td>0.000000</td>\n",
       "      <td>97.178988</td>\n",
       "      <td>0.194553</td>\n",
       "      <td>0.778210</td>\n",
       "    </tr>\n",
       "    <tr>\n",
       "      <th>8</th>\n",
       "      <td>0.308008</td>\n",
       "      <td>0.102669</td>\n",
       "      <td>0.616016</td>\n",
       "      <td>1.232033</td>\n",
       "      <td>0.308008</td>\n",
       "      <td>0.000000</td>\n",
       "      <td>0.410678</td>\n",
       "      <td>0.205339</td>\n",
       "      <td>96.303901</td>\n",
       "      <td>0.513347</td>\n",
       "    </tr>\n",
       "    <tr>\n",
       "      <th>9</th>\n",
       "      <td>0.198216</td>\n",
       "      <td>0.495540</td>\n",
       "      <td>0.099108</td>\n",
       "      <td>0.991080</td>\n",
       "      <td>3.171457</td>\n",
       "      <td>1.387512</td>\n",
       "      <td>0.099108</td>\n",
       "      <td>1.189296</td>\n",
       "      <td>1.387512</td>\n",
       "      <td>90.981169</td>\n",
       "    </tr>\n",
       "  </tbody>\n",
       "</table>\n",
       "</div>"
      ],
      "text/plain": [
       "           0          1          2          3          4          5  \\\n",
       "0  97.857143   0.000000   0.102041   0.000000   0.000000   0.204082   \n",
       "1   0.088106  98.942731   0.440529   0.264317   0.000000   0.000000   \n",
       "2   0.872093   0.193798  93.507752   2.325581   0.000000   0.290698   \n",
       "3   0.000000   0.099010   0.297030  97.722772   0.000000   0.495050   \n",
       "4   0.000000   0.101833   0.101833   0.000000  98.065173   0.000000   \n",
       "5   0.448430   0.000000   0.112108   1.681614   0.000000  94.618834   \n",
       "6   0.835073   0.208768   0.000000   0.000000   0.626305   0.104384   \n",
       "7   0.291829   0.194553   0.583658   0.486381   0.291829   0.000000   \n",
       "8   0.308008   0.102669   0.616016   1.232033   0.308008   0.000000   \n",
       "9   0.198216   0.495540   0.099108   0.991080   3.171457   1.387512   \n",
       "\n",
       "           6          7          8          9  \n",
       "0   0.918367   0.714286   0.204082   0.000000  \n",
       "1   0.000000   0.088106   0.176211   0.000000  \n",
       "2   0.000000   0.968992   1.841085   0.000000  \n",
       "3   0.000000   0.693069   0.396040   0.297030  \n",
       "4   0.203666   0.610998   0.509165   0.407332  \n",
       "5   1.008969   0.224215   1.681614   0.224215  \n",
       "6  97.599165   0.000000   0.626305   0.000000  \n",
       "7   0.000000  97.178988   0.194553   0.778210  \n",
       "8   0.410678   0.205339  96.303901   0.513347  \n",
       "9   0.099108   1.189296   1.387512  90.981169  "
      ]
     },
     "execution_count": 81,
     "metadata": {},
     "output_type": "execute_result"
    }
   ],
   "source": [
    "Classes_relu, _ = cnnet_relu.use(Xtest)\n",
    "relu_perc_correct = 100 * np.mean(Classes_relu == Ttest)\n",
    "print(f'(RELU) Test accuracy in percent correct: {relu_perc_correct:.2f}')\n",
    "confusion_matrix(Classes_relu, Ttest)"
   ]
  },
  {
   "cell_type": "markdown",
   "metadata": {},
   "source": [
    "RELU showed a slightly higher accuracy on the MNIST data than Tanh, with 96.31% Test Acc vs 94.05% Test Acc. RELU also showed a much higher occurrence of 0% incorrect letter picks in the confusion matrix, along with overall lower incorrect pick rates. The loss of the RELU model also ended at nearly half that of the Tanh model in epoch 20. This could be due to a few different causes. One of them is that RELU avoids vanishing gradients, which could reduce any stalling in the model and increase the speed on convergence on an accurate set of weights."
   ]
  },
  {
   "cell_type": "markdown",
   "metadata": {},
   "source": [
    "2. Compare your results on the MNIST data using `adam` versus `sgd`. Show and discuss the results."
   ]
  },
  {
   "cell_type": "code",
   "execution_count": 88,
   "metadata": {},
   "outputs": [],
   "source": [
    "n_hiddens_per_conv_layer = [10, 10]\n",
    "patch_size_per_conv_layer = [10, 5]\n",
    "stride_per_conv_layer=[4, 2]\n",
    "n_hiddens_per_fc_layer = [5]\n",
    "\n",
    "cnnet_ec = CNN2D(28 * 28, n_hiddens_per_conv_layer, n_hiddens_per_fc_layer, len(np.unique(Ttrain)), \n",
    "              patch_size_per_conv_layer, stride_per_conv_layer, activation_function=\"relu\", device=device)\n",
    "\n",
    "n_epochs = 20\n",
    "batch_size = 500\n",
    "learning_rate = 0.01"
   ]
  },
  {
   "cell_type": "code",
   "execution_count": 89,
   "metadata": {},
   "outputs": [
    {
     "name": "stdout",
     "output_type": "stream",
     "text": [
      "adam: Epoch 2 Loss 0.326\n",
      "adam: Epoch 4 Loss 0.202\n",
      "adam: Epoch 6 Loss 0.170\n",
      "adam: Epoch 8 Loss 0.155\n",
      "adam: Epoch 10 Loss 0.140\n",
      "adam: Epoch 12 Loss 0.124\n",
      "adam: Epoch 14 Loss 0.110\n",
      "adam: Epoch 16 Loss 0.103\n",
      "adam: Epoch 18 Loss 0.099\n",
      "adam: Epoch 20 Loss 0.094\n",
      "Test accuracy in percent correct: 96.34\n"
     ]
    },
    {
     "data": {
      "text/html": [
       "<div>\n",
       "<style scoped>\n",
       "    .dataframe tbody tr th:only-of-type {\n",
       "        vertical-align: middle;\n",
       "    }\n",
       "\n",
       "    .dataframe tbody tr th {\n",
       "        vertical-align: top;\n",
       "    }\n",
       "\n",
       "    .dataframe thead th {\n",
       "        text-align: right;\n",
       "    }\n",
       "</style>\n",
       "<table border=\"1\" class=\"dataframe\">\n",
       "  <thead>\n",
       "    <tr style=\"text-align: right;\">\n",
       "      <th></th>\n",
       "      <th>0</th>\n",
       "      <th>1</th>\n",
       "      <th>2</th>\n",
       "      <th>3</th>\n",
       "      <th>4</th>\n",
       "      <th>5</th>\n",
       "      <th>6</th>\n",
       "      <th>7</th>\n",
       "      <th>8</th>\n",
       "      <th>9</th>\n",
       "    </tr>\n",
       "  </thead>\n",
       "  <tbody>\n",
       "    <tr>\n",
       "      <th>0</th>\n",
       "      <td>97.244898</td>\n",
       "      <td>0.000000</td>\n",
       "      <td>0.306122</td>\n",
       "      <td>0.000000</td>\n",
       "      <td>0.000000</td>\n",
       "      <td>0.306122</td>\n",
       "      <td>1.326531</td>\n",
       "      <td>0.510204</td>\n",
       "      <td>0.306122</td>\n",
       "      <td>0.000000</td>\n",
       "    </tr>\n",
       "    <tr>\n",
       "      <th>1</th>\n",
       "      <td>0.000000</td>\n",
       "      <td>98.325991</td>\n",
       "      <td>0.792952</td>\n",
       "      <td>0.088106</td>\n",
       "      <td>0.000000</td>\n",
       "      <td>0.000000</td>\n",
       "      <td>0.352423</td>\n",
       "      <td>0.088106</td>\n",
       "      <td>0.352423</td>\n",
       "      <td>0.000000</td>\n",
       "    </tr>\n",
       "    <tr>\n",
       "      <th>2</th>\n",
       "      <td>0.193798</td>\n",
       "      <td>0.096899</td>\n",
       "      <td>96.996124</td>\n",
       "      <td>1.162791</td>\n",
       "      <td>0.000000</td>\n",
       "      <td>0.193798</td>\n",
       "      <td>0.387597</td>\n",
       "      <td>0.678295</td>\n",
       "      <td>0.290698</td>\n",
       "      <td>0.000000</td>\n",
       "    </tr>\n",
       "    <tr>\n",
       "      <th>3</th>\n",
       "      <td>0.000000</td>\n",
       "      <td>0.000000</td>\n",
       "      <td>0.792079</td>\n",
       "      <td>97.821782</td>\n",
       "      <td>0.000000</td>\n",
       "      <td>0.594059</td>\n",
       "      <td>0.000000</td>\n",
       "      <td>0.396040</td>\n",
       "      <td>0.297030</td>\n",
       "      <td>0.099010</td>\n",
       "    </tr>\n",
       "    <tr>\n",
       "      <th>4</th>\n",
       "      <td>0.000000</td>\n",
       "      <td>0.203666</td>\n",
       "      <td>0.203666</td>\n",
       "      <td>0.000000</td>\n",
       "      <td>96.741344</td>\n",
       "      <td>0.000000</td>\n",
       "      <td>0.712831</td>\n",
       "      <td>0.203666</td>\n",
       "      <td>0.101833</td>\n",
       "      <td>1.832994</td>\n",
       "    </tr>\n",
       "    <tr>\n",
       "      <th>5</th>\n",
       "      <td>0.112108</td>\n",
       "      <td>0.000000</td>\n",
       "      <td>0.224215</td>\n",
       "      <td>3.475336</td>\n",
       "      <td>0.000000</td>\n",
       "      <td>93.497758</td>\n",
       "      <td>1.008969</td>\n",
       "      <td>0.112108</td>\n",
       "      <td>1.233184</td>\n",
       "      <td>0.336323</td>\n",
       "    </tr>\n",
       "    <tr>\n",
       "      <th>6</th>\n",
       "      <td>0.521921</td>\n",
       "      <td>0.104384</td>\n",
       "      <td>0.417537</td>\n",
       "      <td>0.000000</td>\n",
       "      <td>0.208768</td>\n",
       "      <td>0.104384</td>\n",
       "      <td>98.643006</td>\n",
       "      <td>0.000000</td>\n",
       "      <td>0.000000</td>\n",
       "      <td>0.000000</td>\n",
       "    </tr>\n",
       "    <tr>\n",
       "      <th>7</th>\n",
       "      <td>0.291829</td>\n",
       "      <td>0.389105</td>\n",
       "      <td>1.945525</td>\n",
       "      <td>0.972763</td>\n",
       "      <td>0.291829</td>\n",
       "      <td>0.194553</td>\n",
       "      <td>0.000000</td>\n",
       "      <td>94.552529</td>\n",
       "      <td>0.194553</td>\n",
       "      <td>1.167315</td>\n",
       "    </tr>\n",
       "    <tr>\n",
       "      <th>8</th>\n",
       "      <td>0.000000</td>\n",
       "      <td>0.205339</td>\n",
       "      <td>0.718686</td>\n",
       "      <td>1.334702</td>\n",
       "      <td>0.513347</td>\n",
       "      <td>0.513347</td>\n",
       "      <td>0.821355</td>\n",
       "      <td>0.308008</td>\n",
       "      <td>94.969199</td>\n",
       "      <td>0.616016</td>\n",
       "    </tr>\n",
       "    <tr>\n",
       "      <th>9</th>\n",
       "      <td>0.198216</td>\n",
       "      <td>0.396432</td>\n",
       "      <td>0.000000</td>\n",
       "      <td>1.684836</td>\n",
       "      <td>1.486620</td>\n",
       "      <td>0.594648</td>\n",
       "      <td>0.198216</td>\n",
       "      <td>0.891972</td>\n",
       "      <td>0.396432</td>\n",
       "      <td>94.152626</td>\n",
       "    </tr>\n",
       "  </tbody>\n",
       "</table>\n",
       "</div>"
      ],
      "text/plain": [
       "           0          1          2          3          4          5  \\\n",
       "0  97.244898   0.000000   0.306122   0.000000   0.000000   0.306122   \n",
       "1   0.000000  98.325991   0.792952   0.088106   0.000000   0.000000   \n",
       "2   0.193798   0.096899  96.996124   1.162791   0.000000   0.193798   \n",
       "3   0.000000   0.000000   0.792079  97.821782   0.000000   0.594059   \n",
       "4   0.000000   0.203666   0.203666   0.000000  96.741344   0.000000   \n",
       "5   0.112108   0.000000   0.224215   3.475336   0.000000  93.497758   \n",
       "6   0.521921   0.104384   0.417537   0.000000   0.208768   0.104384   \n",
       "7   0.291829   0.389105   1.945525   0.972763   0.291829   0.194553   \n",
       "8   0.000000   0.205339   0.718686   1.334702   0.513347   0.513347   \n",
       "9   0.198216   0.396432   0.000000   1.684836   1.486620   0.594648   \n",
       "\n",
       "           6          7          8          9  \n",
       "0   1.326531   0.510204   0.306122   0.000000  \n",
       "1   0.352423   0.088106   0.352423   0.000000  \n",
       "2   0.387597   0.678295   0.290698   0.000000  \n",
       "3   0.000000   0.396040   0.297030   0.099010  \n",
       "4   0.712831   0.203666   0.101833   1.832994  \n",
       "5   1.008969   0.112108   1.233184   0.336323  \n",
       "6  98.643006   0.000000   0.000000   0.000000  \n",
       "7   0.000000  94.552529   0.194553   1.167315  \n",
       "8   0.821355   0.308008  94.969199   0.616016  \n",
       "9   0.198216   0.891972   0.396432  94.152626  "
      ]
     },
     "execution_count": 89,
     "metadata": {},
     "output_type": "execute_result"
    }
   ],
   "source": [
    "cnnet_ec.train(Xtrain, Ttrain, batch_size, n_epochs, learning_rate, method='adam');\n",
    "\n",
    "Classes_ec, _ = cnnet_ec.use(Xtest)\n",
    "ec_perc_correct = 100 * np.mean(Classes_ec == Ttest)\n",
    "print(f'Test accuracy in percent correct: {ec_perc_correct:.2f}')\n",
    "confusion_matrix(Classes_ec, Ttest)"
   ]
  },
  {
   "cell_type": "code",
   "execution_count": 90,
   "metadata": {},
   "outputs": [
    {
     "name": "stdout",
     "output_type": "stream",
     "text": [
      "sgd: Epoch 2 Loss 0.076\n",
      "sgd: Epoch 4 Loss 0.073\n",
      "sgd: Epoch 6 Loss 0.072\n",
      "sgd: Epoch 8 Loss 0.070\n",
      "sgd: Epoch 10 Loss 0.069\n",
      "sgd: Epoch 12 Loss 0.068\n",
      "sgd: Epoch 14 Loss 0.068\n",
      "sgd: Epoch 16 Loss 0.067\n",
      "sgd: Epoch 18 Loss 0.066\n",
      "sgd: Epoch 20 Loss 0.066\n",
      "Test accuracy in percent correct: 96.93\n"
     ]
    },
    {
     "data": {
      "text/html": [
       "<div>\n",
       "<style scoped>\n",
       "    .dataframe tbody tr th:only-of-type {\n",
       "        vertical-align: middle;\n",
       "    }\n",
       "\n",
       "    .dataframe tbody tr th {\n",
       "        vertical-align: top;\n",
       "    }\n",
       "\n",
       "    .dataframe thead th {\n",
       "        text-align: right;\n",
       "    }\n",
       "</style>\n",
       "<table border=\"1\" class=\"dataframe\">\n",
       "  <thead>\n",
       "    <tr style=\"text-align: right;\">\n",
       "      <th></th>\n",
       "      <th>0</th>\n",
       "      <th>1</th>\n",
       "      <th>2</th>\n",
       "      <th>3</th>\n",
       "      <th>4</th>\n",
       "      <th>5</th>\n",
       "      <th>6</th>\n",
       "      <th>7</th>\n",
       "      <th>8</th>\n",
       "      <th>9</th>\n",
       "    </tr>\n",
       "  </thead>\n",
       "  <tbody>\n",
       "    <tr>\n",
       "      <th>0</th>\n",
       "      <td>98.877551</td>\n",
       "      <td>0.000000</td>\n",
       "      <td>0.000000</td>\n",
       "      <td>0.000000</td>\n",
       "      <td>0.000000</td>\n",
       "      <td>0.306122</td>\n",
       "      <td>0.204082</td>\n",
       "      <td>0.306122</td>\n",
       "      <td>0.306122</td>\n",
       "      <td>0.000000</td>\n",
       "    </tr>\n",
       "    <tr>\n",
       "      <th>1</th>\n",
       "      <td>0.088106</td>\n",
       "      <td>98.502203</td>\n",
       "      <td>0.704846</td>\n",
       "      <td>0.000000</td>\n",
       "      <td>0.000000</td>\n",
       "      <td>0.000000</td>\n",
       "      <td>0.264317</td>\n",
       "      <td>0.176211</td>\n",
       "      <td>0.264317</td>\n",
       "      <td>0.000000</td>\n",
       "    </tr>\n",
       "    <tr>\n",
       "      <th>2</th>\n",
       "      <td>0.387597</td>\n",
       "      <td>0.193798</td>\n",
       "      <td>97.577519</td>\n",
       "      <td>0.484496</td>\n",
       "      <td>0.096899</td>\n",
       "      <td>0.096899</td>\n",
       "      <td>0.290698</td>\n",
       "      <td>0.581395</td>\n",
       "      <td>0.290698</td>\n",
       "      <td>0.000000</td>\n",
       "    </tr>\n",
       "    <tr>\n",
       "      <th>3</th>\n",
       "      <td>0.000000</td>\n",
       "      <td>0.000000</td>\n",
       "      <td>1.386139</td>\n",
       "      <td>96.336634</td>\n",
       "      <td>0.000000</td>\n",
       "      <td>0.990099</td>\n",
       "      <td>0.000000</td>\n",
       "      <td>0.495050</td>\n",
       "      <td>0.693069</td>\n",
       "      <td>0.099010</td>\n",
       "    </tr>\n",
       "    <tr>\n",
       "      <th>4</th>\n",
       "      <td>0.000000</td>\n",
       "      <td>0.203666</td>\n",
       "      <td>0.000000</td>\n",
       "      <td>0.000000</td>\n",
       "      <td>98.065173</td>\n",
       "      <td>0.000000</td>\n",
       "      <td>0.509165</td>\n",
       "      <td>0.203666</td>\n",
       "      <td>0.000000</td>\n",
       "      <td>1.018330</td>\n",
       "    </tr>\n",
       "    <tr>\n",
       "      <th>5</th>\n",
       "      <td>0.336323</td>\n",
       "      <td>0.000000</td>\n",
       "      <td>0.000000</td>\n",
       "      <td>1.457399</td>\n",
       "      <td>0.000000</td>\n",
       "      <td>95.515695</td>\n",
       "      <td>0.560538</td>\n",
       "      <td>0.112108</td>\n",
       "      <td>1.569507</td>\n",
       "      <td>0.448430</td>\n",
       "    </tr>\n",
       "    <tr>\n",
       "      <th>6</th>\n",
       "      <td>0.835073</td>\n",
       "      <td>0.104384</td>\n",
       "      <td>0.417537</td>\n",
       "      <td>0.000000</td>\n",
       "      <td>0.835073</td>\n",
       "      <td>0.104384</td>\n",
       "      <td>97.494781</td>\n",
       "      <td>0.000000</td>\n",
       "      <td>0.208768</td>\n",
       "      <td>0.000000</td>\n",
       "    </tr>\n",
       "    <tr>\n",
       "      <th>7</th>\n",
       "      <td>0.194553</td>\n",
       "      <td>0.389105</td>\n",
       "      <td>1.556420</td>\n",
       "      <td>0.389105</td>\n",
       "      <td>0.389105</td>\n",
       "      <td>0.194553</td>\n",
       "      <td>0.000000</td>\n",
       "      <td>96.108949</td>\n",
       "      <td>0.097276</td>\n",
       "      <td>0.680934</td>\n",
       "    </tr>\n",
       "    <tr>\n",
       "      <th>8</th>\n",
       "      <td>0.102669</td>\n",
       "      <td>0.102669</td>\n",
       "      <td>0.308008</td>\n",
       "      <td>0.102669</td>\n",
       "      <td>0.513347</td>\n",
       "      <td>0.410678</td>\n",
       "      <td>0.513347</td>\n",
       "      <td>0.308008</td>\n",
       "      <td>97.330595</td>\n",
       "      <td>0.308008</td>\n",
       "    </tr>\n",
       "    <tr>\n",
       "      <th>9</th>\n",
       "      <td>0.198216</td>\n",
       "      <td>0.396432</td>\n",
       "      <td>0.000000</td>\n",
       "      <td>1.288404</td>\n",
       "      <td>2.081269</td>\n",
       "      <td>0.594648</td>\n",
       "      <td>0.198216</td>\n",
       "      <td>1.486620</td>\n",
       "      <td>0.495540</td>\n",
       "      <td>93.260654</td>\n",
       "    </tr>\n",
       "  </tbody>\n",
       "</table>\n",
       "</div>"
      ],
      "text/plain": [
       "           0          1          2          3          4          5  \\\n",
       "0  98.877551   0.000000   0.000000   0.000000   0.000000   0.306122   \n",
       "1   0.088106  98.502203   0.704846   0.000000   0.000000   0.000000   \n",
       "2   0.387597   0.193798  97.577519   0.484496   0.096899   0.096899   \n",
       "3   0.000000   0.000000   1.386139  96.336634   0.000000   0.990099   \n",
       "4   0.000000   0.203666   0.000000   0.000000  98.065173   0.000000   \n",
       "5   0.336323   0.000000   0.000000   1.457399   0.000000  95.515695   \n",
       "6   0.835073   0.104384   0.417537   0.000000   0.835073   0.104384   \n",
       "7   0.194553   0.389105   1.556420   0.389105   0.389105   0.194553   \n",
       "8   0.102669   0.102669   0.308008   0.102669   0.513347   0.410678   \n",
       "9   0.198216   0.396432   0.000000   1.288404   2.081269   0.594648   \n",
       "\n",
       "           6          7          8          9  \n",
       "0   0.204082   0.306122   0.306122   0.000000  \n",
       "1   0.264317   0.176211   0.264317   0.000000  \n",
       "2   0.290698   0.581395   0.290698   0.000000  \n",
       "3   0.000000   0.495050   0.693069   0.099010  \n",
       "4   0.509165   0.203666   0.000000   1.018330  \n",
       "5   0.560538   0.112108   1.569507   0.448430  \n",
       "6  97.494781   0.000000   0.208768   0.000000  \n",
       "7   0.000000  96.108949   0.097276   0.680934  \n",
       "8   0.513347   0.308008  97.330595   0.308008  \n",
       "9   0.198216   1.486620   0.495540  93.260654  "
      ]
     },
     "execution_count": 90,
     "metadata": {},
     "output_type": "execute_result"
    }
   ],
   "source": [
    "cnnet_ec.train(Xtrain, Ttrain, batch_size, n_epochs, learning_rate, method='sgd');\n",
    "\n",
    "Classes_ec, _ = cnnet_ec.use(Xtest)\n",
    "ec_perc_correct = 100 * np.mean(Classes_ec == Ttest)\n",
    "print(f'Test accuracy in percent correct: {ec_perc_correct:.2f}')\n",
    "confusion_matrix(Classes_ec, Ttest)"
   ]
  },
  {
   "cell_type": "markdown",
   "metadata": {},
   "source": [
    "SGD appeared to perform slightly better than Adam, with a Test Acc of 96.93% vs 96.34%. This could be due to SGD having better generalization capabilities than Adam, which is vulnerable to overfitting on simple datasets like MNIST where Adam's individual learning rates may be too much. On a less simple/clean/organized dataset, Adam's flexibility may result in a better performance, but a simple dataset like MNIST may be most effectively modeled using more set models like SGD."
   ]
  }
 ],
 "metadata": {
  "kernelspec": {
   "display_name": ".venv",
   "language": "python",
   "name": "python3"
  },
  "language_info": {
   "codemirror_mode": {
    "name": "ipython",
    "version": 3
   },
   "file_extension": ".py",
   "mimetype": "text/x-python",
   "name": "python",
   "nbconvert_exporter": "python",
   "pygments_lexer": "ipython3",
   "version": "3.12.10"
  },
  "toc": {
   "base_numbering": 1,
   "nav_menu": {},
   "number_sections": true,
   "sideBar": true,
   "skip_h1_title": false,
   "title_cell": "Table of Contents",
   "title_sidebar": "Contents",
   "toc_cell": false,
   "toc_position": {
    "height": "calc(100% - 180px)",
    "left": "10px",
    "top": "150px",
    "width": "165px"
   },
   "toc_section_display": true,
   "toc_window_display": false
  }
 },
 "nbformat": 4,
 "nbformat_minor": 2
}
