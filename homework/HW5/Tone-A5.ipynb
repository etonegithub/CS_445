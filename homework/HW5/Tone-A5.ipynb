{
 "cells": [
  {
   "cell_type": "markdown",
   "metadata": {},
   "source": [
    "# A5 1-D and 2-D Convolutional Neural Networks in Pytorch\n",
    "\n",
    "In this assignment, you will experiment with the given convolutional neural network for 2-dimensional input samples (images), in class `CNN2D`, by applying it to the MNIST data.  You will also define a new class for handling 1-dimensional input samples, called `CNN1D`, that extends `CNN2D`."
   ]
  },
  {
   "cell_type": "code",
   "execution_count": 1,
   "metadata": {},
   "outputs": [],
   "source": [
    "import numpy as np\n",
    "import torch\n",
    "import pandas\n",
    "\n",
    "import matplotlib.pyplot as plt"
   ]
  },
  {
   "cell_type": "markdown",
   "metadata": {},
   "source": [
    "## `CNN2D` class"
   ]
  },
  {
   "cell_type": "markdown",
   "metadata": {},
   "source": [
    "Here is a definition of `CNN2D`."
   ]
  },
  {
   "cell_type": "code",
   "execution_count": 128,
   "metadata": {},
   "outputs": [],
   "source": [
    "import numpy as np\n",
    "import torch\n",
    "\n",
    "\n",
    "class CNN2D(torch.nn.Module):\n",
    "\n",
    "    def __init__(self, n_inputs, n_hiddens_per_conv_layer, n_hiddens_per_fc_layer, n_outputs,\n",
    "                 patch_size_per_conv_layer, stride_per_conv_layer, activation_function='tanh', device='cpu'):\n",
    "\n",
    "        super().__init__()\n",
    "\n",
    "        self.device = device\n",
    "\n",
    "        n_conv_layers = len(n_hiddens_per_conv_layer)\n",
    "        if (len(patch_size_per_conv_layer) != n_conv_layers\n",
    "            or len(stride_per_conv_layer) != n_conv_layers):\n",
    "            raise Exception('The lengths of n_hiddens_per_conv_layer, patch_size_per_conv_layer, and stride_per_conv_layer must be equal.')\n",
    "\n",
    "        self.activation_function = torch.tanh if activation_function == 'tanh' else torch.relu\n",
    "\n",
    "        self.make_conv_and_fc_layers(n_inputs, n_hiddens_per_conv_layer, n_hiddens_per_fc_layer, n_outputs,\n",
    "                                     patch_size_per_conv_layer, stride_per_conv_layer)\n",
    "        \n",
    "        self.Xmeans = None\n",
    "        self.to(self.device)\n",
    "\n",
    "    def make_conv_and_fc_layers(self, n_inputs, n_hiddens_per_conv_layer, n_hiddens_per_fc_layer, n_outputs,\n",
    "                                patch_size_per_conv_layer, stride_per_conv_layer):\n",
    "                # Create all convolutional layers\n",
    "        # First argument to first Conv2d is number of channels for each pixel.\n",
    "        # Just 1 for our grayscale images.\n",
    "        n_in = 1\n",
    "        input_hw = int(np.sqrt(n_inputs))  # original input image height (=width because image assumed square)\n",
    "        self.conv_layers = torch.nn.ModuleList()\n",
    "        layeri = 0\n",
    "        for nh, patch_size, stride in zip(n_hiddens_per_conv_layer,\n",
    "                                          patch_size_per_conv_layer,\n",
    "                                          stride_per_conv_layer):\n",
    "            self.conv_layers.append(torch.nn.Conv2d(n_in, nh, kernel_size=patch_size, stride=stride))\n",
    "            conv_layer_output_hw = (input_hw - patch_size) // stride + 1\n",
    "            if conv_layer_output_hw <= 0:\n",
    "                raise Exception(f'''For conv layer {layeri}, input_hw of {input_hw} is less than patch_size {patch_size}.\n",
    "Try reducing the patch_size for this layer or for the previous layer.''')\n",
    "            input_hw = conv_layer_output_hw  # for next trip through this loop\n",
    "            n_in = nh\n",
    "            layeri += 1\n",
    "           \n",
    "        # Create all fully connected layers.  First must determine number of inputs to first\n",
    "        # fully-connected layer that results from flattening the images coming out of the last\n",
    "        # convolutional layer.\n",
    "        n_in = input_hw ** 2 * n_in\n",
    "        self.fc_layers = torch.nn.ModuleList()\n",
    "        for nh in n_hiddens_per_fc_layer:\n",
    "            self.fc_layers.append(torch.nn.Linear(n_in, nh))\n",
    "            n_in = nh\n",
    "        self.fc_layers.append(torch.nn.Linear(n_in, n_outputs))\n",
    "\n",
    "    def forward_all_outputs(self, X):\n",
    "        n_samples = X.shape[0]\n",
    "        Ys = [X]\n",
    "        for conv_layer in self.conv_layers:\n",
    "            Ys.append(self.activation_function(conv_layer(Ys[-1])))\n",
    "\n",
    "        flattened_input = Ys[-1].reshape(n_samples, -1)\n",
    "\n",
    "        for layeri, fc_layer in enumerate(self.fc_layers[:-1]):\n",
    "            if layeri == 0:\n",
    "                Ys.append(self.activation_function(fc_layer(flattened_input)))\n",
    "            else:\n",
    "                Ys.append(self.activation_function(fc_layer(Ys[-1])))\n",
    "\n",
    "        if len(self.fc_layers) == 1:\n",
    "            # only the output layer\n",
    "            Ys.append(self.fc_layers[-1](flattened_input))\n",
    "        else:\n",
    "            Ys.append(self.fc_layers[-1](Ys[-1]))\n",
    "\n",
    "        return Ys\n",
    "\n",
    "    def forward(self, X):\n",
    "        Ys = self.forward_all_outputs(X)\n",
    "        return Ys[-1]\n",
    "\n",
    "    def train(self, X, T, batch_size, n_epochs, learning_rate, method='sgd', verbose=True):\n",
    "        '''X and T must be numpy arrays'''\n",
    "\n",
    "        self.classes = np.unique(T)\n",
    "        T = np.arange(len(self.classes))[np.where(T.reshape(-1, 1) == self.classes)[1]]\n",
    "\n",
    "        # Set data matrices to torch.tensors\n",
    "        X = torch.from_numpy(X).float().to(self.device)\n",
    "        T = torch.from_numpy(T).long().to(self.device)  # required for classification in pytorch\n",
    "\n",
    "        # Setup standardization parameters\n",
    "        if self.Xmeans is None:\n",
    "            self.Xmeans = X.mean(axis=0)\n",
    "            self.Xstds = X.std(axis=0)\n",
    "            self.Xstds[self.Xstds == 0] = 1  # So we don't divide by zero when standardizing\n",
    "\n",
    "        # Standardize X\n",
    "        X = (X - self.Xmeans) / self.Xstds\n",
    "\n",
    "        X.requires_grad_(True)\n",
    "\n",
    "        if method == 'sgd':\n",
    "            optimizer = torch.optim.SGD(self.parameters(), lr=learning_rate, momentum=0.9)\n",
    "        else:\n",
    "            optimizer = torch.optim.Adam(self.parameters(), lr=learning_rate)\n",
    "\n",
    "        CELoss = torch.nn.CrossEntropyLoss(reduction='mean')\n",
    "        self.error_trace = []\n",
    "\n",
    "        for epoch in range(n_epochs):\n",
    "\n",
    "            num_batches = X.shape[0] // batch_size\n",
    "            loss_sum = 0\n",
    "\n",
    "            for k in range(num_batches):\n",
    "                start = k * batch_size\n",
    "                end = (k + 1) * batch_size\n",
    "                X_batch = X[start:end, ...]\n",
    "                T_batch = T[start:end, ...]\n",
    "\n",
    "                Y = self.forward(X_batch)\n",
    "\n",
    "                loss = CELoss(Y, T_batch)\n",
    "                loss.backward()\n",
    "\n",
    "                # Update parameters\n",
    "                optimizer.step()\n",
    "                optimizer.zero_grad()\n",
    "\n",
    "                loss_sum += loss\n",
    "\n",
    "            self.error_trace.append(float(loss_sum / num_batches))\n",
    "\n",
    "            if verbose and (epoch + 1) % (max(1, n_epochs // 10)) == 0:\n",
    "                print(f'{method}: Epoch {epoch + 1} Loss {self.error_trace[-1]:.3f}')\n",
    "\n",
    "        return self\n",
    "\n",
    "    def softmax(self, Y):\n",
    "        '''Apply to final layer weighted sum outputs'''\n",
    "        # Trick to avoid overflow\n",
    "        maxY = torch.max(Y, axis=1)[0].reshape((-1, 1))\n",
    "        expY = torch.exp(Y - maxY)\n",
    "        denom = torch.sum(expY, axis=1).reshape((-1, 1))\n",
    "        Y = expY / denom\n",
    "        return Y\n",
    "\n",
    "    def use(self, X):\n",
    "        # Set input matrix to torch.tensors\n",
    "        X = torch.from_numpy(X).float().to(self.device)\n",
    "        # Standardize X\n",
    "        X = (X - self.Xmeans) / self.Xstds\n",
    "        # Calculate output of net for all samples in X\n",
    "        Y = self.forward(X)\n",
    "        # Convert output to class probabilities\n",
    "        probs = self.softmax(Y)\n",
    "        # For each sample pick highest probability and translate that to class labels\n",
    "        classes = self.classes[torch.argmax(probs, axis=1).cpu().numpy()].reshape(-1, 1)\n",
    "        return classes, probs.detach().cpu().numpy()"
   ]
  },
  {
   "cell_type": "markdown",
   "metadata": {},
   "source": [
    "### CNN2D on MNIST Digits\n",
    "\n",
    "We will use a bunch (50,000) images of hand drawn digits from [this deeplearning.net site](http://deeplearning.net/tutorial/gettingstarted.html).  Download `mnist.pkl.gz` if you don't already have it from A4. \n",
    "\n",
    "This pickle file includes data already partitioned into training, validation, and test sets.  To read it into python, use the following steps"
   ]
  },
  {
   "cell_type": "code",
   "execution_count": 129,
   "metadata": {},
   "outputs": [
    {
     "name": "stdout",
     "output_type": "stream",
     "text": [
      "(50000, 1, 28, 28) (50000, 1) (10000, 784) (10000, 1) (10000, 1, 28, 28) (10000, 1)\n"
     ]
    }
   ],
   "source": [
    "import pickle\n",
    "import gzip\n",
    "\n",
    "with gzip.open('mnist.pkl.gz', 'rb') as f:\n",
    "    train_set, valid_set, test_set = pickle.load(f, encoding='latin1')\n",
    "\n",
    "Xtrain = train_set[0]\n",
    "Ttrain = train_set[1].reshape(-1, 1)\n",
    "\n",
    "Xval = valid_set[0]\n",
    "Tval = valid_set[1].reshape(-1, 1)\n",
    "\n",
    "Xtest = test_set[0]\n",
    "Ttest = test_set[1].reshape(-1, 1)\n",
    "\n",
    "Xtrain = Xtrain.reshape(-1, 1, 28, 28)\n",
    "Xtest = Xtest.reshape(-1, 1, 28, 28)\n",
    "\n",
    "print(Xtrain.shape, Ttrain.shape,  Xval.shape, Tval.shape,  Xtest.shape, Ttest.shape)"
   ]
  },
  {
   "cell_type": "code",
   "execution_count": 130,
   "metadata": {},
   "outputs": [
    {
     "name": "stdout",
     "output_type": "stream",
     "text": [
      "Running on cpu\n"
     ]
    }
   ],
   "source": [
    "device = 'cpu'\n",
    "if torch.cuda.is_available():\n",
    "    y_or_n = input('Would you like to run on the GPU? (y or n): ')\n",
    "    if y_or_n == 'y' or y_or_n == 'yes':\n",
    "        device = torch.device('cuda:0' if torch.cuda.is_available() else 'cpu')\n",
    "print('Running on', device)"
   ]
  },
  {
   "cell_type": "code",
   "execution_count": 131,
   "metadata": {},
   "outputs": [
    {
     "data": {
      "text/plain": [
       "10"
      ]
     },
     "execution_count": 131,
     "metadata": {},
     "output_type": "execute_result"
    }
   ],
   "source": [
    "len(np.unique(Ttrain))"
   ]
  },
  {
   "cell_type": "code",
   "execution_count": 139,
   "metadata": {},
   "outputs": [
    {
     "name": "stdout",
     "output_type": "stream",
     "text": [
      "adam: Epoch 2 Loss 0.452\n",
      "adam: Epoch 4 Loss 0.287\n",
      "adam: Epoch 6 Loss 0.244\n",
      "adam: Epoch 8 Loss 0.223\n",
      "adam: Epoch 10 Loss 0.207\n",
      "adam: Epoch 12 Loss 0.194\n",
      "adam: Epoch 14 Loss 0.189\n",
      "adam: Epoch 16 Loss 0.186\n",
      "adam: Epoch 18 Loss 0.178\n",
      "adam: Epoch 20 Loss 0.171\n"
     ]
    },
    {
     "data": {
      "text/plain": [
       "Text(0.5, 1.0, 'MNIST')"
      ]
     },
     "execution_count": 139,
     "metadata": {},
     "output_type": "execute_result"
    },
    {
     "data": {
      "image/png": "[encoded data removed]",
      "text/plain": [
       "<Figure size 640x480 with 1 Axes>"
      ]
     },
     "metadata": {},
     "output_type": "display_data"
    }
   ],
   "source": [
    "n_hiddens_per_conv_layer = [10, 10]\n",
    "patch_size_per_conv_layer = [10, 5]\n",
    "stride_per_conv_layer=[4, 2]\n",
    "n_hiddens_per_fc_layer = [5]\n",
    "\n",
    "cnnet = CNN2D(28 * 28, n_hiddens_per_conv_layer, n_hiddens_per_fc_layer, len(np.unique(Ttrain)), \n",
    "              patch_size_per_conv_layer, stride_per_conv_layer, device=device)\n",
    "\n",
    "n_epochs = 20\n",
    "batch_size = 500\n",
    "learning_rate = 0.01\n",
    "\n",
    "cnnet.train(Xtrain, Ttrain, batch_size, n_epochs, learning_rate, method='adam')\n",
    "\n",
    "plt.plot(cnnet.error_trace, label='Pytorch')\n",
    "plt.title('MNIST')"
   ]
  },
  {
   "cell_type": "code",
   "execution_count": 133,
   "metadata": {},
   "outputs": [],
   "source": [
    "def confusion_matrix(Y_classes, T):\n",
    "    class_names = np.unique(T)\n",
    "    table = []\n",
    "    for true_class in class_names:\n",
    "        row = []\n",
    "        for Y_class in class_names:\n",
    "            row.append(100 * np.mean(Y_classes[T == true_class] == Y_class))\n",
    "        table.append(row)\n",
    "    conf_matrix = pandas.DataFrame(table, index=class_names, columns=class_names)\n",
    "    return conf_matrix"
   ]
  },
  {
   "cell_type": "code",
   "execution_count": 134,
   "metadata": {},
   "outputs": [
    {
     "name": "stdout",
     "output_type": "stream",
     "text": [
      "Test accuracy in percent correct: 92.41\n"
     ]
    },
    {
     "data": {
      "application/vnd.microsoft.datawrangler.viewer.v0+json": {
       "columns": [
        {
         "name": "index",
         "rawType": "int64",
         "type": "integer"
        },
        {
         "name": "0",
         "rawType": "float64",
         "type": "float"
        },
        {
         "name": "1",
         "rawType": "float64",
         "type": "float"
        },
        {
         "name": "2",
         "rawType": "float64",
         "type": "float"
        },
        {
         "name": "3",
         "rawType": "float64",
         "type": "float"
        },
        {
         "name": "4",
         "rawType": "float64",
         "type": "float"
        },
        {
         "name": "5",
         "rawType": "float64",
         "type": "float"
        },
        {
         "name": "6",
         "rawType": "float64",
         "type": "float"
        },
        {
         "name": "7",
         "rawType": "float64",
         "type": "float"
        },
        {
         "name": "8",
         "rawType": "float64",
         "type": "float"
        },
        {
         "name": "9",
         "rawType": "float64",
         "type": "float"
        }
       ],
       "conversionMethod": "pd.DataFrame",
       "ref": "b78ce3cb-893b-41b2-a1d2-e81cba1f1147",
       "rows": [
        [
         "0",
         "96.63265306122449",
         "0.0",
         "0.40816326530612246",
         "0.5102040816326531",
         "0.5102040816326531",
         "0.9183673469387756",
         "0.30612244897959184",
         "0.10204081632653061",
         "0.6122448979591837",
         "0.0"
        ],
        [
         "1",
         "0.0881057268722467",
         "97.79735682819384",
         "0.881057268722467",
         "0.2643171806167401",
         "0.1762114537444934",
         "0.0881057268722467",
         "0.0881057268722467",
         "0.5286343612334802",
         "0.0881057268722467",
         "0.0"
        ],
        [
         "2",
         "1.065891472868217",
         "0.0",
         "93.8953488372093",
         "1.8410852713178296",
         "0.0",
         "0.0",
         "0.872093023255814",
         "1.1627906976744187",
         "1.065891472868217",
         "0.09689922480620156"
        ],
        [
         "3",
         "1.3861386138613863",
         "0.7920792079207921",
         "3.2673267326732676",
         "88.51485148514851",
         "0.09900990099009901",
         "2.8712871287128716",
         "0.297029702970297",
         "1.3861386138613863",
         "0.891089108910891",
         "0.49504950495049505"
        ],
        [
         "4",
         "0.10183299389002036",
         "0.6109979633401221",
         "0.5091649694501018",
         "0.0",
         "93.27902240325867",
         "0.0",
         "1.5274949083503055",
         "0.30549898167006106",
         "0.40733197556008144",
         "3.2586558044806515"
        ],
        [
         "5",
         "0.672645739910314",
         "0.5605381165919282",
         "0.2242152466367713",
         "4.0358744394618835",
         "0.11210762331838565",
         "88.2286995515695",
         "0.7847533632286996",
         "0.336322869955157",
         "3.1390134529147984",
         "1.905829596412556"
        ],
        [
         "6",
         "0.41753653444676403",
         "0.20876826722338201",
         "1.3569937369519833",
         "0.41753653444676403",
         "0.8350730688935281",
         "1.7745302713987474",
         "94.05010438413362",
         "0.0",
         "0.9394572025052191",
         "0.0"
        ],
        [
         "7",
         "0.2918287937743191",
         "1.264591439688716",
         "2.6264591439688716",
         "0.38910505836575876",
         "0.48638132295719844",
         "0.0",
         "0.0",
         "92.70428015564202",
         "0.09727626459143969",
         "2.140077821011673"
        ],
        [
         "8",
         "1.4373716632443532",
         "0.10266940451745381",
         "2.2587268993839835",
         "0.9240246406570842",
         "0.6160164271047228",
         "2.2587268993839835",
         "2.97741273100616",
         "2.0533880903490758",
         "85.93429158110884",
         "1.4373716632443532"
        ],
        [
         "9",
         "1.0901883052527255",
         "0.19821605550049554",
         "0.09910802775024777",
         "0.09910802775024777",
         "2.6759167492566895",
         "1.1892963330029733",
         "0.19821605550049554",
         "2.180376610505451",
         "0.39643211100099107",
         "91.87314172447968"
        ]
       ],
       "shape": {
        "columns": 10,
        "rows": 10
       }
      },
      "text/html": [
       "<div>\n",
       "<style scoped>\n",
       "    .dataframe tbody tr th:only-of-type {\n",
       "        vertical-align: middle;\n",
       "    }\n",
       "\n",
       "    .dataframe tbody tr th {\n",
       "        vertical-align: top;\n",
       "    }\n",
       "\n",
       "    .dataframe thead th {\n",
       "        text-align: right;\n",
       "    }\n",
       "</style>\n",
       "<table border=\"1\" class=\"dataframe\">\n",
       "  <thead>\n",
       "    <tr style=\"text-align: right;\">\n",
       "      <th></th>\n",
       "      <th>0</th>\n",
       "      <th>1</th>\n",
       "      <th>2</th>\n",
       "      <th>3</th>\n",
       "      <th>4</th>\n",
       "      <th>5</th>\n",
       "      <th>6</th>\n",
       "      <th>7</th>\n",
       "      <th>8</th>\n",
       "      <th>9</th>\n",
       "    </tr>\n",
       "  </thead>\n",
       "  <tbody>\n",
       "    <tr>\n",
       "      <th>0</th>\n",
       "      <td>96.632653</td>\n",
       "      <td>0.000000</td>\n",
       "      <td>0.408163</td>\n",
       "      <td>0.510204</td>\n",
       "      <td>0.510204</td>\n",
       "      <td>0.918367</td>\n",
       "      <td>0.306122</td>\n",
       "      <td>0.102041</td>\n",
       "      <td>0.612245</td>\n",
       "      <td>0.000000</td>\n",
       "    </tr>\n",
       "    <tr>\n",
       "      <th>1</th>\n",
       "      <td>0.088106</td>\n",
       "      <td>97.797357</td>\n",
       "      <td>0.881057</td>\n",
       "      <td>0.264317</td>\n",
       "      <td>0.176211</td>\n",
       "      <td>0.088106</td>\n",
       "      <td>0.088106</td>\n",
       "      <td>0.528634</td>\n",
       "      <td>0.088106</td>\n",
       "      <td>0.000000</td>\n",
       "    </tr>\n",
       "    <tr>\n",
       "      <th>2</th>\n",
       "      <td>1.065891</td>\n",
       "      <td>0.000000</td>\n",
       "      <td>93.895349</td>\n",
       "      <td>1.841085</td>\n",
       "      <td>0.000000</td>\n",
       "      <td>0.000000</td>\n",
       "      <td>0.872093</td>\n",
       "      <td>1.162791</td>\n",
       "      <td>1.065891</td>\n",
       "      <td>0.096899</td>\n",
       "    </tr>\n",
       "    <tr>\n",
       "      <th>3</th>\n",
       "      <td>1.386139</td>\n",
       "      <td>0.792079</td>\n",
       "      <td>3.267327</td>\n",
       "      <td>88.514851</td>\n",
       "      <td>0.099010</td>\n",
       "      <td>2.871287</td>\n",
       "      <td>0.297030</td>\n",
       "      <td>1.386139</td>\n",
       "      <td>0.891089</td>\n",
       "      <td>0.495050</td>\n",
       "    </tr>\n",
       "    <tr>\n",
       "      <th>4</th>\n",
       "      <td>0.101833</td>\n",
       "      <td>0.610998</td>\n",
       "      <td>0.509165</td>\n",
       "      <td>0.000000</td>\n",
       "      <td>93.279022</td>\n",
       "      <td>0.000000</td>\n",
       "      <td>1.527495</td>\n",
       "      <td>0.305499</td>\n",
       "      <td>0.407332</td>\n",
       "      <td>3.258656</td>\n",
       "    </tr>\n",
       "    <tr>\n",
       "      <th>5</th>\n",
       "      <td>0.672646</td>\n",
       "      <td>0.560538</td>\n",
       "      <td>0.224215</td>\n",
       "      <td>4.035874</td>\n",
       "      <td>0.112108</td>\n",
       "      <td>88.228700</td>\n",
       "      <td>0.784753</td>\n",
       "      <td>0.336323</td>\n",
       "      <td>3.139013</td>\n",
       "      <td>1.905830</td>\n",
       "    </tr>\n",
       "    <tr>\n",
       "      <th>6</th>\n",
       "      <td>0.417537</td>\n",
       "      <td>0.208768</td>\n",
       "      <td>1.356994</td>\n",
       "      <td>0.417537</td>\n",
       "      <td>0.835073</td>\n",
       "      <td>1.774530</td>\n",
       "      <td>94.050104</td>\n",
       "      <td>0.000000</td>\n",
       "      <td>0.939457</td>\n",
       "      <td>0.000000</td>\n",
       "    </tr>\n",
       "    <tr>\n",
       "      <th>7</th>\n",
       "      <td>0.291829</td>\n",
       "      <td>1.264591</td>\n",
       "      <td>2.626459</td>\n",
       "      <td>0.389105</td>\n",
       "      <td>0.486381</td>\n",
       "      <td>0.000000</td>\n",
       "      <td>0.000000</td>\n",
       "      <td>92.704280</td>\n",
       "      <td>0.097276</td>\n",
       "      <td>2.140078</td>\n",
       "    </tr>\n",
       "    <tr>\n",
       "      <th>8</th>\n",
       "      <td>1.437372</td>\n",
       "      <td>0.102669</td>\n",
       "      <td>2.258727</td>\n",
       "      <td>0.924025</td>\n",
       "      <td>0.616016</td>\n",
       "      <td>2.258727</td>\n",
       "      <td>2.977413</td>\n",
       "      <td>2.053388</td>\n",
       "      <td>85.934292</td>\n",
       "      <td>1.437372</td>\n",
       "    </tr>\n",
       "    <tr>\n",
       "      <th>9</th>\n",
       "      <td>1.090188</td>\n",
       "      <td>0.198216</td>\n",
       "      <td>0.099108</td>\n",
       "      <td>0.099108</td>\n",
       "      <td>2.675917</td>\n",
       "      <td>1.189296</td>\n",
       "      <td>0.198216</td>\n",
       "      <td>2.180377</td>\n",
       "      <td>0.396432</td>\n",
       "      <td>91.873142</td>\n",
       "    </tr>\n",
       "  </tbody>\n",
       "</table>\n",
       "</div>"
      ],
      "text/plain": [
       "           0          1          2          3          4          5  \\\n",
       "0  96.632653   0.000000   0.408163   0.510204   0.510204   0.918367   \n",
       "1   0.088106  97.797357   0.881057   0.264317   0.176211   0.088106   \n",
       "2   1.065891   0.000000  93.895349   1.841085   0.000000   0.000000   \n",
       "3   1.386139   0.792079   3.267327  88.514851   0.099010   2.871287   \n",
       "4   0.101833   0.610998   0.509165   0.000000  93.279022   0.000000   \n",
       "5   0.672646   0.560538   0.224215   4.035874   0.112108  88.228700   \n",
       "6   0.417537   0.208768   1.356994   0.417537   0.835073   1.774530   \n",
       "7   0.291829   1.264591   2.626459   0.389105   0.486381   0.000000   \n",
       "8   1.437372   0.102669   2.258727   0.924025   0.616016   2.258727   \n",
       "9   1.090188   0.198216   0.099108   0.099108   2.675917   1.189296   \n",
       "\n",
       "           6          7          8          9  \n",
       "0   0.306122   0.102041   0.612245   0.000000  \n",
       "1   0.088106   0.528634   0.088106   0.000000  \n",
       "2   0.872093   1.162791   1.065891   0.096899  \n",
       "3   0.297030   1.386139   0.891089   0.495050  \n",
       "4   1.527495   0.305499   0.407332   3.258656  \n",
       "5   0.784753   0.336323   3.139013   1.905830  \n",
       "6  94.050104   0.000000   0.939457   0.000000  \n",
       "7   0.000000  92.704280   0.097276   2.140078  \n",
       "8   2.977413   2.053388  85.934292   1.437372  \n",
       "9   0.198216   2.180377   0.396432  91.873142  "
      ]
     },
     "execution_count": 134,
     "metadata": {},
     "output_type": "execute_result"
    }
   ],
   "source": [
    "Classes, _ = cnnet.use(Xtest)\n",
    "perc_correct = 100 * np.mean(Classes == Ttest)\n",
    "print(f'Test accuracy in percent correct: {perc_correct:.2f}')\n",
    "confusion_matrix(Classes, Ttest)"
   ]
  },
  {
   "cell_type": "markdown",
   "metadata": {},
   "source": [
    "### Experiments\n",
    "\n",
    "To explore the effects of different CNN structures, show results for the following steps.  For each architecture, use the same number of epochs, batch size, and learning rate as used above.\n",
    "\n",
    "1. Compare test accuracy of CNN2D nets with one, two and three convolutional layers, each with 10 units and patch sizes of 5 and strides of 1.\n",
    "2. Using the best number of convolutional layers found in Step 1, compare the test accuracies of CNN2d nets with zero, one, and two fully-connected layers each with 10 hidden units.\n",
    "\n",
    "Combine the results of each of your runs and display them in a `pandas.Dataframe` that includes the network structure and percent correct on train and test sets. Discuss your results, and describe the network structure and training parameters that produced the best test results."
   ]
  },
  {
   "cell_type": "code",
   "execution_count": 191,
   "metadata": {},
   "outputs": [],
   "source": [
    "results1 = []"
   ]
  },
  {
   "cell_type": "markdown",
   "metadata": {},
   "source": [
    "### 1. CNN2D Nets with 1, 2, or 3 convolutional layers, each with 10 units and patch sizes of 1 and strides of 1"
   ]
  },
  {
   "cell_type": "code",
   "execution_count": 158,
   "metadata": {},
   "outputs": [
    {
     "name": "stdout",
     "output_type": "stream",
     "text": [
      "adam: Epoch 2 Loss 0.747\n",
      "adam: Epoch 4 Loss 0.605\n",
      "adam: Epoch 6 Loss 0.524\n",
      "adam: Epoch 8 Loss 0.487\n",
      "adam: Epoch 10 Loss 0.449\n",
      "adam: Epoch 12 Loss 0.416\n",
      "adam: Epoch 14 Loss 0.393\n",
      "adam: Epoch 16 Loss 0.386\n",
      "adam: Epoch 18 Loss 0.354\n",
      "adam: Epoch 20 Loss 0.359\n"
     ]
    }
   ],
   "source": [
    "# Train CNN2D with 1 convolutional layer\n",
    "cnnet1 = CNN2D(28 * 28, [10], [5], len(np.unique(Ttrain)), [5], [1], device=device)\n",
    "cnnet1.train(Xtrain, Ttrain, batch_size, n_epochs, learning_rate, method='adam');"
   ]
  },
  {
   "cell_type": "code",
   "execution_count": 192,
   "metadata": {},
   "outputs": [
    {
     "name": "stdout",
     "output_type": "stream",
     "text": [
      "Train accuracy in percent correct for CNN 1: 89.39\n",
      "Test accuracy in percent correct for CNN 1: 90.12\n"
     ]
    }
   ],
   "source": [
    "# Calculate accuracies from above CNN2D and store\n",
    "train_classes, _ = cnnet1.use(Xtrain)\n",
    "train_perc_correct = 100 * np.mean(train_classes == Ttrain)\n",
    "print(f'Train accuracy in percent correct for CNN 1: {train_perc_correct:.2f}')\n",
    "\n",
    "Classes, _ = cnnet1.use(Xtest)\n",
    "perc_correct = 100 * np.mean(Classes == Ttest)\n",
    "print(f'Test accuracy in percent correct for CNN 1: {perc_correct:.2f}')\n",
    "results1.append({\"Conv Arch\": \"[10]\", \"FC Arch\": \"[5]\", \"Parch Arch\": \"[5]\", \"Stride Arch\": \"[1]\", \"Train Acc\": f'{train_perc_correct:.2f}', \"Test Acc\": f'{perc_correct:.2f}'})"
   ]
  },
  {
   "cell_type": "code",
   "execution_count": 161,
   "metadata": {},
   "outputs": [
    {
     "name": "stdout",
     "output_type": "stream",
     "text": [
      "adam: Epoch 2 Loss 0.738\n",
      "adam: Epoch 4 Loss 0.542\n",
      "adam: Epoch 6 Loss 0.451\n",
      "adam: Epoch 8 Loss 0.402\n",
      "adam: Epoch 10 Loss 0.355\n",
      "adam: Epoch 12 Loss 0.323\n",
      "adam: Epoch 14 Loss 0.316\n",
      "adam: Epoch 16 Loss 0.308\n",
      "adam: Epoch 18 Loss 0.294\n",
      "adam: Epoch 20 Loss 0.272\n"
     ]
    }
   ],
   "source": [
    "# Train CNN2D with 2 convolutional layers\n",
    "cnnet2 = CNN2D(28 * 28, [10, 10], [5], len(np.unique(Ttrain)), [5, 5], [1, 1], device=device)\n",
    "cnnet2.train(Xtrain, Ttrain, batch_size, n_epochs, learning_rate, method='adam');"
   ]
  },
  {
   "cell_type": "code",
   "execution_count": 193,
   "metadata": {},
   "outputs": [
    {
     "name": "stdout",
     "output_type": "stream",
     "text": [
      "Train accuracy in percent correct for CNN 2: 93.75\n",
      "Test accuracy in percent correct for CNN 2: 93.95\n"
     ]
    }
   ],
   "source": [
    "# Calculate accuracies from above CNN2D and store\n",
    "train_classes, _ = cnnet2.use(Xtrain)\n",
    "train_perc_correct = 100 * np.mean(train_classes == Ttrain)\n",
    "print(f'Train accuracy in percent correct for CNN 2: {train_perc_correct:.2f}')\n",
    "\n",
    "Classes, _ = cnnet2.use(Xtest)\n",
    "perc_correct = 100 * np.mean(Classes == Ttest)\n",
    "print(f'Test accuracy in percent correct for CNN 2: {perc_correct:.2f}')\n",
    "results1.append({\"Conv Arch\": \"[10, 10]\", \"FC Arch\": \"[5]\", \"Parch Arch\": \"[5, 5]\", \"Stride Arch\": \"[1, 1]\", \"Train Acc\": f'{train_perc_correct:.2f}', \"Test Acc\": f'{perc_correct:.2f}'})"
   ]
  },
  {
   "cell_type": "code",
   "execution_count": 164,
   "metadata": {},
   "outputs": [
    {
     "name": "stdout",
     "output_type": "stream",
     "text": [
      "adam: Epoch 2 Loss 0.626\n",
      "adam: Epoch 4 Loss 0.434\n",
      "adam: Epoch 6 Loss 0.368\n",
      "adam: Epoch 8 Loss 0.372\n",
      "adam: Epoch 10 Loss 0.350\n",
      "adam: Epoch 12 Loss 0.333\n",
      "adam: Epoch 14 Loss 0.303\n",
      "adam: Epoch 16 Loss 0.304\n",
      "adam: Epoch 18 Loss 0.289\n",
      "adam: Epoch 20 Loss 0.297\n"
     ]
    }
   ],
   "source": [
    "# Train CNN2D with 3 convolutional layers\n",
    "cnnet3 = CNN2D(28 * 28, [10, 10, 10], [5], len(np.unique(Ttrain)), [5, 5, 5], [1, 1, 1], device=device)\n",
    "cnnet3.train(Xtrain, Ttrain, batch_size, n_epochs, learning_rate, method='adam');"
   ]
  },
  {
   "cell_type": "code",
   "execution_count": 194,
   "metadata": {},
   "outputs": [
    {
     "name": "stdout",
     "output_type": "stream",
     "text": [
      "Train accuracy in percent correct for CNN 3: 93.03\n",
      "Test accuracy in percent correct for CNN 3: 93.98\n"
     ]
    }
   ],
   "source": [
    "# Calculate accuracies from above CNN2D and store\n",
    "train_classes, _ = cnnet3.use(Xtrain)\n",
    "train_perc_correct = 100 * np.mean(train_classes == Ttrain)\n",
    "print(f'Train accuracy in percent correct for CNN 3: {train_perc_correct:.2f}')\n",
    "\n",
    "Classes, _ = cnnet3.use(Xtest)\n",
    "perc_correct = 100 * np.mean(Classes == Ttest)\n",
    "print(f'Test accuracy in percent correct for CNN 3: {perc_correct:.2f}')\n",
    "results1.append({\"Conv Arch\": \"[10, 10, 10]\", \"FC Arch\": \"[5]\", \"Parch Arch\": \"[5, 5, 5]\", \"Stride Arch\": \"[1, 1, 1]\", \"Train Acc\": f'{train_perc_correct:.2f}', \"Test Acc\": f'{perc_correct:.2f}'})"
   ]
  },
  {
   "cell_type": "markdown",
   "metadata": {},
   "source": [
    "### 2. Using the best number of convolutional layers found in Step 1, compare the test accuracies of CNN2d nets with zero, one, and two fully-connected layers each with 10 hidden units.\n",
    "The best performing model from those above was the one with 3 convolutional layers, so using that going forward"
   ]
  },
  {
   "cell_type": "code",
   "execution_count": null,
   "metadata": {},
   "outputs": [
    {
     "name": "stdout",
     "output_type": "stream",
     "text": [
      "adam: Epoch 2 Loss 0.185\n",
      "adam: Epoch 4 Loss 0.173\n",
      "adam: Epoch 6 Loss 0.155\n",
      "adam: Epoch 8 Loss 0.128\n",
      "adam: Epoch 10 Loss 0.112\n",
      "adam: Epoch 12 Loss 0.088\n",
      "adam: Epoch 14 Loss 0.105\n",
      "adam: Epoch 16 Loss 0.083\n",
      "adam: Epoch 18 Loss 0.084\n",
      "adam: Epoch 20 Loss 0.078\n",
      "Test accuracy in percent correct for CNN 3: 98.12\n"
     ]
    }
   ],
   "source": [
    "# Train CNN2D with 0 FC Layers\n",
    "cnnet4 = CNN2D(28 * 28, [10, 10, 10], [], len(np.unique(Ttrain)), [5, 5, 5], [1, 1, 1], device=device)\n",
    "cnnet4.train(Xtrain, Ttrain, batch_size, n_epochs, learning_rate, method='adam')"
   ]
  },
  {
   "cell_type": "code",
   "execution_count": 195,
   "metadata": {},
   "outputs": [
    {
     "name": "stdout",
     "output_type": "stream",
     "text": [
      "Train accuracy in percent correct for CNN 4: 99.05\n",
      "Test accuracy in percent correct for CNN 4: 98.12\n"
     ]
    }
   ],
   "source": [
    "# Calculate accuracies from above model and store\n",
    "train_classes, _ = cnnet4.use(Xtrain)\n",
    "train_perc_correct = 100 * np.mean(train_classes == Ttrain)\n",
    "print(f'Train accuracy in percent correct for CNN 4: {train_perc_correct:.2f}')\n",
    "\n",
    "Classes, _ = cnnet4.use(Xtest)\n",
    "perc_correct = 100 * np.mean(Classes == Ttest)\n",
    "print(f'Test accuracy in percent correct for CNN 4: {perc_correct:.2f}')\n",
    "results1.append({\"Conv Arch\": \"[10, 10, 10]\", \"FC Arch\": \"[]\", \"Parch Arch\": \"[5, 5, 5]\", \"Stride Arch\": \"[1, 1, 1]\", \"Train Acc\": f'{train_perc_correct:.2f}', \"Test Acc\": f'{perc_correct:.2f}'})"
   ]
  },
  {
   "cell_type": "code",
   "execution_count": 170,
   "metadata": {},
   "outputs": [
    {
     "name": "stdout",
     "output_type": "stream",
     "text": [
      "adam: Epoch 2 Loss 0.318\n",
      "adam: Epoch 4 Loss 0.237\n",
      "adam: Epoch 6 Loss 0.214\n",
      "adam: Epoch 8 Loss 0.217\n",
      "adam: Epoch 10 Loss 0.193\n",
      "adam: Epoch 12 Loss 0.169\n",
      "adam: Epoch 14 Loss 0.175\n",
      "adam: Epoch 16 Loss 0.183\n",
      "adam: Epoch 18 Loss 0.169\n",
      "adam: Epoch 20 Loss 0.164\n"
     ]
    }
   ],
   "source": [
    "# Train CNN2D with 1 FC Layer\n",
    "cnnet5 = CNN2D(28 * 28, [10, 10, 10], [10], len(np.unique(Ttrain)), [5, 5, 5], [1, 1, 1], device=device)\n",
    "cnnet5.train(Xtrain, Ttrain, batch_size, n_epochs, learning_rate, method='adam');"
   ]
  },
  {
   "cell_type": "code",
   "execution_count": 196,
   "metadata": {},
   "outputs": [
    {
     "name": "stdout",
     "output_type": "stream",
     "text": [
      "Train accuracy in percent correct for CNN 5: 95.43\n",
      "Test accuracy in percent correct for CNN 5: 95.61\n"
     ]
    }
   ],
   "source": [
    "# Calculate accuracies from above model and store\n",
    "train_classes, _ = cnnet5.use(Xtrain)\n",
    "train_perc_correct = 100 * np.mean(train_classes == Ttrain)\n",
    "print(f'Train accuracy in percent correct for CNN 5: {train_perc_correct:.2f}')\n",
    "\n",
    "Classes, _ = cnnet5.use(Xtest)\n",
    "perc_correct = 100 * np.mean(Classes == Ttest)\n",
    "print(f'Test accuracy in percent correct for CNN 5: {perc_correct:.2f}')\n",
    "results1.append({\"Conv Arch\": \"[10, 10, 10]\", \"FC Arch\": \"[10]\", \"Parch Arch\": \"[5, 5, 5]\", \"Stride Arch\": \"[1, 1, 1]\", \"Train Acc\": f'{train_perc_correct:.2f}', \"Test Acc\": f'{perc_correct:.2f}'})"
   ]
  },
  {
   "cell_type": "code",
   "execution_count": 172,
   "metadata": {},
   "outputs": [
    {
     "name": "stdout",
     "output_type": "stream",
     "text": [
      "adam: Epoch 2 Loss 0.366\n",
      "adam: Epoch 4 Loss 0.305\n",
      "adam: Epoch 6 Loss 0.266\n",
      "adam: Epoch 8 Loss 0.234\n",
      "adam: Epoch 10 Loss 0.229\n",
      "adam: Epoch 12 Loss 0.233\n",
      "adam: Epoch 14 Loss 0.204\n",
      "adam: Epoch 16 Loss 0.225\n",
      "adam: Epoch 18 Loss 0.213\n",
      "adam: Epoch 20 Loss 0.202\n"
     ]
    }
   ],
   "source": [
    "# Train CNN2D with 3 FC Layers\n",
    "cnnet6 = CNN2D(28 * 28, [10, 10, 10], [10, 10], len(np.unique(Ttrain)), [5, 5, 5], [1, 1, 1], device=device)\n",
    "cnnet6.train(Xtrain, Ttrain, batch_size, n_epochs, learning_rate, method='adam');"
   ]
  },
  {
   "cell_type": "code",
   "execution_count": 197,
   "metadata": {},
   "outputs": [
    {
     "name": "stdout",
     "output_type": "stream",
     "text": [
      "Train accuracy in percent correct for CNN 6: 94.27\n",
      "Test accuracy in percent correct for CNN 6: 94.45\n"
     ]
    }
   ],
   "source": [
    "# Calculate accuracies for above model and store\n",
    "train_classes, _ = cnnet6.use(Xtrain)\n",
    "train_perc_correct = 100 * np.mean(train_classes == Ttrain)\n",
    "print(f'Train accuracy in percent correct for CNN 6: {train_perc_correct:.2f}')\n",
    "\n",
    "Classes, _ = cnnet6.use(Xtest)\n",
    "perc_correct = 100 * np.mean(Classes == Ttest)\n",
    "print(f'Test accuracy in percent correct for CNN 6: {perc_correct:.2f}')\n",
    "results1.append({\"Conv Arch\": \"[10, 10, 10]\", \"FC Arch\": \"[10, 10, 10]\", \"Parch Arch\": \"[5, 5, 5]\", \"Stride Arch\": \"[1, 1, 1]\", \"Train Acc\": f'{train_perc_correct:.2f}', \"Test Acc\": f'{perc_correct:.2f}'})"
   ]
  },
  {
   "cell_type": "code",
   "execution_count": 198,
   "metadata": {},
   "outputs": [
    {
     "data": {
      "application/vnd.microsoft.datawrangler.viewer.v0+json": {
       "columns": [
        {
         "name": "index",
         "rawType": "int64",
         "type": "integer"
        },
        {
         "name": "Conv Arch",
         "rawType": "object",
         "type": "string"
        },
        {
         "name": "FC Arch",
         "rawType": "object",
         "type": "string"
        },
        {
         "name": "Parch Arch",
         "rawType": "object",
         "type": "string"
        },
        {
         "name": "Stride Arch",
         "rawType": "object",
         "type": "string"
        },
        {
         "name": "Train Acc",
         "rawType": "object",
         "type": "string"
        },
        {
         "name": "Test Acc",
         "rawType": "object",
         "type": "string"
        }
       ],
       "conversionMethod": "pd.DataFrame",
       "ref": "a91abfb0-c9bd-4a8d-a83f-e882902990fc",
       "rows": [
        [
         "0",
         "[10]",
         "[5]",
         "[5]",
         "[1]",
         "89.39",
         "90.12"
        ],
        [
         "1",
         "[10, 10]",
         "[5]",
         "[5, 5]",
         "[1, 1]",
         "93.75",
         "93.95"
        ],
        [
         "2",
         "[10, 10, 10]",
         "[5]",
         "[5, 5, 5]",
         "[1, 1, 1]",
         "93.03",
         "93.98"
        ],
        [
         "3",
         "[10, 10, 10]",
         "[]",
         "[5, 5, 5]",
         "[1, 1, 1]",
         "99.05",
         "98.12"
        ],
        [
         "4",
         "[10, 10, 10]",
         "[10]",
         "[5, 5, 5]",
         "[1, 1, 1]",
         "95.43",
         "95.61"
        ],
        [
         "5",
         "[10, 10, 10]",
         "[10, 10, 10]",
         "[5, 5, 5]",
         "[1, 1, 1]",
         "94.27",
         "94.45"
        ]
       ],
       "shape": {
        "columns": 6,
        "rows": 6
       }
      },
      "text/html": [
       "<div>\n",
       "<style scoped>\n",
       "    .dataframe tbody tr th:only-of-type {\n",
       "        vertical-align: middle;\n",
       "    }\n",
       "\n",
       "    .dataframe tbody tr th {\n",
       "        vertical-align: top;\n",
       "    }\n",
       "\n",
       "    .dataframe thead th {\n",
       "        text-align: right;\n",
       "    }\n",
       "</style>\n",
       "<table border=\"1\" class=\"dataframe\">\n",
       "  <thead>\n",
       "    <tr style=\"text-align: right;\">\n",
       "      <th></th>\n",
       "      <th>Conv Arch</th>\n",
       "      <th>FC Arch</th>\n",
       "      <th>Parch Arch</th>\n",
       "      <th>Stride Arch</th>\n",
       "      <th>Train Acc</th>\n",
       "      <th>Test Acc</th>\n",
       "    </tr>\n",
       "  </thead>\n",
       "  <tbody>\n",
       "    <tr>\n",
       "      <th>0</th>\n",
       "      <td>[10]</td>\n",
       "      <td>[5]</td>\n",
       "      <td>[5]</td>\n",
       "      <td>[1]</td>\n",
       "      <td>89.39</td>\n",
       "      <td>90.12</td>\n",
       "    </tr>\n",
       "    <tr>\n",
       "      <th>1</th>\n",
       "      <td>[10, 10]</td>\n",
       "      <td>[5]</td>\n",
       "      <td>[5, 5]</td>\n",
       "      <td>[1, 1]</td>\n",
       "      <td>93.75</td>\n",
       "      <td>93.95</td>\n",
       "    </tr>\n",
       "    <tr>\n",
       "      <th>2</th>\n",
       "      <td>[10, 10, 10]</td>\n",
       "      <td>[5]</td>\n",
       "      <td>[5, 5, 5]</td>\n",
       "      <td>[1, 1, 1]</td>\n",
       "      <td>93.03</td>\n",
       "      <td>93.98</td>\n",
       "    </tr>\n",
       "    <tr>\n",
       "      <th>3</th>\n",
       "      <td>[10, 10, 10]</td>\n",
       "      <td>[]</td>\n",
       "      <td>[5, 5, 5]</td>\n",
       "      <td>[1, 1, 1]</td>\n",
       "      <td>99.05</td>\n",
       "      <td>98.12</td>\n",
       "    </tr>\n",
       "    <tr>\n",
       "      <th>4</th>\n",
       "      <td>[10, 10, 10]</td>\n",
       "      <td>[10]</td>\n",
       "      <td>[5, 5, 5]</td>\n",
       "      <td>[1, 1, 1]</td>\n",
       "      <td>95.43</td>\n",
       "      <td>95.61</td>\n",
       "    </tr>\n",
       "    <tr>\n",
       "      <th>5</th>\n",
       "      <td>[10, 10, 10]</td>\n",
       "      <td>[10, 10, 10]</td>\n",
       "      <td>[5, 5, 5]</td>\n",
       "      <td>[1, 1, 1]</td>\n",
       "      <td>94.27</td>\n",
       "      <td>94.45</td>\n",
       "    </tr>\n",
       "  </tbody>\n",
       "</table>\n",
       "</div>"
      ],
      "text/plain": [
       "      Conv Arch       FC Arch Parch Arch Stride Arch Train Acc Test Acc\n",
       "0          [10]           [5]        [5]         [1]     89.39    90.12\n",
       "1      [10, 10]           [5]     [5, 5]      [1, 1]     93.75    93.95\n",
       "2  [10, 10, 10]           [5]  [5, 5, 5]   [1, 1, 1]     93.03    93.98\n",
       "3  [10, 10, 10]            []  [5, 5, 5]   [1, 1, 1]     99.05    98.12\n",
       "4  [10, 10, 10]          [10]  [5, 5, 5]   [1, 1, 1]     95.43    95.61\n",
       "5  [10, 10, 10]  [10, 10, 10]  [5, 5, 5]   [1, 1, 1]     94.27    94.45"
      ]
     },
     "execution_count": 198,
     "metadata": {},
     "output_type": "execute_result"
    }
   ],
   "source": [
    "# Convert results into dataframe and display\n",
    "df1 = pandas.DataFrame(results1, columns=[\"Conv Arch\", \"FC Arch\", \"Parch Arch\", \"Stride Arch\", \"Train Acc\", \"Test Acc\"])\n",
    "df1"
   ]
  },
  {
   "cell_type": "markdown",
   "metadata": {},
   "source": [
    "The CNN with 3 Convolutional Layers performed the best out of the first 3 models. It seems that 1 or 2 convolutional layers weren't enough to completely resolve features from the input data, so 3 convolutional layers performed better.\n",
    "\n",
    "Interestingly, the CNN with 3 Conv Layers and no Fully Connected Layers performed the best out of every model on both the Train and Test sets. The Train and Test Accuracies for this model were very close, indicating that something about its structure interacting with this data resulted in a very well fit model that can generalize without overfitting to the Train data. It's possible that the introduction of an increasing number of FC Layers in the other models may be causing a loss of information or relationships within the data. It's also possible that the FC Layers introduce a vanishing/exploding gradient into the model that is harming the accuracy. However, all of the last 3 models performed better than any of the first 3 on both the Train and Test sets, indicating that the FC Layer architecture of a single layer of 5 units in the first 3 models may be particularly bad for this dataset."
   ]
  },
  {
   "cell_type": "markdown",
   "metadata": {},
   "source": [
    "## CNN1D\n",
    "\n",
    "Complete the following code cell to define `CNN1D`.  The only change from `CNN2D` that is required is in the constructor.  Complete these steps.\n",
    "\n",
    "1. Copy the `make_conv_and_fc_layers` function from `CNN2D`.\n",
    "2. For each convolutional layer, create a `torch.nn.Conv1d` object instead of a `torch.nn.Conv2d` object.\n",
    "3. Modify the statement `input_hw = int(np.sqrt(n_inputs))` appropriately. `input_hw` refers to \"input height width\".  What would beed to change to make this make sense for a single dimensional sample?\n",
    "4. Modify the statement `n_in = input_hw ** 2 * n_in` appropriately."
   ]
  },
  {
   "cell_type": "code",
   "execution_count": 52,
   "metadata": {},
   "outputs": [],
   "source": [
    "class CNN1D(CNN2D):\n",
    "\n",
    "    def make_conv_and_fc_layers(self, n_inputs, n_hiddens_per_conv_layer, n_hiddens_per_fc_layer, n_outputs,\n",
    "                                patch_size_per_conv_layer, stride_per_conv_layer):\n",
    "        # Create all convolutional layers\n",
    "        # First argument to first Conv2d is number of channels for each pixel.\n",
    "        # Just 1 for our grayscale images.\n",
    "        n_in = 1\n",
    "        input_hw = n_inputs  # original input image height (=width because image assumed square)\n",
    "        self.conv_layers = torch.nn.ModuleList()\n",
    "        layeri = 0\n",
    "        for nh, patch_size, stride in zip(n_hiddens_per_conv_layer,\n",
    "                                          patch_size_per_conv_layer,\n",
    "                                          stride_per_conv_layer):\n",
    "            self.conv_layers.append(torch.nn.Conv1d(n_in, nh, kernel_size=patch_size, stride=stride))\n",
    "            conv_layer_output_hw = (input_hw - patch_size) // stride + 1\n",
    "            if conv_layer_output_hw <= 0:\n",
    "                raise Exception(f'''For conv layer {layeri}, input_hw of {input_hw} is less than patch_size {patch_size}.\n",
    "Try reducing the patch_size for this layer or for the previous layer.''')\n",
    "            input_hw = conv_layer_output_hw  # for next trip through this loop\n",
    "            n_in = nh\n",
    "            layeri += 1\n",
    "           \n",
    "        # Create all fully connected layers.  First must determine number of inputs to first\n",
    "        # fully-connected layer that results from flattening the images coming out of the last\n",
    "        # convolutional layer.\n",
    "        n_in = input_hw * n_in\n",
    "        self.fc_layers = torch.nn.ModuleList()\n",
    "        for nh in n_hiddens_per_fc_layer:\n",
    "            self.fc_layers.append(torch.nn.Linear(n_in, nh))\n",
    "            n_in = nh\n",
    "        self.fc_layers.append(torch.nn.Linear(n_in, n_outputs))"
   ]
  },
  {
   "cell_type": "markdown",
   "metadata": {},
   "source": [
    "### Toy Data to Test `CNN1D`\n",
    "\n",
    "Here is some toy data to test your `CNN1D` definition.  Each sample is now 1-dimensional.  Let's make vectors of two kinds, ones with square pulses and ones with triangular pulses, at random locations and random durations. Both kinds will be 100 values long, with zeros between the waves."
   ]
  },
  {
   "cell_type": "code",
   "execution_count": 25,
   "metadata": {},
   "outputs": [],
   "source": [
    "def make_square_pulse():\n",
    "    sample = np.zeros(100)\n",
    "    for i in range(np.random.randint(1, 5)):  # making from 1 to 4 pulses\n",
    "        start = np.random.randint(0, 80)\n",
    "        width = np.random.randint(5, 20)\n",
    "        sample[start:start + width] = 1\n",
    "    return sample"
   ]
  },
  {
   "cell_type": "code",
   "execution_count": 26,
   "metadata": {},
   "outputs": [
    {
     "data": {
      "text/plain": [
       "array([0., 0., 0., 0., 0., 0., 0., 0., 0., 0., 0., 0., 0., 0., 0., 0., 0.,\n",
       "       0., 0., 0., 0., 0., 0., 0., 0., 0., 0., 0., 0., 0., 0., 0., 0., 0.,\n",
       "       0., 0., 0., 0., 0., 0., 0., 0., 0., 0., 0., 0., 0., 0., 0., 0., 0.,\n",
       "       0., 0., 0., 0., 0., 0., 0., 0., 1., 1., 1., 1., 1., 1., 0., 0., 0.,\n",
       "       0., 0., 0., 0., 0., 0., 0., 0., 0., 0., 0., 0., 0., 0., 0., 0., 0.,\n",
       "       0., 0., 0., 0., 0., 0., 0., 0., 0., 0., 0., 0., 0., 0., 0.])"
      ]
     },
     "execution_count": 26,
     "metadata": {},
     "output_type": "execute_result"
    }
   ],
   "source": [
    "square_pulse = make_square_pulse()\n",
    "square_pulse"
   ]
  },
  {
   "cell_type": "code",
   "execution_count": 27,
   "metadata": {
    "scrolled": true
   },
   "outputs": [
    {
     "data": {
      "text/plain": [
       "[<matplotlib.lines.Line2D at 0x25abf9b02d0>]"
      ]
     },
     "execution_count": 27,
     "metadata": {},
     "output_type": "execute_result"
    },
    {
     "data": {
      "image/png": "[encoded data removed]",
      "text/plain": [
       "<Figure size 640x480 with 1 Axes>"
      ]
     },
     "metadata": {},
     "output_type": "display_data"
    }
   ],
   "source": [
    "plt.plot(square_pulse)"
   ]
  },
  {
   "cell_type": "code",
   "execution_count": 28,
   "metadata": {},
   "outputs": [],
   "source": [
    "def make_triangular_pulse():\n",
    "    sample = np.zeros(100)\n",
    "    for i in range(np.random.randint(1, 5)):  # making from 1 to 4 pulses\n",
    "        start = np.random.randint(0, 80)\n",
    "        width = np.random.randint(5, 20)\n",
    "        if width % 2 == 1:\n",
    "            width += 1  # if odd, make it even\n",
    "        sample[start:start + width // 2] = np.linspace(0, 1, width // 2)\n",
    "        sample[start + width // 2:start + width] = np.linspace(1, 0, width // 2)\n",
    "    return sample"
   ]
  },
  {
   "cell_type": "code",
   "execution_count": 29,
   "metadata": {},
   "outputs": [
    {
     "data": {
      "text/plain": [
       "array([0.   , 0.   , 0.   , 0.   , 0.   , 0.   , 0.   , 0.   , 0.   ,\n",
       "       0.   , 0.   , 0.   , 0.   , 0.   , 0.   , 0.   , 0.   , 0.   ,\n",
       "       0.   , 0.   , 0.   , 0.   , 0.   , 0.   , 0.   , 0.   , 0.   ,\n",
       "       0.   , 0.   , 0.   , 0.   , 0.   , 0.   , 0.   , 0.   , 0.125,\n",
       "       0.25 , 0.375, 0.5  , 0.625, 0.75 , 0.875, 1.   , 1.   , 0.875,\n",
       "       0.75 , 0.625, 0.5  , 0.375, 0.25 , 0.125, 0.   , 0.   , 0.   ,\n",
       "       0.   , 0.   , 0.   , 0.   , 0.   , 0.   , 0.   , 0.   , 0.   ,\n",
       "       0.   , 0.   , 0.   , 0.   , 0.   , 0.   , 0.   , 0.   , 0.   ,\n",
       "       0.   , 0.   , 0.   , 0.   , 0.   , 0.   , 0.   , 0.   , 0.   ,\n",
       "       0.   , 0.   , 0.   , 0.   , 0.   , 0.   , 0.   , 0.   , 0.   ,\n",
       "       0.   , 0.   , 0.   , 0.   , 0.   , 0.   , 0.   , 0.   , 0.   ,\n",
       "       0.   ])"
      ]
     },
     "execution_count": 29,
     "metadata": {},
     "output_type": "execute_result"
    }
   ],
   "source": [
    "triangular_pulse = make_triangular_pulse()\n",
    "triangular_pulse"
   ]
  },
  {
   "cell_type": "code",
   "execution_count": 30,
   "metadata": {
    "scrolled": true
   },
   "outputs": [
    {
     "data": {
      "text/plain": [
       "[<matplotlib.lines.Line2D at 0x25abf9f60d0>]"
      ]
     },
     "execution_count": 30,
     "metadata": {},
     "output_type": "execute_result"
    },
    {
     "data": {
      "image/png": "[encoded data removed]",
      "text/plain": [
       "<Figure size 640x480 with 1 Axes>"
      ]
     },
     "metadata": {},
     "output_type": "display_data"
    }
   ],
   "source": [
    "plt.plot(triangular_pulse)"
   ]
  },
  {
   "cell_type": "code",
   "execution_count": 47,
   "metadata": {},
   "outputs": [
    {
     "data": {
      "text/plain": [
       "((1000, 100), (1000, 1), (1000, 100), (1000, 1))"
      ]
     },
     "execution_count": 47,
     "metadata": {},
     "output_type": "execute_result"
    }
   ],
   "source": [
    "n_each = 500\n",
    "Xtrain = np.array([make_square_pulse() for i in range(n_each)] +\n",
    "                   [make_triangular_pulse() for i in range(n_each)])\n",
    "Ttrain = np.array(['square'] * n_each + ['triangular'] * n_each).reshape(-1, 1)\n",
    "n_each = 500\n",
    "Xtest = np.array([make_square_pulse() for i in range(n_each)] +\n",
    "                   [make_triangular_pulse() for i in range(n_each)])\n",
    "Ttest = np.array(['square'] * n_each + ['triangular'] * n_each).reshape(-1, 1)\n",
    "Xtrain.shape, Ttrain.shape, Xtest.shape, Ttest.shape"
   ]
  },
  {
   "cell_type": "code",
   "execution_count": 48,
   "metadata": {},
   "outputs": [
    {
     "data": {
      "text/plain": [
       "True"
      ]
     },
     "execution_count": 48,
     "metadata": {},
     "output_type": "execute_result"
    }
   ],
   "source": [
    "np.newaxis == None"
   ]
  },
  {
   "cell_type": "code",
   "execution_count": 49,
   "metadata": {},
   "outputs": [
    {
     "data": {
      "text/plain": [
       "(1000, 1, 100)"
      ]
     },
     "execution_count": 49,
     "metadata": {},
     "output_type": "execute_result"
    }
   ],
   "source": [
    "Xtrain = Xtrain[:, None, :]\n",
    "Xtrain.shape"
   ]
  },
  {
   "cell_type": "code",
   "execution_count": 50,
   "metadata": {},
   "outputs": [
    {
     "data": {
      "text/plain": [
       "((1000, 1, 100), (1000, 1, 100))"
      ]
     },
     "execution_count": 50,
     "metadata": {},
     "output_type": "execute_result"
    }
   ],
   "source": [
    "Xtrain = Xtrain.reshape(Xtrain.shape[0], 1, -1)\n",
    "Xtest = Xtest.reshape(Xtest.shape[0], 1, -1)\n",
    "Xtrain.shape, Xtest.shape"
   ]
  },
  {
   "cell_type": "code",
   "execution_count": 53,
   "metadata": {},
   "outputs": [
    {
     "name": "stdout",
     "output_type": "stream",
     "text": [
      "adam: Epoch 10 Loss 0.576\n",
      "adam: Epoch 20 Loss 0.367\n",
      "adam: Epoch 30 Loss 0.204\n",
      "adam: Epoch 40 Loss 0.096\n",
      "adam: Epoch 50 Loss 0.044\n",
      "adam: Epoch 60 Loss 0.015\n",
      "adam: Epoch 70 Loss 0.021\n",
      "adam: Epoch 80 Loss 0.001\n",
      "adam: Epoch 90 Loss 0.000\n",
      "adam: Epoch 100 Loss 0.000\n"
     ]
    },
    {
     "data": {
      "text/plain": [
       "Text(0.5, 1.0, 'Pulses')"
      ]
     },
     "execution_count": 53,
     "metadata": {},
     "output_type": "execute_result"
    },
    {
     "data": {
      "image/png": "[encoded data removed]",
      "text/plain": [
       "<Figure size 640x480 with 1 Axes>"
      ]
     },
     "metadata": {},
     "output_type": "display_data"
    }
   ],
   "source": [
    "cnnet1 = CNN1D(100, [10, 5], [5, 5], 2, [10, 4], [1, 2], device=device)\n",
    "\n",
    "n_epochs = 100\n",
    "batch_size = 10\n",
    "learning_rate = 0.001\n",
    "\n",
    "cnnet1.train(Xtrain, Ttrain, batch_size, n_epochs, learning_rate, method='adam')\n",
    "\n",
    "plt.plot(cnnet1.error_trace, label='Pytorch')\n",
    "plt.title('Pulses')"
   ]
  },
  {
   "cell_type": "code",
   "execution_count": 54,
   "metadata": {},
   "outputs": [
    {
     "name": "stdout",
     "output_type": "stream",
     "text": [
      "Test accuracy in percent correct: 99.30\n"
     ]
    },
    {
     "data": {
      "application/vnd.microsoft.datawrangler.viewer.v0+json": {
       "columns": [
        {
         "name": "index",
         "rawType": "object",
         "type": "string"
        },
        {
         "name": "square",
         "rawType": "float64",
         "type": "float"
        },
        {
         "name": "triangular",
         "rawType": "float64",
         "type": "float"
        }
       ],
       "conversionMethod": "pd.DataFrame",
       "ref": "70893c4f-6b8a-4ddb-95ca-073ac82d686e",
       "rows": [
        [
         "square",
         "98.6",
         "1.4000000000000001"
        ],
        [
         "triangular",
         "0.0",
         "100.0"
        ]
       ],
       "shape": {
        "columns": 2,
        "rows": 2
       }
      },
      "text/html": [
       "<div>\n",
       "<style scoped>\n",
       "    .dataframe tbody tr th:only-of-type {\n",
       "        vertical-align: middle;\n",
       "    }\n",
       "\n",
       "    .dataframe tbody tr th {\n",
       "        vertical-align: top;\n",
       "    }\n",
       "\n",
       "    .dataframe thead th {\n",
       "        text-align: right;\n",
       "    }\n",
       "</style>\n",
       "<table border=\"1\" class=\"dataframe\">\n",
       "  <thead>\n",
       "    <tr style=\"text-align: right;\">\n",
       "      <th></th>\n",
       "      <th>square</th>\n",
       "      <th>triangular</th>\n",
       "    </tr>\n",
       "  </thead>\n",
       "  <tbody>\n",
       "    <tr>\n",
       "      <th>square</th>\n",
       "      <td>98.6</td>\n",
       "      <td>1.4</td>\n",
       "    </tr>\n",
       "    <tr>\n",
       "      <th>triangular</th>\n",
       "      <td>0.0</td>\n",
       "      <td>100.0</td>\n",
       "    </tr>\n",
       "  </tbody>\n",
       "</table>\n",
       "</div>"
      ],
      "text/plain": [
       "            square  triangular\n",
       "square        98.6         1.4\n",
       "triangular     0.0       100.0"
      ]
     },
     "execution_count": 54,
     "metadata": {},
     "output_type": "execute_result"
    }
   ],
   "source": [
    "Classes, _ = cnnet1.use(Xtest)\n",
    "perc_correct = 100 * np.mean(Classes == Ttest)\n",
    "print(f'Test accuracy in percent correct: {perc_correct:.2f}')\n",
    "confusion_matrix(Classes, Ttest)"
   ]
  },
  {
   "cell_type": "code",
   "execution_count": 55,
   "metadata": {},
   "outputs": [
    {
     "data": {
      "text/plain": [
       "torch.Size([10, 10])"
      ]
     },
     "execution_count": 55,
     "metadata": {},
     "output_type": "execute_result"
    },
    {
     "data": {
      "image/png": "[encoded data removed]",
      "text/plain": [
       "<Figure size 640x480 with 1 Axes>"
      ]
     },
     "metadata": {},
     "output_type": "display_data"
    }
   ],
   "source": [
    "W = list(cnnet1.children())[0][0].weight.data.cpu()  # in case running on GPU\n",
    "plt.plot(W[:, 0, :].T);\n",
    "W[:, 0, :].T.shape"
   ]
  },
  {
   "cell_type": "markdown",
   "metadata": {},
   "source": [
    "### Experiments on ECG Data"
   ]
  },
  {
   "cell_type": "markdown",
   "metadata": {},
   "source": [
    "An [electrocardiogram](), or ECG, is a record in time of a voltage generated by the heart.  It can be used to diagnose abnormalities in the heart.\n",
    "\n",
    "Public datasets containing ECG traces are available, such as the [Non-Invasive Fetal ECG Arrhythmia Database](https://physionet.org/content/nifeadb/1.0.0/) site. The data files there are in a standard waveform-database (WFDB) format.  As is often the case for most standard data formats you run in to, a python package exists for reading this data, called [wfdb](https://github.com/MIT-LCP/wfdb-python) that you can install using [conda](https://anaconda.org/conda-forge/wfdb).\n",
    "\n",
    "This data set includes ECG from normal patients and from ones with arrythmias, with data file names like `ARR_01.dat` and `NR_01.dat`, respectively.  We have already downloaded these files, read them in using the `wfdb` package and collected them into segments of 2000 voltages.  The sample rate for this data is 1000 Hz, so 2000 voltages spans 2 seconds. Download this data set from [ecg.npy](https://www.cs.colostate.edu/~cs445/notebooks/ecg.npy) \n",
    "\n",
    "Now, our job for our `CNN1D` is to classify each 2000 sample segment into the classes `normal` or `arrythmia`."
   ]
  },
  {
   "cell_type": "markdown",
   "metadata": {},
   "source": [
    "After you have downloaded `ecg.npy`, you can load it and plot a few samples."
   ]
  },
  {
   "cell_type": "code",
   "execution_count": 56,
   "metadata": {},
   "outputs": [
    {
     "data": {
      "text/plain": [
       "((2429, 2000), (3634, 2000))"
      ]
     },
     "execution_count": 56,
     "metadata": {},
     "output_type": "execute_result"
    }
   ],
   "source": [
    "ecg = np.load('ecg.npy')\n",
    "arr = ecg['arrythmia']\n",
    "norm = ecg['normal']\n",
    "arr.shape, norm.shape"
   ]
  },
  {
   "cell_type": "code",
   "execution_count": 57,
   "metadata": {},
   "outputs": [
    {
     "data": {
      "image/png": "[encoded data removed]",
      "text/plain": [
       "<Figure size 1500x1500 with 4 Axes>"
      ]
     },
     "metadata": {},
     "output_type": "display_data"
    }
   ],
   "source": [
    "plt.figure(figsize=(15, 15))\n",
    "\n",
    "plt.subplot(2, 2, 1)\n",
    "plt.plot(arr[0])\n",
    "plt.legend(('Arrythmia',))\n",
    "plt.subplot(2, 2, 2)\n",
    "plt.plot(arr[100])\n",
    "plt.legend(('Arrythmia',))\n",
    "\n",
    "plt.subplot(2, 2, 3)\n",
    "plt.plot(norm[0])\n",
    "plt.legend(('Normal',))\n",
    "plt.subplot(2, 2, 4)\n",
    "plt.plot(norm[100])\n",
    "plt.legend(('Normal',));"
   ]
  },
  {
   "cell_type": "markdown",
   "metadata": {},
   "source": [
    "Now, let's stack the `arr` and `norm` samples together, create class labels for each sample, randomly rearrange them, and divide into train and test sets."
   ]
  },
  {
   "cell_type": "code",
   "execution_count": 69,
   "metadata": {},
   "outputs": [
    {
     "data": {
      "text/plain": [
       "((4850, 1, 2000), (4850, 1), (1213, 1, 2000), (1213, 1))"
      ]
     },
     "execution_count": 69,
     "metadata": {},
     "output_type": "execute_result"
    }
   ],
   "source": [
    "X = np.vstack((arr, norm))\n",
    "X = X.reshape(X.shape[0], 1, -1)\n",
    "T = np.hstack((['arr'] * arr.shape[0], ['nr'] * norm.shape[0])).reshape(-1, 1)\n",
    "n_samples = X.shape[0]\n",
    "rows = np.arange(n_samples)\n",
    "np.random.shuffle(rows)\n",
    "n_train = int(n_samples * 0.8)\n",
    "Xtrain = X[rows[:n_train], ...]\n",
    "Ttrain = T[rows[:n_train], ...]\n",
    "Xtest = X[rows[n_train:], ...]\n",
    "Ttest = T[rows[n_train:], ...]\n",
    "\n",
    "Xtrain.shape, Ttrain.shape, Xtest.shape, Ttest.shape"
   ]
  },
  {
   "cell_type": "code",
   "execution_count": 70,
   "metadata": {},
   "outputs": [
    {
     "data": {
      "text/plain": [
       "array([['nr'],\n",
       "       ['nr'],\n",
       "       ['nr'],\n",
       "       ...,\n",
       "       ['arr'],\n",
       "       ['arr'],\n",
       "       ['nr']], dtype='<U3')"
      ]
     },
     "execution_count": 70,
     "metadata": {},
     "output_type": "execute_result"
    }
   ],
   "source": [
    "Ttrain"
   ]
  },
  {
   "cell_type": "markdown",
   "metadata": {},
   "source": [
    "Okay, ready to train.  Create a `CNN1D` network with a statements like this."
   ]
  },
  {
   "cell_type": "code",
   "execution_count": null,
   "metadata": {},
   "outputs": [],
   "source": [
    "result = []"
   ]
  },
  {
   "cell_type": "code",
   "execution_count": null,
   "metadata": {},
   "outputs": [
    {
     "name": "stdout",
     "output_type": "stream",
     "text": [
      "adam: Epoch 10 Loss 0.309\n",
      "adam: Epoch 20 Loss 0.151\n",
      "adam: Epoch 30 Loss 0.083\n",
      "adam: Epoch 40 Loss 0.086\n",
      "adam: Epoch 50 Loss 0.063\n",
      "adam: Epoch 60 Loss 0.049\n",
      "adam: Epoch 70 Loss 0.051\n",
      "adam: Epoch 80 Loss 0.025\n",
      "adam: Epoch 90 Loss 0.058\n",
      "adam: Epoch 100 Loss 0.025\n"
     ]
    }
   ],
   "source": [
    "# Train CNN 1\n",
    "n_hiddens_per_conv_layer = [5, 10]\n",
    "n_hiddens_per_fc_layer = [10, 10]\n",
    "patch_size_per_conv_layer = [100, 20]\n",
    "stride_per_conv_layer = [20, 5]\n",
    "\n",
    "cnn1d1 = CNN1D(Xtrain.shape[-1], n_hiddens_per_conv_layer, n_hiddens_per_fc_layer, 2, patch_size_per_conv_layer, stride_per_conv_layer, device=device)\n",
    "cnn1d1.train(Xtrain, Ttrain, batch_size=10, n_epochs=100, learning_rate=0.001, method='adam');"
   ]
  },
  {
   "cell_type": "code",
   "execution_count": null,
   "metadata": {},
   "outputs": [],
   "source": [
    "# Calculate accuracies for above model and store\n",
    "Classes, _ = cnn1d1.use(Xtrain)\n",
    "train_perc_correct1 = 100 * np.mean(Classes == Ttrain)\n",
    "\n",
    "Classes, _ = cnn1d1.use(Xtest)\n",
    "test_perc_correct1 = 100 * np.mean(Classes == Ttest)\n",
    "result.append({\"Hiddens / Layer\": n_hiddens_per_conv_layer, \"Hiddens / FC Layer\": n_hiddens_per_fc_layer, \n",
    "               \"Patch Size / Conv Layer\": patch_size_per_conv_layer, \"Stride / Conv Layer\": stride_per_conv_layer, \n",
    "               \"Train Accuracy\": f'{train_perc_correct1:.2f}', \"Percent Correct\": f'{test_perc_correct1:.2f}'})"
   ]
  },
  {
   "cell_type": "code",
   "execution_count": null,
   "metadata": {},
   "outputs": [
    {
     "name": "stdout",
     "output_type": "stream",
     "text": [
      "adam: Epoch 10 Loss 0.571\n",
      "adam: Epoch 20 Loss 0.404\n",
      "adam: Epoch 30 Loss 0.278\n",
      "adam: Epoch 40 Loss 0.195\n",
      "adam: Epoch 50 Loss 0.151\n",
      "adam: Epoch 60 Loss 0.124\n",
      "adam: Epoch 70 Loss 0.128\n",
      "adam: Epoch 80 Loss 0.107\n",
      "adam: Epoch 90 Loss 0.078\n",
      "adam: Epoch 100 Loss 0.083\n"
     ]
    }
   ],
   "source": [
    "# Train CNN 2\n",
    "n_hiddens_per_conv_layer = [5, 10]\n",
    "n_hiddens_per_fc_layer = [10, 10]\n",
    "patch_size_per_conv_layer = [50, 10]\n",
    "stride_per_conv_layer = [20, 5]\n",
    "\n",
    "cnn1d2 = CNN1D(Xtrain.shape[-1], n_hiddens_per_conv_layer, n_hiddens_per_fc_layer, 2, patch_size_per_conv_layer, stride_per_conv_layer, device=device)\n",
    "cnn1d2.train(Xtrain, Ttrain, batch_size=10, n_epochs=100, learning_rate=0.001, method='adam');"
   ]
  },
  {
   "cell_type": "code",
   "execution_count": null,
   "metadata": {},
   "outputs": [],
   "source": [
    "# Calculate accuracies for above model and store\n",
    "Classes, _ = cnn1d2.use(Xtrain)\n",
    "train_perc_correct2 = 100 * np.mean(Classes == Ttrain)\n",
    "\n",
    "Classes, _ = cnn1d2.use(Xtest)\n",
    "test_perc_correct2 = 100 * np.mean(Classes == Ttest)\n",
    "result.append({\"Hiddens / Layer\": n_hiddens_per_conv_layer, \"Hiddens / FC Layer\": n_hiddens_per_fc_layer, \n",
    "               \"Patch Size / Conv Layer\": patch_size_per_conv_layer, \"Stride / Conv Layer\": stride_per_conv_layer, \n",
    "               \"Train Accuracy\": f'{train_perc_correct2:.2f}', \"Percent Correct\": f'{test_perc_correct2:.2f}'})"
   ]
  },
  {
   "cell_type": "code",
   "execution_count": null,
   "metadata": {},
   "outputs": [],
   "source": [
    "# Train CNN 3\n",
    "n_hiddens_per_conv_layer = [5, 10]\n",
    "n_hiddens_per_fc_layer = [10, 10]\n",
    "patch_size_per_conv_layer = [100, 20]\n",
    "stride_per_conv_layer = [5, 2]\n",
    "\n",
    "cnn1d3 = CNN1D(Xtrain.shape[-1], n_hiddens_per_conv_layer, n_hiddens_per_fc_layer, 2, patch_size_per_conv_layer, stride_per_conv_layer, device=device)\n",
    "cnn1d3.train(Xtrain, Ttrain, batch_size=10, n_epochs=100, learning_rate=0.001, method='adam');"
   ]
  },
  {
   "cell_type": "code",
   "execution_count": null,
   "metadata": {},
   "outputs": [],
   "source": [
    "# Calculate accuracies for above model and store\n",
    "Classes, _ = cnn1d3.use(Xtrain)\n",
    "train_perc_correct3 = 100 * np.mean(Classes == Ttrain)\n",
    "\n",
    "Classes, _ = cnn1d3.use(Xtest)\n",
    "test_perc_correct3 = 100 * np.mean(Classes == Ttest)\n",
    "result.append({\"Hiddens / Layer\": n_hiddens_per_conv_layer, \"Hiddens / FC Layer\": n_hiddens_per_fc_layer, \n",
    "               \"Patch Size / Conv Layer\": patch_size_per_conv_layer, \"Stride / Conv Layer\": stride_per_conv_layer, \n",
    "               \"Train Accuracy\": f'{train_perc_correct3:.2f}', \"Percent Correct\": f'{test_perc_correct3:.2f}'})"
   ]
  },
  {
   "cell_type": "code",
   "execution_count": null,
   "metadata": {},
   "outputs": [
    {
     "name": "stdout",
     "output_type": "stream",
     "text": [
      "adam: Epoch 10 Loss 0.480\n",
      "adam: Epoch 20 Loss 0.385\n",
      "adam: Epoch 30 Loss 0.328\n",
      "adam: Epoch 40 Loss 0.288\n",
      "adam: Epoch 50 Loss 0.139\n",
      "adam: Epoch 60 Loss 0.086\n",
      "adam: Epoch 70 Loss 0.062\n",
      "adam: Epoch 80 Loss 0.064\n",
      "adam: Epoch 90 Loss 0.061\n",
      "adam: Epoch 100 Loss 0.035\n"
     ]
    }
   ],
   "source": [
    "# Train CNN 4\n",
    "n_hiddens_per_conv_layer = [5, 10]\n",
    "n_hiddens_per_fc_layer = [2, 2]\n",
    "patch_size_per_conv_layer = [100, 20]\n",
    "stride_per_conv_layer = [20, 5]\n",
    "\n",
    "cnn1d4 = CNN1D(Xtrain.shape[-1], n_hiddens_per_conv_layer, n_hiddens_per_fc_layer, 2, patch_size_per_conv_layer, stride_per_conv_layer, device=device)\n",
    "cnn1d4.train(Xtrain, Ttrain, batch_size=10, n_epochs=100, learning_rate=0.001, method='adam');"
   ]
  },
  {
   "cell_type": "code",
   "execution_count": null,
   "metadata": {},
   "outputs": [],
   "source": [
    "# Calculate accuracies for above model and store\n",
    "Classes, _ = cnn1d4.use(Xtrain)\n",
    "train_perc_correct4 = 100 * np.mean(Classes == Ttrain)\n",
    "\n",
    "Classes, _ = cnn1d4.use(Xtest)\n",
    "test_perc_correct4 = 100 * np.mean(Classes == Ttest)\n",
    "result.append({\"Hiddens / Layer\": n_hiddens_per_conv_layer, \"Hiddens / FC Layer\": n_hiddens_per_fc_layer, \n",
    "               \"Patch Size / Conv Layer\": patch_size_per_conv_layer, \"Stride / Conv Layer\": stride_per_conv_layer, \n",
    "               \"Train Accuracy\": f'{train_perc_correct4:.2f}', \"Percent Correct\": f'{test_perc_correct4:.2f}'})"
   ]
  },
  {
   "cell_type": "code",
   "execution_count": null,
   "metadata": {},
   "outputs": [
    {
     "name": "stdout",
     "output_type": "stream",
     "text": [
      "adam: Epoch 10 Loss 0.642\n",
      "adam: Epoch 20 Loss 0.609\n",
      "adam: Epoch 30 Loss 0.590\n",
      "adam: Epoch 40 Loss 0.567\n",
      "adam: Epoch 50 Loss 0.549\n",
      "adam: Epoch 60 Loss 0.523\n",
      "adam: Epoch 70 Loss 0.502\n",
      "adam: Epoch 80 Loss 0.471\n",
      "adam: Epoch 90 Loss 0.445\n",
      "adam: Epoch 100 Loss 0.403\n"
     ]
    }
   ],
   "source": [
    "# Train CNN 5\n",
    "n_hiddens_per_conv_layer = [5, 10]\n",
    "n_hiddens_per_fc_layer = [2, 2]\n",
    "patch_size_per_conv_layer = [50, 10]\n",
    "stride_per_conv_layer = [5, 2]\n",
    "\n",
    "cnn1d5 = CNN1D(Xtrain.shape[-1], n_hiddens_per_conv_layer, n_hiddens_per_fc_layer, 2, patch_size_per_conv_layer, stride_per_conv_layer, device=device)\n",
    "cnn1d5.train(Xtrain, Ttrain, batch_size=10, n_epochs=100, learning_rate=0.001, method='adam');"
   ]
  },
  {
   "cell_type": "code",
   "execution_count": null,
   "metadata": {},
   "outputs": [],
   "source": [
    "# Calculate accuracies for above model and store\n",
    "Classes, _ = cnn1d5.use(Xtrain)\n",
    "train_perc_correct5 = 100 * np.mean(Classes == Ttrain)\n",
    "\n",
    "Classes, _ = cnn1d5.use(Xtest)\n",
    "test_perc_correct5 = 100 * np.mean(Classes == Ttest)\n",
    "result.append({\"Hiddens / Layer\": n_hiddens_per_conv_layer, \"Hiddens / FC Layer\": n_hiddens_per_fc_layer, \n",
    "               \"Patch Size / Conv Layer\": patch_size_per_conv_layer, \"Stride / Conv Layer\": stride_per_conv_layer, \n",
    "               \"Train Accuracy\": f'{train_perc_correct5:.2f}', \"Percent Correct\": f'{test_perc_correct5:.2f}'})"
   ]
  },
  {
   "cell_type": "code",
   "execution_count": null,
   "metadata": {},
   "outputs": [
    {
     "name": "stdout",
     "output_type": "stream",
     "text": [
      "adam: Epoch 10 Loss 0.454\n",
      "adam: Epoch 20 Loss 0.329\n",
      "adam: Epoch 30 Loss 0.260\n",
      "adam: Epoch 40 Loss 0.207\n",
      "adam: Epoch 50 Loss 0.178\n",
      "adam: Epoch 60 Loss 0.147\n",
      "adam: Epoch 70 Loss 0.133\n",
      "adam: Epoch 80 Loss 0.110\n",
      "adam: Epoch 90 Loss 0.108\n",
      "adam: Epoch 100 Loss 0.093\n"
     ]
    }
   ],
   "source": [
    "# CNN 6\n",
    "n_hiddens_per_conv_layer = [2, 5]\n",
    "n_hiddens_per_fc_layer = [10, 10]\n",
    "patch_size_per_conv_layer = [100, 20]\n",
    "stride_per_conv_layer = [20, 5]\n",
    "\n",
    "cnn1d6 = CNN1D(Xtrain.shape[-1], n_hiddens_per_conv_layer, n_hiddens_per_fc_layer, 2, patch_size_per_conv_layer, stride_per_conv_layer, device=device)\n",
    "cnn1d6.train(Xtrain, Ttrain, batch_size=10, n_epochs=100, learning_rate=0.001, method='adam');"
   ]
  },
  {
   "cell_type": "code",
   "execution_count": null,
   "metadata": {},
   "outputs": [],
   "source": [
    "# Calculate accuracies for above model and store\n",
    "Classes, _ = cnn1d6.use(Xtrain)\n",
    "train_perc_correct6 = 100 * np.mean(Classes == Ttrain)\n",
    "\n",
    "Classes, _ = cnn1d6.use(Xtest)\n",
    "test_perc_correct6 = 100 * np.mean(Classes == Ttest)\n",
    "result.append({\"Hiddens / Layer\": n_hiddens_per_conv_layer, \"Hiddens / FC Layer\": n_hiddens_per_fc_layer, \n",
    "               \"Patch Size / Conv Layer\": patch_size_per_conv_layer, \"Stride / Conv Layer\": stride_per_conv_layer, \n",
    "               \"Train Accuracy\": f'{train_perc_correct6:.2f}', \"Percent Correct\": f'{test_perc_correct6:.2f}'})"
   ]
  },
  {
   "cell_type": "code",
   "execution_count": null,
   "metadata": {},
   "outputs": [
    {
     "name": "stdout",
     "output_type": "stream",
     "text": [
      "adam: Epoch 10 Loss 0.620\n",
      "adam: Epoch 20 Loss 0.539\n",
      "adam: Epoch 30 Loss 0.485\n",
      "adam: Epoch 40 Loss 0.449\n",
      "adam: Epoch 50 Loss 0.420\n",
      "adam: Epoch 60 Loss 0.393\n",
      "adam: Epoch 70 Loss 0.369\n",
      "adam: Epoch 80 Loss 0.349\n",
      "adam: Epoch 90 Loss 0.336\n",
      "adam: Epoch 100 Loss 0.323\n"
     ]
    }
   ],
   "source": [
    "# Train CNN 7\n",
    "n_hiddens_per_conv_layer = [2, 5]\n",
    "n_hiddens_per_fc_layer = [10, 10]\n",
    "patch_size_per_conv_layer = [50, 10]\n",
    "stride_per_conv_layer = [20, 5]\n",
    "\n",
    "cnn1d7 = CNN1D(Xtrain.shape[-1], n_hiddens_per_conv_layer, n_hiddens_per_fc_layer, 2, patch_size_per_conv_layer, stride_per_conv_layer, device=device)\n",
    "cnn1d7.train(Xtrain, Ttrain, batch_size=10, n_epochs=100, learning_rate=0.001, method='adam');"
   ]
  },
  {
   "cell_type": "code",
   "execution_count": null,
   "metadata": {},
   "outputs": [],
   "source": [
    "# Calculate accuracies for above model and store\n",
    "Classes, _ = cnn1d7.use(Xtrain)\n",
    "train_perc_correct7 = 100 * np.mean(Classes == Ttrain)\n",
    "\n",
    "Classes, _ = cnn1d7.use(Xtest)\n",
    "test_perc_correct7 = 100 * np.mean(Classes == Ttest)\n",
    "result.append({\"Hiddens / Layer\": n_hiddens_per_conv_layer, \"Hiddens / FC Layer\": n_hiddens_per_fc_layer, \n",
    "               \"Patch Size / Conv Layer\": patch_size_per_conv_layer, \"Stride / Conv Layer\": stride_per_conv_layer, \n",
    "               \"Train Accuracy\": f'{train_perc_correct7:.2f}', \"Percent Correct\": f'{test_perc_correct7:.2f}'})"
   ]
  },
  {
   "cell_type": "code",
   "execution_count": null,
   "metadata": {},
   "outputs": [
    {
     "name": "stdout",
     "output_type": "stream",
     "text": [
      "adam: Epoch 10 Loss 0.354\n",
      "adam: Epoch 20 Loss 0.280\n",
      "adam: Epoch 30 Loss 0.223\n",
      "adam: Epoch 40 Loss 0.175\n",
      "adam: Epoch 50 Loss 0.155\n",
      "adam: Epoch 60 Loss 0.188\n",
      "adam: Epoch 70 Loss 0.141\n",
      "adam: Epoch 80 Loss 0.112\n",
      "adam: Epoch 90 Loss 0.115\n",
      "adam: Epoch 100 Loss 0.086\n"
     ]
    }
   ],
   "source": [
    "# CNN 8\n",
    "n_hiddens_per_conv_layer = [2, 5]\n",
    "n_hiddens_per_fc_layer = [10, 10]\n",
    "patch_size_per_conv_layer = [100, 20]\n",
    "stride_per_conv_layer = [5, 2]\n",
    "\n",
    "cnn1d8 = CNN1D(Xtrain.shape[-1], n_hiddens_per_conv_layer, n_hiddens_per_fc_layer, 2, patch_size_per_conv_layer, stride_per_conv_layer, device=device)\n",
    "cnn1d8.train(Xtrain, Ttrain, batch_size=10, n_epochs=100, learning_rate=0.001, method='adam');"
   ]
  },
  {
   "cell_type": "code",
   "execution_count": null,
   "metadata": {},
   "outputs": [],
   "source": [
    "# Calculate accuracies for above model and store\n",
    "Classes, _ = cnn1d8.use(Xtrain)\n",
    "train_perc_correct8 = 100 * np.mean(Classes == Ttrain)\n",
    "\n",
    "Classes, _ = cnn1d8.use(Xtest)\n",
    "test_perc_correct8 = 100 * np.mean(Classes == Ttest)\n",
    "result.append({\"Hiddens / Layer\": n_hiddens_per_conv_layer, \"Hiddens / FC Layer\": n_hiddens_per_fc_layer, \n",
    "               \"Patch Size / Conv Layer\": patch_size_per_conv_layer, \"Stride / Conv Layer\": stride_per_conv_layer, \n",
    "               \"Train Accuracy\": f'{train_perc_correct8:.2f}', \"Percent Correct\": f'{test_perc_correct8:.2f}'})"
   ]
  },
  {
   "cell_type": "code",
   "execution_count": null,
   "metadata": {},
   "outputs": [
    {
     "name": "stdout",
     "output_type": "stream",
     "text": [
      "adam: Epoch 10 Loss 0.291\n",
      "adam: Epoch 20 Loss 0.121\n",
      "adam: Epoch 30 Loss 0.073\n",
      "adam: Epoch 40 Loss 0.033\n",
      "adam: Epoch 50 Loss 0.022\n",
      "adam: Epoch 60 Loss 0.030\n",
      "adam: Epoch 70 Loss 0.027\n",
      "adam: Epoch 80 Loss 0.001\n",
      "adam: Epoch 90 Loss 0.022\n",
      "adam: Epoch 100 Loss 0.042\n"
     ]
    }
   ],
   "source": [
    "# Train CNN 9\n",
    "n_hiddens_per_conv_layer = [10, 20]\n",
    "n_hiddens_per_fc_layer = [10, 10]\n",
    "patch_size_per_conv_layer = [100, 20]\n",
    "stride_per_conv_layer = [20, 5]\n",
    "\n",
    "cnn1d9 = CNN1D(Xtrain.shape[-1], n_hiddens_per_conv_layer, n_hiddens_per_fc_layer, 2, patch_size_per_conv_layer, stride_per_conv_layer, device=device)\n",
    "cnn1d9.train(Xtrain, Ttrain, batch_size=10, n_epochs=100, learning_rate=0.001, method='adam');"
   ]
  },
  {
   "cell_type": "code",
   "execution_count": null,
   "metadata": {},
   "outputs": [],
   "source": [
    "# Calculate accuracies for above model and store\n",
    "Classes, _ = cnn1d9.use(Xtrain)\n",
    "train_perc_correct9 = 100 * np.mean(Classes == Ttrain)\n",
    "\n",
    "Classes, _ = cnn1d9.use(Xtest)\n",
    "test_perc_correct9 = 100 * np.mean(Classes == Ttest)\n",
    "result.append({\"Hiddens / Layer\": n_hiddens_per_conv_layer, \"Hiddens / FC Layer\": n_hiddens_per_fc_layer, \n",
    "               \"Patch Size / Conv Layer\": patch_size_per_conv_layer, \"Stride / Conv Layer\": stride_per_conv_layer, \n",
    "               \"Train Accuracy\": f'{train_perc_correct9:.2f}', \"Percent Correct\": f'{test_perc_correct9:.2f}'})"
   ]
  },
  {
   "cell_type": "code",
   "execution_count": null,
   "metadata": {},
   "outputs": [
    {
     "name": "stdout",
     "output_type": "stream",
     "text": [
      "adam: Epoch 10 Loss 0.327\n",
      "adam: Epoch 20 Loss 0.168\n",
      "adam: Epoch 30 Loss 0.130\n",
      "adam: Epoch 40 Loss 0.109\n",
      "adam: Epoch 50 Loss 0.125\n",
      "adam: Epoch 60 Loss 0.093\n",
      "adam: Epoch 70 Loss 0.064\n",
      "adam: Epoch 80 Loss 0.074\n",
      "adam: Epoch 90 Loss 0.070\n",
      "adam: Epoch 100 Loss 0.073\n"
     ]
    }
   ],
   "source": [
    "# CNN 10\n",
    "n_hiddens_per_conv_layer = [5, 10]\n",
    "n_hiddens_per_fc_layer = [20, 20]\n",
    "patch_size_per_conv_layer = [100, 20]\n",
    "stride_per_conv_layer = [5, 2]\n",
    "\n",
    "cnn1d0 = CNN1D(Xtrain.shape[-1], n_hiddens_per_conv_layer, n_hiddens_per_fc_layer, 2, patch_size_per_conv_layer, stride_per_conv_layer, device=device)\n",
    "cnn1d0.train(Xtrain, Ttrain, batch_size=10, n_epochs=100, learning_rate=0.001, method='adam');"
   ]
  },
  {
   "cell_type": "code",
   "execution_count": null,
   "metadata": {},
   "outputs": [],
   "source": [
    "# Calculate accuracies for above model and store\n",
    "Classes, _ = cnn1d0.use(Xtrain)\n",
    "train_perc_correct0 = 100 * np.mean(Classes == Ttrain)\n",
    "\n",
    "Classes, _ = cnn1d0.use(Xtest)\n",
    "test_perc_correct0 = 100 * np.mean(Classes == Ttest)\n",
    "result.append({\"Hiddens / Layer\": n_hiddens_per_conv_layer, \"Hiddens / FC Layer\": n_hiddens_per_fc_layer, \n",
    "               \"Patch Size / Conv Layer\": patch_size_per_conv_layer, \"Stride / Conv Layer\": stride_per_conv_layer, \n",
    "               \"Train Accuracy\": f'{train_perc_correct0:.2f}', \"Percent Correct\": f'{test_perc_correct0:.2f}'})"
   ]
  },
  {
   "cell_type": "code",
   "execution_count": 126,
   "metadata": {},
   "outputs": [
    {
     "data": {
      "application/vnd.microsoft.datawrangler.viewer.v0+json": {
       "columns": [
        {
         "name": "index",
         "rawType": "int64",
         "type": "integer"
        },
        {
         "name": "Hiddens / Layer",
         "rawType": "object",
         "type": "unknown"
        },
        {
         "name": "Hiddens / FC Layer",
         "rawType": "object",
         "type": "unknown"
        },
        {
         "name": "Patch Size / Conv Layer",
         "rawType": "object",
         "type": "unknown"
        },
        {
         "name": "Stride / Conv Layer",
         "rawType": "object",
         "type": "unknown"
        },
        {
         "name": "Percent Correct",
         "rawType": "object",
         "type": "string"
        }
       ],
       "conversionMethod": "pd.DataFrame",
       "ref": "99d27fc2-050c-41ea-a807-4bf16bb4c422",
       "rows": [
        [
         "0",
         "[5, 10]",
         "[10, 10]",
         "[100, 20]",
         "[20, 5]",
         "85.49"
        ],
        [
         "1",
         "[5, 10]",
         "[10, 10]",
         "[50, 10]",
         "[5, 2]",
         "76.83"
        ],
        [
         "2",
         "[5, 10]",
         "[10, 10]",
         "[100, 20]",
         "[5, 2]",
         "84.01"
        ],
        [
         "3",
         "[5, 10]",
         "[2, 2]",
         "[100, 20]",
         "[20, 5]",
         "89.04"
        ],
        [
         "4",
         "[5, 10]",
         "[2, 2]",
         "[50, 10]",
         "[5, 2]",
         "77.49"
        ],
        [
         "5",
         "[2, 5]",
         "[10, 10]",
         "[100, 20]",
         "[20, 5]",
         "87.47"
        ],
        [
         "6",
         "[2, 5]",
         "[10, 10]",
         "[50, 10]",
         "[20, 5]",
         "65.38"
        ],
        [
         "7",
         "[5, 10]",
         "[20, 20]",
         "[100, 20]",
         "[5, 2]",
         "82.11"
        ],
        [
         "8",
         "[2, 5]",
         "[10, 10]",
         "[100, 20]",
         "[5, 2]",
         "76.75"
        ],
        [
         "9",
         "[10, 20]",
         "[10, 10]",
         "[100, 20]",
         "[20, 5]",
         "89.53"
        ]
       ],
       "shape": {
        "columns": 5,
        "rows": 10
       }
      },
      "text/html": [
       "<div>\n",
       "<style scoped>\n",
       "    .dataframe tbody tr th:only-of-type {\n",
       "        vertical-align: middle;\n",
       "    }\n",
       "\n",
       "    .dataframe tbody tr th {\n",
       "        vertical-align: top;\n",
       "    }\n",
       "\n",
       "    .dataframe thead th {\n",
       "        text-align: right;\n",
       "    }\n",
       "</style>\n",
       "<table border=\"1\" class=\"dataframe\">\n",
       "  <thead>\n",
       "    <tr style=\"text-align: right;\">\n",
       "      <th></th>\n",
       "      <th>Hiddens / Layer</th>\n",
       "      <th>Hiddens / FC Layer</th>\n",
       "      <th>Patch Size / Conv Layer</th>\n",
       "      <th>Stride / Conv Layer</th>\n",
       "      <th>Percent Correct</th>\n",
       "    </tr>\n",
       "  </thead>\n",
       "  <tbody>\n",
       "    <tr>\n",
       "      <th>0</th>\n",
       "      <td>[5, 10]</td>\n",
       "      <td>[10, 10]</td>\n",
       "      <td>[100, 20]</td>\n",
       "      <td>[20, 5]</td>\n",
       "      <td>85.49</td>\n",
       "    </tr>\n",
       "    <tr>\n",
       "      <th>1</th>\n",
       "      <td>[5, 10]</td>\n",
       "      <td>[10, 10]</td>\n",
       "      <td>[50, 10]</td>\n",
       "      <td>[5, 2]</td>\n",
       "      <td>76.83</td>\n",
       "    </tr>\n",
       "    <tr>\n",
       "      <th>2</th>\n",
       "      <td>[5, 10]</td>\n",
       "      <td>[10, 10]</td>\n",
       "      <td>[100, 20]</td>\n",
       "      <td>[5, 2]</td>\n",
       "      <td>84.01</td>\n",
       "    </tr>\n",
       "    <tr>\n",
       "      <th>3</th>\n",
       "      <td>[5, 10]</td>\n",
       "      <td>[2, 2]</td>\n",
       "      <td>[100, 20]</td>\n",
       "      <td>[20, 5]</td>\n",
       "      <td>89.04</td>\n",
       "    </tr>\n",
       "    <tr>\n",
       "      <th>4</th>\n",
       "      <td>[5, 10]</td>\n",
       "      <td>[2, 2]</td>\n",
       "      <td>[50, 10]</td>\n",
       "      <td>[5, 2]</td>\n",
       "      <td>77.49</td>\n",
       "    </tr>\n",
       "    <tr>\n",
       "      <th>5</th>\n",
       "      <td>[2, 5]</td>\n",
       "      <td>[10, 10]</td>\n",
       "      <td>[100, 20]</td>\n",
       "      <td>[20, 5]</td>\n",
       "      <td>87.47</td>\n",
       "    </tr>\n",
       "    <tr>\n",
       "      <th>6</th>\n",
       "      <td>[2, 5]</td>\n",
       "      <td>[10, 10]</td>\n",
       "      <td>[50, 10]</td>\n",
       "      <td>[20, 5]</td>\n",
       "      <td>65.38</td>\n",
       "    </tr>\n",
       "    <tr>\n",
       "      <th>7</th>\n",
       "      <td>[5, 10]</td>\n",
       "      <td>[20, 20]</td>\n",
       "      <td>[100, 20]</td>\n",
       "      <td>[5, 2]</td>\n",
       "      <td>82.11</td>\n",
       "    </tr>\n",
       "    <tr>\n",
       "      <th>8</th>\n",
       "      <td>[2, 5]</td>\n",
       "      <td>[10, 10]</td>\n",
       "      <td>[100, 20]</td>\n",
       "      <td>[5, 2]</td>\n",
       "      <td>76.75</td>\n",
       "    </tr>\n",
       "    <tr>\n",
       "      <th>9</th>\n",
       "      <td>[10, 20]</td>\n",
       "      <td>[10, 10]</td>\n",
       "      <td>[100, 20]</td>\n",
       "      <td>[20, 5]</td>\n",
       "      <td>89.53</td>\n",
       "    </tr>\n",
       "  </tbody>\n",
       "</table>\n",
       "</div>"
      ],
      "text/plain": [
       "  Hiddens / Layer Hiddens / FC Layer Patch Size / Conv Layer  \\\n",
       "0         [5, 10]           [10, 10]               [100, 20]   \n",
       "1         [5, 10]           [10, 10]                [50, 10]   \n",
       "2         [5, 10]           [10, 10]               [100, 20]   \n",
       "3         [5, 10]             [2, 2]               [100, 20]   \n",
       "4         [5, 10]             [2, 2]                [50, 10]   \n",
       "5          [2, 5]           [10, 10]               [100, 20]   \n",
       "6          [2, 5]           [10, 10]                [50, 10]   \n",
       "7         [5, 10]           [20, 20]               [100, 20]   \n",
       "8          [2, 5]           [10, 10]               [100, 20]   \n",
       "9        [10, 20]           [10, 10]               [100, 20]   \n",
       "\n",
       "  Stride / Conv Layer Percent Correct  \n",
       "0             [20, 5]           85.49  \n",
       "1              [5, 2]           76.83  \n",
       "2              [5, 2]           84.01  \n",
       "3             [20, 5]           89.04  \n",
       "4              [5, 2]           77.49  \n",
       "5             [20, 5]           87.47  \n",
       "6             [20, 5]           65.38  \n",
       "7              [5, 2]           82.11  \n",
       "8              [5, 2]           76.75  \n",
       "9             [20, 5]           89.53  "
      ]
     },
     "execution_count": 126,
     "metadata": {},
     "output_type": "execute_result"
    }
   ],
   "source": [
    "df = pandas.DataFrame(result, columns=['Hiddens / Layer', \"Hiddens / FC Layer\", \"Patch Size / Conv Layer\", \"Stride / Conv Layer\", 'Percent Correct'])\n",
    "df"
   ]
  },
  {
   "cell_type": "markdown",
   "metadata": {},
   "source": [
    "The network structure and training parameters that produced the best results was the network with Hiddens / Layer: [10, 20], Hiddens / FC Layer: [10, 10], Patch Size: [100, 20], Stride: [20, 5] with a test accuracy of 89.53%. The larger number of Hiddens / Layer allows for a better capacity to learn patterns, and the Hiddens / FC Layer is sufficient to form a general representation of the data while being specific enough to actually learn something.\n",
    "\n",
    "A close second was the network the same as above but with Hiddens / FC Layer: [2, 2], with 89.04%. This may be due to the low number of fully connected neurons and the large patch sizes/strides acted as a bottleneck in the network, forcing very generalized representations of the data. This may have resulted in a better transitions between training data and test data, and therefore higher test accuracy. The higher number of Hiddens / Layer resulted in a slight increase in the accuracy, but nothing significant.\n",
    "\n",
    "Overall, a larger patch size resulted in higher accuracy. This is likely because a smaller patch size can't capture features as effectively as larger patch sizes. Strides seems to have a much lower impact on the overall accuracy, with a lower stride resulting in slightly lower accuracy. This could be due to such a low stride resulting in overfitting to the train data."
   ]
  },
  {
   "cell_type": "markdown",
   "metadata": {},
   "source": [
    "Now, experiment with at least ten different network structures, patch sizes and strides and compare them with the percent accuracy on test data.  Combine the results of each of your runs and display them in a `pandas.Dataframe` that includes the network structure and percent correct on train and test sets. Discuss your results, and describe the network structure and training parameters that produced the best test results."
   ]
  },
  {
   "cell_type": "markdown",
   "metadata": {},
   "source": [
    "## Grading and Check-In\n",
    "Download [A5grader.zip](https://www.cs.colostate.edu/~cs445/notebooks/A5grader.zip) and extract A5grader.py from it. Run the code in the following cell to demonstrate an example grading session. Remember to test your code with additional tests of your own design. Your notebook must be named as Lastname-A5.ipynb.  \n",
    "\n",
    "When ready, submit your notebook via the A5 link in our class Canvas web page."
   ]
  },
  {
   "cell_type": "code",
   "execution_count": 67,
   "metadata": {},
   "outputs": [
    {
     "name": "stdout",
     "output_type": "stream",
     "text": [
      "\n",
      "======================= Code Execution =======================\n",
      "\n",
      "Extracting python code from notebook named 'Tone-A5.ipynb' and storing in notebookcode.py\n",
      "Removing all statements that are not function or class defs or import statements.\n",
      "\n",
      "Testing\n",
      "\n",
      "    xs = np.arange(100)\n",
      "    n_each = 500\n",
      "    n_samples = n_each * 2\n",
      "    X = np.array([np.sin(xs / 2) + np.random.normal(0, 1, size=100) for i in range(n_each)] +\n",
      "                 [np.sin(xs / 3) + np.random.normal(0, 1, size=100) for i in range(n_each)])\n",
      "    X = X[:, np.newaxis, :]\n",
      "    T = np.array([2] * n_each + [3] * n_each).reshape(-1, 1)\n",
      "    rows = np.arange(n_samples)\n",
      "    np.random.shuffle(rows)\n",
      "    X = X[rows, ...]\n",
      "    T = T[rows, ...]\n",
      "    n_train = int(n_samples * 0.8)\n",
      "    Xtrain = X[:n_train, ...]\n",
      "    Ttrain = T[:n_train, :]\n",
      "    Xtest = X[n_train:, ...]\n",
      "    Ttest = T[n_train:, :]\n",
      "\n",
      "    cnn1d = CNN1D(100, [5, 5], [3], 2, [10, 5], [1, 2])\n",
      "    cnn1d.train(Xtrain, Ttrain, 10, 20, 0.01, method='adam')\n",
      "\n",
      "    perc_train = 100 * np.mean(cnn1d.use(Xtrain)[0] == Ttrain)\n",
      "    perc_test = 100 * np.mean(cnn1d.use(Xtest)[0] == Ttest)\n",
      "\n",
      "adam: Epoch 2 Loss 0.009\n",
      "adam: Epoch 4 Loss 0.003\n",
      "adam: Epoch 6 Loss 0.001\n",
      "adam: Epoch 8 Loss 0.001\n",
      "adam: Epoch 10 Loss 0.001\n",
      "adam: Epoch 12 Loss 0.000\n",
      "adam: Epoch 14 Loss 0.000\n",
      "adam: Epoch 16 Loss 0.000\n",
      "adam: Epoch 18 Loss 0.000\n",
      "adam: Epoch 20 Loss 0.000\n",
      "\n",
      "--- 25/25 points.  perc_train is correctly 100%.\n",
      "\n",
      "--- 25/25 points.  perc_test is correctly 100%.\n",
      "\n",
      "======================================================================\n",
      "c:\\Users\\Evan\\OneDrive - Neumont College of Computer Science\\Documents\\School\\CSU School Stuff\\25_Q1_SPRING\\CS_445\\homework\\HW5 Execution Grade is 50 / 50\n",
      "======================================================================\n",
      "\n",
      " __ / 25 Based on results of experiments with MNIST data.\n",
      "\n",
      " __ / 25 Based on results of experiments with ECG data.\n",
      "\n",
      "======================================================================\n",
      "c:\\Users\\Evan\\OneDrive - Neumont College of Computer Science\\Documents\\School\\CSU School Stuff\\25_Q1_SPRING\\CS_445\\homework\\HW5 FINAL GRADE is  _  / 100\n",
      "======================================================================\n",
      "\n",
      "Extra Credit:\n",
      "\n",
      "Earn up to 3 extra credit points on this assignment by doing any or all of the following experiments.\n",
      "\n",
      "1. Compare your results on the MNIST data by using relu versus tanh activation functions. Show and \n",
      "   discuss the results.\n",
      "\n",
      "2. Compare your results on the MNIST data using adam versus sgd. Show and discuss the results.\n",
      "\n",
      "3. Download another image data set, apply your CNN2D class to this data and discuss the results.\n",
      "\n",
      "c:\\Users\\Evan\\OneDrive - Neumont College of Computer Science\\Documents\\School\\CSU School Stuff\\25_Q1_SPRING\\CS_445\\homework\\HW5 EXTRA CREDIT is 0 / 3\n"
     ]
    }
   ],
   "source": [
    "%run -i A5grader.py"
   ]
  },
  {
   "cell_type": "markdown",
   "metadata": {},
   "source": [
    "## Extra Credit\n",
    "Earn up to 3 extra credit points on this assignment by doing any or all of the following experiments. \n",
    "\n",
    "1. Compare your results on the MNIST data by using `relu` versus `tanh` activation functions. Show and discuss the results.\n",
    "2. Compare your results on the MNIST data using `adam` versus `sgd`. Show and discuss the results.\n",
    "3. Download another image data set, apply your `CNN2D` class to this data and discuss the results."
   ]
  }
 ],
 "metadata": {
  "kernelspec": {
   "display_name": "Python 3",
   "language": "python",
   "name": "python3"
  },
  "language_info": {
   "codemirror_mode": {
    "name": "ipython",
    "version": 3
   },
   "file_extension": ".py",
   "mimetype": "text/x-python",
   "name": "python",
   "nbconvert_exporter": "python",
   "pygments_lexer": "ipython3",
   "version": "3.13.2"
  },
  "toc": {
   "base_numbering": 1,
   "nav_menu": {},
   "number_sections": true,
   "sideBar": true,
   "skip_h1_title": false,
   "title_cell": "Table of Contents",
   "title_sidebar": "Contents",
   "toc_cell": false,
   "toc_position": {
    "height": "calc(100% - 180px)",
    "left": "10px",
    "top": "150px",
    "width": "165px"
   },
   "toc_section_display": true,
   "toc_window_display": false
  }
 },
 "nbformat": 4,
 "nbformat_minor": 2
}
