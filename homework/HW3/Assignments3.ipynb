{
 "cells": [
  {
   "cell_type": "markdown",
   "metadata": {},
   "source": [
    "# NNet class in Pytorch"
   ]
  },
  {
   "cell_type": "markdown",
   "metadata": {},
   "source": [
    "In this assignment you will complete an implementation of a neural network class that uses `pytorch`.  You will then use it to conduct some training experiments on specified data.  The data will be partitioned into some number of non-intersecting folds.  You will train, validate and test neural networks of various sizes on all ways of picking one fold to be testing, one fold to be validation, and remaining folds to be training sets."
   ]
  },
  {
   "cell_type": "markdown",
   "metadata": {},
   "source": [
    "## Implementation"
   ]
  },
  {
   "cell_type": "code",
   "execution_count": 1,
   "metadata": {},
   "outputs": [],
   "source": [
    "import numpy as np\n",
    "import torch\n",
    "import pandas\n",
    "import matplotlib.pyplot as plt"
   ]
  },
  {
   "cell_type": "markdown",
   "metadata": {},
   "source": [
    "Complete the following definition of class `NNet` by completing its `train` and `use` functions.  These functions must be completed the *PyTorch* way, which is **not** identical to how you completed the network in A2 (though the same principles apply)!"
   ]
  },
  {
   "cell_type": "code",
   "execution_count": null,
   "metadata": {},
   "outputs": [],
   "source": [
    "class NNet(torch.nn.Module):\n",
    "    \n",
    "    def __init__(self, n_inputs, n_hiddens_per_layer, n_outputs, act_func='tanh'):\n",
    "        super().__init__()  # call parent class (torch.nn.Module) constructor\n",
    "        \n",
    "        # Set self.n_hiddens_per_layer to [] if argument is 0, [], or [0]\n",
    "        if n_hiddens_per_layer == 0 or n_hiddens_per_layer == [] or n_hiddens_per_layer == [0]:\n",
    "            self.n_hiddens_per_layer = []\n",
    "        else:\n",
    "            self.n_hiddens_per_layer = n_hiddens_per_layer\n",
    "\n",
    "        self.hidden_layers = torch.nn.ModuleList()  # necessary for model.to('cuda')\n",
    "\n",
    "        for nh in self.n_hiddens_per_layer:\n",
    "            self.hidden_layers.append( torch.nn.Sequential(\n",
    "                torch.nn.Linear(n_inputs, nh),\n",
    "                torch.nn.Tanh() if act_func == 'tanh' else torch.nn.ReLU()))\n",
    "            \n",
    "            n_inputs = nh\n",
    "\n",
    "        self.output_layer = torch.nn.Linear(n_inputs, n_outputs)\n",
    "            \n",
    "        self.Xmeans = None\n",
    "        self.Xstds = None\n",
    "        self.Tmeans = None\n",
    "        self.Tstds = None\n",
    "\n",
    "        self.error_trace = []\n",
    "        \n",
    "    def forward(self, X):\n",
    "        Y = X\n",
    "        for hidden_layer in self.hidden_layers:\n",
    "            Y = hidden_layer(Y)\n",
    "        Y = self.output_layer(Y)\n",
    "        return Y\n",
    "\n",
    "    def train(self, X, T, n_epochs, learning_rate, verbose=True):\n",
    "\n",
    "        # Set data matrices to torch.tensors if not already.\n",
    "        if not isinstance(X, torch.Tensor):\n",
    "            X = torch.from_numpy(X).float()\n",
    "        if not isinstance(T, torch.Tensor):\n",
    "            T = torch.from_numpy(T).float()\n",
    "            \n",
    "        # Calculate standardization parameters if not already calculated\n",
    "        if self.Xmeans is None:\n",
    "            self.Xmeans = X.mean(0)\n",
    "            self.Xstds = X.std(0)\n",
    "            self.Xstds[self.Xstds == 0] = 1\n",
    "            self.Tmeans = T.mean(0)\n",
    "            self.Tstds = T.std(0)\n",
    "            self.Tstds[self.Tstds == 0] = 1\n",
    "            \n",
    "        # Standardize inputs and targets\n",
    "        X = (X - self.Xmeans) / self.Xstds\n",
    "        T = (T - self.Tmeans) / self.Tstds\n",
    "        \n",
    "        # Set optimizer to Adam and loss functions to MSELoss\n",
    "        optimizer = torch.optim.Adam(self.parameters(), lr=learning_rate)\n",
    "        mse_func = torch.nn.MSELoss()\n",
    "\n",
    "        # For each epoch:\n",
    "        #   Do forward pass to calculate output Y.\n",
    "        #   Calculate mean squared error loss, mse.\n",
    "        #   Calculate gradient of mse with respect to all weights by calling mse.backward().\n",
    "        #   Take weight update step, then zero the gradient values.\n",
    "        #   Convert mse error to rmse error for error tracing.\n",
    "        #   Unstandardize the rmse error and save in self.error_trace\n",
    "        #   Print epoch+1 and unstandardized error if verbose is True and\n",
    "        #             (epoch+1 is n_epochs or epoch+1 % (n_epochs // 10) == 0)\n",
    "        \n",
    "        for epoch in range(n_epochs):\n",
    "\n",
    "            . . .\n",
    "\n",
    "    def use(self, X):\n",
    " \n",
    "       # Set input matrix to torch.tensors if not already.\n",
    "         if not isinstance(X, torch.Tensor):\n",
    "            X = torch.from_numpy(X).float()\n",
    "\n",
    "        # Standardize X\n",
    "        . . .\n",
    "        \n",
    "        # Do forward pass and unstandardize resulting output. Assign to variable Y.\n",
    "        . . .\n",
    "        \n",
    "        # Return output Y after detaching from computation graph and converting to numpy\n",
    "        return Y.detach().numpy()\n"
   ]
  },
  {
   "cell_type": "markdown",
   "metadata": {},
   "source": [
    "## Example"
   ]
  },
  {
   "cell_type": "code",
   "execution_count": 3,
   "metadata": {},
   "outputs": [
    {
     "name": "stdout",
     "output_type": "stream",
     "text": [
      "Epoch 5: RMSE 11.155\n",
      "Epoch 10: RMSE 6.062\n",
      "Epoch 15: RMSE 5.169\n",
      "Epoch 20: RMSE 2.103\n",
      "Epoch 25: RMSE 2.317\n",
      "Epoch 30: RMSE 2.636\n",
      "Epoch 35: RMSE 1.463\n",
      "Epoch 40: RMSE 1.137\n",
      "Epoch 45: RMSE 1.170\n",
      "Epoch 50: RMSE 0.922\n",
      "RMSE 0.867\n"
     ]
    }
   ],
   "source": [
    "torch.manual_seed(42)\n",
    "np.random.seed(42)\n",
    "    \n",
    "n_samples = 10000\n",
    "X = np.linspace(0, 10, n_samples).reshape((-1, 1))\n",
    "T = X ** 2\n",
    "\n",
    "n_samples, n_inputs = X.shape \n",
    "n_outputs = T.shape[1]\n",
    "\n",
    "n_hiddens = [100, 100]\n",
    "net = NNet(n_inputs, n_hiddens, n_outputs, act_func='relu')\n",
    "net.train(X, T, 50, 0.01)\n",
    "Y = net.use(X)\n",
    "\n",
    "def rmse(Y, T):\n",
    "    return np.sqrt(np.mean((T - Y)**2))\n",
    "\n",
    "print(f'RMSE {rmse(Y, T):.3f}')"
   ]
  },
  {
   "cell_type": "code",
   "execution_count": 4,
   "metadata": {},
   "outputs": [
    {
     "data": {
      "image/png": "[encoded data removed]",
      "text/plain": [
       "<Figure size 1080x576 with 2 Axes>"
      ]
     },
     "metadata": {
      "needs_background": "light"
     },
     "output_type": "display_data"
    }
   ],
   "source": [
    "plt.figure(figsize=(15, 8))\n",
    "\n",
    "plt.subplot(1, 2, 1)\n",
    "plt.plot(T, label='T')\n",
    "plt.plot(Y, label='Y')\n",
    "plt.legend()\n",
    "\n",
    "plt.subplot(1, 2, 2)\n",
    "plt.plot(T, Y, '.')\n",
    "a = max(np.min(T), np.min(Y))\n",
    "b = min(np.max(T), np.max(Y))\n",
    "plt.plot([a, b], [a, b], lw=10, alpha=0.5)\n",
    "plt.xlabel('T')\n",
    "plt.ylabel('Y')\n",
    "plt.tight_layout()"
   ]
  },
  {
   "cell_type": "markdown",
   "metadata": {},
   "source": [
    "# Function to generate all train, validate, and test partitions given number of folds"
   ]
  },
  {
   "cell_type": "markdown",
   "metadata": {},
   "source": [
    "## Implementation"
   ]
  },
  {
   "cell_type": "markdown",
   "metadata": {},
   "source": [
    "This is complete code for `generate_k_fold_cross_validation_sets`."
   ]
  },
  {
   "cell_type": "code",
   "execution_count": 3,
   "metadata": {},
   "outputs": [],
   "source": [
    "def generate_k_fold_cross_validation_sets(X, T, n_folds, shuffle=True):\n",
    "\n",
    "    if shuffle:\n",
    "        # Randomly order X and T\n",
    "        randorder = np.arange(X.shape[0])\n",
    "        np.random.shuffle(randorder)\n",
    "        X = X[randorder, :]\n",
    "        T = T[randorder, :]\n",
    "\n",
    "    # Partition X and T into folds\n",
    "    n_samples = X.shape[0]\n",
    "    n_per_fold = round(n_samples / n_folds)\n",
    "    n_last_fold = n_samples - n_per_fold * (n_folds - 1)\n",
    "\n",
    "    folds = []\n",
    "    start = 0\n",
    "    for foldi in range(n_folds-1):\n",
    "        folds.append( (X[start:start + n_per_fold, :], T[start:start + n_per_fold, :]) )\n",
    "        start += n_per_fold\n",
    "    folds.append( (X[start:, :], T[start:, :]) )\n",
    "\n",
    "    # Yield k(k-1) assignments of Xtrain, Train, Xvalidate, Tvalidate, Xtest, Ttest\n",
    "\n",
    "    for validation_i in range(n_folds):\n",
    "        for test_i in range(n_folds):\n",
    "            if test_i == validation_i:\n",
    "                continue\n",
    "\n",
    "            train_i = np.setdiff1d(range(n_folds), [validation_i, test_i])\n",
    "\n",
    "            Xvalidate, Tvalidate = folds[validation_i]\n",
    "            Xtest, Ttest = folds[test_i]\n",
    "            if len(train_i) > 1:\n",
    "                Xtrain = np.vstack([folds[i][0] for i in train_i])\n",
    "                Ttrain = np.vstack([folds[i][1] for i in train_i])\n",
    "            else:\n",
    "                Xtrain, Ttrain = folds[train_i[0]]\n",
    "\n",
    "            yield Xtrain, Ttrain, Xvalidate, Tvalidate, Xtest, Ttest"
   ]
  },
  {
   "cell_type": "markdown",
   "metadata": {},
   "source": [
    "## Example"
   ]
  },
  {
   "cell_type": "code",
   "execution_count": 6,
   "metadata": {},
   "outputs": [
    {
     "data": {
      "text/plain": [
       "(array([[ 0,  1],\n",
       "        [ 2,  3],\n",
       "        [ 4,  5],\n",
       "        [ 6,  7],\n",
       "        [ 8,  9],\n",
       "        [10, 11]]),\n",
       " array([[ 0],\n",
       "        [10],\n",
       "        [20],\n",
       "        [30],\n",
       "        [40],\n",
       "        [50]]))"
      ]
     },
     "execution_count": 6,
     "metadata": {},
     "output_type": "execute_result"
    }
   ],
   "source": [
    "X = np.arange(2 * 6).reshape((6, 2))\n",
    "T = np.arange(6).reshape((6, 1)) * 10\n",
    "X, T"
   ]
  },
  {
   "cell_type": "code",
   "execution_count": 7,
   "metadata": {},
   "outputs": [
    {
     "name": "stdout",
     "output_type": "stream",
     "text": [
      "\n",
      "Xtrain\n",
      " [[8 9]\n",
      " [6 7]]\n",
      "Ttrain\n",
      " [[40]\n",
      " [30]]\n",
      "Xvalidate\n",
      " [[0 1]\n",
      " [2 3]]\n",
      "Tvalidate\n",
      " [[ 0]\n",
      " [10]]\n",
      "Xtest\n",
      " [[10 11]\n",
      " [ 4  5]]\n",
      "Ttest\n",
      " [[50]\n",
      " [20]]\n",
      "\n",
      "Xtrain\n",
      " [[10 11]\n",
      " [ 4  5]]\n",
      "Ttrain\n",
      " [[50]\n",
      " [20]]\n",
      "Xvalidate\n",
      " [[0 1]\n",
      " [2 3]]\n",
      "Tvalidate\n",
      " [[ 0]\n",
      " [10]]\n",
      "Xtest\n",
      " [[8 9]\n",
      " [6 7]]\n",
      "Ttest\n",
      " [[40]\n",
      " [30]]\n",
      "\n",
      "Xtrain\n",
      " [[8 9]\n",
      " [6 7]]\n",
      "Ttrain\n",
      " [[40]\n",
      " [30]]\n",
      "Xvalidate\n",
      " [[10 11]\n",
      " [ 4  5]]\n",
      "Tvalidate\n",
      " [[50]\n",
      " [20]]\n",
      "Xtest\n",
      " [[0 1]\n",
      " [2 3]]\n",
      "Ttest\n",
      " [[ 0]\n",
      " [10]]\n",
      "\n",
      "Xtrain\n",
      " [[0 1]\n",
      " [2 3]]\n",
      "Ttrain\n",
      " [[ 0]\n",
      " [10]]\n",
      "Xvalidate\n",
      " [[10 11]\n",
      " [ 4  5]]\n",
      "Tvalidate\n",
      " [[50]\n",
      " [20]]\n",
      "Xtest\n",
      " [[8 9]\n",
      " [6 7]]\n",
      "Ttest\n",
      " [[40]\n",
      " [30]]\n",
      "\n",
      "Xtrain\n",
      " [[10 11]\n",
      " [ 4  5]]\n",
      "Ttrain\n",
      " [[50]\n",
      " [20]]\n",
      "Xvalidate\n",
      " [[8 9]\n",
      " [6 7]]\n",
      "Tvalidate\n",
      " [[40]\n",
      " [30]]\n",
      "Xtest\n",
      " [[0 1]\n",
      " [2 3]]\n",
      "Ttest\n",
      " [[ 0]\n",
      " [10]]\n",
      "\n",
      "Xtrain\n",
      " [[0 1]\n",
      " [2 3]]\n",
      "Ttrain\n",
      " [[ 0]\n",
      " [10]]\n",
      "Xvalidate\n",
      " [[8 9]\n",
      " [6 7]]\n",
      "Tvalidate\n",
      " [[40]\n",
      " [30]]\n",
      "Xtest\n",
      " [[10 11]\n",
      " [ 4  5]]\n",
      "Ttest\n",
      " [[50]\n",
      " [20]]\n"
     ]
    }
   ],
   "source": [
    "np.random.seed(42)\n",
    "\n",
    "for Xtrain, Ttrain, Xvalidate, Tvalidate, Xtest, Ttest in generate_k_fold_cross_validation_sets(X, T, 3):\n",
    "    print()\n",
    "    print('Xtrain\\n', Xtrain)\n",
    "    print('Ttrain\\n', Ttrain)\n",
    "    print('Xvalidate\\n', Xvalidate)\n",
    "    print('Tvalidate\\n', Tvalidate)\n",
    "    print('Xtest\\n', Xtest)\n",
    "    print('Ttest\\n', Ttest)\n",
    "    "
   ]
  },
  {
   "cell_type": "markdown",
   "metadata": {},
   "source": [
    "# Function to train NNets and average RMSE over all ways of partitioning"
   ]
  },
  {
   "cell_type": "markdown",
   "metadata": {},
   "source": [
    "## Implementation"
   ]
  },
  {
   "cell_type": "markdown",
   "metadata": {},
   "source": [
    "Define the following function that trains neural networks of different architectures, given by `list_of_n_hiddens`, for one value each of `n_epochs`, `learning_rate`, and `act_fun`.  For each network, train on all k-fold cross-validation training sets, and calculate the RMSEs for the training, validation and test. Calculate the mean of training, validation and test RMSEs over the k-fold partitions, so that you have one training, one validation, and one test set RMSE for each network.  Append a list of the architecture and these three mean RMSEs to a list of results and return the list as a pandas DataFrame described below when done.\n",
    "\n",
    "To iterate over all k-fold partitions, use a for loop like the example in the previous code cell. Call `generate_k_fold_cross_validation_sets` with `shuffle=True`. "
   ]
  },
  {
   "cell_type": "code",
   "execution_count": null,
   "metadata": {},
   "outputs": [],
   "source": [
    "def run_k_fold_cross_validation(X, T, n_folds, list_of_n_hiddens, \n",
    "                                n_epochs, learning_rate, act_func):\n",
    "    \n",
    "    . . ."
   ]
  },
  {
   "cell_type": "markdown",
   "metadata": {},
   "source": [
    "## Apply to Airfoil Data"
   ]
  },
  {
   "cell_type": "markdown",
   "metadata": {},
   "source": [
    "Download `airfoil_self_noise.dat` from [Airfoil Data Website](https://archive.ics.uci.edu/dataset/291/airfoil+self+noise) and read it as shown below."
   ]
  },
  {
   "cell_type": "code",
   "execution_count": 9,
   "metadata": {},
   "outputs": [],
   "source": [
    "airfoil = pandas.read_csv('airfoil_self_noise.dat', delimiter='\\t',\n",
    "                          names=('frequency', 'angle', 'chord', \n",
    "                                 'velocity', 'thickness', 'pressure'))"
   ]
  },
  {
   "cell_type": "markdown",
   "metadata": {},
   "source": [
    "Apply your `run_k_fold_cross_validation` to the airfoil data, with `X` being the first five columns of the data and `T` being the last column, the 'pressure'. \n",
    "\n",
    "Here is an example run.  You must try more neural network architectures.  Keep the following points in mind when you choose parameter values to try:\n",
    "* Larger networks will require more epochs of training to converge.\n",
    "* Large learning rates could limit convergence, but small learning rates may take many more epochs than you have patience for.\n",
    "* Display results as a `pandas` `DataFrame` and in plots.  <font color=red>Your tabular results and plots must be described sufficiently.  If you struggle with judging this yourself, you can consider 10 sentences or more of discussion to be sufficient, but 9 perceptive sentences are better than 10 or more sentences of non-analytical fluff.</font>\n",
    "* Name the columns of your `DataFrame` result to be `columns=('Arch', 'Train RMSE', 'Validate RMSE', 'Test RMSE'))`"
   ]
  },
  {
   "cell_type": "code",
   "execution_count": 15,
   "metadata": {},
   "outputs": [
    {
     "data": {
      "text/plain": [
       "((1503, 5), (1503, 1))"
      ]
     },
     "execution_count": 15,
     "metadata": {},
     "output_type": "execute_result"
    }
   ],
   "source": [
    "X.shape, T.shape"
   ]
  },
  {
   "cell_type": "code",
   "execution_count": 19,
   "metadata": {},
   "outputs": [
    {
     "name": "stdout",
     "output_type": "stream",
     "text": [
      "Took 0.01 hours\n"
     ]
    },
    {
     "data": {
      "text/html": [
       "<div>\n",
       "<style scoped>\n",
       "    .dataframe tbody tr th:only-of-type {\n",
       "        vertical-align: middle;\n",
       "    }\n",
       "\n",
       "    .dataframe tbody tr th {\n",
       "        vertical-align: top;\n",
       "    }\n",
       "\n",
       "    .dataframe thead th {\n",
       "        text-align: right;\n",
       "    }\n",
       "</style>\n",
       "<table border=\"1\" class=\"dataframe\">\n",
       "  <thead>\n",
       "    <tr style=\"text-align: right;\">\n",
       "      <th></th>\n",
       "      <th>Arch</th>\n",
       "      <th>Train RMSE</th>\n",
       "      <th>Validate RMSE</th>\n",
       "      <th>Test RMSE</th>\n",
       "    </tr>\n",
       "  </thead>\n",
       "  <tbody>\n",
       "    <tr>\n",
       "      <th>0</th>\n",
       "      <td>[]</td>\n",
       "      <td>4.790511</td>\n",
       "      <td>4.839218</td>\n",
       "      <td>4.840742</td>\n",
       "    </tr>\n",
       "    <tr>\n",
       "      <th>1</th>\n",
       "      <td>[1]</td>\n",
       "      <td>4.519531</td>\n",
       "      <td>4.550374</td>\n",
       "      <td>4.544003</td>\n",
       "    </tr>\n",
       "    <tr>\n",
       "      <th>2</th>\n",
       "      <td>[5]</td>\n",
       "      <td>3.945287</td>\n",
       "      <td>4.075278</td>\n",
       "      <td>4.056469</td>\n",
       "    </tr>\n",
       "    <tr>\n",
       "      <th>3</th>\n",
       "      <td>[200, 200]</td>\n",
       "      <td>1.247426</td>\n",
       "      <td>1.835065</td>\n",
       "      <td>1.811737</td>\n",
       "    </tr>\n",
       "  </tbody>\n",
       "</table>\n",
       "</div>"
      ],
      "text/plain": [
       "         Arch  Train RMSE  Validate RMSE  Test RMSE\n",
       "0          []    4.790511       4.839218   4.840742\n",
       "1         [1]    4.519531       4.550374   4.544003\n",
       "2         [5]    3.945287       4.075278   4.056469\n",
       "3  [200, 200]    1.247426       1.835065   1.811737"
      ]
     },
     "execution_count": 19,
     "metadata": {},
     "output_type": "execute_result"
    }
   ],
   "source": [
    "torch.manual_seed(42)\n",
    "np.random.seed(42)\n",
    "\n",
    "import time\n",
    "start = time.time()\n",
    "\n",
    "results = run_k_fold_cross_validation(X, T, 5,\n",
    "                                      [[], [1], [5], [200, 200]],\n",
    "                                      200, 0.01, 'tanh')\n",
    "\n",
    "elapsed = (time.time() - start) / 60/ 60\n",
    "print(f'Took {elapsed:.2f} hours')\n",
    "results"
   ]
  },
  {
   "cell_type": "markdown",
   "metadata": {},
   "source": [
    "Here is a handy function to plot the RMSEs you have in your results table.  You may use this function to plot your results.  Remember to describe what you see."
   ]
  },
  {
   "cell_type": "code",
   "execution_count": 20,
   "metadata": {},
   "outputs": [],
   "source": [
    "def plot_results(results):\n",
    "    errors = results.iloc[:, 1:].values\n",
    "    archs = results.iloc[:, 0].values\n",
    "    archs = [str(ar) for ar in archs]\n",
    "\n",
    "    plt.plot(archs, errors, 'o-')\n",
    "    plt.legend(('Train', 'Validate', 'Test'))\n",
    "    plt.ylabel('RMSE')\n",
    "    plt.xticks(range(errors.shape[0]), archs, rotation=45, ha='right')\n",
    "    plt.tight_layout()"
   ]
  },
  {
   "cell_type": "code",
   "execution_count": 21,
   "metadata": {},
   "outputs": [
    {
     "data": {
      "image/png": "[encoded data removed]",
      "text/plain": [
       "<Figure size 432x288 with 1 Axes>"
      ]
     },
     "metadata": {
      "needs_background": "light"
     },
     "output_type": "display_data"
    }
   ],
   "source": [
    "plot_results(results)"
   ]
  },
  {
   "cell_type": "markdown",
   "metadata": {},
   "source": [
    "# Grading and Check-In"
   ]
  },
  {
   "cell_type": "markdown",
   "metadata": {},
   "source": [
    "You will score 90 points if your `train`, `use`, an `run_k_fold_cross_validation` functions are defined correctly. You can test this grading process yourself by downloading [A3grader.zip](https://www.cs.colostate.edu/~cs445/notebooks/A3grader.zip) and extracting `A3grader.py` parallel to this notebook.  We recommend keeping this notebook and the grader script in a dedicated folder with *just those two files.* Run the code in the following cell to see an example grading run.  If your functions are defined correctly, you should see a score of 90/90.  The remaining 10 points will be based on 1) other testing and the results you obtain, and 2) your discussions."
   ]
  },
  {
   "cell_type": "code",
   "execution_count": null,
   "metadata": {},
   "outputs": [],
   "source": [
    "%run -i A3grader.py"
   ]
  },
  {
   "cell_type": "markdown",
   "metadata": {},
   "source": [
    "Unlike A2, A3 **should be completed individually**.  Name your notebook as `Lastname-A3.ipynb` with Lastname being your last name, and then save this notebook and check it in at the A3 assignment link in our Canvas web page."
   ]
  },
  {
   "cell_type": "markdown",
   "metadata": {},
   "source": [
    "# Extra Credit"
   ]
  },
  {
   "cell_type": "markdown",
   "metadata": {},
   "source": [
    "Earn up to 10 extra credit points on this assignment.\n",
    "\n",
    "1. Add a keyword argument `gpu` that is `False` by default.  If set to `True`, move data and neural network model to the GPU and train and test it there.  Compare total execution time without and with the use of the GPU.  You may need to use one of the campus GPU machines for this.\n",
    "2. Find another data set, not used previously in an assignment or in lecture, and repeat your training experiment without and with GPU on this new data.\n",
    "\n",
    "Describe all results.  You can earn 5 points for doing (1) and another 5 for doing (2)."
   ]
  },
  {
   "cell_type": "code",
   "execution_count": null,
   "metadata": {},
   "outputs": [],
   "source": []
  }
 ],
 "metadata": {
  "kernelspec": {
   "display_name": "Python 3",
   "language": "python",
   "name": "python3"
  },
  "language_info": {
   "codemirror_mode": {
    "name": "ipython",
    "version": 3
   },
   "file_extension": ".py",
   "mimetype": "text/x-python",
   "name": "python",
   "nbconvert_exporter": "python",
   "pygments_lexer": "ipython3",
   "version": "3.7.7"
  },
  "toc": {
   "base_numbering": 1,
   "nav_menu": {},
   "number_sections": true,
   "sideBar": true,
   "skip_h1_title": false,
   "title_cell": "Table of Contents",
   "title_sidebar": "Contents",
   "toc_cell": false,
   "toc_position": {},
   "toc_section_display": true,
   "toc_window_display": true
  }
 },
 "nbformat": 4,
 "nbformat_minor": 4
}
