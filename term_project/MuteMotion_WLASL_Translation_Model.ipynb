{
  "cells": [
    {
      "cell_type": "code",
      "execution_count": 1,
      "metadata": {
        "id": "WBMo9vQeJIia"
      },
      "outputs": [
        {
          "name": "stderr",
          "output_type": "stream",
          "text": [
            "c:\\Users\\Evan\\OneDrive - Neumont College of Computer Science\\Documents\\School\\CSU School Stuff\\25_Q1_SPRING\\CS_445\\term_project\\.venv\\Lib\\site-packages\\tqdm\\auto.py:21: TqdmWarning: IProgress not found. Please update jupyter and ipywidgets. See https://ipywidgets.readthedocs.io/en/stable/user_install.html\n",
            "  from .autonotebook import tqdm as notebook_tqdm\n"
          ]
        },
        {
          "name": "stdout",
          "output_type": "stream",
          "text": [
            "Downloading from https://www.kaggle.com/api/v1/datasets/download/risangbaskoro/wlasl-processed?dataset_version_number=5...\n"
          ]
        },
        {
          "name": "stderr",
          "output_type": "stream",
          "text": [
            "  2%|▏         | 118M/4.82G [00:07<05:24, 15.6MB/s] \n"
          ]
        },
        {
          "ename": "KeyboardInterrupt",
          "evalue": "",
          "output_type": "error",
          "traceback": [
            "\u001b[31m---------------------------------------------------------------------------\u001b[39m",
            "\u001b[31mKeyboardInterrupt\u001b[39m                         Traceback (most recent call last)",
            "\u001b[36mCell\u001b[39m\u001b[36m \u001b[39m\u001b[32mIn[1]\u001b[39m\u001b[32m, line 7\u001b[39m\n\u001b[32m      1\u001b[39m \u001b[38;5;66;03m# IMPORTANT: RUN THIS CELL IN ORDER TO IMPORT YOUR KAGGLE DATA SOURCES,\u001b[39;00m\n\u001b[32m      2\u001b[39m \u001b[38;5;66;03m# THEN FEEL FREE TO DELETE THIS CELL.\u001b[39;00m\n\u001b[32m      3\u001b[39m \u001b[38;5;66;03m# NOTE: THIS NOTEBOOK ENVIRONMENT DIFFERS FROM KAGGLE'S PYTHON\u001b[39;00m\n\u001b[32m      4\u001b[39m \u001b[38;5;66;03m# ENVIRONMENT SO THERE MAY BE MISSING LIBRARIES USED BY YOUR\u001b[39;00m\n\u001b[32m      5\u001b[39m \u001b[38;5;66;03m# NOTEBOOK.\u001b[39;00m\n\u001b[32m      6\u001b[39m \u001b[38;5;28;01mimport\u001b[39;00m\u001b[38;5;250m \u001b[39m\u001b[34;01mkagglehub\u001b[39;00m\n\u001b[32m----> \u001b[39m\u001b[32m7\u001b[39m risangbaskoro_wlasl_processed_path = \u001b[43mkagglehub\u001b[49m\u001b[43m.\u001b[49m\u001b[43mdataset_download\u001b[49m\u001b[43m(\u001b[49m\u001b[33;43m'\u001b[39;49m\u001b[33;43mrisangbaskoro/wlasl-processed\u001b[39;49m\u001b[33;43m'\u001b[39;49m\u001b[43m)\u001b[49m\n\u001b[32m      8\u001b[39m sttaseen_wlasl2000_resized_path = kagglehub.dataset_download(\u001b[33m'\u001b[39m\u001b[33msttaseen/wlasl2000-resized\u001b[39m\u001b[33m'\u001b[39m)\n\u001b[32m      9\u001b[39m abd0kamel_mutemotion_output_path = kagglehub.dataset_download(\u001b[33m'\u001b[39m\u001b[33mabd0kamel/mutemotion-output\u001b[39m\u001b[33m'\u001b[39m)\n",
            "\u001b[36mFile \u001b[39m\u001b[32mc:\\Users\\Evan\\OneDrive - Neumont College of Computer Science\\Documents\\School\\CSU School Stuff\\25_Q1_SPRING\\CS_445\\term_project\\.venv\\Lib\\site-packages\\kagglehub\\datasets.py:43\u001b[39m, in \u001b[36mdataset_download\u001b[39m\u001b[34m(handle, path, force_download)\u001b[39m\n\u001b[32m     41\u001b[39m h = parse_dataset_handle(handle)\n\u001b[32m     42\u001b[39m logger.info(\u001b[33mf\u001b[39m\u001b[33m\"\u001b[39m\u001b[33mDownloading Dataset: \u001b[39m\u001b[38;5;132;01m{\u001b[39;00mh.to_url()\u001b[38;5;132;01m}\u001b[39;00m\u001b[33m ...\u001b[39m\u001b[33m\"\u001b[39m, extra={**EXTRA_CONSOLE_BLOCK})\n\u001b[32m---> \u001b[39m\u001b[32m43\u001b[39m path, _ = \u001b[43mregistry\u001b[49m\u001b[43m.\u001b[49m\u001b[43mdataset_resolver\u001b[49m\u001b[43m(\u001b[49m\u001b[43mh\u001b[49m\u001b[43m,\u001b[49m\u001b[43m \u001b[49m\u001b[43mpath\u001b[49m\u001b[43m,\u001b[49m\u001b[43m \u001b[49m\u001b[43mforce_download\u001b[49m\u001b[43m=\u001b[49m\u001b[43mforce_download\u001b[49m\u001b[43m)\u001b[49m\n\u001b[32m     44\u001b[39m \u001b[38;5;28;01mreturn\u001b[39;00m path\n",
            "\u001b[36mFile \u001b[39m\u001b[32mc:\\Users\\Evan\\OneDrive - Neumont College of Computer Science\\Documents\\School\\CSU School Stuff\\25_Q1_SPRING\\CS_445\\term_project\\.venv\\Lib\\site-packages\\kagglehub\\registry.py:28\u001b[39m, in \u001b[36mMultiImplRegistry.__call__\u001b[39m\u001b[34m(self, *args, **kwargs)\u001b[39m\n\u001b[32m     26\u001b[39m \u001b[38;5;28;01mfor\u001b[39;00m impl \u001b[38;5;129;01min\u001b[39;00m \u001b[38;5;28mreversed\u001b[39m(\u001b[38;5;28mself\u001b[39m._impls):\n\u001b[32m     27\u001b[39m     \u001b[38;5;28;01mif\u001b[39;00m impl.is_supported(*args, **kwargs):\n\u001b[32m---> \u001b[39m\u001b[32m28\u001b[39m         \u001b[38;5;28;01mreturn\u001b[39;00m \u001b[43mimpl\u001b[49m\u001b[43m(\u001b[49m\u001b[43m*\u001b[49m\u001b[43margs\u001b[49m\u001b[43m,\u001b[49m\u001b[43m \u001b[49m\u001b[43m*\u001b[49m\u001b[43m*\u001b[49m\u001b[43mkwargs\u001b[49m\u001b[43m)\u001b[49m\n\u001b[32m     29\u001b[39m     \u001b[38;5;28;01melse\u001b[39;00m:\n\u001b[32m     30\u001b[39m         fails.append(\u001b[38;5;28mtype\u001b[39m(impl).\u001b[34m__name__\u001b[39m)\n",
            "\u001b[36mFile \u001b[39m\u001b[32mc:\\Users\\Evan\\OneDrive - Neumont College of Computer Science\\Documents\\School\\CSU School Stuff\\25_Q1_SPRING\\CS_445\\term_project\\.venv\\Lib\\site-packages\\kagglehub\\resolver.py:29\u001b[39m, in \u001b[36mResolver.__call__\u001b[39m\u001b[34m(self, handle, path, force_download)\u001b[39m\n\u001b[32m     15\u001b[39m \u001b[38;5;28;01mdef\u001b[39;00m\u001b[38;5;250m \u001b[39m\u001b[34m__call__\u001b[39m(\n\u001b[32m     16\u001b[39m     \u001b[38;5;28mself\u001b[39m, handle: T, path: Optional[\u001b[38;5;28mstr\u001b[39m] = \u001b[38;5;28;01mNone\u001b[39;00m, *, force_download: Optional[\u001b[38;5;28mbool\u001b[39m] = \u001b[38;5;28;01mFalse\u001b[39;00m\n\u001b[32m     17\u001b[39m ) -> \u001b[38;5;28mtuple\u001b[39m[\u001b[38;5;28mstr\u001b[39m, Optional[\u001b[38;5;28mint\u001b[39m]]:\n\u001b[32m     18\u001b[39m \u001b[38;5;250m    \u001b[39m\u001b[33;03m\"\"\"Resolves a handle into a path with the requested file(s) and the resource's version number.\u001b[39;00m\n\u001b[32m     19\u001b[39m \n\u001b[32m     20\u001b[39m \u001b[33;03m    Args:\u001b[39;00m\n\u001b[32m   (...)\u001b[39m\u001b[32m     27\u001b[39m \u001b[33;03m        Some cases where version number might be missing: Competition datasource, API-based models.\u001b[39;00m\n\u001b[32m     28\u001b[39m \u001b[33;03m    \"\"\"\u001b[39;00m\n\u001b[32m---> \u001b[39m\u001b[32m29\u001b[39m     path, version = \u001b[38;5;28;43mself\u001b[39;49m\u001b[43m.\u001b[49m\u001b[43m_resolve\u001b[49m\u001b[43m(\u001b[49m\u001b[43mhandle\u001b[49m\u001b[43m,\u001b[49m\u001b[43m \u001b[49m\u001b[43mpath\u001b[49m\u001b[43m,\u001b[49m\u001b[43m \u001b[49m\u001b[43mforce_download\u001b[49m\u001b[43m=\u001b[49m\u001b[43mforce_download\u001b[49m\u001b[43m)\u001b[49m\n\u001b[32m     31\u001b[39m     \u001b[38;5;66;03m# Note handles are immutable, so _resolve() could not have altered our reference\u001b[39;00m\n\u001b[32m     32\u001b[39m     register_datasource_access(handle, version)\n",
            "\u001b[36mFile \u001b[39m\u001b[32mc:\\Users\\Evan\\OneDrive - Neumont College of Computer Science\\Documents\\School\\CSU School Stuff\\25_Q1_SPRING\\CS_445\\term_project\\.venv\\Lib\\site-packages\\kagglehub\\http_resolver.py:130\u001b[39m, in \u001b[36mDatasetHttpResolver._resolve\u001b[39m\u001b[34m(self, h, path, force_download)\u001b[39m\n\u001b[32m    127\u001b[39m os.makedirs(os.path.dirname(archive_path), exist_ok=\u001b[38;5;28;01mTrue\u001b[39;00m)\n\u001b[32m    129\u001b[39m \u001b[38;5;66;03m# First, we download the archive.\u001b[39;00m\n\u001b[32m--> \u001b[39m\u001b[32m130\u001b[39m \u001b[43mapi_client\u001b[49m\u001b[43m.\u001b[49m\u001b[43mdownload_file\u001b[49m\u001b[43m(\u001b[49m\u001b[43murl_path\u001b[49m\u001b[43m,\u001b[49m\u001b[43m \u001b[49m\u001b[43marchive_path\u001b[49m\u001b[43m,\u001b[49m\u001b[43m \u001b[49m\u001b[43mh\u001b[49m\u001b[43m)\u001b[49m\n\u001b[32m    132\u001b[39m _extract_archive(archive_path, out_path)\n\u001b[32m    134\u001b[39m \u001b[38;5;66;03m# Delete the archive\u001b[39;00m\n",
            "\u001b[36mFile \u001b[39m\u001b[32mc:\\Users\\Evan\\OneDrive - Neumont College of Computer Science\\Documents\\School\\CSU School Stuff\\25_Q1_SPRING\\CS_445\\term_project\\.venv\\Lib\\site-packages\\kagglehub\\clients.py:217\u001b[39m, in \u001b[36mKaggleApiV1Client.download_file\u001b[39m\u001b[34m(self, path, out_file, resource_handle, cached_path, extract_auto_compressed_file)\u001b[39m\n\u001b[32m    215\u001b[39m \u001b[38;5;28;01melse\u001b[39;00m:\n\u001b[32m    216\u001b[39m     logger.info(\u001b[33mf\u001b[39m\u001b[33m\"\u001b[39m\u001b[33mDownloading from \u001b[39m\u001b[38;5;132;01m{\u001b[39;00murl\u001b[38;5;132;01m}\u001b[39;00m\u001b[33m...\u001b[39m\u001b[33m\"\u001b[39m)\n\u001b[32m--> \u001b[39m\u001b[32m217\u001b[39m     \u001b[43m_download_file\u001b[49m\u001b[43m(\u001b[49m\u001b[43mresponse\u001b[49m\u001b[43m,\u001b[49m\u001b[43m \u001b[49m\u001b[43mout_file\u001b[49m\u001b[43m,\u001b[49m\u001b[43m \u001b[49m\u001b[43msize_read\u001b[49m\u001b[43m,\u001b[49m\u001b[43m \u001b[49m\u001b[43mtotal_size\u001b[49m\u001b[43m,\u001b[49m\u001b[43m \u001b[49m\u001b[43mhash_object\u001b[49m\u001b[43m)\u001b[49m\n\u001b[32m    219\u001b[39m \u001b[38;5;28;01mif\u001b[39;00m hash_object:\n\u001b[32m    220\u001b[39m     actual_md5_hash = to_b64_digest(hash_object)\n",
            "\u001b[36mFile \u001b[39m\u001b[32mc:\\Users\\Evan\\OneDrive - Neumont College of Computer Science\\Documents\\School\\CSU School Stuff\\25_Q1_SPRING\\CS_445\\term_project\\.venv\\Lib\\site-packages\\kagglehub\\clients.py:276\u001b[39m, in \u001b[36m_download_file\u001b[39m\u001b[34m(response, out_file, size_read, total_size, hash_object)\u001b[39m\n\u001b[32m    274\u001b[39m \u001b[38;5;28;01mwith\u001b[39;00m tqdm(total=total_size, initial=size_read, unit=\u001b[33m\"\u001b[39m\u001b[33mB\u001b[39m\u001b[33m\"\u001b[39m, unit_scale=\u001b[38;5;28;01mTrue\u001b[39;00m, unit_divisor=\u001b[32m1024\u001b[39m) \u001b[38;5;28;01mas\u001b[39;00m progress_bar:\n\u001b[32m    275\u001b[39m     \u001b[38;5;28;01mwith\u001b[39;00m \u001b[38;5;28mopen\u001b[39m(out_file, open_mode) \u001b[38;5;28;01mas\u001b[39;00m f:\n\u001b[32m--> \u001b[39m\u001b[32m276\u001b[39m \u001b[43m        \u001b[49m\u001b[38;5;28;43;01mfor\u001b[39;49;00m\u001b[43m \u001b[49m\u001b[43mchunk\u001b[49m\u001b[43m \u001b[49m\u001b[38;5;129;43;01min\u001b[39;49;00m\u001b[43m \u001b[49m\u001b[43mresponse\u001b[49m\u001b[43m.\u001b[49m\u001b[43miter_content\u001b[49m\u001b[43m(\u001b[49m\u001b[43mCHUNK_SIZE\u001b[49m\u001b[43m)\u001b[49m\u001b[43m:\u001b[49m\n\u001b[32m    277\u001b[39m \u001b[43m            \u001b[49m\u001b[43mf\u001b[49m\u001b[43m.\u001b[49m\u001b[43mwrite\u001b[49m\u001b[43m(\u001b[49m\u001b[43mchunk\u001b[49m\u001b[43m)\u001b[49m\n\u001b[32m    278\u001b[39m \u001b[43m            \u001b[49m\u001b[38;5;28;43;01mif\u001b[39;49;00m\u001b[43m \u001b[49m\u001b[43mhash_object\u001b[49m\u001b[43m:\u001b[49m\n",
            "\u001b[36mFile \u001b[39m\u001b[32mc:\\Users\\Evan\\OneDrive - Neumont College of Computer Science\\Documents\\School\\CSU School Stuff\\25_Q1_SPRING\\CS_445\\term_project\\.venv\\Lib\\site-packages\\requests\\models.py:820\u001b[39m, in \u001b[36mResponse.iter_content.<locals>.generate\u001b[39m\u001b[34m()\u001b[39m\n\u001b[32m    818\u001b[39m \u001b[38;5;28;01mif\u001b[39;00m \u001b[38;5;28mhasattr\u001b[39m(\u001b[38;5;28mself\u001b[39m.raw, \u001b[33m\"\u001b[39m\u001b[33mstream\u001b[39m\u001b[33m\"\u001b[39m):\n\u001b[32m    819\u001b[39m     \u001b[38;5;28;01mtry\u001b[39;00m:\n\u001b[32m--> \u001b[39m\u001b[32m820\u001b[39m         \u001b[38;5;28;01myield from\u001b[39;00m \u001b[38;5;28mself\u001b[39m.raw.stream(chunk_size, decode_content=\u001b[38;5;28;01mTrue\u001b[39;00m)\n\u001b[32m    821\u001b[39m     \u001b[38;5;28;01mexcept\u001b[39;00m ProtocolError \u001b[38;5;28;01mas\u001b[39;00m e:\n\u001b[32m    822\u001b[39m         \u001b[38;5;28;01mraise\u001b[39;00m ChunkedEncodingError(e)\n",
            "\u001b[36mFile \u001b[39m\u001b[32mc:\\Users\\Evan\\OneDrive - Neumont College of Computer Science\\Documents\\School\\CSU School Stuff\\25_Q1_SPRING\\CS_445\\term_project\\.venv\\Lib\\site-packages\\urllib3\\response.py:1066\u001b[39m, in \u001b[36mHTTPResponse.stream\u001b[39m\u001b[34m(self, amt, decode_content)\u001b[39m\n\u001b[32m   1064\u001b[39m \u001b[38;5;28;01melse\u001b[39;00m:\n\u001b[32m   1065\u001b[39m     \u001b[38;5;28;01mwhile\u001b[39;00m \u001b[38;5;129;01mnot\u001b[39;00m is_fp_closed(\u001b[38;5;28mself\u001b[39m._fp) \u001b[38;5;129;01mor\u001b[39;00m \u001b[38;5;28mlen\u001b[39m(\u001b[38;5;28mself\u001b[39m._decoded_buffer) > \u001b[32m0\u001b[39m:\n\u001b[32m-> \u001b[39m\u001b[32m1066\u001b[39m         data = \u001b[38;5;28;43mself\u001b[39;49m\u001b[43m.\u001b[49m\u001b[43mread\u001b[49m\u001b[43m(\u001b[49m\u001b[43mamt\u001b[49m\u001b[43m=\u001b[49m\u001b[43mamt\u001b[49m\u001b[43m,\u001b[49m\u001b[43m \u001b[49m\u001b[43mdecode_content\u001b[49m\u001b[43m=\u001b[49m\u001b[43mdecode_content\u001b[49m\u001b[43m)\u001b[49m\n\u001b[32m   1068\u001b[39m         \u001b[38;5;28;01mif\u001b[39;00m data:\n\u001b[32m   1069\u001b[39m             \u001b[38;5;28;01myield\u001b[39;00m data\n",
            "\u001b[36mFile \u001b[39m\u001b[32mc:\\Users\\Evan\\OneDrive - Neumont College of Computer Science\\Documents\\School\\CSU School Stuff\\25_Q1_SPRING\\CS_445\\term_project\\.venv\\Lib\\site-packages\\urllib3\\response.py:955\u001b[39m, in \u001b[36mHTTPResponse.read\u001b[39m\u001b[34m(self, amt, decode_content, cache_content)\u001b[39m\n\u001b[32m    952\u001b[39m     \u001b[38;5;28;01mif\u001b[39;00m \u001b[38;5;28mlen\u001b[39m(\u001b[38;5;28mself\u001b[39m._decoded_buffer) >= amt:\n\u001b[32m    953\u001b[39m         \u001b[38;5;28;01mreturn\u001b[39;00m \u001b[38;5;28mself\u001b[39m._decoded_buffer.get(amt)\n\u001b[32m--> \u001b[39m\u001b[32m955\u001b[39m data = \u001b[38;5;28;43mself\u001b[39;49m\u001b[43m.\u001b[49m\u001b[43m_raw_read\u001b[49m\u001b[43m(\u001b[49m\u001b[43mamt\u001b[49m\u001b[43m)\u001b[49m\n\u001b[32m    957\u001b[39m flush_decoder = amt \u001b[38;5;129;01mis\u001b[39;00m \u001b[38;5;28;01mNone\u001b[39;00m \u001b[38;5;129;01mor\u001b[39;00m (amt != \u001b[32m0\u001b[39m \u001b[38;5;129;01mand\u001b[39;00m \u001b[38;5;129;01mnot\u001b[39;00m data)\n\u001b[32m    959\u001b[39m \u001b[38;5;28;01mif\u001b[39;00m \u001b[38;5;129;01mnot\u001b[39;00m data \u001b[38;5;129;01mand\u001b[39;00m \u001b[38;5;28mlen\u001b[39m(\u001b[38;5;28mself\u001b[39m._decoded_buffer) == \u001b[32m0\u001b[39m:\n",
            "\u001b[36mFile \u001b[39m\u001b[32mc:\\Users\\Evan\\OneDrive - Neumont College of Computer Science\\Documents\\School\\CSU School Stuff\\25_Q1_SPRING\\CS_445\\term_project\\.venv\\Lib\\site-packages\\urllib3\\response.py:879\u001b[39m, in \u001b[36mHTTPResponse._raw_read\u001b[39m\u001b[34m(self, amt, read1)\u001b[39m\n\u001b[32m    876\u001b[39m fp_closed = \u001b[38;5;28mgetattr\u001b[39m(\u001b[38;5;28mself\u001b[39m._fp, \u001b[33m\"\u001b[39m\u001b[33mclosed\u001b[39m\u001b[33m\"\u001b[39m, \u001b[38;5;28;01mFalse\u001b[39;00m)\n\u001b[32m    878\u001b[39m \u001b[38;5;28;01mwith\u001b[39;00m \u001b[38;5;28mself\u001b[39m._error_catcher():\n\u001b[32m--> \u001b[39m\u001b[32m879\u001b[39m     data = \u001b[38;5;28;43mself\u001b[39;49m\u001b[43m.\u001b[49m\u001b[43m_fp_read\u001b[49m\u001b[43m(\u001b[49m\u001b[43mamt\u001b[49m\u001b[43m,\u001b[49m\u001b[43m \u001b[49m\u001b[43mread1\u001b[49m\u001b[43m=\u001b[49m\u001b[43mread1\u001b[49m\u001b[43m)\u001b[49m \u001b[38;5;28;01mif\u001b[39;00m \u001b[38;5;129;01mnot\u001b[39;00m fp_closed \u001b[38;5;28;01melse\u001b[39;00m \u001b[33mb\u001b[39m\u001b[33m\"\u001b[39m\u001b[33m\"\u001b[39m\n\u001b[32m    880\u001b[39m     \u001b[38;5;28;01mif\u001b[39;00m amt \u001b[38;5;129;01mis\u001b[39;00m \u001b[38;5;129;01mnot\u001b[39;00m \u001b[38;5;28;01mNone\u001b[39;00m \u001b[38;5;129;01mand\u001b[39;00m amt != \u001b[32m0\u001b[39m \u001b[38;5;129;01mand\u001b[39;00m \u001b[38;5;129;01mnot\u001b[39;00m data:\n\u001b[32m    881\u001b[39m         \u001b[38;5;66;03m# Platform-specific: Buggy versions of Python.\u001b[39;00m\n\u001b[32m    882\u001b[39m         \u001b[38;5;66;03m# Close the connection when no data is returned\u001b[39;00m\n\u001b[32m   (...)\u001b[39m\u001b[32m    887\u001b[39m         \u001b[38;5;66;03m# not properly close the connection in all cases. There is\u001b[39;00m\n\u001b[32m    888\u001b[39m         \u001b[38;5;66;03m# no harm in redundantly calling close.\u001b[39;00m\n\u001b[32m    889\u001b[39m         \u001b[38;5;28mself\u001b[39m._fp.close()\n",
            "\u001b[36mFile \u001b[39m\u001b[32mc:\\Users\\Evan\\OneDrive - Neumont College of Computer Science\\Documents\\School\\CSU School Stuff\\25_Q1_SPRING\\CS_445\\term_project\\.venv\\Lib\\site-packages\\urllib3\\response.py:862\u001b[39m, in \u001b[36mHTTPResponse._fp_read\u001b[39m\u001b[34m(self, amt, read1)\u001b[39m\n\u001b[32m    859\u001b[39m     \u001b[38;5;28;01mreturn\u001b[39;00m \u001b[38;5;28mself\u001b[39m._fp.read1(amt) \u001b[38;5;28;01mif\u001b[39;00m amt \u001b[38;5;129;01mis\u001b[39;00m \u001b[38;5;129;01mnot\u001b[39;00m \u001b[38;5;28;01mNone\u001b[39;00m \u001b[38;5;28;01melse\u001b[39;00m \u001b[38;5;28mself\u001b[39m._fp.read1()\n\u001b[32m    860\u001b[39m \u001b[38;5;28;01melse\u001b[39;00m:\n\u001b[32m    861\u001b[39m     \u001b[38;5;66;03m# StringIO doesn't like amt=None\u001b[39;00m\n\u001b[32m--> \u001b[39m\u001b[32m862\u001b[39m     \u001b[38;5;28;01mreturn\u001b[39;00m \u001b[38;5;28;43mself\u001b[39;49m\u001b[43m.\u001b[49m\u001b[43m_fp\u001b[49m\u001b[43m.\u001b[49m\u001b[43mread\u001b[49m\u001b[43m(\u001b[49m\u001b[43mamt\u001b[49m\u001b[43m)\u001b[49m \u001b[38;5;28;01mif\u001b[39;00m amt \u001b[38;5;129;01mis\u001b[39;00m \u001b[38;5;129;01mnot\u001b[39;00m \u001b[38;5;28;01mNone\u001b[39;00m \u001b[38;5;28;01melse\u001b[39;00m \u001b[38;5;28mself\u001b[39m._fp.read()\n",
            "\u001b[36mFile \u001b[39m\u001b[32m~\\AppData\\Local\\Programs\\Python\\Python312\\Lib\\http\\client.py:479\u001b[39m, in \u001b[36mHTTPResponse.read\u001b[39m\u001b[34m(self, amt)\u001b[39m\n\u001b[32m    476\u001b[39m \u001b[38;5;28;01mif\u001b[39;00m \u001b[38;5;28mself\u001b[39m.length \u001b[38;5;129;01mis\u001b[39;00m \u001b[38;5;129;01mnot\u001b[39;00m \u001b[38;5;28;01mNone\u001b[39;00m \u001b[38;5;129;01mand\u001b[39;00m amt > \u001b[38;5;28mself\u001b[39m.length:\n\u001b[32m    477\u001b[39m     \u001b[38;5;66;03m# clip the read to the \"end of response\"\u001b[39;00m\n\u001b[32m    478\u001b[39m     amt = \u001b[38;5;28mself\u001b[39m.length\n\u001b[32m--> \u001b[39m\u001b[32m479\u001b[39m s = \u001b[38;5;28;43mself\u001b[39;49m\u001b[43m.\u001b[49m\u001b[43mfp\u001b[49m\u001b[43m.\u001b[49m\u001b[43mread\u001b[49m\u001b[43m(\u001b[49m\u001b[43mamt\u001b[49m\u001b[43m)\u001b[49m\n\u001b[32m    480\u001b[39m \u001b[38;5;28;01mif\u001b[39;00m \u001b[38;5;129;01mnot\u001b[39;00m s \u001b[38;5;129;01mand\u001b[39;00m amt:\n\u001b[32m    481\u001b[39m     \u001b[38;5;66;03m# Ideally, we would raise IncompleteRead if the content-length\u001b[39;00m\n\u001b[32m    482\u001b[39m     \u001b[38;5;66;03m# wasn't satisfied, but it might break compatibility.\u001b[39;00m\n\u001b[32m    483\u001b[39m     \u001b[38;5;28mself\u001b[39m._close_conn()\n",
            "\u001b[36mFile \u001b[39m\u001b[32m~\\AppData\\Local\\Programs\\Python\\Python312\\Lib\\socket.py:720\u001b[39m, in \u001b[36mSocketIO.readinto\u001b[39m\u001b[34m(self, b)\u001b[39m\n\u001b[32m    718\u001b[39m \u001b[38;5;28;01mwhile\u001b[39;00m \u001b[38;5;28;01mTrue\u001b[39;00m:\n\u001b[32m    719\u001b[39m     \u001b[38;5;28;01mtry\u001b[39;00m:\n\u001b[32m--> \u001b[39m\u001b[32m720\u001b[39m         \u001b[38;5;28;01mreturn\u001b[39;00m \u001b[38;5;28;43mself\u001b[39;49m\u001b[43m.\u001b[49m\u001b[43m_sock\u001b[49m\u001b[43m.\u001b[49m\u001b[43mrecv_into\u001b[49m\u001b[43m(\u001b[49m\u001b[43mb\u001b[49m\u001b[43m)\u001b[49m\n\u001b[32m    721\u001b[39m     \u001b[38;5;28;01mexcept\u001b[39;00m timeout:\n\u001b[32m    722\u001b[39m         \u001b[38;5;28mself\u001b[39m._timeout_occurred = \u001b[38;5;28;01mTrue\u001b[39;00m\n",
            "\u001b[36mFile \u001b[39m\u001b[32m~\\AppData\\Local\\Programs\\Python\\Python312\\Lib\\ssl.py:1251\u001b[39m, in \u001b[36mSSLSocket.recv_into\u001b[39m\u001b[34m(self, buffer, nbytes, flags)\u001b[39m\n\u001b[32m   1247\u001b[39m     \u001b[38;5;28;01mif\u001b[39;00m flags != \u001b[32m0\u001b[39m:\n\u001b[32m   1248\u001b[39m         \u001b[38;5;28;01mraise\u001b[39;00m \u001b[38;5;167;01mValueError\u001b[39;00m(\n\u001b[32m   1249\u001b[39m           \u001b[33m\"\u001b[39m\u001b[33mnon-zero flags not allowed in calls to recv_into() on \u001b[39m\u001b[38;5;132;01m%s\u001b[39;00m\u001b[33m\"\u001b[39m %\n\u001b[32m   1250\u001b[39m           \u001b[38;5;28mself\u001b[39m.\u001b[34m__class__\u001b[39m)\n\u001b[32m-> \u001b[39m\u001b[32m1251\u001b[39m     \u001b[38;5;28;01mreturn\u001b[39;00m \u001b[38;5;28;43mself\u001b[39;49m\u001b[43m.\u001b[49m\u001b[43mread\u001b[49m\u001b[43m(\u001b[49m\u001b[43mnbytes\u001b[49m\u001b[43m,\u001b[49m\u001b[43m \u001b[49m\u001b[43mbuffer\u001b[49m\u001b[43m)\u001b[49m\n\u001b[32m   1252\u001b[39m \u001b[38;5;28;01melse\u001b[39;00m:\n\u001b[32m   1253\u001b[39m     \u001b[38;5;28;01mreturn\u001b[39;00m \u001b[38;5;28msuper\u001b[39m().recv_into(buffer, nbytes, flags)\n",
            "\u001b[36mFile \u001b[39m\u001b[32m~\\AppData\\Local\\Programs\\Python\\Python312\\Lib\\ssl.py:1103\u001b[39m, in \u001b[36mSSLSocket.read\u001b[39m\u001b[34m(self, len, buffer)\u001b[39m\n\u001b[32m   1101\u001b[39m \u001b[38;5;28;01mtry\u001b[39;00m:\n\u001b[32m   1102\u001b[39m     \u001b[38;5;28;01mif\u001b[39;00m buffer \u001b[38;5;129;01mis\u001b[39;00m \u001b[38;5;129;01mnot\u001b[39;00m \u001b[38;5;28;01mNone\u001b[39;00m:\n\u001b[32m-> \u001b[39m\u001b[32m1103\u001b[39m         \u001b[38;5;28;01mreturn\u001b[39;00m \u001b[38;5;28;43mself\u001b[39;49m\u001b[43m.\u001b[49m\u001b[43m_sslobj\u001b[49m\u001b[43m.\u001b[49m\u001b[43mread\u001b[49m\u001b[43m(\u001b[49m\u001b[38;5;28;43mlen\u001b[39;49m\u001b[43m,\u001b[49m\u001b[43m \u001b[49m\u001b[43mbuffer\u001b[49m\u001b[43m)\u001b[49m\n\u001b[32m   1104\u001b[39m     \u001b[38;5;28;01melse\u001b[39;00m:\n\u001b[32m   1105\u001b[39m         \u001b[38;5;28;01mreturn\u001b[39;00m \u001b[38;5;28mself\u001b[39m._sslobj.read(\u001b[38;5;28mlen\u001b[39m)\n",
            "\u001b[31mKeyboardInterrupt\u001b[39m: "
          ]
        }
      ],
      "source": [
        "# IMPORTANT: RUN THIS CELL IN ORDER TO IMPORT YOUR KAGGLE DATA SOURCES,\n",
        "# THEN FEEL FREE TO DELETE THIS CELL.\n",
        "# NOTE: THIS NOTEBOOK ENVIRONMENT DIFFERS FROM KAGGLE'S PYTHON\n",
        "# ENVIRONMENT SO THERE MAY BE MISSING LIBRARIES USED BY YOUR\n",
        "# NOTEBOOK.\n",
        "import kagglehub\n",
        "risangbaskoro_wlasl_processed_path = kagglehub.dataset_download('risangbaskoro/wlasl-processed')\n",
        "sttaseen_wlasl2000_resized_path = kagglehub.dataset_download('sttaseen/wlasl2000-resized')\n",
        "abd0kamel_mutemotion_output_path = kagglehub.dataset_download('abd0kamel/mutemotion-output')\n",
        "\n",
        "print('Data source import complete.')\n"
      ]
    },
    {
      "cell_type": "markdown",
      "metadata": {
        "id": "4Z7irn0YJIif"
      },
      "source": [
        "# **Introduction**\n",
        "\n",
        "<h3> This notebook aims to use MediaPipe landmarks detection as the starting point\n",
        "    \n",
        "<h3> for building an American Sign Language Translation Model\n",
        "            \n",
        "**<h3> Sections:**\n",
        "* [Importing Libraries](#Importing_Libraries)\n",
        "* [Data Preparation](#Data_Preparation)\n",
        "* [MediaPipe Implementation](#MediaPipe_Implementation)\n",
        "* [Visualizing Landmarks](#Visualizing_Landmarks)\n",
        "* [Data Encoding](#Data_Encoding)\n",
        "* [Label Filtering](#Label_Filtering)\n",
        "* [Data Loading](#Data_Loading)\n",
        "* [Data Augmentation](#Data_Augmentation)\n",
        "* [Data Preprocessing](#Data_Preprocessing)\n",
        "* [Label Encoding](#Label_Encoding)\n",
        "* [Models](#Models)\n",
        "    \n",
        "<h4> If you found this notebook helpful, an upvote would be appreciated!"
      ]
    },
    {
      "cell_type": "markdown",
      "metadata": {
        "id": "YKHvbNFnJIik"
      },
      "source": [
        "---"
      ]
    },
    {
      "cell_type": "markdown",
      "metadata": {
        "id": "EPF1xG5DJIim"
      },
      "source": [
        "<div id=\"Importing_Libraries\">\n",
        "    \n",
        "# **Importing Libraries**"
      ]
    },
    {
      "cell_type": "code",
      "execution_count": 3,
      "metadata": {
        "_cell_guid": "b1076dfc-b9ad-4769-8c92-a6c4dae69d19",
        "_uuid": "8f2839f25d086af736a60e9eeb907d3b93b6e0e5",
        "execution": {
          "iopub.execute_input": "2023-12-13T23:19:26.448323Z",
          "iopub.status.busy": "2023-12-13T23:19:26.448036Z",
          "iopub.status.idle": "2023-12-13T23:19:39.996068Z",
          "shell.execute_reply": "2023-12-13T23:19:39.995042Z",
          "shell.execute_reply.started": "2023-12-13T23:19:26.448299Z"
        },
        "id": "1GtN910XJIir",
        "trusted": true
      },
      "outputs": [],
      "source": [
        "import os\n",
        "import gc\n",
        "import cv2\n",
        "import json\n",
        "import time\n",
        "import shutil\n",
        "import numpy as np\n",
        "from tqdm import tqdm\n",
        "import mediapipe as mp\n",
        "import tensorflow as tf\n",
        "import matplotlib.pyplot as plt\n",
        "from sklearn.preprocessing import LabelEncoder\n",
        "from concurrent.futures import ThreadPoolExecutor\n",
        "from IPython.display import clear_output, FileLink"
      ]
    },
    {
      "cell_type": "markdown",
      "metadata": {
        "id": "JteyOcY5JIiu"
      },
      "source": [
        "---"
      ]
    },
    {
      "cell_type": "markdown",
      "metadata": {
        "id": "HTy6i_eAJIiw"
      },
      "source": [
        "<div id=\"Data_Preparation\">\n",
        "    \n",
        "# **Data Preparation**\n",
        "**<h2>(Done Once)**"
      ]
    },
    {
      "cell_type": "markdown",
      "metadata": {
        "id": "zv0p4BniJIiy"
      },
      "source": [
        "<h3> We first load the data"
      ]
    },
    {
      "cell_type": "code",
      "execution_count": 10,
      "metadata": {
        "execution": {
          "iopub.execute_input": "2023-12-01T21:40:04.463388Z",
          "iopub.status.busy": "2023-12-01T21:40:04.462788Z",
          "iopub.status.idle": "2023-12-01T21:40:04.715599Z",
          "shell.execute_reply": "2023-12-01T21:40:04.714639Z",
          "shell.execute_reply.started": "2023-12-01T21:40:04.463358Z"
        },
        "id": "NVQGnFbVJIi1",
        "trusted": true
      },
      "outputs": [],
      "source": [
        "with open('kaggle_data/WLASL_v0.3.json', 'r') as json_file:\n",
        "    all_data = json.load(json_file)"
      ]
    },
    {
      "cell_type": "code",
      "execution_count": 14,
      "metadata": {},
      "outputs": [
        {
          "data": {
            "text/plain": [
              "2000"
            ]
          },
          "execution_count": 14,
          "metadata": {},
          "output_type": "execute_result"
        }
      ],
      "source": [
        "len(all_data)"
      ]
    },
    {
      "cell_type": "markdown",
      "metadata": {
        "id": "uvKkUz6TJIi4"
      },
      "source": [
        "<h3> Then we extract the needed information from the data\n",
        "<h4>    \n",
        "    \n",
        "* gloss : the word being expressed\n",
        "    \n",
        "* video_path : the path to the video in the datasets\n",
        "    \n",
        "* frame_start : the frame number where the word starts\n",
        "    \n",
        "* frame_end : the frame number where each word ends\n",
        "   \n",
        "* split : the type of data when modeling (train, val, test)"
      ]
    },
    {
      "cell_type": "code",
      "execution_count": 30,
      "metadata": {
        "execution": {
          "iopub.execute_input": "2023-12-01T21:40:04.717996Z",
          "iopub.status.busy": "2023-12-01T21:40:04.71712Z",
          "iopub.status.idle": "2023-12-01T21:41:13.368202Z",
          "shell.execute_reply": "2023-12-01T21:41:13.367082Z",
          "shell.execute_reply.started": "2023-12-01T21:40:04.717956Z"
        },
        "id": "nNDRu_4vJIi6",
        "trusted": true
      },
      "outputs": [
        {
          "name": "stderr",
          "output_type": "stream",
          "text": [
            "100%|█████████████████████████████████████████████████████████| 2000/2000 [00:00<00:00, 3384.15it/s]\n"
          ]
        }
      ],
      "source": [
        "video_dir = 'kaggle_data/videos/'\n",
        "backup_dir = '/kaggle/input/wlasl2000-resized/wlasl-complete/videos'\n",
        "data = [] # formatted data\n",
        "\n",
        "for i in tqdm(range(len(all_data)), ncols=100):\n",
        "    gloss = all_data[i]['gloss']\n",
        "    instances = all_data[i]['instances']\n",
        "    for instance in instances:\n",
        "        video_id = instance['video_id']\n",
        "        #print(os.path.join(video_dir, f'{video_id}.mp4'))\n",
        "        if os.path.exists(os.path.join(video_dir, f'{video_id}.mp4')):\n",
        "            #print(\"path found\")\n",
        "            video_path = os.path.join(video_dir, f'{video_id}.mp4')\n",
        "        #elif os.path.exists(os.path.join(backup_dir, f'{video_id}.mp4')):\n",
        "        #    video_path = os.path.join(backup_dir, f'{video_id}.mp4')\n",
        "        else:\n",
        "            continue\n",
        "\n",
        "        frame_start = instance['frame_start']\n",
        "        frame_end = instance['frame_end']\n",
        "        split = instance['split']\n",
        "        instance_data = {\n",
        "            'gloss': gloss,\n",
        "            'video_path': video_path,\n",
        "            'frame_start': frame_start,\n",
        "            'frame_end': frame_end,\n",
        "            'split': split\n",
        "        }\n",
        "        #print(instance_data)\n",
        "        data.append(instance_data)\n",
        "\n"
      ]
    },
    {
      "cell_type": "code",
      "execution_count": 31,
      "metadata": {
        "execution": {
          "iopub.execute_input": "2023-12-01T21:41:13.371452Z",
          "iopub.status.busy": "2023-12-01T21:41:13.371024Z",
          "iopub.status.idle": "2023-12-01T21:41:13.37917Z",
          "shell.execute_reply": "2023-12-01T21:41:13.378032Z",
          "shell.execute_reply.started": "2023-12-01T21:41:13.371414Z"
        },
        "id": "mgmrXn4YJIi7",
        "trusted": true
      },
      "outputs": [
        {
          "data": {
            "text/plain": [
              "11980"
            ]
          },
          "execution_count": 31,
          "metadata": {},
          "output_type": "execute_result"
        }
      ],
      "source": [
        "len(data)"
      ]
    },
    {
      "cell_type": "markdown",
      "metadata": {
        "id": "9AhPGbX3JIi9"
      },
      "source": [
        "<h3> We then save the organized dictionary for future uses"
      ]
    },
    {
      "cell_type": "code",
      "execution_count": 37,
      "metadata": {
        "execution": {
          "iopub.execute_input": "2023-12-01T21:41:13.381358Z",
          "iopub.status.busy": "2023-12-01T21:41:13.380775Z",
          "iopub.status.idle": "2023-12-01T21:41:13.607781Z",
          "shell.execute_reply": "2023-12-01T21:41:13.60672Z",
          "shell.execute_reply.started": "2023-12-01T21:41:13.381322Z"
        },
        "id": "qPHh75rdJIi9",
        "trusted": true
      },
      "outputs": [
        {
          "data": {
            "text/html": [
              "Path (<tt>WLASL_parsed_data.json</tt>) doesn't exist. It may still be in the process of being generated, or you may have the incorrect path."
            ],
            "text/plain": [
              "c:\\Users\\Evan\\OneDrive - Neumont College of Computer Science\\Documents\\School\\CSU School Stuff\\25_Q1_SPRING\\CS_445\\term_project\\WLASL_parsed_data.json"
            ]
          },
          "execution_count": 37,
          "metadata": {},
          "output_type": "execute_result"
        }
      ],
      "source": [
        "with open('kaggle_data/working/WLASL_parsed_data.json', 'w') as json_file:\n",
        "    json.dump(data, json_file, indent=4)\n",
        "\n",
        "FileLink(r'WLASL_parsed_data.json')"
      ]
    },
    {
      "cell_type": "markdown",
      "metadata": {
        "id": "V_fPZfGqJIi-"
      },
      "source": [
        "---"
      ]
    },
    {
      "cell_type": "markdown",
      "metadata": {
        "id": "IMsKzJytJIi_"
      },
      "source": [
        "<div id=\"MediaPipe_Implementation\">\n",
        "\n",
        "# **MediaPipe Implementation**\n",
        "**<h2>(Not important when training)**"
      ]
    },
    {
      "cell_type": "markdown",
      "metadata": {
        "id": "Ll2NSHmuJIjA"
      },
      "source": [
        "<h3> We first choose the landmarks\n",
        "<h4>    \n",
        "    \n",
        "* Hands : we'll keep all **42** of them, as they are the most important part.\n",
        "    \n",
        "* Pose : **6** landmarks for the upper body excluding the face, as we have dedicated process for it.\n",
        "    \n",
        "* Face : out of the **478** landmarks, we'll choose **132**, focusing on the lips, eyes, eyebrows, and the outline of the face.\n",
        "    \n",
        "* This brings the total number of landmarks to **180**, each with coordinates (x, y, z).   "
      ]
    },
    {
      "cell_type": "code",
      "execution_count": null,
      "metadata": {
        "execution": {
          "iopub.execute_input": "2023-12-13T20:03:08.021775Z",
          "iopub.status.busy": "2023-12-13T20:03:08.020837Z",
          "iopub.status.idle": "2023-12-13T20:03:08.033336Z",
          "shell.execute_reply": "2023-12-13T20:03:08.031977Z",
          "shell.execute_reply.started": "2023-12-13T20:03:08.021735Z"
        },
        "id": "Nbs05UPaJIjB",
        "trusted": true
      },
      "outputs": [],
      "source": [
        "filtered_hand = list(range(21))\n",
        "\n",
        "filtered_pose = [11, 12, 13, 14, 15, 16]\n",
        "\n",
        "filtered_face = [0, 4, 7, 8, 10, 13, 14, 17, 21, 33, 37, 39, 40, 46, 52, 53, 54, 55, 58,\n",
        "                 61, 63, 65, 66, 67, 70, 78, 80, 81, 82, 84, 87, 88, 91, 93, 95, 103, 105,\n",
        "                 107, 109, 127, 132, 133, 136, 144, 145, 146, 148, 149, 150, 152, 153, 154,\n",
        "                 155, 157, 158, 159, 160, 161, 162, 163, 172, 173, 176, 178, 181, 185, 191,\n",
        "                 234, 246, 249, 251, 263, 267, 269, 270, 276, 282, 283, 284, 285, 288, 291,\n",
        "                 293, 295, 296, 297, 300, 308, 310, 311, 312, 314, 317, 318, 321, 323, 324,\n",
        "                 332, 334, 336, 338, 356, 361, 362, 365, 373, 374, 375, 377, 378, 379, 380,\n",
        "                 381, 382, 384, 385, 386, 387, 388, 389, 390, 397, 398, 400, 402, 405, 409,\n",
        "                 415, 454, 466, 468, 473]\n",
        "\n",
        "HAND_NUM = len(filtered_hand)\n",
        "POSE_NUM = len(filtered_pose)\n",
        "FACE_NUM = len(filtered_face)"
      ]
    },
    {
      "cell_type": "markdown",
      "metadata": {
        "id": "tRG7wrAyJIjC"
      },
      "source": [
        "<h3>Extracting landmarks from a frame"
      ]
    },
    {
      "cell_type": "code",
      "execution_count": null,
      "metadata": {
        "execution": {
          "iopub.execute_input": "2023-12-13T20:03:08.364396Z",
          "iopub.status.busy": "2023-12-13T20:03:08.363969Z",
          "iopub.status.idle": "2023-12-13T20:03:08.43972Z",
          "shell.execute_reply": "2023-12-13T20:03:08.438422Z",
          "shell.execute_reply.started": "2023-12-13T20:03:08.364362Z"
        },
        "id": "0JXBiNLaJIjC",
        "trusted": true
      },
      "outputs": [],
      "source": [
        "hands = mp.solutions.hands.Hands()\n",
        "pose = mp.solutions.pose.Pose()\n",
        "face_mesh = mp.solutions.face_mesh.FaceMesh(refine_landmarks=True)\n",
        "\n",
        "def get_frame_landmarks(frame):\n",
        "\n",
        "    all_landmarks = np.zeros((HAND_NUM * 2 + POSE_NUM + FACE_NUM, 3))\n",
        "\n",
        "    def get_hands(frame):\n",
        "        results_hands = hands.process(frame)\n",
        "        if results_hands.multi_hand_landmarks:\n",
        "            for i, hand_landmarks in enumerate(results_hands.multi_hand_landmarks):\n",
        "                if results_hands.multi_handedness[i].classification[0].index == 0:\n",
        "                    all_landmarks[:HAND_NUM, :] = np.array(\n",
        "                        [(lm.x, lm.y, lm.z) for lm in hand_landmarks.landmark]) # right\n",
        "                else:\n",
        "                    all_landmarks[HAND_NUM:HAND_NUM * 2, :] = np.array(\n",
        "                        [(lm.x, lm.y, lm.z) for lm in hand_landmarks.landmark]) # left\n",
        "\n",
        "    def get_pose(frame):\n",
        "        results_pose = pose.process(frame)\n",
        "        if results_pose.pose_landmarks:\n",
        "            all_landmarks[HAND_NUM * 2:HAND_NUM * 2 + POSE_NUM, :] = np.array(\n",
        "                [(lm.x, lm.y, lm.z) for lm in results_pose.pose_landmarks.landmark])[filtered_pose]\n",
        "\n",
        "    def get_face(frame):\n",
        "        results_face = face_mesh.process(frame)\n",
        "        if results_face.multi_face_landmarks:\n",
        "            all_landmarks[HAND_NUM * 2 + POSE_NUM:, :] = np.array(\n",
        "                [(lm.x, lm.y, lm.z) for lm in results_face.multi_face_landmarks[0].landmark])[filtered_face]\n",
        "\n",
        "    with ThreadPoolExecutor(max_workers=3) as executor:\n",
        "        executor.submit(get_hands, frame)\n",
        "        executor.submit(get_pose, frame)\n",
        "        executor.submit(get_face, frame)\n",
        "\n",
        "    return all_landmarks"
      ]
    },
    {
      "cell_type": "markdown",
      "metadata": {
        "id": "4Eh7nxvbJIjD"
      },
      "source": [
        "<h3>Extracting landmarks from a video"
      ]
    },
    {
      "cell_type": "code",
      "execution_count": null,
      "metadata": {
        "execution": {
          "iopub.execute_input": "2023-12-13T20:03:09.853646Z",
          "iopub.status.busy": "2023-12-13T20:03:09.853254Z",
          "iopub.status.idle": "2023-12-13T20:03:09.865239Z",
          "shell.execute_reply": "2023-12-13T20:03:09.863998Z",
          "shell.execute_reply.started": "2023-12-13T20:03:09.853617Z"
        },
        "id": "bFtyKJZOJIjE",
        "trusted": true
      },
      "outputs": [],
      "source": [
        "def get_video_landmarks(video_path, start_frame=1, end_frame=-1):\n",
        "    cap = cv2.VideoCapture(video_path)\n",
        "\n",
        "    # if the starting is 0\n",
        "    if start_frame <= 1:\n",
        "        start_frame = 1\n",
        "\n",
        "    # if the video is precropped\n",
        "    elif start_frame > int(cap.get(cv2.CAP_PROP_FRAME_COUNT)):\n",
        "        start_frame = 1\n",
        "        end_frame = int(cap.get(cv2.CAP_PROP_FRAME_COUNT))\n",
        "\n",
        "    # if the final frame was not given (-1)\n",
        "    if end_frame < 0:\n",
        "        end_frame = int(cap.get(cv2.CAP_PROP_FRAME_COUNT))\n",
        "\n",
        "    num_landmarks = HAND_NUM * 2 + POSE_NUM + FACE_NUM\n",
        "    all_frame_landmarks = np.zeros((end_frame - start_frame + 1, num_landmarks, 3))\n",
        "    frame_index = 1\n",
        "\n",
        "    while cap.isOpened() and frame_index <= end_frame:\n",
        "        ret, frame = cap.read()\n",
        "        if not ret:\n",
        "            break\n",
        "        if frame_index >= start_frame:\n",
        "            frame.flags.writeable = False\n",
        "            frame = cv2.cvtColor(frame, cv2.COLOR_BGR2RGB)\n",
        "            frame_landmarks = get_frame_landmarks(frame)\n",
        "            all_frame_landmarks[frame_index - start_frame] = frame_landmarks\n",
        "\n",
        "        frame_index += 1\n",
        "\n",
        "    cap.release()\n",
        "    hands.reset()\n",
        "    pose.reset()\n",
        "    face_mesh.reset()\n",
        "    return all_frame_landmarks"
      ]
    },
    {
      "cell_type": "markdown",
      "metadata": {
        "id": "A47PkyTFJIjE"
      },
      "source": [
        "<h3>Drawing landmarks on a video"
      ]
    },
    {
      "cell_type": "code",
      "execution_count": null,
      "metadata": {
        "execution": {
          "iopub.execute_input": "2023-12-13T20:03:12.101553Z",
          "iopub.status.busy": "2023-12-13T20:03:12.10114Z",
          "iopub.status.idle": "2023-12-13T20:03:12.114707Z",
          "shell.execute_reply": "2023-12-13T20:03:12.113504Z",
          "shell.execute_reply.started": "2023-12-13T20:03:12.10152Z"
        },
        "id": "EUR0aEXHJIjF",
        "trusted": true
      },
      "outputs": [],
      "source": [
        "def draw_landmarks(input_path, output_path, video_landmarks, start_frame=1, end_frame=-1):\n",
        "    cap = cv2.VideoCapture(input_path)\n",
        "    fps = int(cap.get(cv2.CAP_PROP_FPS))\n",
        "    width = int(cap.get(cv2.CAP_PROP_FRAME_WIDTH))\n",
        "    height = int(cap.get(cv2.CAP_PROP_FRAME_HEIGHT))\n",
        "    fourcc = cv2.VideoWriter_fourcc(*'mp4v')\n",
        "    out = cv2.VideoWriter(output_path, fourcc, fps, (width, height))\n",
        "\n",
        "    if start_frame <= 1:\n",
        "        start_frame = 1\n",
        "    elif start_frame > int(cap.get(cv2.CAP_PROP_FRAME_COUNT)):\n",
        "        start_frame = 1\n",
        "        end_frame = int(cap.get(cv2.CAP_PROP_FRAME_COUNT))\n",
        "    if end_frame < 0:\n",
        "        end_frame = int(cap.get(cv2.CAP_PROP_FRAME_COUNT))\n",
        "\n",
        "    frame_index = 1\n",
        "    while cap.isOpened():\n",
        "        ret, frame = cap.read()\n",
        "        if not ret:\n",
        "            break\n",
        "\n",
        "        if frame_index >= start_frame and frame_index <= end_frame:\n",
        "            frame_landmarks = video_landmarks[frame_index - start_frame]\n",
        "            landmarks = [(int(x * width), int(y * height)) for x, y, _ in frame_landmarks]\n",
        "            for x, y in landmarks:\n",
        "                cv2.circle(frame, (x, y), 3, (0, 0, 255), -1)\n",
        "            out.write(frame)\n",
        "        else:\n",
        "            # out.write(frame) # Enable if you want the full video\n",
        "            pass\n",
        "        frame_index += 1\n",
        "\n",
        "    cap.release()\n",
        "    out.release()"
      ]
    },
    {
      "cell_type": "markdown",
      "metadata": {
        "id": "VBdIM9-TJIjG"
      },
      "source": [
        "---"
      ]
    },
    {
      "cell_type": "markdown",
      "metadata": {
        "id": "fjkt9Il-JIjG"
      },
      "source": [
        "<div id=\"Visualizing_Landmarks\">\n",
        "\n",
        "# **Visualizing Landmarks**\n",
        "**<h2>(Not important when training)**"
      ]
    },
    {
      "cell_type": "markdown",
      "metadata": {
        "id": "mSEvBoXhJIjH"
      },
      "source": [
        "<h3>Test on a frame"
      ]
    },
    {
      "cell_type": "code",
      "execution_count": null,
      "metadata": {
        "execution": {
          "iopub.execute_input": "2023-12-13T20:03:14.765181Z",
          "iopub.status.busy": "2023-12-13T20:03:14.764733Z",
          "iopub.status.idle": "2023-12-13T20:03:19.004537Z",
          "shell.execute_reply": "2023-12-13T20:03:19.003474Z",
          "shell.execute_reply.started": "2023-12-13T20:03:14.765148Z"
        },
        "id": "0JBN8x0hJIjN",
        "trusted": true
      },
      "outputs": [],
      "source": [
        "import requests\n",
        "from PIL import Image\n",
        "from io import BytesIO\n",
        "\n",
        "image_url = 'https://images.unsplash.com/photo-1515294898968-a408405d7674'\n",
        "response = requests.get(image_url)\n",
        "img = Image.open(BytesIO(response.content))\n",
        "img = cv2.cvtColor(np.array(img), cv2.COLOR_RGB2BGR)\n",
        "\n",
        "plt.figure(figsize=(8, 8))\n",
        "plt.imshow(img[:,:,::-1])\n",
        "plt.axis('off')\n",
        "plt.show()"
      ]
    },
    {
      "cell_type": "code",
      "execution_count": null,
      "metadata": {
        "execution": {
          "iopub.execute_input": "2023-12-13T20:03:19.007722Z",
          "iopub.status.busy": "2023-12-13T20:03:19.006583Z",
          "iopub.status.idle": "2023-12-13T20:03:22.826447Z",
          "shell.execute_reply": "2023-12-13T20:03:22.82529Z",
          "shell.execute_reply.started": "2023-12-13T20:03:19.00766Z"
        },
        "id": "dEk4hwHoJIjN",
        "trusted": true
      },
      "outputs": [],
      "source": [
        "height, width, _ = img.shape\n",
        "\n",
        "frame_landmarks = get_frame_landmarks(img[:,:,::-1])\n",
        "for landmark in frame_landmarks:\n",
        "    x = int(landmark[0] * width)\n",
        "    y = int(landmark[1] * height)\n",
        "    cv2.circle(img, (x, y), 10, (0, 255, 0), -1)\n",
        "\n",
        "plt.figure(figsize=(8, 8))\n",
        "plt.imshow(img[:,:,::-1])\n",
        "plt.axis('off')\n",
        "plt.show()"
      ]
    },
    {
      "cell_type": "markdown",
      "metadata": {
        "id": "KC0vvNdeJIjO"
      },
      "source": [
        "<h3> Test on video"
      ]
    },
    {
      "cell_type": "code",
      "execution_count": null,
      "metadata": {
        "execution": {
          "iopub.execute_input": "2023-12-12T17:45:22.376565Z",
          "iopub.status.busy": "2023-12-12T17:45:22.376165Z",
          "iopub.status.idle": "2023-12-12T17:45:28.094842Z",
          "shell.execute_reply": "2023-12-12T17:45:28.093936Z",
          "shell.execute_reply.started": "2023-12-12T17:45:22.37653Z"
        },
        "id": "Hql495VlJIjO",
        "trusted": true
      },
      "outputs": [],
      "source": [
        "with open('/kaggle/input/mutemotion-output/WLASL_parsed_data.json', 'r') as json_file:\n",
        "    data = json.load(json_file)\n",
        "\n",
        "test = data[40]\n",
        "video_landmarks = get_video_landmarks(test['video_path'],test['frame_start'],test['frame_end'])\n",
        "\n",
        "output_path = '/kaggle/working/landmarks_test.mp4'\n",
        "draw_landmarks(test['video_path'], output_path, video_landmarks, test['frame_start'],test['frame_end'])"
      ]
    },
    {
      "cell_type": "code",
      "execution_count": null,
      "metadata": {
        "execution": {
          "iopub.execute_input": "2023-12-04T01:25:47.743116Z",
          "iopub.status.busy": "2023-12-04T01:25:47.74273Z",
          "iopub.status.idle": "2023-12-04T01:25:47.748078Z",
          "shell.execute_reply": "2023-12-04T01:25:47.746875Z",
          "shell.execute_reply.started": "2023-12-04T01:25:47.743085Z"
        },
        "id": "8hnulPinJIjP",
        "trusted": true
      },
      "outputs": [],
      "source": [
        "# os.remove('/kaggle/working/landmarks_test.mp4')"
      ]
    },
    {
      "cell_type": "markdown",
      "metadata": {
        "id": "lOgsPYQnJIjP"
      },
      "source": [
        "---"
      ]
    },
    {
      "cell_type": "markdown",
      "metadata": {
        "id": "gPdWoMGYJIjP"
      },
      "source": [
        "<div id=\"Data_Encoding\">\n",
        "    \n",
        "# **Data Encoding**\n",
        "**<h2>(Done Once)**"
      ]
    },
    {
      "cell_type": "code",
      "execution_count": null,
      "metadata": {
        "execution": {
          "iopub.execute_input": "2023-12-01T21:41:26.557393Z",
          "iopub.status.busy": "2023-12-01T21:41:26.557079Z",
          "iopub.status.idle": "2023-12-01T21:41:26.561758Z",
          "shell.execute_reply": "2023-12-01T21:41:26.560867Z",
          "shell.execute_reply.started": "2023-12-01T21:41:26.557365Z"
        },
        "id": "-ULibjypJIjQ",
        "trusted": true
      },
      "outputs": [],
      "source": [
        "npy_dir = '/kaggle/working/landmarks'\n",
        "os.makedirs(npy_dir, exist_ok=True)"
      ]
    },
    {
      "cell_type": "code",
      "execution_count": null,
      "metadata": {
        "execution": {
          "iopub.execute_input": "2023-12-01T21:42:09.696373Z",
          "iopub.status.busy": "2023-12-01T21:42:09.695984Z",
          "iopub.status.idle": "2023-12-01T21:42:09.838056Z",
          "shell.execute_reply": "2023-12-01T21:42:09.836974Z",
          "shell.execute_reply.started": "2023-12-01T21:42:09.696343Z"
        },
        "id": "uaaSDoVZJIjQ",
        "trusted": true
      },
      "outputs": [],
      "source": [
        "try:\n",
        "    for i in tqdm(range(len(data)), ncols=100):\n",
        "        npy_path = os.path.join(npy_dir, f'{i}.npy')\n",
        "        if os.path.exists(npy_path): continue\n",
        "        video_path = data[i]['video_path']\n",
        "        start = data[i]['frame_start']\n",
        "        end = data[i]['frame_end']\n",
        "\n",
        "        try:\n",
        "            video_landmarks = get_video_landmarks(video_path, start, end)\n",
        "            np.save(npy_path, video_landmarks)\n",
        "\n",
        "        except Exception as e:\n",
        "            print(f\"\\nError encoding {video_path}\\n{e}\")\n",
        "            continue\n",
        "        clear_output(wait=True)\n",
        "\n",
        "except KeyboardInterrupt:\n",
        "    print(\"\\nLoading process interrupted by user.\")"
      ]
    },
    {
      "cell_type": "code",
      "execution_count": null,
      "metadata": {
        "execution": {
          "iopub.execute_input": "2023-12-01T21:42:48.164484Z",
          "iopub.status.busy": "2023-12-01T21:42:48.16379Z",
          "iopub.status.idle": "2023-12-01T21:53:35.00202Z",
          "shell.execute_reply": "2023-12-01T21:53:35.000023Z",
          "shell.execute_reply.started": "2023-12-01T21:42:48.164449Z"
        },
        "id": "yCS5E6NXJIjQ",
        "trusted": true
      },
      "outputs": [],
      "source": [
        "landmarks_dict = {}\n",
        "\n",
        "for filename in os.listdir(npy_dir):\n",
        "    if filename.endswith('.npy'):\n",
        "        key = filename.split('.')[0]\n",
        "        landmarks = np.load(os.path.join(npy_dir, filename), allow_pickle=True)\n",
        "        landmarks_dict[key] = landmarks\n",
        "\n",
        "np.savez_compressed('/kaggle/working/landmarks_V2.npz', **landmarks_dict)\n",
        "\n",
        "FileLink(r'landmarks_V2.npz')"
      ]
    },
    {
      "cell_type": "code",
      "execution_count": null,
      "metadata": {
        "execution": {
          "iopub.execute_input": "2023-12-12T15:16:48.848655Z",
          "iopub.status.busy": "2023-12-12T15:16:48.8482Z",
          "iopub.status.idle": "2023-12-12T15:16:48.854646Z",
          "shell.execute_reply": "2023-12-12T15:16:48.853147Z",
          "shell.execute_reply.started": "2023-12-12T15:16:48.848618Z"
        },
        "id": "Q_HFw_kaJIjR",
        "trusted": true
      },
      "outputs": [],
      "source": [
        "# shutil.rmtree(npy_dir)\n",
        "# os.remove('/kaggle/working/landmarks_V2.npz')"
      ]
    },
    {
      "cell_type": "markdown",
      "metadata": {
        "id": "19BNcAjgJIjR"
      },
      "source": [
        "---"
      ]
    },
    {
      "cell_type": "markdown",
      "metadata": {
        "id": "j1QLolnmJIjR"
      },
      "source": [
        "<div id=\"Label_Filtering\">\n",
        "\n",
        "# **Label Filtering**\n",
        "**<h2>(Done Once)**"
      ]
    },
    {
      "cell_type": "code",
      "execution_count": null,
      "metadata": {
        "id": "Ok-azdCAJIjS",
        "trusted": true
      },
      "outputs": [],
      "source": [
        "import fasttext\n",
        "import fasttext.util\n",
        "fasttext.util.download_model('en', if_exists='ignore')\n",
        "ft = fasttext.load_model('cc.en.300.bin')"
      ]
    },
    {
      "cell_type": "code",
      "execution_count": null,
      "metadata": {
        "execution": {
          "iopub.execute_input": "2023-12-13T20:34:28.024795Z",
          "iopub.status.busy": "2023-12-13T20:34:28.024306Z",
          "iopub.status.idle": "2023-12-13T20:34:28.047797Z",
          "shell.execute_reply": "2023-12-13T20:34:28.046693Z",
          "shell.execute_reply.started": "2023-12-13T20:34:28.024757Z"
        },
        "id": "_mUFnKy4JIjS",
        "trusted": true
      },
      "outputs": [],
      "source": [
        "labels = list(np.unique(Y_train))\n",
        "len(labels)"
      ]
    },
    {
      "cell_type": "code",
      "execution_count": null,
      "metadata": {
        "execution": {
          "iopub.execute_input": "2023-12-13T20:35:18.883364Z",
          "iopub.status.busy": "2023-12-13T20:35:18.882941Z",
          "iopub.status.idle": "2023-12-13T20:35:19.443149Z",
          "shell.execute_reply": "2023-12-13T20:35:19.442181Z",
          "shell.execute_reply.started": "2023-12-13T20:35:18.883334Z"
        },
        "id": "ShHVGU5KJIjT",
        "trusted": true
      },
      "outputs": [],
      "source": [
        "encoded_labels = {label: ft.get_word_vector(label) for label in labels}\n",
        "np.savez_compressed('labels.npz', **encoded_labels)"
      ]
    },
    {
      "cell_type": "code",
      "execution_count": null,
      "metadata": {
        "execution": {
          "iopub.execute_input": "2023-12-13T20:35:25.029211Z",
          "iopub.status.busy": "2023-12-13T20:35:25.028792Z",
          "iopub.status.idle": "2023-12-13T20:35:42.048749Z",
          "shell.execute_reply": "2023-12-13T20:35:42.047489Z",
          "shell.execute_reply.started": "2023-12-13T20:35:25.029178Z"
        },
        "id": "fBBNwEB8JIjT",
        "trusted": true
      },
      "outputs": [],
      "source": [
        "ft.get_nearest_neighbors('happy', k=10)"
      ]
    },
    {
      "cell_type": "code",
      "execution_count": null,
      "metadata": {
        "execution": {
          "iopub.execute_input": "2023-12-13T20:36:43.212317Z",
          "iopub.status.busy": "2023-12-13T20:36:43.211894Z",
          "iopub.status.idle": "2023-12-13T20:36:43.222108Z",
          "shell.execute_reply": "2023-12-13T20:36:43.220603Z",
          "shell.execute_reply.started": "2023-12-13T20:36:43.212285Z"
        },
        "id": "dkcP6hmBJIjT",
        "trusted": true
      },
      "outputs": [],
      "source": [
        "def cosine_similarity(v1, v2):\n",
        "    return np.dot(v1, v2) / (np.linalg.norm(v1) * np.linalg.norm(v2))\n",
        "\n",
        "word1 = 'happy'\n",
        "word2 = 'pleased'\n",
        "\n",
        "vector1 = ft.get_word_vector(word1)\n",
        "vector2 = ft.get_word_vector(word2)\n",
        "\n",
        "similarity_score = cosine_similarity(vector1, vector2)\n",
        "print(f\"Similarity score between '{word1}' and '{word2}': {similarity_score}\")"
      ]
    },
    {
      "cell_type": "code",
      "execution_count": null,
      "metadata": {
        "execution": {
          "iopub.execute_input": "2023-12-13T20:36:55.748003Z",
          "iopub.status.busy": "2023-12-13T20:36:55.747583Z",
          "iopub.status.idle": "2023-12-13T20:36:55.782281Z",
          "shell.execute_reply": "2023-12-13T20:36:55.780967Z",
          "shell.execute_reply.started": "2023-12-13T20:36:55.74797Z"
        },
        "id": "AgwrXlwnJIjU",
        "trusted": true
      },
      "outputs": [],
      "source": [
        "labels_dict = np.load('/kaggle/working/labels.npz', allow_pickle=True)"
      ]
    },
    {
      "cell_type": "code",
      "execution_count": null,
      "metadata": {
        "execution": {
          "iopub.execute_input": "2023-12-13T20:36:59.947238Z",
          "iopub.status.busy": "2023-12-13T20:36:59.946818Z",
          "iopub.status.idle": "2023-12-13T20:37:01.153393Z",
          "shell.execute_reply": "2023-12-13T20:37:01.152476Z",
          "shell.execute_reply.started": "2023-12-13T20:36:59.947204Z"
        },
        "id": "nYpDBR2rJIjU",
        "trusted": true
      },
      "outputs": [],
      "source": [
        "word = 'car'\n",
        "word_vector = ft.get_word_vector(word)\n",
        "\n",
        "similarity_scores = []\n",
        "for label, label_vector in labels_dict.items():\n",
        "    similarity_scores.append(cosine_similarity(word_vector, label_vector))"
      ]
    },
    {
      "cell_type": "code",
      "execution_count": null,
      "metadata": {
        "execution": {
          "iopub.execute_input": "2023-12-13T20:37:03.059487Z",
          "iopub.status.busy": "2023-12-13T20:37:03.059063Z",
          "iopub.status.idle": "2023-12-13T20:37:03.4361Z",
          "shell.execute_reply": "2023-12-13T20:37:03.43474Z",
          "shell.execute_reply.started": "2023-12-13T20:37:03.059455Z"
        },
        "id": "Skaxlpq7JIjU",
        "trusted": true
      },
      "outputs": [],
      "source": [
        "bins = np.linspace(0, 1, 21)\n",
        "\n",
        "plt.hist(similarity_scores, bins=bins, edgecolor='black')\n",
        "plt.title(f'Cosine Similarity Distribution to \"{word}\"')\n",
        "plt.xlabel('Cosine Similarity')\n",
        "plt.ylabel('Frequency')\n",
        "plt.xticks(np.arange(0, 1.1, 0.1))\n",
        "plt.grid(axis='y')\n",
        "plt.show()"
      ]
    },
    {
      "cell_type": "code",
      "execution_count": null,
      "metadata": {
        "execution": {
          "iopub.execute_input": "2023-12-13T20:45:04.189567Z",
          "iopub.status.busy": "2023-12-13T20:45:04.189054Z",
          "iopub.status.idle": "2023-12-13T20:45:04.197052Z",
          "shell.execute_reply": "2023-12-13T20:45:04.195855Z",
          "shell.execute_reply.started": "2023-12-13T20:45:04.189534Z"
        },
        "id": "RsZxP9r-JIjV",
        "trusted": true
      },
      "outputs": [],
      "source": [
        "taxi_words = [\n",
        "    'hello',\n",
        "    'goodbye',\n",
        "    'thank you',\n",
        "    'sorry',\n",
        "    'yes',\n",
        "    'no',\n",
        "    'stop',\n",
        "    'go',\n",
        "    'left',\n",
        "    'right',\n",
        "    'ahead',\n",
        "    'around',\n",
        "    'help',\n",
        "    'address',\n",
        "    'destination',\n",
        "    'time',\n",
        "    'money',\n",
        "    'cost',\n",
        "    'lost',\n",
        "    'map',\n",
        "    'street',\n",
        "    'road'\n",
        "]"
      ]
    },
    {
      "cell_type": "code",
      "execution_count": null,
      "metadata": {
        "execution": {
          "iopub.execute_input": "2023-12-13T20:45:08.604326Z",
          "iopub.status.busy": "2023-12-13T20:45:08.603409Z",
          "iopub.status.idle": "2023-12-13T20:45:10.841256Z",
          "shell.execute_reply": "2023-12-13T20:45:10.839978Z",
          "shell.execute_reply.started": "2023-12-13T20:45:08.604273Z"
        },
        "id": "MqO6n6UOJIjV",
        "trusted": true
      },
      "outputs": [],
      "source": [
        "threshold = 0.4\n",
        "similar_words_set = set()\n",
        "taxi_vectors = [ft.get_word_vector(word) for word in taxi_words]\n",
        "\n",
        "for label, label_vector in labels_dict.items():\n",
        "    for taxi_vector in taxi_vectors:\n",
        "        similarity_score = cosine_similarity(taxi_vector, label_vector)\n",
        "        if similarity_score > threshold:\n",
        "            similar_words_set.add(label)\n",
        "\n",
        "similar_words_list = list(similar_words_set)"
      ]
    },
    {
      "cell_type": "code",
      "execution_count": null,
      "metadata": {
        "execution": {
          "iopub.execute_input": "2023-12-13T20:45:10.844273Z",
          "iopub.status.busy": "2023-12-13T20:45:10.8438Z",
          "iopub.status.idle": "2023-12-13T20:45:10.851792Z",
          "shell.execute_reply": "2023-12-13T20:45:10.850531Z",
          "shell.execute_reply.started": "2023-12-13T20:45:10.844227Z"
        },
        "id": "73V8PmV-JIjW",
        "trusted": true
      },
      "outputs": [],
      "source": [
        "len(similar_words_list)"
      ]
    },
    {
      "cell_type": "code",
      "execution_count": null,
      "metadata": {
        "execution": {
          "iopub.execute_input": "2023-12-13T20:45:10.853775Z",
          "iopub.status.busy": "2023-12-13T20:45:10.85337Z",
          "iopub.status.idle": "2023-12-13T20:45:10.867534Z",
          "shell.execute_reply": "2023-12-13T20:45:10.865963Z",
          "shell.execute_reply.started": "2023-12-13T20:45:10.853743Z"
        },
        "id": "kMMU2OMKJIjW",
        "trusted": true
      },
      "outputs": [],
      "source": [
        "with open('/kaggle/working/filtered_labels.txt', 'w') as file:\n",
        "    for label in similar_words_list:\n",
        "        file.write(label + '\\n')"
      ]
    },
    {
      "cell_type": "markdown",
      "metadata": {
        "id": "6T0i_ZvgJIjX"
      },
      "source": [
        "---"
      ]
    },
    {
      "cell_type": "markdown",
      "metadata": {
        "id": "J7SimxXUJIjX"
      },
      "source": [
        "<div id=\"Data_Loading\">\n",
        "    \n",
        "# **Data Loading**"
      ]
    },
    {
      "cell_type": "code",
      "execution_count": null,
      "metadata": {
        "execution": {
          "iopub.execute_input": "2023-12-13T23:19:48.820065Z",
          "iopub.status.busy": "2023-12-13T23:19:48.819416Z",
          "iopub.status.idle": "2023-12-13T23:19:49.302687Z",
          "shell.execute_reply": "2023-12-13T23:19:49.301686Z",
          "shell.execute_reply.started": "2023-12-13T23:19:48.820029Z"
        },
        "id": "Z7nwoT4MJIjX",
        "trusted": true
      },
      "outputs": [],
      "source": [
        "landmarks_dict = np.load('/kaggle/input/mutemotion-output/landmarks_V3.npz', allow_pickle=True)"
      ]
    },
    {
      "cell_type": "code",
      "execution_count": null,
      "metadata": {
        "execution": {
          "iopub.execute_input": "2023-12-13T23:19:49.305167Z",
          "iopub.status.busy": "2023-12-13T23:19:49.304389Z",
          "iopub.status.idle": "2023-12-13T23:19:49.344938Z",
          "shell.execute_reply": "2023-12-13T23:19:49.344232Z",
          "shell.execute_reply.started": "2023-12-13T23:19:49.305117Z"
        },
        "id": "oPnz3wiEJIjY",
        "trusted": true
      },
      "outputs": [],
      "source": [
        "labels_dict = np.load('/kaggle/input/mutemotion-output/labels.npz', allow_pickle=True)"
      ]
    },
    {
      "cell_type": "code",
      "execution_count": null,
      "metadata": {
        "execution": {
          "iopub.execute_input": "2023-12-13T23:19:49.415033Z",
          "iopub.status.busy": "2023-12-13T23:19:49.414464Z",
          "iopub.status.idle": "2023-12-13T23:19:49.494067Z",
          "shell.execute_reply": "2023-12-13T23:19:49.493294Z",
          "shell.execute_reply.started": "2023-12-13T23:19:49.415006Z"
        },
        "id": "BGnSpwqvJIjY",
        "trusted": true
      },
      "outputs": [],
      "source": [
        "with open('/kaggle/input/mutemotion-output/WLASL_parsed_data.json', 'r') as json_file:\n",
        "    data = json.load(json_file)"
      ]
    },
    {
      "cell_type": "markdown",
      "metadata": {
        "id": "1EG5jaRmJIjY"
      },
      "source": [
        "<h3> Filter Landmarks (Only for V3)"
      ]
    },
    {
      "cell_type": "code",
      "execution_count": null,
      "metadata": {
        "execution": {
          "iopub.execute_input": "2023-12-13T23:20:01.020581Z",
          "iopub.status.busy": "2023-12-13T23:20:01.019836Z",
          "iopub.status.idle": "2023-12-13T23:20:01.030211Z",
          "shell.execute_reply": "2023-12-13T23:20:01.029273Z",
          "shell.execute_reply.started": "2023-12-13T23:20:01.020549Z"
        },
        "id": "JA_Pd52rJIjZ",
        "trusted": true
      },
      "outputs": [],
      "source": [
        "filtered_hand = list(range(21))\n",
        "\n",
        "filtered_pose = [11, 12, 13, 14, 15, 16]\n",
        "\n",
        "filtered_face = [0, 4, 7, 8, 10, 13, 14, 17, 21, 33, 37, 39, 40, 46, 52, 53, 54, 55, 58,\n",
        "                 61, 63, 65, 66, 67, 70, 78, 80, 81, 82, 84, 87, 88, 91, 93, 95, 103, 105,\n",
        "                 107, 109, 127, 132, 133, 136, 144, 145, 146, 148, 149, 150, 152, 153, 154,\n",
        "                 155, 157, 158, 159, 160, 161, 162, 163, 172, 173, 176, 178, 181, 185, 191,\n",
        "                 234, 246, 249, 251, 263, 267, 269, 270, 276, 282, 283, 284, 285, 288, 291,\n",
        "                 293, 295, 296, 297, 300, 308, 310, 311, 312, 314, 317, 318, 321, 323, 324,\n",
        "                 332, 334, 336, 338, 356, 361, 362, 365, 373, 374, 375, 377, 378, 379, 380,\n",
        "                 381, 382, 384, 385, 386, 387, 388, 389, 390, 397, 398, 400, 402, 405, 409,\n",
        "                 415, 454, 466, 468, 473]\n",
        "\n",
        "HAND_NUM = len(filtered_hand)\n",
        "POSE_NUM = len(filtered_pose)\n",
        "FACE_NUM = len(filtered_face)"
      ]
    },
    {
      "cell_type": "code",
      "execution_count": null,
      "metadata": {
        "execution": {
          "iopub.execute_input": "2023-12-13T23:20:04.305791Z",
          "iopub.status.busy": "2023-12-13T23:20:04.305408Z",
          "iopub.status.idle": "2023-12-13T23:20:04.311994Z",
          "shell.execute_reply": "2023-12-13T23:20:04.310993Z",
          "shell.execute_reply.started": "2023-12-13T23:20:04.305761Z"
        },
        "id": "GeAa1ucmJIjZ",
        "trusted": true
      },
      "outputs": [],
      "source": [
        "landmarks = (\n",
        "    [x for x in filtered_hand] +\n",
        "    [x + HAND_NUM for x in filtered_hand] +\n",
        "    [x + HAND_NUM * 2 for x in filtered_pose] +\n",
        "    [x + HAND_NUM * 2 + POSE_NUM for x in filtered_face]\n",
        ")\n",
        "\n",
        "print(landmarks)\n",
        "print(f'\\nTotal Number: {len(landmarks)}')"
      ]
    },
    {
      "cell_type": "markdown",
      "metadata": {
        "id": "ryXDGO-IJIjZ"
      },
      "source": [
        "<h3> Filter Data Source"
      ]
    },
    {
      "cell_type": "code",
      "execution_count": null,
      "metadata": {
        "execution": {
          "iopub.execute_input": "2023-12-13T23:20:05.984766Z",
          "iopub.status.busy": "2023-12-13T23:20:05.983816Z",
          "iopub.status.idle": "2023-12-13T23:20:05.988837Z",
          "shell.execute_reply": "2023-12-13T23:20:05.987835Z",
          "shell.execute_reply.started": "2023-12-13T23:20:05.984733Z"
        },
        "id": "iY5BgHFjJIja",
        "trusted": true
      },
      "outputs": [],
      "source": [
        "# Only from the wlasl-processed dataset\n",
        "# keys = [k for k in landmarks_dict.keys() if 'wlasl-processed' in data[int(k)]['video_path']]\n",
        "\n",
        "# Only from the wlasl2000-resized dataset\n",
        "# keys = [k for k in landmarks_dict.keys() if 'wlasl2000-resized' in data[int(k)]['video_path']]"
      ]
    },
    {
      "cell_type": "markdown",
      "metadata": {
        "id": "UbGkGnCPJIja"
      },
      "source": [
        "<h3> Filter Labels"
      ]
    },
    {
      "cell_type": "code",
      "execution_count": null,
      "metadata": {
        "execution": {
          "iopub.execute_input": "2023-12-13T23:20:08.069495Z",
          "iopub.status.busy": "2023-12-13T23:20:08.068759Z",
          "iopub.status.idle": "2023-12-13T23:20:08.078989Z",
          "shell.execute_reply": "2023-12-13T23:20:08.078062Z",
          "shell.execute_reply.started": "2023-12-13T23:20:08.069462Z"
        },
        "id": "29ESY7vDJIja",
        "trusted": true
      },
      "outputs": [],
      "source": [
        "labels = []\n",
        "with open('/kaggle/input/mutemotion-output/filtered_labels.txt', 'r') as file:\n",
        "    labels = file.read().splitlines()"
      ]
    },
    {
      "cell_type": "code",
      "execution_count": null,
      "metadata": {
        "execution": {
          "iopub.execute_input": "2023-12-13T23:20:10.569502Z",
          "iopub.status.busy": "2023-12-13T23:20:10.568656Z",
          "iopub.status.idle": "2023-12-13T23:20:10.576135Z",
          "shell.execute_reply": "2023-12-13T23:20:10.575254Z",
          "shell.execute_reply.started": "2023-12-13T23:20:10.569465Z"
        },
        "id": "pfQlCiZNJIja",
        "trusted": true
      },
      "outputs": [],
      "source": [
        "len(labels)"
      ]
    },
    {
      "cell_type": "markdown",
      "metadata": {
        "id": "dGf4yakDJIjb"
      },
      "source": [
        "<h3> Loading Function"
      ]
    },
    {
      "cell_type": "code",
      "execution_count": null,
      "metadata": {
        "execution": {
          "iopub.execute_input": "2023-12-13T23:20:11.690812Z",
          "iopub.status.busy": "2023-12-13T23:20:11.69043Z",
          "iopub.status.idle": "2023-12-13T23:20:11.704966Z",
          "shell.execute_reply": "2023-12-13T23:20:11.703928Z",
          "shell.execute_reply.started": "2023-12-13T23:20:11.690783Z"
        },
        "id": "_XcErRh1JIjb",
        "trusted": true
      },
      "outputs": [],
      "source": [
        "def load_data(split, labels=None, max_labels=None, max_samples=None, landmarks=None, keys=None):\n",
        "\n",
        "    if landmarks is None:\n",
        "        landmarks = list(range(landmarks_dict['0'].shape[1]))\n",
        "\n",
        "    if keys is None:\n",
        "        keys = [k for k in landmarks_dict.keys()]\n",
        "\n",
        "    if labels is not None:\n",
        "        X = [landmarks_dict[k][:, landmarks, :] for k in keys\n",
        "             if data[int(k)]['split'] == split and data[int(k)]['gloss'] in labels]\n",
        "        Y = [data[int(k)]['gloss'] for k in keys\n",
        "             if data[int(k)]['split'] == split and data[int(k)]['gloss'] in labels]\n",
        "\n",
        "    elif max_samples is not None:\n",
        "        X = [landmarks_dict[k][:, landmarks, :] for k in keys\n",
        "             if data[int(k)]['split'] == split][:max_samples]\n",
        "        Y = [data[int(k)]['gloss'] for k in keys\n",
        "             if data[int(k)]['split'] == split][:max_samples]\n",
        "\n",
        "    elif max_labels is not None:\n",
        "        label_counts = {}\n",
        "        for k in keys:\n",
        "            label = data[int(k)]['gloss']\n",
        "            label_counts[label] = label_counts.get(label, 0) + 1\n",
        "\n",
        "        top_labels = sorted(label_counts, key=label_counts.get, reverse=True)[:max_labels]\n",
        "        X = [landmarks_dict[k][:, landmarks, :] for k in keys\n",
        "             if data[int(k)]['gloss'] in top_labels and data[int(k)]['split'] == split]\n",
        "        Y = [data[int(k)]['gloss'] for k in keys\n",
        "             if data[int(k)]['gloss'] in top_labels and data[int(k)]['split'] == split]\n",
        "\n",
        "    else:\n",
        "        X = [landmarks_dict[k][:, landmarks, :] for k in keys\n",
        "             if data[int(k)]['split'] == split]\n",
        "        Y = [data[int(k)]['gloss'] for k in keys\n",
        "             if data[int(k)]['split'] == split]\n",
        "\n",
        "    return X, Y"
      ]
    },
    {
      "cell_type": "code",
      "execution_count": null,
      "metadata": {
        "execution": {
          "iopub.execute_input": "2023-12-13T23:20:12.660965Z",
          "iopub.status.busy": "2023-12-13T23:20:12.660592Z",
          "iopub.status.idle": "2023-12-13T23:21:09.899172Z",
          "shell.execute_reply": "2023-12-13T23:21:09.898348Z",
          "shell.execute_reply.started": "2023-12-13T23:20:12.660936Z"
        },
        "id": "J11wNLo7JIjb",
        "trusted": true
      },
      "outputs": [],
      "source": [
        "X_train, Y_train = load_data('train', landmarks=landmarks, labels=labels)\n",
        "X_val, Y_val = load_data('val', landmarks=landmarks, labels=labels)\n",
        "X_test, Y_test = load_data('test', landmarks=landmarks, labels=labels)"
      ]
    },
    {
      "cell_type": "code",
      "execution_count": null,
      "metadata": {
        "execution": {
          "iopub.execute_input": "2023-12-13T23:22:28.198004Z",
          "iopub.status.busy": "2023-12-13T23:22:28.196964Z",
          "iopub.status.idle": "2023-12-13T23:22:28.204781Z",
          "shell.execute_reply": "2023-12-13T23:22:28.203877Z",
          "shell.execute_reply.started": "2023-12-13T23:22:28.197957Z"
        },
        "id": "gvGpIZkWJIjc",
        "trusted": true
      },
      "outputs": [],
      "source": [
        "len(X_train), len(X_val), len(X_test)"
      ]
    },
    {
      "cell_type": "code",
      "execution_count": null,
      "metadata": {
        "execution": {
          "iopub.execute_input": "2023-12-13T23:22:30.302969Z",
          "iopub.status.busy": "2023-12-13T23:22:30.302072Z",
          "iopub.status.idle": "2023-12-13T23:22:30.308799Z",
          "shell.execute_reply": "2023-12-13T23:22:30.307797Z",
          "shell.execute_reply.started": "2023-12-13T23:22:30.302936Z"
        },
        "id": "iMwtL08_JIjc",
        "trusted": true
      },
      "outputs": [],
      "source": [
        "X_train[0].shape"
      ]
    },
    {
      "cell_type": "code",
      "execution_count": null,
      "metadata": {
        "execution": {
          "iopub.execute_input": "2023-12-13T23:22:35.567925Z",
          "iopub.status.busy": "2023-12-13T23:22:35.56711Z",
          "iopub.status.idle": "2023-12-13T23:22:35.578269Z",
          "shell.execute_reply": "2023-12-13T23:22:35.577364Z",
          "shell.execute_reply.started": "2023-12-13T23:22:35.567889Z"
        },
        "id": "8zo2qgdzJIjc",
        "trusted": true
      },
      "outputs": [],
      "source": [
        "len(np.unique(Y_train)), len(np.unique(Y_val)), len(np.unique(Y_test))"
      ]
    },
    {
      "cell_type": "code",
      "execution_count": null,
      "metadata": {
        "execution": {
          "iopub.execute_input": "2023-12-13T23:22:38.079828Z",
          "iopub.status.busy": "2023-12-13T23:22:38.079032Z",
          "iopub.status.idle": "2023-12-13T23:22:38.09368Z",
          "shell.execute_reply": "2023-12-13T23:22:38.092643Z",
          "shell.execute_reply.started": "2023-12-13T23:22:38.079794Z"
        },
        "id": "VDroq8uYJIjc",
        "trusted": true
      },
      "outputs": [],
      "source": [
        "np.all(np.in1d(np.unique(Y_val), np.unique(Y_train))),\\\n",
        "np.all(np.in1d(np.unique(Y_test), np.unique(Y_train)))"
      ]
    },
    {
      "cell_type": "code",
      "execution_count": null,
      "metadata": {
        "execution": {
          "iopub.execute_input": "2023-12-13T23:22:41.034224Z",
          "iopub.status.busy": "2023-12-13T23:22:41.033548Z",
          "iopub.status.idle": "2023-12-13T23:22:41.248115Z",
          "shell.execute_reply": "2023-12-13T23:22:41.247204Z",
          "shell.execute_reply.started": "2023-12-13T23:22:41.034189Z"
        },
        "id": "tHQ0U4xDJIjd",
        "trusted": true
      },
      "outputs": [],
      "source": [
        "# free space\n",
        "del landmarks_dict, data\n",
        "gc.collect()"
      ]
    },
    {
      "cell_type": "markdown",
      "metadata": {
        "id": "nTodPMRAJIjd"
      },
      "source": [
        "---"
      ]
    },
    {
      "cell_type": "markdown",
      "metadata": {
        "id": "9YQKGsKzJIjd"
      },
      "source": [
        "<div id=\"Data_Augmentation\">\n",
        "    \n",
        "# **Data Augmentation**"
      ]
    },
    {
      "cell_type": "markdown",
      "metadata": {
        "id": "UZSh3F15JIjd"
      },
      "source": [
        "<h3> Rotation Augmentations"
      ]
    },
    {
      "cell_type": "code",
      "execution_count": null,
      "metadata": {
        "execution": {
          "iopub.execute_input": "2023-12-13T23:22:45.270588Z",
          "iopub.status.busy": "2023-12-13T23:22:45.269816Z",
          "iopub.status.idle": "2023-12-13T23:22:45.283965Z",
          "shell.execute_reply": "2023-12-13T23:22:45.282973Z",
          "shell.execute_reply.started": "2023-12-13T23:22:45.270553Z"
        },
        "id": "dmGjJbjaJIje",
        "trusted": true
      },
      "outputs": [],
      "source": [
        "def rotate(data, rotation_matrix):\n",
        "    frames, landmarks, _ = data.shape\n",
        "    center = np.array([0.5, 0.5, 0])\n",
        "    non_zero = np.argwhere(np.any(data[:, :, :2] != 0, axis=2))\n",
        "    data = data.reshape(-1, 3)\n",
        "    data[non_zero] -= center\n",
        "    data[non_zero] = np.dot(data[non_zero], rotation_matrix.T)\n",
        "    data[non_zero] += center\n",
        "    data = data.reshape(frames, landmarks, 3)\n",
        "    out_of_range = np.any((data[:, :, :2] < 0) | (data[:, :, :2] > 1), axis=2)\n",
        "    data[out_of_range] = 0\n",
        "    return data\n",
        "\n",
        "def rotate_z(data):\n",
        "    angle = np.random.choice([np.random.uniform(-30, -10),\n",
        "                              np.random.uniform(10, 30)])\n",
        "    theta = np.radians(angle)\n",
        "    rotation_matrix = np.array([\n",
        "        [np.cos(theta), -np.sin(theta), 0],\n",
        "        [np.sin(theta), np.cos(theta), 0],\n",
        "        [0, 0, 1]\n",
        "    ])\n",
        "    return rotate(data, rotation_matrix)\n",
        "\n",
        "def rotate_y(data):\n",
        "    angle = np.random.choice([np.random.uniform(-30, -10),\n",
        "                              np.random.uniform(10, 30)])\n",
        "    theta = np.radians(angle)\n",
        "    rotation_matrix = np.array([\n",
        "        [np.cos(theta), 0, np.sin(theta)],\n",
        "        [0, 1, 0],\n",
        "        [-np.sin(theta), 0, np.cos(theta)]\n",
        "    ])\n",
        "    return rotate(data, rotation_matrix)\n",
        "\n",
        "def rotate_x(data):\n",
        "    angle = np.random.choice([np.random.uniform(-30, -10),\n",
        "                              np.random.uniform(10, 30)])\n",
        "    theta = np.radians(angle)\n",
        "    rotation_matrix = np.array([\n",
        "        [1, 0, 0],\n",
        "        [0, np.cos(theta), -np.sin(theta)],\n",
        "        [0, np.sin(theta), np.cos(theta)]\n",
        "    ])\n",
        "    return rotate(data, rotation_matrix)"
      ]
    },
    {
      "cell_type": "markdown",
      "metadata": {
        "id": "jAZHh9C6JIje"
      },
      "source": [
        "<h3> Other Augmentations"
      ]
    },
    {
      "cell_type": "code",
      "execution_count": null,
      "metadata": {
        "execution": {
          "iopub.execute_input": "2023-12-13T23:22:46.805198Z",
          "iopub.status.busy": "2023-12-13T23:22:46.804525Z",
          "iopub.status.idle": "2023-12-13T23:22:46.817582Z",
          "shell.execute_reply": "2023-12-13T23:22:46.816472Z",
          "shell.execute_reply.started": "2023-12-13T23:22:46.805166Z"
        },
        "id": "WcsBnSN2JIje",
        "trusted": true
      },
      "outputs": [],
      "source": [
        "def zoom(data):\n",
        "    factor = np.random.uniform(0.8, 1.2)\n",
        "    center = np.array([0.5, 0.5])\n",
        "    non_zero = np.argwhere(np.any(data[:, :, :2] != 0, axis=2))\n",
        "    data[non_zero[:, 0], non_zero[:, 1], :2] = (\n",
        "        (data[non_zero[:, 0], non_zero[:, 1], :2] - center) * factor + center\n",
        "    )\n",
        "    out_of_range = np.any((data[:, :, :2] < 0) | (data[:, :, :2] > 1), axis=2)\n",
        "    data[out_of_range] = 0\n",
        "    return data\n",
        "\n",
        "def shift(data):\n",
        "    x_shift = np.random.uniform(-0.2, 0.2)\n",
        "    y_shift = np.random.uniform(-0.2, 0.2)\n",
        "    non_zero = np.argwhere(np.any(data[:, :, :2] != 0, axis=2))\n",
        "    data[non_zero[:, 0], non_zero[:, 1], 0] += x_shift\n",
        "    data[non_zero[:, 0], non_zero[:, 1], 1] += y_shift\n",
        "    out_of_range = np.any((data[:, :, :2] < 0) | (data[:, :, :2] > 1), axis=2)\n",
        "    data[out_of_range] = 0\n",
        "    return data\n",
        "\n",
        "def mask(data):\n",
        "    frames, landmarks, _ = data.shape\n",
        "    num_hands = int(0.3 * 42)\n",
        "    num_rest = int(0.6 * (landmarks - 42))\n",
        "\n",
        "    mask = np.zeros(landmarks, dtype=bool)\n",
        "    indices = np.concatenate([\n",
        "        np.random.choice(42, num_hands, replace=False),\n",
        "        np.random.choice(landmarks - 42, num_rest, replace=False) + 42\n",
        "    ])\n",
        "    mask[indices] = True\n",
        "    data[:, mask] = 0\n",
        "    return data\n",
        "\n",
        "def hflip(data):\n",
        "    data[:, :, 0] = 1 - data[:, :, 0]\n",
        "    return data\n",
        "\n",
        "def speedup(data):\n",
        "    return data[::2]"
      ]
    },
    {
      "cell_type": "markdown",
      "metadata": {
        "id": "ySISjTDNJIje"
      },
      "source": [
        "<h3> Apply Augmentations"
      ]
    },
    {
      "cell_type": "code",
      "execution_count": null,
      "metadata": {
        "execution": {
          "iopub.execute_input": "2023-12-13T23:22:48.298775Z",
          "iopub.status.busy": "2023-12-13T23:22:48.298359Z",
          "iopub.status.idle": "2023-12-13T23:22:48.305364Z",
          "shell.execute_reply": "2023-12-13T23:22:48.304312Z",
          "shell.execute_reply.started": "2023-12-13T23:22:48.298739Z"
        },
        "id": "yuT9IYgAJIje",
        "trusted": true
      },
      "outputs": [],
      "source": [
        "def apply_augmentations(data):\n",
        "    aug_functions = [rotate_x, rotate_y, rotate_z, zoom, shift, mask, hflip, speedup]\n",
        "    np.random.shuffle(aug_functions)\n",
        "    counter = 0\n",
        "    for fun in aug_functions:\n",
        "        if np.random.rand() < 0.5:\n",
        "            data = fun(data)\n",
        "            counter += 1\n",
        "\n",
        "    if counter == 0:\n",
        "        data = apply_augmentations(data)\n",
        "\n",
        "    return data"
      ]
    },
    {
      "cell_type": "code",
      "execution_count": null,
      "metadata": {
        "execution": {
          "iopub.execute_input": "2023-12-13T23:22:49.167134Z",
          "iopub.status.busy": "2023-12-13T23:22:49.166253Z",
          "iopub.status.idle": "2023-12-13T23:22:49.174277Z",
          "shell.execute_reply": "2023-12-13T23:22:49.173354Z",
          "shell.execute_reply.started": "2023-12-13T23:22:49.167098Z"
        },
        "id": "a0I2ZX5OJIjf",
        "trusted": true
      },
      "outputs": [],
      "source": [
        "def augment(X, Y, num=None):\n",
        "    X_aug = X.copy()\n",
        "    Y_aug = Y.copy()\n",
        "\n",
        "    if num == None:\n",
        "        for i in tqdm(range(len(Y)), ncols=100):\n",
        "            num_aug = np.random.choice([1, 2, 3])\n",
        "            for n in range(num_aug):\n",
        "                X_aug.append(apply_augmentations(X[i].copy()))\n",
        "                Y_aug.append(Y[i])\n",
        "    elif num > 0:\n",
        "        for i in tqdm(range(len(Y)), ncols=100):\n",
        "            for n in range(num):\n",
        "                X_aug.append(apply_augmentations(X[i].copy()))\n",
        "                Y_aug.append(Y[i])\n",
        "\n",
        "    return X_aug, Y_aug"
      ]
    },
    {
      "cell_type": "code",
      "execution_count": null,
      "metadata": {
        "execution": {
          "iopub.execute_input": "2023-12-13T23:22:51.204942Z",
          "iopub.status.busy": "2023-12-13T23:22:51.204501Z",
          "iopub.status.idle": "2023-12-13T23:23:19.971902Z",
          "shell.execute_reply": "2023-12-13T23:23:19.970903Z",
          "shell.execute_reply.started": "2023-12-13T23:22:51.204909Z"
        },
        "id": "oo1pPwuSJIjf",
        "trusted": true
      },
      "outputs": [],
      "source": [
        "X_train, Y_train = augment(X_train, Y_train, num=1)"
      ]
    },
    {
      "cell_type": "code",
      "execution_count": null,
      "metadata": {
        "execution": {
          "iopub.execute_input": "2023-12-13T23:23:22.643509Z",
          "iopub.status.busy": "2023-12-13T23:23:22.642375Z",
          "iopub.status.idle": "2023-12-13T23:23:22.649908Z",
          "shell.execute_reply": "2023-12-13T23:23:22.648989Z",
          "shell.execute_reply.started": "2023-12-13T23:23:22.643473Z"
        },
        "id": "M0J6yCDZJIjf",
        "trusted": true
      },
      "outputs": [],
      "source": [
        "len(X_train), len(X_train[0]), len(X_train[0][0]), len(X_train[0][0][0])"
      ]
    },
    {
      "cell_type": "code",
      "execution_count": null,
      "metadata": {
        "execution": {
          "iopub.execute_input": "2023-12-13T23:23:27.940348Z",
          "iopub.status.busy": "2023-12-13T23:23:27.939981Z",
          "iopub.status.idle": "2023-12-13T23:23:28.140778Z",
          "shell.execute_reply": "2023-12-13T23:23:28.139687Z",
          "shell.execute_reply.started": "2023-12-13T23:23:27.940317Z"
        },
        "id": "scORvE_lJIjg",
        "trusted": true
      },
      "outputs": [],
      "source": [
        "# free space\n",
        "gc.collect()"
      ]
    },
    {
      "cell_type": "markdown",
      "metadata": {
        "id": "k0SQ0A4fJIjg"
      },
      "source": [
        "<h3> Data Permutation"
      ]
    },
    {
      "cell_type": "code",
      "execution_count": null,
      "metadata": {
        "execution": {
          "iopub.execute_input": "2023-12-13T23:23:31.400184Z",
          "iopub.status.busy": "2023-12-13T23:23:31.399804Z",
          "iopub.status.idle": "2023-12-13T23:23:31.412195Z",
          "shell.execute_reply": "2023-12-13T23:23:31.411258Z",
          "shell.execute_reply.started": "2023-12-13T23:23:31.400152Z"
        },
        "id": "PNK1FtOzJIjg",
        "trusted": true
      },
      "outputs": [],
      "source": [
        "permutation_train = list(range(len(Y_train)))\n",
        "np.random.shuffle(permutation_train)\n",
        "X_train = [X_train[i] for i in permutation_train]\n",
        "Y_train = [Y_train[i] for i in permutation_train]\n",
        "\n",
        "permutation_val = list(range(len(Y_val)))\n",
        "np.random.shuffle(permutation_val)\n",
        "X_val = [X_val[i] for i in permutation_val]\n",
        "Y_val = [Y_val[i] for i in permutation_val]\n",
        "\n",
        "permutation_test = list(range(len(Y_test)))\n",
        "np.random.shuffle(permutation_test)\n",
        "X_test = [X_test[i] for i in permutation_test]\n",
        "Y_test = [Y_test[i] for i in permutation_test]"
      ]
    },
    {
      "cell_type": "markdown",
      "metadata": {
        "id": "hQnZrMGFJIjg"
      },
      "source": [
        "<h3> Test Augmentation (Not necessary when training)"
      ]
    },
    {
      "cell_type": "code",
      "execution_count": null,
      "metadata": {
        "execution": {
          "iopub.execute_input": "2023-12-12T17:48:36.953285Z",
          "iopub.status.busy": "2023-12-12T17:48:36.952891Z",
          "iopub.status.idle": "2023-12-12T17:48:36.95796Z",
          "shell.execute_reply": "2023-12-12T17:48:36.957002Z",
          "shell.execute_reply.started": "2023-12-12T17:48:36.953255Z"
        },
        "id": "t4Q89ZOaJIjg",
        "trusted": true
      },
      "outputs": [],
      "source": [
        "frame_landmarks = np.expand_dims(frame_landmarks, axis=0)"
      ]
    },
    {
      "cell_type": "code",
      "execution_count": null,
      "metadata": {
        "execution": {
          "iopub.execute_input": "2023-12-12T17:48:37.184945Z",
          "iopub.status.busy": "2023-12-12T17:48:37.184391Z",
          "iopub.status.idle": "2023-12-12T17:48:37.19069Z",
          "shell.execute_reply": "2023-12-12T17:48:37.189745Z",
          "shell.execute_reply.started": "2023-12-12T17:48:37.184918Z"
        },
        "id": "9IbqYJ7KJIjh",
        "trusted": true
      },
      "outputs": [],
      "source": [
        "frame_landmarks.shape"
      ]
    },
    {
      "cell_type": "code",
      "execution_count": null,
      "metadata": {
        "execution": {
          "iopub.execute_input": "2023-12-12T17:48:37.653504Z",
          "iopub.status.busy": "2023-12-12T17:48:37.652657Z",
          "iopub.status.idle": "2023-12-12T17:48:43.276061Z",
          "shell.execute_reply": "2023-12-12T17:48:43.275161Z",
          "shell.execute_reply.started": "2023-12-12T17:48:37.653474Z"
        },
        "id": "OaVQBVZnJIji",
        "trusted": true
      },
      "outputs": [],
      "source": [
        "fig, axs = plt.subplots(1, 2, figsize=(12, 6))\n",
        "img = np.zeros((img.shape[0], img.shape[1], 3), dtype=np.uint8)\n",
        "\n",
        "for landmark in frame_landmarks[0]:\n",
        "    x = int(landmark[0] * img.shape[1])\n",
        "    y = int(landmark[1] * img.shape[0])\n",
        "    cv2.circle(img, (x, y), 10, (0, 255, 0), -1)\n",
        "\n",
        "axs[0].set_title('Original Image')\n",
        "axs[0].imshow(img[:, :, ::-1])\n",
        "axs[0].axis('off')\n",
        "\n",
        "augmented_landmarks = apply_augmentations(frame_landmarks.copy())\n",
        "img = np.zeros((img.shape[0], img.shape[1], 3), dtype=np.uint8)\n",
        "\n",
        "for landmark in augmented_landmarks[0]:\n",
        "    x = int(landmark[0] * img.shape[1])\n",
        "    y = int(landmark[1] * img.shape[0])\n",
        "    cv2.circle(img, (x, y), 10, (0, 255, 0), -1)\n",
        "\n",
        "axs[1].set_title('Augmented Image')\n",
        "axs[1].imshow(img[:, :, ::-1])\n",
        "axs[1].axis('off')\n",
        "\n",
        "plt.tight_layout()\n",
        "plt.show()"
      ]
    },
    {
      "cell_type": "markdown",
      "metadata": {
        "id": "ppciQRsNJIji"
      },
      "source": [
        "---"
      ]
    },
    {
      "cell_type": "markdown",
      "metadata": {
        "id": "UHCT-TTEJIji"
      },
      "source": [
        "<div id=\"Data_Preprocessing\">\n",
        "    \n",
        "# **Data Preprocessing**"
      ]
    },
    {
      "cell_type": "markdown",
      "metadata": {
        "id": "d4zbfeYeJIji"
      },
      "source": [
        "<h3>\n",
        "    \n",
        "**Method 1:** Sequencing"
      ]
    },
    {
      "cell_type": "code",
      "execution_count": null,
      "metadata": {
        "execution": {
          "iopub.execute_input": "2023-12-13T21:00:19.633007Z",
          "iopub.status.busy": "2023-12-13T21:00:19.632574Z",
          "iopub.status.idle": "2023-12-13T21:00:19.643036Z",
          "shell.execute_reply": "2023-12-13T21:00:19.641766Z",
          "shell.execute_reply.started": "2023-12-13T21:00:19.632974Z"
        },
        "id": "NR3spCZVJIjj",
        "trusted": true
      },
      "outputs": [],
      "source": [
        "def sequences(X, Y, length=30, step=1, pad=0):\n",
        "    X_sequences = []\n",
        "    Y_sequences = []\n",
        "\n",
        "    for inputs, label in zip(X, Y):\n",
        "        num = inputs.shape[0]\n",
        "\n",
        "        if num < length:\n",
        "            padding = length - num\n",
        "            inputs = np.pad(\n",
        "            inputs, ((0, padding), (0, 0), (0, 0)),\n",
        "            mode='constant', constant_values=pad\n",
        "            )\n",
        "            num = length\n",
        "\n",
        "        for start in range(0, num - length + 1, step):\n",
        "            end = start + length\n",
        "            sequence = inputs[start:end]\n",
        "            X_sequences.append(sequence)\n",
        "            Y_sequences.append(label)\n",
        "\n",
        "    X_sequences = np.array(X_sequences)\n",
        "    Y_sequences = np.array(Y_sequences)\n",
        "    return X_sequences, Y_sequences"
      ]
    },
    {
      "cell_type": "code",
      "execution_count": null,
      "metadata": {
        "execution": {
          "iopub.execute_input": "2023-12-13T21:00:23.201956Z",
          "iopub.status.busy": "2023-12-13T21:00:23.201529Z",
          "iopub.status.idle": "2023-12-13T21:00:26.246274Z",
          "shell.execute_reply": "2023-12-13T21:00:26.245059Z",
          "shell.execute_reply.started": "2023-12-13T21:00:23.201921Z"
        },
        "id": "HH9vK1l-JIjj",
        "trusted": true
      },
      "outputs": [],
      "source": [
        "X_train, Y_train = sequences(X_train, Y_train, length=60, step=20, pad=-100)\n",
        "X_val, Y_val = sequences(X_val, Y_val, length=60, step=20, pad=-100)\n",
        "X_test, Y_test = sequences(X_test, Y_test, length=60, step=20, pad=-100)"
      ]
    },
    {
      "cell_type": "code",
      "execution_count": null,
      "metadata": {
        "execution": {
          "iopub.execute_input": "2023-12-13T21:00:26.249663Z",
          "iopub.status.busy": "2023-12-13T21:00:26.248916Z",
          "iopub.status.idle": "2023-12-13T21:00:26.258256Z",
          "shell.execute_reply": "2023-12-13T21:00:26.257086Z",
          "shell.execute_reply.started": "2023-12-13T21:00:26.249618Z"
        },
        "id": "OkqaqVE5JIjj",
        "trusted": true
      },
      "outputs": [],
      "source": [
        "X_train.shape, X_val.shape, X_test.shape"
      ]
    },
    {
      "cell_type": "markdown",
      "metadata": {
        "id": "Hq4W9hTdJIjk"
      },
      "source": [
        "<h3>\n",
        "    \n",
        "**Method 2:** Padding"
      ]
    },
    {
      "cell_type": "code",
      "execution_count": null,
      "metadata": {
        "execution": {
          "iopub.execute_input": "2023-12-13T23:23:46.683853Z",
          "iopub.status.busy": "2023-12-13T23:23:46.683057Z",
          "iopub.status.idle": "2023-12-13T23:23:46.690995Z",
          "shell.execute_reply": "2023-12-13T23:23:46.69001Z",
          "shell.execute_reply.started": "2023-12-13T23:23:46.683816Z"
        },
        "id": "qE9ssrZBJIjk",
        "trusted": true
      },
      "outputs": [],
      "source": [
        "def padding(X, Y, length=None, pad=0):\n",
        "    if length is None:\n",
        "        length = max(len(x) for x in X)\n",
        "\n",
        "    X_padded = []\n",
        "    for x in X:\n",
        "        if len(x) > length:\n",
        "            X_padded.append(x[:length]) #truncate\n",
        "        else:\n",
        "            pad_length = length - len(x)\n",
        "            X_padded.append(np.pad(\n",
        "                x, ((0, pad_length), (0, 0), (0, 0)),\n",
        "                mode='constant', constant_values=pad\n",
        "            ))\n",
        "\n",
        "    X_padded = np.array(X_padded)\n",
        "#     Y = np.array(Y)\n",
        "    return X_padded, Y"
      ]
    },
    {
      "cell_type": "code",
      "execution_count": null,
      "metadata": {
        "execution": {
          "iopub.execute_input": "2023-12-13T23:23:51.302948Z",
          "iopub.status.busy": "2023-12-13T23:23:51.302256Z",
          "iopub.status.idle": "2023-12-13T23:23:58.343286Z",
          "shell.execute_reply": "2023-12-13T23:23:58.342252Z",
          "shell.execute_reply.started": "2023-12-13T23:23:51.302914Z"
        },
        "id": "jFvv-A6dJIjl",
        "trusted": true
      },
      "outputs": [],
      "source": [
        "X_train, Y_train = padding(X_train, Y_train, length=200, pad=-100)\n",
        "X_val, Y_val = padding(X_val, Y_val, length=200, pad=-100)\n",
        "X_test, Y_test = padding(X_test, Y_test, length=200, pad=-100)"
      ]
    },
    {
      "cell_type": "code",
      "execution_count": null,
      "metadata": {
        "execution": {
          "iopub.execute_input": "2023-12-13T23:24:04.364463Z",
          "iopub.status.busy": "2023-12-13T23:24:04.363843Z",
          "iopub.status.idle": "2023-12-13T23:24:04.370807Z",
          "shell.execute_reply": "2023-12-13T23:24:04.369815Z",
          "shell.execute_reply.started": "2023-12-13T23:24:04.36443Z"
        },
        "id": "QY51m-1yJIjl",
        "trusted": true
      },
      "outputs": [],
      "source": [
        "X_train.shape, X_val.shape, X_test.shape"
      ]
    },
    {
      "cell_type": "markdown",
      "metadata": {
        "id": "IW0xd5t_JIjm"
      },
      "source": [
        "<h3>\n",
        "    \n",
        "**Method 3:** Skipping & Cloning"
      ]
    },
    {
      "cell_type": "code",
      "execution_count": null,
      "metadata": {
        "id": "iImffVUJJIjm"
      },
      "outputs": [],
      "source": [
        "def skipping(landmarks, desired_frames,mode='floor'):\n",
        "    frames_num = landmarks.shape[0]\n",
        "    if mode == 'floor':\n",
        "        skip_factor = math.floor(frames_num / desired_frames)\n",
        "    elif mode == 'ceil':\n",
        "        skip_factor = math.ceil(frames_num / desired_frames)\n",
        "    skipped_landmarks = []\n",
        "\n",
        "    for i in range(0, frames_num, skip_factor):\n",
        "        skipped_landmarks.append(landmarks[i])\n",
        "        if len(skipped_landmarks)==desired_frames:\n",
        "            break\n",
        "\n",
        "    return np.array(skipped_landmarks)\n",
        "\n",
        "# Test\n",
        "skip_test = np.zeros((90, 180, 3))\n",
        "result_1 = skipping(skip_test, 60)\n",
        "result_2 = skipping(skip_test, 60,'ceil')\n",
        "print(result_1.shape)\n",
        "print(result_2.shape)"
      ]
    },
    {
      "cell_type": "code",
      "execution_count": null,
      "metadata": {
        "id": "l0axNI27JIjm"
      },
      "outputs": [],
      "source": [
        "def cloning(landmarks, desired_frames):\n",
        "\n",
        "    frames_num = landmarks.shape[0]\n",
        "    repeat_factor = math.ceil(desired_frames / frames_num)\n",
        "\n",
        "    cloned_list = np.repeat(landmarks, repeat_factor, axis=0)\n",
        "    cloned_list = cloned_list[:desired_frames]\n",
        "    return cloned_list\n",
        "\n",
        "# Test\n",
        "clone_test = np.random.random((29, 180, 3))\n",
        "result = cloning(clone_test, 60)\n",
        "print(result.shape)"
      ]
    },
    {
      "cell_type": "code",
      "execution_count": null,
      "metadata": {
        "id": "kXzZNw08JIjm"
      },
      "outputs": [],
      "source": [
        "def clone_skip(landmarks_array,desired_frames):\n",
        "    reshaped_landmarks = []\n",
        "    for landmarks in landmarks_array:\n",
        "        frames_number = landmarks.shape[0]\n",
        "\n",
        "        if frames_number == desired_frames:\n",
        "            reshaped_landmarks.append(landmarks)\n",
        "        elif frames_number < desired_frames:\n",
        "            reshaped_landmarks.append(cloning(landmarks,desired_frames))\n",
        "        elif frames_number > desired_frames:\n",
        "            reshaped_landmarks.append(skipping(landmarks,desired_frames))\n",
        "    return np.array(reshaped_landmarks)"
      ]
    },
    {
      "cell_type": "markdown",
      "metadata": {
        "id": "QzvMsYMSJIjm"
      },
      "source": [
        "---"
      ]
    },
    {
      "cell_type": "markdown",
      "metadata": {
        "id": "0eyh2u3sJIjn"
      },
      "source": [
        "<div id=\"Label_Encoding\">\n",
        "    \n",
        "# **Label Encoding**"
      ]
    },
    {
      "cell_type": "code",
      "execution_count": null,
      "metadata": {
        "execution": {
          "iopub.execute_input": "2023-12-13T21:00:30.843884Z",
          "iopub.status.busy": "2023-12-13T21:00:30.843414Z",
          "iopub.status.idle": "2023-12-13T21:00:30.872236Z",
          "shell.execute_reply": "2023-12-13T21:00:30.871084Z",
          "shell.execute_reply.started": "2023-12-13T21:00:30.843847Z"
        },
        "id": "LiYnv2G3JIjn",
        "trusted": true
      },
      "outputs": [],
      "source": [
        "# label_encoder = LabelEncoder()\n",
        "\n",
        "# Y_train = label_encoder.fit_transform(Y_train)\n",
        "# Y_val = label_encoder.fit_transform(Y_val)\n",
        "# Y_test = label_encoder.fit_transform(Y_test)"
      ]
    },
    {
      "cell_type": "code",
      "execution_count": null,
      "metadata": {
        "execution": {
          "iopub.execute_input": "2023-12-13T23:24:14.520226Z",
          "iopub.status.busy": "2023-12-13T23:24:14.519851Z",
          "iopub.status.idle": "2023-12-13T23:24:17.689105Z",
          "shell.execute_reply": "2023-12-13T23:24:17.687952Z",
          "shell.execute_reply.started": "2023-12-13T23:24:14.520197Z"
        },
        "id": "SF23qAgEJIjn",
        "trusted": true
      },
      "outputs": [],
      "source": [
        "Y_train = np.array([labels_dict[label] for label in Y_train])\n",
        "Y_val = np.array([labels_dict[label] for label in Y_val])\n",
        "Y_test = np.array([labels_dict[label] for label in Y_test])"
      ]
    },
    {
      "cell_type": "code",
      "execution_count": null,
      "metadata": {
        "execution": {
          "iopub.execute_input": "2023-12-13T23:24:27.005151Z",
          "iopub.status.busy": "2023-12-13T23:24:27.004767Z",
          "iopub.status.idle": "2023-12-13T23:24:27.011495Z",
          "shell.execute_reply": "2023-12-13T23:24:27.010674Z",
          "shell.execute_reply.started": "2023-12-13T23:24:27.005122Z"
        },
        "id": "c2GLjsQsJIjo",
        "trusted": true
      },
      "outputs": [],
      "source": [
        "Y_train.shape"
      ]
    },
    {
      "cell_type": "code",
      "execution_count": null,
      "metadata": {
        "execution": {
          "iopub.execute_input": "2023-12-13T23:24:37.35311Z",
          "iopub.status.busy": "2023-12-13T23:24:37.352719Z",
          "iopub.status.idle": "2023-12-13T23:24:37.592295Z",
          "shell.execute_reply": "2023-12-13T23:24:37.591209Z",
          "shell.execute_reply.started": "2023-12-13T23:24:37.353077Z"
        },
        "id": "ypqMZ5iPJIjo",
        "trusted": true
      },
      "outputs": [],
      "source": [
        "# free space\n",
        "gc.collect()"
      ]
    },
    {
      "cell_type": "markdown",
      "metadata": {
        "id": "MMKI9xCLJIjo"
      },
      "source": [
        "---"
      ]
    },
    {
      "cell_type": "markdown",
      "metadata": {
        "id": "t0xV3V56JIjo"
      },
      "source": [
        "<div id=\"Models\">\n",
        "    \n",
        "# **Models**"
      ]
    },
    {
      "cell_type": "markdown",
      "metadata": {
        "id": "KwW_74nwJIjo"
      },
      "source": [
        "<h2>Hady's Model"
      ]
    },
    {
      "cell_type": "code",
      "execution_count": null,
      "metadata": {
        "id": "PQXnu9T6JIjp"
      },
      "outputs": [],
      "source": []
    },
    {
      "cell_type": "markdown",
      "metadata": {
        "id": "deTmucmLJIjp"
      },
      "source": [
        "<h2>Kamel's Model"
      ]
    },
    {
      "cell_type": "code",
      "execution_count": null,
      "metadata": {
        "execution": {
          "iopub.execute_input": "2023-12-13T23:32:34.010548Z",
          "iopub.status.busy": "2023-12-13T23:32:34.010125Z",
          "iopub.status.idle": "2023-12-13T23:32:34.344693Z",
          "shell.execute_reply": "2023-12-13T23:32:34.34384Z",
          "shell.execute_reply.started": "2023-12-13T23:32:34.010517Z"
        },
        "id": "32BV2K8yJIjp",
        "trusted": true
      },
      "outputs": [],
      "source": [
        "gc.collect()\n",
        "tf.keras.backend.clear_session()\n",
        "physical_devices = tf.config.list_physical_devices('GPU')\n",
        "for device in physical_devices:\n",
        "    tf.config.experimental.set_memory_growth(device, True)\n",
        "physical_devices"
      ]
    },
    {
      "cell_type": "code",
      "execution_count": null,
      "metadata": {
        "execution": {
          "iopub.execute_input": "2023-12-13T23:32:34.34637Z",
          "iopub.status.busy": "2023-12-13T23:32:34.346062Z",
          "iopub.status.idle": "2023-12-13T23:32:34.514596Z",
          "shell.execute_reply": "2023-12-13T23:32:34.513788Z",
          "shell.execute_reply.started": "2023-12-13T23:32:34.346344Z"
        },
        "id": "bOuFpoh2JIjp",
        "trusted": true
      },
      "outputs": [],
      "source": [
        "model = tf.keras.Sequential([\n",
        "    tf.keras.layers.Masking(mask_value=-100, input_shape=(200, 180, 3)),\n",
        "    tf.keras.layers.Flatten(),\n",
        "\n",
        "    tf.keras.layers.Dense(512, activation='relu'),\n",
        "    tf.keras.layers.BatchNormalization(),\n",
        "    tf.keras.layers.Dropout(rate=0.3),\n",
        "\n",
        "    tf.keras.layers.Dense(512, activation='relu'),\n",
        "    tf.keras.layers.BatchNormalization(),\n",
        "    tf.keras.layers.Dropout(rate=0.3),\n",
        "\n",
        "    tf.keras.layers.Dense(512, activation='relu'),\n",
        "    tf.keras.layers.BatchNormalization(),\n",
        "    tf.keras.layers.Dropout(rate=0.5),\n",
        "\n",
        "    tf.keras.layers.Dense(512, activation='relu'),\n",
        "    tf.keras.layers.BatchNormalization(),\n",
        "    tf.keras.layers.Dropout(rate=0.5),\n",
        "\n",
        "    tf.keras.layers.Dense(300, activation='linear')\n",
        "])"
      ]
    },
    {
      "cell_type": "code",
      "execution_count": null,
      "metadata": {
        "execution": {
          "iopub.execute_input": "2023-12-13T23:32:34.516876Z",
          "iopub.status.busy": "2023-12-13T23:32:34.516289Z",
          "iopub.status.idle": "2023-12-13T23:32:34.537662Z",
          "shell.execute_reply": "2023-12-13T23:32:34.53681Z",
          "shell.execute_reply.started": "2023-12-13T23:32:34.516841Z"
        },
        "id": "SU9ts8HWJIjp",
        "trusted": true
      },
      "outputs": [],
      "source": [
        "checkpoint_filepath = '/kaggle/working/Kamel_Checkpoints/'\n",
        "os.makedirs(checkpoint_filepath, exist_ok=True)\n",
        "\n",
        "model_checkpoint = tf.keras.callbacks.ModelCheckpoint(\n",
        "    filepath=os.path.join(checkpoint_filepath, 'model_{epoch:02d}.h5'),\n",
        "    save_weights_only=True,\n",
        "    save_best_only=True,\n",
        "    monitor='val_accuracy',\n",
        "    mode='max',\n",
        ")\n",
        "\n",
        "lr_scheduler = tf.keras.optimizers.schedules.ExponentialDecay(\n",
        "    initial_learning_rate=0.001,\n",
        "    decay_steps=1000,\n",
        "    decay_rate=0.9\n",
        ")\n",
        "\n",
        "early_stopping = tf.keras.callbacks.EarlyStopping(\n",
        "    monitor='val_accuracy',\n",
        "    patience=50,\n",
        "    restore_best_weights=True\n",
        ")\n",
        "\n",
        "model.compile(\n",
        "    loss=tf.keras.losses.cosine_similarity,\n",
        "    optimizer=tf.keras.optimizers.Adam(learning_rate=lr_scheduler),\n",
        "    metrics=['accuracy']\n",
        ")"
      ]
    },
    {
      "cell_type": "code",
      "execution_count": null,
      "metadata": {
        "execution": {
          "iopub.execute_input": "2023-12-13T23:32:35.141747Z",
          "iopub.status.busy": "2023-12-13T23:32:35.141004Z",
          "iopub.status.idle": "2023-12-13T23:35:40.740609Z",
          "shell.execute_reply": "2023-12-13T23:35:40.73956Z",
          "shell.execute_reply.started": "2023-12-13T23:32:35.141711Z"
        },
        "id": "87MJEPsAJIjp",
        "scrolled": true,
        "trusted": true
      },
      "outputs": [],
      "source": [
        "hist = model.fit(\n",
        "    X_train, Y_train,\n",
        "    validation_data=(X_val, Y_val),\n",
        "    epochs=1000,\n",
        "    batch_size=128,\n",
        "    callbacks=[model_checkpoint, early_stopping]\n",
        ")"
      ]
    },
    {
      "cell_type": "code",
      "execution_count": null,
      "metadata": {
        "execution": {
          "iopub.execute_input": "2023-12-13T23:35:45.924428Z",
          "iopub.status.busy": "2023-12-13T23:35:45.923723Z",
          "iopub.status.idle": "2023-12-13T23:35:46.902669Z",
          "shell.execute_reply": "2023-12-13T23:35:46.901903Z",
          "shell.execute_reply.started": "2023-12-13T23:35:45.924394Z"
        },
        "id": "0066FYujJIjp",
        "trusted": true
      },
      "outputs": [],
      "source": [
        "# epoch = 90\n",
        "# model.load_weights(f'/kaggle/working/Kamel_Checkpoints/model_{epoch}.h5')\n",
        "test_loss, test_accuracy = model.evaluate(X_test, Y_test)"
      ]
    },
    {
      "cell_type": "code",
      "execution_count": null,
      "metadata": {
        "execution": {
          "iopub.execute_input": "2023-12-13T23:36:01.8871Z",
          "iopub.status.busy": "2023-12-13T23:36:01.886715Z",
          "iopub.status.idle": "2023-12-13T23:36:02.30696Z",
          "shell.execute_reply": "2023-12-13T23:36:02.305187Z",
          "shell.execute_reply.started": "2023-12-13T23:36:01.88707Z"
        },
        "id": "vk_QanA0JIjq",
        "trusted": true
      },
      "outputs": [],
      "source": [
        "import shutil\n",
        "shutil.rmtree('/kaggle/working/Kamel_Checkpoints')"
      ]
    },
    {
      "cell_type": "code",
      "execution_count": null,
      "metadata": {
        "execution": {
          "iopub.execute_input": "2023-12-13T23:36:04.165773Z",
          "iopub.status.busy": "2023-12-13T23:36:04.165386Z",
          "iopub.status.idle": "2023-12-13T23:36:04.864805Z",
          "shell.execute_reply": "2023-12-13T23:36:04.863834Z",
          "shell.execute_reply.started": "2023-12-13T23:36:04.165741Z"
        },
        "id": "_T4trMOiJIjq",
        "trusted": true
      },
      "outputs": [],
      "source": [
        "train_loss = hist.history['loss']\n",
        "val_loss = hist.history['val_loss']\n",
        "train_acc = hist.history['accuracy']\n",
        "val_acc = hist.history['val_accuracy']\n",
        "\n",
        "# Plotting loss\n",
        "plt.figure(figsize=(10, 5))\n",
        "plt.subplot(1, 2, 1)\n",
        "plt.plot(train_loss, 'g', label='Training loss')\n",
        "plt.plot(val_loss, 'b', label='Validation loss')\n",
        "plt.title('Training and Validation Loss')\n",
        "plt.xlabel('Epochs')\n",
        "plt.ylabel('Loss')\n",
        "plt.legend()\n",
        "\n",
        "# Plotting accuracy\n",
        "plt.subplot(1, 2, 2)\n",
        "plt.plot(train_acc, 'g', label='Training accuracy')\n",
        "plt.plot(val_acc, 'b', label='Validation accuracy')\n",
        "plt.title('Training and Validation Accuracy')\n",
        "plt.xlabel('Epochs')\n",
        "plt.ylabel('Accuracy')\n",
        "plt.legend()\n",
        "\n",
        "plt.tight_layout()\n",
        "plt.show()"
      ]
    },
    {
      "cell_type": "code",
      "execution_count": null,
      "metadata": {
        "execution": {
          "iopub.execute_input": "2023-12-13T23:36:32.537873Z",
          "iopub.status.busy": "2023-12-13T23:36:32.536758Z",
          "iopub.status.idle": "2023-12-13T23:36:33.446981Z",
          "shell.execute_reply": "2023-12-13T23:36:33.446021Z",
          "shell.execute_reply.started": "2023-12-13T23:36:32.537827Z"
        },
        "id": "AJYajhVcJIjq",
        "trusted": true
      },
      "outputs": [],
      "source": [
        "tf.keras.utils.plot_model(model, to_file='model_plot.png', show_shapes=True, show_layer_names=True)\n",
        "img = plt.imread('model_plot.png')\n",
        "plt.figure(figsize=(40, 30))\n",
        "plt.imshow(img)\n",
        "plt.axis('off')\n",
        "plt.show()"
      ]
    },
    {
      "cell_type": "code",
      "execution_count": null,
      "metadata": {
        "execution": {
          "iopub.execute_input": "2023-12-13T23:36:41.252609Z",
          "iopub.status.busy": "2023-12-13T23:36:41.251764Z"
        },
        "id": "22q2DATUJIjq",
        "trusted": true
      },
      "outputs": [],
      "source": [
        "name = '12-14'\n",
        "model_filepath = '/kaggle/working/Kamel_Models'\n",
        "os.makedirs(model_filepath, exist_ok=True)\n",
        "\n",
        "model.save(model_filepath + f'/{name}')\n",
        "model.save(model_filepath + f'/{name}.h5')\n",
        "\n",
        "converter = tf.lite.TFLiteConverter.from_saved_model(model_filepath + f'/{name}')\n",
        "converter.target_spec.supported_ops = [\n",
        "  tf.lite.OpsSet.TFLITE_BUILTINS,\n",
        "  tf.lite.OpsSet.SELECT_TF_OPS\n",
        "]\n",
        "tflite_model = converter.convert()\n",
        "with open(model_filepath + f'/{name}.tflite', 'wb') as f:\n",
        "    f.write(tflite_model)"
      ]
    },
    {
      "cell_type": "markdown",
      "metadata": {
        "id": "MRlbpZaEJIjq"
      },
      "source": [
        "<h2>Nour's Model"
      ]
    },
    {
      "cell_type": "code",
      "execution_count": null,
      "metadata": {
        "id": "_mwHK1LMJIjr"
      },
      "outputs": [],
      "source": []
    }
  ],
  "metadata": {
    "colab": {
      "name": "MuteMotion: WLASL Translation Model",
      "provenance": []
    },
    "kaggle": {
      "accelerator": "nvidiaTeslaT4",
      "dataSources": [
        {
          "datasetId": 1589971,
          "sourceId": 2632847,
          "sourceType": "datasetVersion"
        },
        {
          "datasetId": 2747345,
          "sourceId": 4747505,
          "sourceType": "datasetVersion"
        },
        {
          "datasetId": 4069519,
          "sourceId": 7195461,
          "sourceType": "datasetVersion"
        }
      ],
      "isGpuEnabled": true,
      "isInternetEnabled": true,
      "language": "python",
      "sourceType": "notebook"
    },
    "kernelspec": {
      "display_name": ".venv",
      "language": "python",
      "name": "python3"
    },
    "language_info": {
      "codemirror_mode": {
        "name": "ipython",
        "version": 3
      },
      "file_extension": ".py",
      "mimetype": "text/x-python",
      "name": "python",
      "nbconvert_exporter": "python",
      "pygments_lexer": "ipython3",
      "version": "3.12.10"
    }
  },
  "nbformat": 4,
  "nbformat_minor": 0
}
